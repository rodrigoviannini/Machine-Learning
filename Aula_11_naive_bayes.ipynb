{
  "cells": [
    {
      "cell_type": "markdown",
      "metadata": {
        "id": "view-in-github",
        "colab_type": "text"
      },
      "source": [
        "<a href=\"https://colab.research.google.com/github/rodrigoviannini/Machine-Learning/blob/main/Aula_11_naive_bayes.ipynb\" target=\"_parent\"><img src=\"https://colab.research.google.com/assets/colab-badge.svg\" alt=\"Open In Colab\"/></a>"
      ]
    },
    {
      "cell_type": "markdown",
      "metadata": {
        "id": "cpQrJoRllP9I"
      },
      "source": [
        "# Aula 11 - Naive Bayes\n",
        "\n",
        "Na aula de hoje, vamos explorar os seguintes tópicos em Python:\n",
        "\n",
        "- 1) Introdução\n",
        "- 2) Naive Bayes\n",
        "- 3) A matemática do Naive Bayes\n",
        "- 4) Outras versões do Naive Bayes"
      ]
    },
    {
      "cell_type": "code",
      "execution_count": null,
      "metadata": {
        "ExecuteTime": {
          "end_time": "2022-02-23T22:03:15.019320Z",
          "start_time": "2022-02-23T22:03:14.177324Z"
        },
        "id": "JXFNihywlP9K"
      },
      "outputs": [],
      "source": [
        "import numpy as np\n",
        "import pandas as pd"
      ]
    },
    {
      "cell_type": "markdown",
      "metadata": {
        "id": "SDHzwXf2lP9K"
      },
      "source": [
        "_____\n",
        "_____\n",
        "_____"
      ]
    },
    {
      "cell_type": "markdown",
      "metadata": {
        "ExecuteTime": {
          "end_time": "2021-09-16T16:08:15.515224Z",
          "start_time": "2021-09-16T16:08:15.447243Z"
        },
        "id": "gyjBAdXslP9K"
      },
      "source": [
        "## 1) Introdução\n",
        "\n",
        "Em estatística, fomos apresentados ao Teorema de Bayes:\n",
        "\n",
        "$P(A|B) = \\frac{P(B | A)P(A)}{P(B)}$\n",
        "\n",
        "O teorema de Bayes nos permite descobrir a probabilidade condicional $P(A|B)$, que é chamada de **posterior**, com base na probabilidade condicional inversa, $P(B|A)$ (a chamada **likelihood**), e a probabilidade $P(A)$, a **priori**.\n",
        "\n",
        "A ideia é que nós **atualizamos as nossas crenças sobre $A$**, conforme novas informações sobre $B$ são agregadas!\n",
        "\n",
        "Vimos como o teorema de Bayes é bem útil para modelar experimentos estatísticos, de caracter probabilístico. A esta altura, é justo que nos perguntemos: seria o teorema de Bayes útil em modelagem? A resposta é: sim, através do método **Naive Bayes**!"
      ]
    },
    {
      "cell_type": "markdown",
      "metadata": {
        "id": "VBnO2sZVlP9L"
      },
      "source": [
        "_____\n",
        "_____\n",
        "_____"
      ]
    },
    {
      "cell_type": "markdown",
      "metadata": {
        "ExecuteTime": {
          "end_time": "2021-09-16T16:08:15.515224Z",
          "start_time": "2021-09-16T16:08:15.447243Z"
        },
        "id": "v2tOsDaNlP9M"
      },
      "source": [
        "## 2) Naive Bayes\n",
        "\n",
        "O Naive Bayes é um dos métodos mais simples e intuitivos para classificação, embora seja cheio de sutilezas importantes.\n",
        "\n",
        "Por este motivo, vamos primeiramente construir a ideia do método, aplicá-lo, e só depois nos preocuparemos com seus detalhes mais matemáticos!\n",
        "\n",
        "Uma das principais e mais bem-sucedidas aplicações deste método é no **filtro de spam**: dado um e-mail, como determinar se ele é spam ou não?\n",
        "\n",
        "<img src=https://repository-images.githubusercontent.com/218616244/c4183680-fb99-11e9-8191-d7c5dfb6a11e width=500>\n",
        "\n",
        "Pra resolvermos este problema (e introduzir o Naive Bayes), vamos considerar o seguinte toy dataset:"
      ]
    },
    {
      "cell_type": "code",
      "execution_count": null,
      "metadata": {
        "ExecuteTime": {
          "end_time": "2022-02-23T22:15:30.289998Z",
          "start_time": "2022-02-23T22:15:30.250020Z"
        },
        "id": "TZAlVdnolP9M",
        "outputId": "50b36de2-62bf-4529-ddc0-1c718af0972c"
      },
      "outputs": [
        {
          "data": {
            "text/html": [
              "<div>\n",
              "<style scoped>\n",
              "    .dataframe tbody tr th:only-of-type {\n",
              "        vertical-align: middle;\n",
              "    }\n",
              "\n",
              "    .dataframe tbody tr th {\n",
              "        vertical-align: top;\n",
              "    }\n",
              "\n",
              "    .dataframe thead th {\n",
              "        text-align: right;\n",
              "    }\n",
              "</style>\n",
              "<table border=\"1\" class=\"dataframe\">\n",
              "  <thead>\n",
              "    <tr style=\"text-align: right;\">\n",
              "      <th></th>\n",
              "      <th>y</th>\n",
              "      <th>frases</th>\n",
              "    </tr>\n",
              "  </thead>\n",
              "  <tbody>\n",
              "    <tr>\n",
              "      <th>0</th>\n",
              "      <td>spam</td>\n",
              "      <td>digite sua senha</td>\n",
              "    </tr>\n",
              "    <tr>\n",
              "      <th>1</th>\n",
              "      <td>spam</td>\n",
              "      <td>digite sua senha aqui</td>\n",
              "    </tr>\n",
              "    <tr>\n",
              "      <th>2</th>\n",
              "      <td>spam</td>\n",
              "      <td>cupom de desconto aqui</td>\n",
              "    </tr>\n",
              "    <tr>\n",
              "      <th>3</th>\n",
              "      <td>spam</td>\n",
              "      <td>envie senha e ganhe cupom de desconto</td>\n",
              "    </tr>\n",
              "    <tr>\n",
              "      <th>4</th>\n",
              "      <td>spam</td>\n",
              "      <td>clique aqui ganhou desconto</td>\n",
              "    </tr>\n",
              "    <tr>\n",
              "      <th>5</th>\n",
              "      <td>spam</td>\n",
              "      <td>cupom de desconto e senha</td>\n",
              "    </tr>\n",
              "    <tr>\n",
              "      <th>6</th>\n",
              "      <td>spam</td>\n",
              "      <td>desconto de senha</td>\n",
              "    </tr>\n",
              "    <tr>\n",
              "      <th>7</th>\n",
              "      <td>spam</td>\n",
              "      <td>sua senha aqui</td>\n",
              "    </tr>\n",
              "    <tr>\n",
              "      <th>8</th>\n",
              "      <td>spam</td>\n",
              "      <td>você ganhou clique aqui</td>\n",
              "    </tr>\n",
              "    <tr>\n",
              "      <th>9</th>\n",
              "      <td>ham</td>\n",
              "      <td>segue relatório</td>\n",
              "    </tr>\n",
              "    <tr>\n",
              "      <th>10</th>\n",
              "      <td>ham</td>\n",
              "      <td>segue o orçamento</td>\n",
              "    </tr>\n",
              "    <tr>\n",
              "      <th>11</th>\n",
              "      <td>ham</td>\n",
              "      <td>relatório em anexo</td>\n",
              "    </tr>\n",
              "    <tr>\n",
              "      <th>12</th>\n",
              "      <td>ham</td>\n",
              "      <td>pauta da reunião em anexo</td>\n",
              "    </tr>\n",
              "    <tr>\n",
              "      <th>13</th>\n",
              "      <td>ham</td>\n",
              "      <td>relatório hoje</td>\n",
              "    </tr>\n",
              "    <tr>\n",
              "      <th>14</th>\n",
              "      <td>ham</td>\n",
              "      <td>relatório de orçamento</td>\n",
              "    </tr>\n",
              "    <tr>\n",
              "      <th>15</th>\n",
              "      <td>ham</td>\n",
              "      <td>relatório em anexo</td>\n",
              "    </tr>\n",
              "    <tr>\n",
              "      <th>16</th>\n",
              "      <td>ham</td>\n",
              "      <td>pauta do relatório</td>\n",
              "    </tr>\n",
              "    <tr>\n",
              "      <th>17</th>\n",
              "      <td>ham</td>\n",
              "      <td>segue pauta da reunião</td>\n",
              "    </tr>\n",
              "  </tbody>\n",
              "</table>\n",
              "</div>"
            ],
            "text/plain": [
              "       y                                 frases\n",
              "0   spam                       digite sua senha\n",
              "1   spam                  digite sua senha aqui\n",
              "2   spam                 cupom de desconto aqui\n",
              "3   spam  envie senha e ganhe cupom de desconto\n",
              "4   spam            clique aqui ganhou desconto\n",
              "5   spam              cupom de desconto e senha\n",
              "6   spam                      desconto de senha\n",
              "7   spam                         sua senha aqui\n",
              "8   spam                você ganhou clique aqui\n",
              "9    ham                        segue relatório\n",
              "10   ham                      segue o orçamento\n",
              "11   ham                     relatório em anexo\n",
              "12   ham              pauta da reunião em anexo\n",
              "13   ham                         relatório hoje\n",
              "14   ham                 relatório de orçamento\n",
              "15   ham                     relatório em anexo\n",
              "16   ham                     pauta do relatório\n",
              "17   ham                 segue pauta da reunião"
            ]
          },
          "execution_count": 2,
          "metadata": {},
          "output_type": "execute_result"
        }
      ],
      "source": [
        "train_spam = ['digite sua senha', 'digite sua senha aqui', 'cupom de desconto aqui',\n",
        "              'envie senha e ganhe cupom de desconto', 'clique aqui ganhou desconto',\n",
        "              'cupom de desconto e senha', 'desconto de senha',\n",
        "              'sua senha aqui', 'você ganhou clique aqui']\n",
        "\n",
        "train_ham = ['segue relatório', 'segue o orçamento', 'relatório em anexo',\n",
        "             'pauta da reunião em anexo', 'relatório hoje', 'relatório de orçamento',\n",
        "             'relatório em anexo', 'pauta do relatório', 'segue pauta da reunião']\n",
        "\n",
        "df_train = pd.DataFrame([[\"spam\", x] for x in train_spam] + [[\"ham\", x] for x in train_ham],\n",
        "                        columns = [\"y\", \"frases\"])\n",
        "\n",
        "df_train"
      ]
    },
    {
      "cell_type": "code",
      "execution_count": null,
      "metadata": {
        "ExecuteTime": {
          "end_time": "2022-02-23T22:19:21.687093Z",
          "start_time": "2022-02-23T22:19:21.656110Z"
        },
        "id": "q2M1HXJQlP9M",
        "outputId": "f338d460-375b-4e7f-8ff4-6cd81d0bb76c"
      },
      "outputs": [
        {
          "data": {
            "text/html": [
              "<div>\n",
              "<style scoped>\n",
              "    .dataframe tbody tr th:only-of-type {\n",
              "        vertical-align: middle;\n",
              "    }\n",
              "\n",
              "    .dataframe tbody tr th {\n",
              "        vertical-align: top;\n",
              "    }\n",
              "\n",
              "    .dataframe thead th {\n",
              "        text-align: right;\n",
              "    }\n",
              "</style>\n",
              "<table border=\"1\" class=\"dataframe\">\n",
              "  <thead>\n",
              "    <tr style=\"text-align: right;\">\n",
              "      <th></th>\n",
              "      <th>y</th>\n",
              "      <th>frases</th>\n",
              "    </tr>\n",
              "  </thead>\n",
              "  <tbody>\n",
              "    <tr>\n",
              "      <th>0</th>\n",
              "      <td>spam</td>\n",
              "      <td>digite aqui sua senha</td>\n",
              "    </tr>\n",
              "    <tr>\n",
              "      <th>1</th>\n",
              "      <td>spam</td>\n",
              "      <td>cupom de desconto em anexo</td>\n",
              "    </tr>\n",
              "    <tr>\n",
              "      <th>2</th>\n",
              "      <td>ham</td>\n",
              "      <td>cadê o relatório da pauta da reunião</td>\n",
              "    </tr>\n",
              "    <tr>\n",
              "      <th>3</th>\n",
              "      <td>ham</td>\n",
              "      <td>envio ainda hoje em anexo</td>\n",
              "    </tr>\n",
              "  </tbody>\n",
              "</table>\n",
              "</div>"
            ],
            "text/plain": [
              "      y                                frases\n",
              "0  spam                 digite aqui sua senha\n",
              "1  spam            cupom de desconto em anexo\n",
              "2   ham  cadê o relatório da pauta da reunião\n",
              "3   ham             envio ainda hoje em anexo"
            ]
          },
          "execution_count": 3,
          "metadata": {},
          "output_type": "execute_result"
        }
      ],
      "source": [
        "test_spam = ['digite aqui sua senha', 'cupom de desconto em anexo']\n",
        "\n",
        "test_ham = ['cadê o relatório da pauta da reunião', 'envio ainda hoje em anexo']\n",
        "\n",
        "df_test = pd.DataFrame([[\"spam\", x] for x in test_spam] + [[\"ham\", x] for x in test_ham],\n",
        "                       columns = [\"y\", \"frases\"])\n",
        "\n",
        "df_test"
      ]
    },
    {
      "cell_type": "markdown",
      "metadata": {
        "id": "YMhNdUVOlP9N"
      },
      "source": [
        "O nosso target é binário e representa se as mensagens são `spam` ou não-spam (que são comumente chamadas de `ham`). Nosso objetivo é construir um classificados que seja capaz de **determinar se uma mensagem é spam ou ham, com base únicamente no texto da mensagem**.\n",
        "\n",
        "O tipo de dados que estamos trabalhando é bem particular: temos **dados não estruturados**, pois (apesar de termos artificialmente construído um dataframe), os dados originais não vieram na forma tabular **com número fixo de features**. Aliás, uma pergunta justíssima é: **quais são as features?** Estas e outras perguntas serão respondidas em detalhes no **módulo de dados não estruturados!**\n",
        "\n",
        "Aqui, não vamos nos preocupar com estes detalhes - seguiremos com uma abordagem (baseada no teorema de Bayes) que tratará estes detalhes de maneira mais indireta.\n",
        "\n",
        "\n",
        "Vamos começar a construir o classificador!\n",
        "\n",
        "______"
      ]
    },
    {
      "cell_type": "markdown",
      "metadata": {
        "id": "4kq4yIKWlP9N"
      },
      "source": [
        "Uma vez que queremos classificar uma mensagem como spam ou ham, estamos preocupados com a **separabilidade do target**.\n",
        "\n",
        "Inspirados pela regressão logística, uma boa abordagem pra fazer isso é nos basear na **probabilidade de uma mensagem pertencer a uma ou outra classe**, justo?\n",
        "\n",
        "O legal e que, antes de fazer qualquer coisa, já temos uma estimativa pra essa probabilidade: basta olhar para a frequência de cada classe nos dados! (semelhante à proporção anterior à primeira quebra de uma árvore):"
      ]
    },
    {
      "cell_type": "code",
      "execution_count": null,
      "metadata": {
        "ExecuteTime": {
          "end_time": "2022-02-23T22:30:33.107976Z",
          "start_time": "2022-02-23T22:30:33.082888Z"
        },
        "id": "0rDwmh0xlP9N",
        "outputId": "33f8140c-7744-497b-bf31-24859051d488"
      },
      "outputs": [
        {
          "data": {
            "text/plain": [
              "spam    0.5\n",
              "ham     0.5\n",
              "Name: y, dtype: float64"
            ]
          },
          "execution_count": 4,
          "metadata": {},
          "output_type": "execute_result"
        }
      ],
      "source": [
        "P = df_train[\"y\"].value_counts(normalize=True)\n",
        "\n",
        "P"
      ]
    },
    {
      "cell_type": "markdown",
      "metadata": {
        "id": "zK5QbH2UlP9N"
      },
      "source": [
        "Essas são as **probabilidades a priori**! Nada muito informativo (temos a situação de maior entropia/impureza!), mas essa é uma informação relevante, então vamos anotar:\n",
        "\n",
        "$P(y = \\text{spam}) = 0.5 $\n",
        "\n",
        "$ P(y = \\text{ham}) = 0.5 $"
      ]
    },
    {
      "cell_type": "code",
      "execution_count": null,
      "metadata": {
        "ExecuteTime": {
          "end_time": "2022-02-23T22:31:19.617874Z",
          "start_time": "2022-02-23T22:31:19.607876Z"
        },
        "id": "JKrzCgDWlP9O",
        "outputId": "c9f6b4a7-9965-481c-caa9-c8150adcadee"
      },
      "outputs": [
        {
          "data": {
            "text/plain": [
              "(0.5, 0.5)"
            ]
          },
          "execution_count": 5,
          "metadata": {},
          "output_type": "execute_result"
        }
      ],
      "source": [
        "P_spam, P_ham = P[\"spam\"], P[\"ham\"]\n",
        "\n",
        "P_spam, P_ham"
      ]
    },
    {
      "cell_type": "markdown",
      "metadata": {
        "id": "VwbWu0FKlP9O"
      },
      "source": [
        "Uma vez que temos isso, como podemos proceder pra **ganhar mais informação quanto à separabilidade do target**?\n",
        "\n",
        "A ideia é a seguinte: vamos **olhar pro target**, e nos perguntar: \n",
        "\n",
        "> **Quais palavras aparecem mais frequentemente em e-mails que são spam/ham?**. \n",
        "\n",
        "Parece justo, né?\n",
        "\n",
        "A ideia vai ser associar um grau de \"spamicity\" (e \"hamicity\") à cada palavra!\n",
        "\n",
        "Vamos ver em ação..."
      ]
    },
    {
      "cell_type": "code",
      "execution_count": null,
      "metadata": {
        "ExecuteTime": {
          "end_time": "2022-02-23T22:43:17.631569Z",
          "start_time": "2022-02-23T22:43:17.622580Z"
        },
        "id": "0wvBxxYslP9O",
        "outputId": "43e4cf62-7555-4a00-f3b4-ddaabebaf2a1"
      },
      "outputs": [
        {
          "data": {
            "text/plain": [
              "['digite sua senha',\n",
              " 'digite sua senha aqui',\n",
              " 'cupom de desconto aqui',\n",
              " 'envie senha e ganhe cupom de desconto',\n",
              " 'clique aqui ganhou desconto',\n",
              " 'cupom de desconto e senha',\n",
              " 'desconto de senha',\n",
              " 'sua senha aqui',\n",
              " 'você ganhou clique aqui']"
            ]
          },
          "execution_count": 6,
          "metadata": {},
          "output_type": "execute_result"
        }
      ],
      "source": [
        "# isso dá a informação de y=\"spam\"\n",
        "\n",
        "train_spam"
      ]
    },
    {
      "cell_type": "code",
      "execution_count": null,
      "metadata": {
        "ExecuteTime": {
          "end_time": "2022-02-23T22:45:12.108605Z",
          "start_time": "2022-02-23T22:45:12.090615Z"
        },
        "id": "mXV3gLJ-lP9O",
        "outputId": "ba4ea6df-594d-49eb-a670-b52024a66960"
      },
      "outputs": [
        {
          "data": {
            "text/plain": [
              "{'digite': 2,\n",
              " 'sua': 3,\n",
              " 'senha': 6,\n",
              " 'aqui': 5,\n",
              " 'cupom': 3,\n",
              " 'de': 4,\n",
              " 'desconto': 5,\n",
              " 'envie': 1,\n",
              " 'e': 2,\n",
              " 'ganhe': 1,\n",
              " 'clique': 2,\n",
              " 'ganhou': 2,\n",
              " 'você': 1}"
            ]
          },
          "execution_count": 7,
          "metadata": {},
          "output_type": "execute_result"
        }
      ],
      "source": [
        "# dicionário que conta quantas aparições de cada palavra há no conjunto de palavras spam\n",
        "# estrutura: {\"palavra\" : frequencia nas frases spam}\n",
        "\n",
        "palavras_spam = {}\n",
        "\n",
        "for frase in train_spam:\n",
        "    \n",
        "    for palavra in frase.split():\n",
        "        \n",
        "        if palavra not in palavras_spam:\n",
        "            \n",
        "            palavras_spam[palavra] = 1\n",
        "            \n",
        "        else:\n",
        "            \n",
        "            palavras_spam[palavra] += 1\n",
        "            \n",
        "palavras_spam            "
      ]
    },
    {
      "cell_type": "code",
      "execution_count": null,
      "metadata": {
        "ExecuteTime": {
          "end_time": "2022-02-23T22:47:08.648664Z",
          "start_time": "2022-02-23T22:47:08.630677Z"
        },
        "id": "CimDa5colP9O",
        "outputId": "f0a5ea6b-b078-4d00-86da-dbae9e99565a"
      },
      "outputs": [
        {
          "data": {
            "text/plain": [
              "['segue relatório',\n",
              " 'segue o orçamento',\n",
              " 'relatório em anexo',\n",
              " 'pauta da reunião em anexo',\n",
              " 'relatório hoje',\n",
              " 'relatório de orçamento',\n",
              " 'relatório em anexo',\n",
              " 'pauta do relatório',\n",
              " 'segue pauta da reunião']"
            ]
          },
          "execution_count": 9,
          "metadata": {},
          "output_type": "execute_result"
        }
      ],
      "source": [
        "train_ham"
      ]
    },
    {
      "cell_type": "code",
      "execution_count": null,
      "metadata": {
        "ExecuteTime": {
          "end_time": "2022-02-23T22:47:17.713559Z",
          "start_time": "2022-02-23T22:47:17.691568Z"
        },
        "id": "RmPffdU2lP9P",
        "outputId": "9e415604-b722-4d53-ac76-d5054552cf24"
      },
      "outputs": [
        {
          "data": {
            "text/plain": [
              "{'segue': 3,\n",
              " 'relatório': 6,\n",
              " 'o': 1,\n",
              " 'orçamento': 2,\n",
              " 'em': 3,\n",
              " 'anexo': 3,\n",
              " 'pauta': 3,\n",
              " 'da': 2,\n",
              " 'reunião': 2,\n",
              " 'hoje': 1,\n",
              " 'de': 1,\n",
              " 'do': 1}"
            ]
          },
          "execution_count": 10,
          "metadata": {},
          "output_type": "execute_result"
        }
      ],
      "source": [
        "# dicionário que conta quantas aparições de cada palavra há no conjunto de palavras ham\n",
        "# estrutura: {\"palavra\" : frequencia nas frases ham}\n",
        "\n",
        "palavras_ham = {}\n",
        "\n",
        "for frase in train_ham:\n",
        "    \n",
        "    for palavra in frase.split():\n",
        "        \n",
        "        if palavra not in palavras_ham:\n",
        "            \n",
        "            palavras_ham[palavra] = 1\n",
        "            \n",
        "        else:\n",
        "            palavras_ham[palavra] += 1\n",
        "            \n",
        "palavras_ham   "
      ]
    },
    {
      "cell_type": "markdown",
      "metadata": {
        "id": "nbZLKzwclP9P"
      },
      "source": [
        "Agora vamos fazer algo que pode não parecer muito natural, mas que será de grande importância operacional: vamos adicionar aos dicionários até mesmo as palavras que não aparecem no respectivo conjunto de palavras, todas com contagem zero. Isso é importante pra \"homogeinizar\" os dados, marcando presença de todas as palavras que aparecem nos dados de treino como um todo nos dicionários de ambas as classes -- mas, claro, deixando claro a ausência delas com a contagem nula. Adiante, vamos entender porque isso é importante!"
      ]
    },
    {
      "cell_type": "code",
      "execution_count": null,
      "metadata": {
        "ExecuteTime": {
          "end_time": "2022-02-23T22:50:58.654977Z",
          "start_time": "2022-02-23T22:50:58.635990Z"
        },
        "id": "KBBTtXpZlP9P"
      },
      "outputs": [],
      "source": [
        "for palavra in palavras_spam:\n",
        "    \n",
        "    if palavra not in palavras_ham:\n",
        "        \n",
        "        palavras_ham[palavra] = 0\n",
        "        \n",
        "############################################\n",
        "\n",
        "for palavra in palavras_ham:\n",
        "    \n",
        "    if palavra not in palavras_spam:\n",
        "        \n",
        "        palavras_spam[palavra] = 0"
      ]
    },
    {
      "cell_type": "code",
      "execution_count": null,
      "metadata": {
        "ExecuteTime": {
          "end_time": "2022-02-23T22:51:00.710408Z",
          "start_time": "2022-02-23T22:51:00.702413Z"
        },
        "id": "pb7S1nHElP9P",
        "outputId": "a5bfa653-9844-4bb6-c422-da6ae3a23ec2"
      },
      "outputs": [
        {
          "data": {
            "text/plain": [
              "{'digite': 2,\n",
              " 'sua': 3,\n",
              " 'senha': 6,\n",
              " 'aqui': 5,\n",
              " 'cupom': 3,\n",
              " 'de': 4,\n",
              " 'desconto': 5,\n",
              " 'envie': 1,\n",
              " 'e': 2,\n",
              " 'ganhe': 1,\n",
              " 'clique': 2,\n",
              " 'ganhou': 2,\n",
              " 'você': 1,\n",
              " 'segue': 0,\n",
              " 'relatório': 0,\n",
              " 'o': 0,\n",
              " 'orçamento': 0,\n",
              " 'em': 0,\n",
              " 'anexo': 0,\n",
              " 'pauta': 0,\n",
              " 'da': 0,\n",
              " 'reunião': 0,\n",
              " 'hoje': 0,\n",
              " 'do': 0}"
            ]
          },
          "execution_count": 12,
          "metadata": {},
          "output_type": "execute_result"
        }
      ],
      "source": [
        "palavras_spam"
      ]
    },
    {
      "cell_type": "code",
      "execution_count": null,
      "metadata": {
        "ExecuteTime": {
          "end_time": "2022-02-23T22:51:29.278582Z",
          "start_time": "2022-02-23T22:51:29.261591Z"
        },
        "id": "kDuF9Rs9lP9P",
        "outputId": "a9865c92-9f76-4844-b124-9d1575655b96"
      },
      "outputs": [
        {
          "data": {
            "text/plain": [
              "{'segue': 3,\n",
              " 'relatório': 6,\n",
              " 'o': 1,\n",
              " 'orçamento': 2,\n",
              " 'em': 3,\n",
              " 'anexo': 3,\n",
              " 'pauta': 3,\n",
              " 'da': 2,\n",
              " 'reunião': 2,\n",
              " 'hoje': 1,\n",
              " 'de': 1,\n",
              " 'do': 1,\n",
              " 'digite': 0,\n",
              " 'sua': 0,\n",
              " 'senha': 0,\n",
              " 'aqui': 0,\n",
              " 'cupom': 0,\n",
              " 'desconto': 0,\n",
              " 'envie': 0,\n",
              " 'e': 0,\n",
              " 'ganhe': 0,\n",
              " 'clique': 0,\n",
              " 'ganhou': 0,\n",
              " 'você': 0}"
            ]
          },
          "execution_count": 13,
          "metadata": {},
          "output_type": "execute_result"
        }
      ],
      "source": [
        "palavras_ham"
      ]
    },
    {
      "cell_type": "code",
      "execution_count": null,
      "metadata": {
        "ExecuteTime": {
          "end_time": "2022-02-23T22:51:58.732948Z",
          "start_time": "2022-02-23T22:51:58.721975Z"
        },
        "id": "8JGLwY6ElP9Q",
        "outputId": "54c4bcc4-c7d0-4e4c-dd73-1bad515d2ef8"
      },
      "outputs": [
        {
          "data": {
            "text/plain": [
              "[]"
            ]
          },
          "execution_count": 14,
          "metadata": {},
          "output_type": "execute_result"
        }
      ],
      "source": [
        "# check - deve vir vazia\n",
        "[x for x in palavras_ham.keys() if x not in palavras_spam.keys()]"
      ]
    },
    {
      "cell_type": "code",
      "execution_count": null,
      "metadata": {
        "ExecuteTime": {
          "end_time": "2022-02-23T22:51:59.341861Z",
          "start_time": "2022-02-23T22:51:59.331866Z"
        },
        "id": "qp-WNkJPlP9Q",
        "outputId": "a031a00f-6cde-464e-9923-279627f5f4ec"
      },
      "outputs": [
        {
          "data": {
            "text/plain": [
              "[]"
            ]
          },
          "execution_count": 15,
          "metadata": {},
          "output_type": "execute_result"
        }
      ],
      "source": [
        "# check - deve vir vazia\n",
        "[x for x in palavras_spam.keys() if x not in palavras_ham.keys()]"
      ]
    },
    {
      "cell_type": "code",
      "execution_count": null,
      "metadata": {
        "ExecuteTime": {
          "end_time": "2022-02-23T22:52:22.851304Z",
          "start_time": "2022-02-23T22:52:22.831293Z"
        },
        "id": "NOHzbMpelP9Q",
        "outputId": "7ee72d61-1a5c-41af-d22e-b4a52ad51744"
      },
      "outputs": [
        {
          "data": {
            "text/plain": [
              "24"
            ]
          },
          "execution_count": 16,
          "metadata": {},
          "output_type": "execute_result"
        }
      ],
      "source": [
        "# número de palavras no vocabulário\n",
        "n_vocab = len(palavras_ham)\n",
        "\n",
        "n_vocab"
      ]
    },
    {
      "cell_type": "code",
      "execution_count": null,
      "metadata": {
        "ExecuteTime": {
          "end_time": "2022-02-23T22:52:38.490723Z",
          "start_time": "2022-02-23T22:52:38.474735Z"
        },
        "id": "OkiNJLgWlP9Q",
        "outputId": "97a72aec-a0f4-4516-cadd-e0c6734ddce4"
      },
      "outputs": [
        {
          "data": {
            "text/plain": [
              "24"
            ]
          },
          "execution_count": 17,
          "metadata": {},
          "output_type": "execute_result"
        }
      ],
      "source": [
        "len(palavras_spam)"
      ]
    },
    {
      "cell_type": "markdown",
      "metadata": {
        "id": "CKQuZKfglP9Q"
      },
      "source": [
        "Os dicionários acima indicam a **frequência absoluta** de cada palavra dentro de cada contexto (spam vs ham). Pra tornar nossa abordagem mais robusta, seria interessante se tivéssemos as **frequências relativas**, que possam ser entendidas como **probabilidades**! \n",
        "\n",
        "Note que o que estamos querendo calcular é uma **probabilidade condicional**. Por exemplo:\n",
        "\n",
        "> qual é a probabilidade de encontrar a palavra \"senha\" em um e-mail **dado que** o e-mail foi marcado como \"spam\"? <br><br> \n",
        "$$P(x_i = \\text{\"senha\"} \\mid y = \\text{\"spam\"})$$\n",
        "\n",
        "Este cálculo é muito simples: basta calcular a **frequência relativa** da palavra \"senha\" dentro dos e-mails de spam:\n",
        "\n",
        "$$ P(x_i = \\text{\"senha\"} \\mid y = \\text{\"spam\"}) = \\frac{\\text{# \"senha\"}}{\\text{# total palavras em \"spam\"}} $$\n",
        "\n",
        "Vamos ver no código:"
      ]
    },
    {
      "cell_type": "code",
      "execution_count": null,
      "metadata": {
        "ExecuteTime": {
          "end_time": "2022-02-23T22:57:08.099538Z",
          "start_time": "2022-02-23T22:57:08.072553Z"
        },
        "id": "oJie2no8lP9Q",
        "outputId": "95110f0d-cab6-4b2a-e4ab-9a43ea69314c"
      },
      "outputs": [
        {
          "data": {
            "text/html": [
              "<div>\n",
              "<style scoped>\n",
              "    .dataframe tbody tr th:only-of-type {\n",
              "        vertical-align: middle;\n",
              "    }\n",
              "\n",
              "    .dataframe tbody tr th {\n",
              "        vertical-align: top;\n",
              "    }\n",
              "\n",
              "    .dataframe thead th {\n",
              "        text-align: right;\n",
              "    }\n",
              "</style>\n",
              "<table border=\"1\" class=\"dataframe\">\n",
              "  <thead>\n",
              "    <tr style=\"text-align: right;\">\n",
              "      <th></th>\n",
              "      <th>palavras</th>\n",
              "      <th>contagem</th>\n",
              "      <th>prob</th>\n",
              "    </tr>\n",
              "  </thead>\n",
              "  <tbody>\n",
              "    <tr>\n",
              "      <th>2</th>\n",
              "      <td>senha</td>\n",
              "      <td>6</td>\n",
              "      <td>0.162162</td>\n",
              "    </tr>\n",
              "    <tr>\n",
              "      <th>3</th>\n",
              "      <td>aqui</td>\n",
              "      <td>5</td>\n",
              "      <td>0.135135</td>\n",
              "    </tr>\n",
              "    <tr>\n",
              "      <th>6</th>\n",
              "      <td>desconto</td>\n",
              "      <td>5</td>\n",
              "      <td>0.135135</td>\n",
              "    </tr>\n",
              "    <tr>\n",
              "      <th>5</th>\n",
              "      <td>de</td>\n",
              "      <td>4</td>\n",
              "      <td>0.108108</td>\n",
              "    </tr>\n",
              "    <tr>\n",
              "      <th>4</th>\n",
              "      <td>cupom</td>\n",
              "      <td>3</td>\n",
              "      <td>0.081081</td>\n",
              "    </tr>\n",
              "    <tr>\n",
              "      <th>1</th>\n",
              "      <td>sua</td>\n",
              "      <td>3</td>\n",
              "      <td>0.081081</td>\n",
              "    </tr>\n",
              "    <tr>\n",
              "      <th>0</th>\n",
              "      <td>digite</td>\n",
              "      <td>2</td>\n",
              "      <td>0.054054</td>\n",
              "    </tr>\n",
              "    <tr>\n",
              "      <th>10</th>\n",
              "      <td>clique</td>\n",
              "      <td>2</td>\n",
              "      <td>0.054054</td>\n",
              "    </tr>\n",
              "    <tr>\n",
              "      <th>8</th>\n",
              "      <td>e</td>\n",
              "      <td>2</td>\n",
              "      <td>0.054054</td>\n",
              "    </tr>\n",
              "    <tr>\n",
              "      <th>11</th>\n",
              "      <td>ganhou</td>\n",
              "      <td>2</td>\n",
              "      <td>0.054054</td>\n",
              "    </tr>\n",
              "    <tr>\n",
              "      <th>12</th>\n",
              "      <td>você</td>\n",
              "      <td>1</td>\n",
              "      <td>0.027027</td>\n",
              "    </tr>\n",
              "    <tr>\n",
              "      <th>9</th>\n",
              "      <td>ganhe</td>\n",
              "      <td>1</td>\n",
              "      <td>0.027027</td>\n",
              "    </tr>\n",
              "    <tr>\n",
              "      <th>7</th>\n",
              "      <td>envie</td>\n",
              "      <td>1</td>\n",
              "      <td>0.027027</td>\n",
              "    </tr>\n",
              "    <tr>\n",
              "      <th>13</th>\n",
              "      <td>segue</td>\n",
              "      <td>0</td>\n",
              "      <td>0.000000</td>\n",
              "    </tr>\n",
              "    <tr>\n",
              "      <th>14</th>\n",
              "      <td>relatório</td>\n",
              "      <td>0</td>\n",
              "      <td>0.000000</td>\n",
              "    </tr>\n",
              "    <tr>\n",
              "      <th>15</th>\n",
              "      <td>o</td>\n",
              "      <td>0</td>\n",
              "      <td>0.000000</td>\n",
              "    </tr>\n",
              "    <tr>\n",
              "      <th>16</th>\n",
              "      <td>orçamento</td>\n",
              "      <td>0</td>\n",
              "      <td>0.000000</td>\n",
              "    </tr>\n",
              "    <tr>\n",
              "      <th>17</th>\n",
              "      <td>em</td>\n",
              "      <td>0</td>\n",
              "      <td>0.000000</td>\n",
              "    </tr>\n",
              "    <tr>\n",
              "      <th>18</th>\n",
              "      <td>anexo</td>\n",
              "      <td>0</td>\n",
              "      <td>0.000000</td>\n",
              "    </tr>\n",
              "    <tr>\n",
              "      <th>19</th>\n",
              "      <td>pauta</td>\n",
              "      <td>0</td>\n",
              "      <td>0.000000</td>\n",
              "    </tr>\n",
              "    <tr>\n",
              "      <th>20</th>\n",
              "      <td>da</td>\n",
              "      <td>0</td>\n",
              "      <td>0.000000</td>\n",
              "    </tr>\n",
              "    <tr>\n",
              "      <th>21</th>\n",
              "      <td>reunião</td>\n",
              "      <td>0</td>\n",
              "      <td>0.000000</td>\n",
              "    </tr>\n",
              "    <tr>\n",
              "      <th>22</th>\n",
              "      <td>hoje</td>\n",
              "      <td>0</td>\n",
              "      <td>0.000000</td>\n",
              "    </tr>\n",
              "    <tr>\n",
              "      <th>23</th>\n",
              "      <td>do</td>\n",
              "      <td>0</td>\n",
              "      <td>0.000000</td>\n",
              "    </tr>\n",
              "  </tbody>\n",
              "</table>\n",
              "</div>"
            ],
            "text/plain": [
              "     palavras  contagem      prob\n",
              "2       senha         6  0.162162\n",
              "3        aqui         5  0.135135\n",
              "6    desconto         5  0.135135\n",
              "5          de         4  0.108108\n",
              "4       cupom         3  0.081081\n",
              "1         sua         3  0.081081\n",
              "0      digite         2  0.054054\n",
              "10     clique         2  0.054054\n",
              "8           e         2  0.054054\n",
              "11     ganhou         2  0.054054\n",
              "12       você         1  0.027027\n",
              "9       ganhe         1  0.027027\n",
              "7       envie         1  0.027027\n",
              "13      segue         0  0.000000\n",
              "14  relatório         0  0.000000\n",
              "15          o         0  0.000000\n",
              "16  orçamento         0  0.000000\n",
              "17         em         0  0.000000\n",
              "18      anexo         0  0.000000\n",
              "19      pauta         0  0.000000\n",
              "20         da         0  0.000000\n",
              "21    reunião         0  0.000000\n",
              "22       hoje         0  0.000000\n",
              "23         do         0  0.000000"
            ]
          },
          "execution_count": 23,
          "metadata": {},
          "output_type": "execute_result"
        }
      ],
      "source": [
        "df_palavras_spam = pd.DataFrame([[k, v] for k, v in palavras_spam.items()],\n",
        "                                columns = [\"palavras\", \"contagem\"])\n",
        "\n",
        "df_palavras_spam[\"prob\"] = df_palavras_spam[\"contagem\"]/df_palavras_spam[\"contagem\"].sum()\n",
        "\n",
        "df_palavras_spam = df_palavras_spam.sort_values(\"prob\", ascending=False)\n",
        "\n",
        "df_palavras_spam"
      ]
    },
    {
      "cell_type": "code",
      "execution_count": null,
      "metadata": {
        "ExecuteTime": {
          "end_time": "2022-02-23T22:58:22.814042Z",
          "start_time": "2022-02-23T22:58:22.779062Z"
        },
        "id": "sG5clqMwlP9R",
        "outputId": "69e559ca-07d1-471c-a733-e102ed78e1cc"
      },
      "outputs": [
        {
          "data": {
            "text/html": [
              "<div>\n",
              "<style scoped>\n",
              "    .dataframe tbody tr th:only-of-type {\n",
              "        vertical-align: middle;\n",
              "    }\n",
              "\n",
              "    .dataframe tbody tr th {\n",
              "        vertical-align: top;\n",
              "    }\n",
              "\n",
              "    .dataframe thead th {\n",
              "        text-align: right;\n",
              "    }\n",
              "</style>\n",
              "<table border=\"1\" class=\"dataframe\">\n",
              "  <thead>\n",
              "    <tr style=\"text-align: right;\">\n",
              "      <th></th>\n",
              "      <th>palavras</th>\n",
              "      <th>contagem</th>\n",
              "      <th>prob</th>\n",
              "    </tr>\n",
              "  </thead>\n",
              "  <tbody>\n",
              "    <tr>\n",
              "      <th>1</th>\n",
              "      <td>relatório</td>\n",
              "      <td>6</td>\n",
              "      <td>0.214286</td>\n",
              "    </tr>\n",
              "    <tr>\n",
              "      <th>0</th>\n",
              "      <td>segue</td>\n",
              "      <td>3</td>\n",
              "      <td>0.107143</td>\n",
              "    </tr>\n",
              "    <tr>\n",
              "      <th>6</th>\n",
              "      <td>pauta</td>\n",
              "      <td>3</td>\n",
              "      <td>0.107143</td>\n",
              "    </tr>\n",
              "    <tr>\n",
              "      <th>4</th>\n",
              "      <td>em</td>\n",
              "      <td>3</td>\n",
              "      <td>0.107143</td>\n",
              "    </tr>\n",
              "    <tr>\n",
              "      <th>5</th>\n",
              "      <td>anexo</td>\n",
              "      <td>3</td>\n",
              "      <td>0.107143</td>\n",
              "    </tr>\n",
              "    <tr>\n",
              "      <th>7</th>\n",
              "      <td>da</td>\n",
              "      <td>2</td>\n",
              "      <td>0.071429</td>\n",
              "    </tr>\n",
              "    <tr>\n",
              "      <th>8</th>\n",
              "      <td>reunião</td>\n",
              "      <td>2</td>\n",
              "      <td>0.071429</td>\n",
              "    </tr>\n",
              "    <tr>\n",
              "      <th>3</th>\n",
              "      <td>orçamento</td>\n",
              "      <td>2</td>\n",
              "      <td>0.071429</td>\n",
              "    </tr>\n",
              "    <tr>\n",
              "      <th>9</th>\n",
              "      <td>hoje</td>\n",
              "      <td>1</td>\n",
              "      <td>0.035714</td>\n",
              "    </tr>\n",
              "    <tr>\n",
              "      <th>10</th>\n",
              "      <td>de</td>\n",
              "      <td>1</td>\n",
              "      <td>0.035714</td>\n",
              "    </tr>\n",
              "    <tr>\n",
              "      <th>11</th>\n",
              "      <td>do</td>\n",
              "      <td>1</td>\n",
              "      <td>0.035714</td>\n",
              "    </tr>\n",
              "    <tr>\n",
              "      <th>2</th>\n",
              "      <td>o</td>\n",
              "      <td>1</td>\n",
              "      <td>0.035714</td>\n",
              "    </tr>\n",
              "    <tr>\n",
              "      <th>18</th>\n",
              "      <td>envie</td>\n",
              "      <td>0</td>\n",
              "      <td>0.000000</td>\n",
              "    </tr>\n",
              "    <tr>\n",
              "      <th>22</th>\n",
              "      <td>ganhou</td>\n",
              "      <td>0</td>\n",
              "      <td>0.000000</td>\n",
              "    </tr>\n",
              "    <tr>\n",
              "      <th>21</th>\n",
              "      <td>clique</td>\n",
              "      <td>0</td>\n",
              "      <td>0.000000</td>\n",
              "    </tr>\n",
              "    <tr>\n",
              "      <th>20</th>\n",
              "      <td>ganhe</td>\n",
              "      <td>0</td>\n",
              "      <td>0.000000</td>\n",
              "    </tr>\n",
              "    <tr>\n",
              "      <th>19</th>\n",
              "      <td>e</td>\n",
              "      <td>0</td>\n",
              "      <td>0.000000</td>\n",
              "    </tr>\n",
              "    <tr>\n",
              "      <th>12</th>\n",
              "      <td>digite</td>\n",
              "      <td>0</td>\n",
              "      <td>0.000000</td>\n",
              "    </tr>\n",
              "    <tr>\n",
              "      <th>17</th>\n",
              "      <td>desconto</td>\n",
              "      <td>0</td>\n",
              "      <td>0.000000</td>\n",
              "    </tr>\n",
              "    <tr>\n",
              "      <th>16</th>\n",
              "      <td>cupom</td>\n",
              "      <td>0</td>\n",
              "      <td>0.000000</td>\n",
              "    </tr>\n",
              "    <tr>\n",
              "      <th>15</th>\n",
              "      <td>aqui</td>\n",
              "      <td>0</td>\n",
              "      <td>0.000000</td>\n",
              "    </tr>\n",
              "    <tr>\n",
              "      <th>14</th>\n",
              "      <td>senha</td>\n",
              "      <td>0</td>\n",
              "      <td>0.000000</td>\n",
              "    </tr>\n",
              "    <tr>\n",
              "      <th>13</th>\n",
              "      <td>sua</td>\n",
              "      <td>0</td>\n",
              "      <td>0.000000</td>\n",
              "    </tr>\n",
              "    <tr>\n",
              "      <th>23</th>\n",
              "      <td>você</td>\n",
              "      <td>0</td>\n",
              "      <td>0.000000</td>\n",
              "    </tr>\n",
              "  </tbody>\n",
              "</table>\n",
              "</div>"
            ],
            "text/plain": [
              "     palavras  contagem      prob\n",
              "1   relatório         6  0.214286\n",
              "0       segue         3  0.107143\n",
              "6       pauta         3  0.107143\n",
              "4          em         3  0.107143\n",
              "5       anexo         3  0.107143\n",
              "7          da         2  0.071429\n",
              "8     reunião         2  0.071429\n",
              "3   orçamento         2  0.071429\n",
              "9        hoje         1  0.035714\n",
              "10         de         1  0.035714\n",
              "11         do         1  0.035714\n",
              "2           o         1  0.035714\n",
              "18      envie         0  0.000000\n",
              "22     ganhou         0  0.000000\n",
              "21     clique         0  0.000000\n",
              "20      ganhe         0  0.000000\n",
              "19          e         0  0.000000\n",
              "12     digite         0  0.000000\n",
              "17   desconto         0  0.000000\n",
              "16      cupom         0  0.000000\n",
              "15       aqui         0  0.000000\n",
              "14      senha         0  0.000000\n",
              "13        sua         0  0.000000\n",
              "23       você         0  0.000000"
            ]
          },
          "execution_count": 24,
          "metadata": {},
          "output_type": "execute_result"
        }
      ],
      "source": [
        "df_palavras_ham = pd.DataFrame([[k, v] for k, v in palavras_ham.items()],\n",
        "                                columns = [\"palavras\", \"contagem\"])\n",
        "\n",
        "df_palavras_ham[\"prob\"] = df_palavras_ham[\"contagem\"]/df_palavras_ham[\"contagem\"].sum()\n",
        "\n",
        "df_palavras_ham = df_palavras_ham.sort_values(\"prob\", ascending=False)\n",
        "\n",
        "df_palavras_ham"
      ]
    },
    {
      "cell_type": "markdown",
      "metadata": {
        "id": "qtNB5xuwlP9R"
      },
      "source": [
        "### MUITO IMPORTANTE:\n",
        "\n",
        "> Note que com esses dataframes temos os **graus de \"spamicity\" e \"hamicity\"**, respectivamente, **para cada palavra na base de treino**, expresso através justamente das probabilidades $P(x_i \\mid y)$. Esse é um dos pontos mais importantes do Naive Bayes!!\n",
        "\n",
        "Ou seja, é possível ver que as palavras \"senha\" e \"aqui\" têm o maior grau de spamicity; enquanto \"relatório\" é a palavra com maior grau de hamicity. Faz sentido??"
      ]
    },
    {
      "cell_type": "markdown",
      "metadata": {
        "id": "fyHsNAoVlP9R"
      },
      "source": [
        "Agora, vamos fazer mais uma coisa que parece não natural a princípio, mas que vai ser operacionalmente bastante importante!\n",
        "\n",
        "Acima, nós incluímos artificialmente palavras que não aparecem em spam também ao dataframe de spam, e vice-versa, para garantir que ambos os dataframes contanham exatamente as mesmas palavras (isso vai ser impotante operacionalmente, como veremos abaixo). \n",
        "\n",
        "No entanto, da forma que fizemos, todas etas palavras têm contagem nula, e, portanto, probabilidade (e spamicity e hamicity) nula. Operacionalmente isso é um problema (já vamos entender o porquê). Pra evitar que esse problema se manifeste, vamos fazer o seguinte: **adicionar +1 na contagem de todas as palavras** (na verdade, podemos adicionar qualquer valor, comumente denotado $\\alpha > 0$, e chamado de **parâmetro de suavização (smoothing)**. \n",
        "\n",
        "Fazendo isso, todas as palavras em cada classe terão uma probabilidade associada, de maneira homogênea -- até mesmo as palavras que não fazem parte das frases daquela classe! \n",
        "\n",
        "Mas, naturalmente, a probabilidade destas palavras será baixíssima (as palavras que aparecem apenas em \"spam\" tem uma hamicity muito baixa (como \"senha\", por exemplo); e as que aparecem apenas em \"ham\" tem uma spamicity muito baixa (como \"relatório\", por exemplo). \n",
        "\n",
        "Então, apesar da spamicity e hamicity ser afetada pra todas as palavras, teremos o aspecto **relativo** mantido, e isso que importa, como veremos!"
      ]
    },
    {
      "cell_type": "code",
      "execution_count": null,
      "metadata": {
        "ExecuteTime": {
          "end_time": "2022-02-23T23:08:30.667326Z",
          "start_time": "2022-02-23T23:08:30.652336Z"
        },
        "id": "EssSQTbqlP9R"
      },
      "outputs": [],
      "source": [
        "alpha = 1\n",
        "\n",
        "# adicionando 1 à contagem de TODAS as palavras de spam\n",
        "df_palavras_spam[\"contagem\"] = df_palavras_spam[\"contagem\"] + alpha\n",
        "\n",
        "df_palavras_spam[\"prob\"] = df_palavras_spam[\"contagem\"]/df_palavras_spam[\"contagem\"].sum()\n",
        "\n",
        "## outra possibilidade de suavização\n",
        "# df_palavras_spam[\"prob\"] = df_palavras_spam[\"contagem\"]/(df_palavras_spam[\"contagem\"].sum() + alpha*n_vocab)\n",
        "\n",
        "df_palavras_spam = df_palavras_spam.sort_values(\"prob\", ascending=False)\n",
        "\n",
        "#################################################################################\n",
        "#################################################################################\n",
        "\n",
        "# adicionando 1 à contagem de TODAS as palavras de ham\n",
        "df_palavras_ham[\"contagem\"] = df_palavras_ham[\"contagem\"] + alpha\n",
        "\n",
        "df_palavras_ham[\"prob\"] = df_palavras_ham[\"contagem\"]/df_palavras_ham[\"contagem\"].sum()\n",
        "\n",
        "## outra possibilidade de suavização\n",
        "# df_palavras_ham[\"prob\"] = df_palavras_ham[\"contagem\"]/(df_palavras_ham[\"contagem\"].sum() + alpha*n_vocab)\n",
        "\n",
        "df_palavras_ham = df_palavras_ham.sort_values(\"prob\", ascending=False)"
      ]
    },
    {
      "cell_type": "code",
      "execution_count": null,
      "metadata": {
        "ExecuteTime": {
          "end_time": "2022-02-23T23:08:31.827843Z",
          "start_time": "2022-02-23T23:08:31.807854Z"
        },
        "scrolled": false,
        "id": "3uAm9jj5lP9R",
        "outputId": "780ea1cf-2053-4e31-da10-4a02beb4a610"
      },
      "outputs": [
        {
          "data": {
            "text/html": [
              "<div>\n",
              "<style scoped>\n",
              "    .dataframe tbody tr th:only-of-type {\n",
              "        vertical-align: middle;\n",
              "    }\n",
              "\n",
              "    .dataframe tbody tr th {\n",
              "        vertical-align: top;\n",
              "    }\n",
              "\n",
              "    .dataframe thead th {\n",
              "        text-align: right;\n",
              "    }\n",
              "</style>\n",
              "<table border=\"1\" class=\"dataframe\">\n",
              "  <thead>\n",
              "    <tr style=\"text-align: right;\">\n",
              "      <th></th>\n",
              "      <th>palavras</th>\n",
              "      <th>contagem</th>\n",
              "      <th>prob</th>\n",
              "    </tr>\n",
              "  </thead>\n",
              "  <tbody>\n",
              "    <tr>\n",
              "      <th>2</th>\n",
              "      <td>senha</td>\n",
              "      <td>7</td>\n",
              "      <td>0.114754</td>\n",
              "    </tr>\n",
              "    <tr>\n",
              "      <th>6</th>\n",
              "      <td>desconto</td>\n",
              "      <td>6</td>\n",
              "      <td>0.098361</td>\n",
              "    </tr>\n",
              "    <tr>\n",
              "      <th>3</th>\n",
              "      <td>aqui</td>\n",
              "      <td>6</td>\n",
              "      <td>0.098361</td>\n",
              "    </tr>\n",
              "    <tr>\n",
              "      <th>5</th>\n",
              "      <td>de</td>\n",
              "      <td>5</td>\n",
              "      <td>0.081967</td>\n",
              "    </tr>\n",
              "    <tr>\n",
              "      <th>4</th>\n",
              "      <td>cupom</td>\n",
              "      <td>4</td>\n",
              "      <td>0.065574</td>\n",
              "    </tr>\n",
              "    <tr>\n",
              "      <th>1</th>\n",
              "      <td>sua</td>\n",
              "      <td>4</td>\n",
              "      <td>0.065574</td>\n",
              "    </tr>\n",
              "    <tr>\n",
              "      <th>0</th>\n",
              "      <td>digite</td>\n",
              "      <td>3</td>\n",
              "      <td>0.049180</td>\n",
              "    </tr>\n",
              "    <tr>\n",
              "      <th>10</th>\n",
              "      <td>clique</td>\n",
              "      <td>3</td>\n",
              "      <td>0.049180</td>\n",
              "    </tr>\n",
              "    <tr>\n",
              "      <th>8</th>\n",
              "      <td>e</td>\n",
              "      <td>3</td>\n",
              "      <td>0.049180</td>\n",
              "    </tr>\n",
              "    <tr>\n",
              "      <th>11</th>\n",
              "      <td>ganhou</td>\n",
              "      <td>3</td>\n",
              "      <td>0.049180</td>\n",
              "    </tr>\n",
              "    <tr>\n",
              "      <th>9</th>\n",
              "      <td>ganhe</td>\n",
              "      <td>2</td>\n",
              "      <td>0.032787</td>\n",
              "    </tr>\n",
              "    <tr>\n",
              "      <th>7</th>\n",
              "      <td>envie</td>\n",
              "      <td>2</td>\n",
              "      <td>0.032787</td>\n",
              "    </tr>\n",
              "    <tr>\n",
              "      <th>12</th>\n",
              "      <td>você</td>\n",
              "      <td>2</td>\n",
              "      <td>0.032787</td>\n",
              "    </tr>\n",
              "    <tr>\n",
              "      <th>13</th>\n",
              "      <td>segue</td>\n",
              "      <td>1</td>\n",
              "      <td>0.016393</td>\n",
              "    </tr>\n",
              "    <tr>\n",
              "      <th>14</th>\n",
              "      <td>relatório</td>\n",
              "      <td>1</td>\n",
              "      <td>0.016393</td>\n",
              "    </tr>\n",
              "    <tr>\n",
              "      <th>15</th>\n",
              "      <td>o</td>\n",
              "      <td>1</td>\n",
              "      <td>0.016393</td>\n",
              "    </tr>\n",
              "    <tr>\n",
              "      <th>16</th>\n",
              "      <td>orçamento</td>\n",
              "      <td>1</td>\n",
              "      <td>0.016393</td>\n",
              "    </tr>\n",
              "    <tr>\n",
              "      <th>17</th>\n",
              "      <td>em</td>\n",
              "      <td>1</td>\n",
              "      <td>0.016393</td>\n",
              "    </tr>\n",
              "    <tr>\n",
              "      <th>18</th>\n",
              "      <td>anexo</td>\n",
              "      <td>1</td>\n",
              "      <td>0.016393</td>\n",
              "    </tr>\n",
              "    <tr>\n",
              "      <th>19</th>\n",
              "      <td>pauta</td>\n",
              "      <td>1</td>\n",
              "      <td>0.016393</td>\n",
              "    </tr>\n",
              "    <tr>\n",
              "      <th>20</th>\n",
              "      <td>da</td>\n",
              "      <td>1</td>\n",
              "      <td>0.016393</td>\n",
              "    </tr>\n",
              "    <tr>\n",
              "      <th>21</th>\n",
              "      <td>reunião</td>\n",
              "      <td>1</td>\n",
              "      <td>0.016393</td>\n",
              "    </tr>\n",
              "    <tr>\n",
              "      <th>22</th>\n",
              "      <td>hoje</td>\n",
              "      <td>1</td>\n",
              "      <td>0.016393</td>\n",
              "    </tr>\n",
              "    <tr>\n",
              "      <th>23</th>\n",
              "      <td>do</td>\n",
              "      <td>1</td>\n",
              "      <td>0.016393</td>\n",
              "    </tr>\n",
              "  </tbody>\n",
              "</table>\n",
              "</div>"
            ],
            "text/plain": [
              "     palavras  contagem      prob\n",
              "2       senha         7  0.114754\n",
              "6    desconto         6  0.098361\n",
              "3        aqui         6  0.098361\n",
              "5          de         5  0.081967\n",
              "4       cupom         4  0.065574\n",
              "1         sua         4  0.065574\n",
              "0      digite         3  0.049180\n",
              "10     clique         3  0.049180\n",
              "8           e         3  0.049180\n",
              "11     ganhou         3  0.049180\n",
              "9       ganhe         2  0.032787\n",
              "7       envie         2  0.032787\n",
              "12       você         2  0.032787\n",
              "13      segue         1  0.016393\n",
              "14  relatório         1  0.016393\n",
              "15          o         1  0.016393\n",
              "16  orçamento         1  0.016393\n",
              "17         em         1  0.016393\n",
              "18      anexo         1  0.016393\n",
              "19      pauta         1  0.016393\n",
              "20         da         1  0.016393\n",
              "21    reunião         1  0.016393\n",
              "22       hoje         1  0.016393\n",
              "23         do         1  0.016393"
            ]
          },
          "execution_count": 26,
          "metadata": {},
          "output_type": "execute_result"
        }
      ],
      "source": [
        "df_palavras_spam"
      ]
    },
    {
      "cell_type": "code",
      "execution_count": null,
      "metadata": {
        "ExecuteTime": {
          "end_time": "2022-02-23T23:08:32.388520Z",
          "start_time": "2022-02-23T23:08:32.365537Z"
        },
        "id": "YiUJPVoLlP9R",
        "outputId": "e47edbbc-2a51-4c01-d75d-3a3c3fee8ac5"
      },
      "outputs": [
        {
          "data": {
            "text/html": [
              "<div>\n",
              "<style scoped>\n",
              "    .dataframe tbody tr th:only-of-type {\n",
              "        vertical-align: middle;\n",
              "    }\n",
              "\n",
              "    .dataframe tbody tr th {\n",
              "        vertical-align: top;\n",
              "    }\n",
              "\n",
              "    .dataframe thead th {\n",
              "        text-align: right;\n",
              "    }\n",
              "</style>\n",
              "<table border=\"1\" class=\"dataframe\">\n",
              "  <thead>\n",
              "    <tr style=\"text-align: right;\">\n",
              "      <th></th>\n",
              "      <th>palavras</th>\n",
              "      <th>contagem</th>\n",
              "      <th>prob</th>\n",
              "    </tr>\n",
              "  </thead>\n",
              "  <tbody>\n",
              "    <tr>\n",
              "      <th>1</th>\n",
              "      <td>relatório</td>\n",
              "      <td>7</td>\n",
              "      <td>0.134615</td>\n",
              "    </tr>\n",
              "    <tr>\n",
              "      <th>6</th>\n",
              "      <td>pauta</td>\n",
              "      <td>4</td>\n",
              "      <td>0.076923</td>\n",
              "    </tr>\n",
              "    <tr>\n",
              "      <th>4</th>\n",
              "      <td>em</td>\n",
              "      <td>4</td>\n",
              "      <td>0.076923</td>\n",
              "    </tr>\n",
              "    <tr>\n",
              "      <th>5</th>\n",
              "      <td>anexo</td>\n",
              "      <td>4</td>\n",
              "      <td>0.076923</td>\n",
              "    </tr>\n",
              "    <tr>\n",
              "      <th>0</th>\n",
              "      <td>segue</td>\n",
              "      <td>4</td>\n",
              "      <td>0.076923</td>\n",
              "    </tr>\n",
              "    <tr>\n",
              "      <th>7</th>\n",
              "      <td>da</td>\n",
              "      <td>3</td>\n",
              "      <td>0.057692</td>\n",
              "    </tr>\n",
              "    <tr>\n",
              "      <th>8</th>\n",
              "      <td>reunião</td>\n",
              "      <td>3</td>\n",
              "      <td>0.057692</td>\n",
              "    </tr>\n",
              "    <tr>\n",
              "      <th>3</th>\n",
              "      <td>orçamento</td>\n",
              "      <td>3</td>\n",
              "      <td>0.057692</td>\n",
              "    </tr>\n",
              "    <tr>\n",
              "      <th>11</th>\n",
              "      <td>do</td>\n",
              "      <td>2</td>\n",
              "      <td>0.038462</td>\n",
              "    </tr>\n",
              "    <tr>\n",
              "      <th>2</th>\n",
              "      <td>o</td>\n",
              "      <td>2</td>\n",
              "      <td>0.038462</td>\n",
              "    </tr>\n",
              "    <tr>\n",
              "      <th>9</th>\n",
              "      <td>hoje</td>\n",
              "      <td>2</td>\n",
              "      <td>0.038462</td>\n",
              "    </tr>\n",
              "    <tr>\n",
              "      <th>10</th>\n",
              "      <td>de</td>\n",
              "      <td>2</td>\n",
              "      <td>0.038462</td>\n",
              "    </tr>\n",
              "    <tr>\n",
              "      <th>17</th>\n",
              "      <td>desconto</td>\n",
              "      <td>1</td>\n",
              "      <td>0.019231</td>\n",
              "    </tr>\n",
              "    <tr>\n",
              "      <th>13</th>\n",
              "      <td>sua</td>\n",
              "      <td>1</td>\n",
              "      <td>0.019231</td>\n",
              "    </tr>\n",
              "    <tr>\n",
              "      <th>14</th>\n",
              "      <td>senha</td>\n",
              "      <td>1</td>\n",
              "      <td>0.019231</td>\n",
              "    </tr>\n",
              "    <tr>\n",
              "      <th>15</th>\n",
              "      <td>aqui</td>\n",
              "      <td>1</td>\n",
              "      <td>0.019231</td>\n",
              "    </tr>\n",
              "    <tr>\n",
              "      <th>16</th>\n",
              "      <td>cupom</td>\n",
              "      <td>1</td>\n",
              "      <td>0.019231</td>\n",
              "    </tr>\n",
              "    <tr>\n",
              "      <th>18</th>\n",
              "      <td>envie</td>\n",
              "      <td>1</td>\n",
              "      <td>0.019231</td>\n",
              "    </tr>\n",
              "    <tr>\n",
              "      <th>12</th>\n",
              "      <td>digite</td>\n",
              "      <td>1</td>\n",
              "      <td>0.019231</td>\n",
              "    </tr>\n",
              "    <tr>\n",
              "      <th>19</th>\n",
              "      <td>e</td>\n",
              "      <td>1</td>\n",
              "      <td>0.019231</td>\n",
              "    </tr>\n",
              "    <tr>\n",
              "      <th>20</th>\n",
              "      <td>ganhe</td>\n",
              "      <td>1</td>\n",
              "      <td>0.019231</td>\n",
              "    </tr>\n",
              "    <tr>\n",
              "      <th>21</th>\n",
              "      <td>clique</td>\n",
              "      <td>1</td>\n",
              "      <td>0.019231</td>\n",
              "    </tr>\n",
              "    <tr>\n",
              "      <th>22</th>\n",
              "      <td>ganhou</td>\n",
              "      <td>1</td>\n",
              "      <td>0.019231</td>\n",
              "    </tr>\n",
              "    <tr>\n",
              "      <th>23</th>\n",
              "      <td>você</td>\n",
              "      <td>1</td>\n",
              "      <td>0.019231</td>\n",
              "    </tr>\n",
              "  </tbody>\n",
              "</table>\n",
              "</div>"
            ],
            "text/plain": [
              "     palavras  contagem      prob\n",
              "1   relatório         7  0.134615\n",
              "6       pauta         4  0.076923\n",
              "4          em         4  0.076923\n",
              "5       anexo         4  0.076923\n",
              "0       segue         4  0.076923\n",
              "7          da         3  0.057692\n",
              "8     reunião         3  0.057692\n",
              "3   orçamento         3  0.057692\n",
              "11         do         2  0.038462\n",
              "2           o         2  0.038462\n",
              "9        hoje         2  0.038462\n",
              "10         de         2  0.038462\n",
              "17   desconto         1  0.019231\n",
              "13        sua         1  0.019231\n",
              "14      senha         1  0.019231\n",
              "15       aqui         1  0.019231\n",
              "16      cupom         1  0.019231\n",
              "18      envie         1  0.019231\n",
              "12     digite         1  0.019231\n",
              "19          e         1  0.019231\n",
              "20      ganhe         1  0.019231\n",
              "21     clique         1  0.019231\n",
              "22     ganhou         1  0.019231\n",
              "23       você         1  0.019231"
            ]
          },
          "execution_count": 27,
          "metadata": {},
          "output_type": "execute_result"
        }
      ],
      "source": [
        "df_palavras_ham"
      ]
    },
    {
      "cell_type": "markdown",
      "metadata": {
        "id": "mc7k0vZtlP9R"
      },
      "source": [
        "Lembrando o teorema de Bayes:\n",
        "\n",
        "$P(A|B) = \\frac{P(B | A)P(A)}{P(B)}$\n",
        "\n",
        "Vamos tomar:\n",
        "\n",
        "$A= y$; $B = \\vec{x}$\n",
        "\n",
        "Ou seja,\n",
        "\n",
        "$P(y| \\vec{x}) = \\frac{P( \\vec{x} | y)P(y)}{P( \\vec{x})}$\n",
        "\n",
        "$P(y|\\vec{x}) \\propto P( \\vec{x}| y)P(y)$"
      ]
    },
    {
      "cell_type": "markdown",
      "metadata": {
        "id": "9650BVUilP9R"
      },
      "source": [
        "Agora temos todos os ingredientes que precisamos! Utilizando o teorema de Bayes (na próxima seção vamos entender melhor de onde veio isso), podemos **classificar frases de teste** olhando para **cada palavra como feature** para que possamos calcular qual é a **probabilidade que a frase seja ham ou spam**, usando a seguinte relação:\n",
        "\n",
        "$$P(y \\mid \\vec{x}) \\propto P(\\vec{x} \\mid y) P(y) \\ , $$\n",
        "\n",
        "sendo avaliada para ambas as classes possíveis para $y$:\n",
        "\n",
        "$$P(y = \\text{\"spam\"} \\mid \\vec{x} = \\text{\"texto do email\"}) \\propto P(\\vec{x} = \\text{\"texto do email\"} \\mid y = \\text{\"spam\"}) P(y = \\text{\"spam\"})$$\n",
        "\n",
        "E, analogamente,\n",
        "\n",
        "$$P(y = \\text{\"ham\"} \\mid \\vec{x} = \\text{\"texto do email\"}) \\propto P(\\vec{x} = \\text{\"texto do email\"} \\mid y = \\text{\"ham\"}) P(y = \\text{\"ham\"})$$\n",
        "\n"
      ]
    },
    {
      "cell_type": "markdown",
      "metadata": {
        "id": "CPlpSsMZlP9S"
      },
      "source": [
        "Nas equações acima, a proporcionalidade já basta, pois no final a decisão a ser tomada é:\n",
        "\n",
        "$$ \\text{Se} \\qquad P(y = \\text{\"spam\"} \\mid \\vec{x} = \\text{\"texto do email\"}) > P(y = \\text{\"ham\"} \\mid \\vec{x} = \\text{\"texto do email\"}) \\qquad \\text{então} \\qquad \\hat{y} = \\text{\"spam\"}$$\n",
        "\n",
        "E, caso contrário, \n",
        "\n",
        "$$ \\text{Se} \\qquad P(y = \\text{\"ham\"} \\mid \\vec{x} = \\text{\"texto do email\"}) > P(y = \\text{\"spam\"} \\mid \\vec{x} = \\text{\"texto do email\"}) \\qquad \\text{então} \\qquad \\hat{y} = \\text{\"ham\"}$$"
      ]
    },
    {
      "cell_type": "markdown",
      "metadata": {
        "id": "d0ngnQojlP9S"
      },
      "source": [
        "A esta altura, nós já temos os valores das **prioris** $P(y)$! \n",
        "\n",
        "O único elemento que tá faltando é $P(\\vec{x} \\mid y)$, que é a **likelihood**. No entanto, tudo o que fizemo acima foi justamente pra ter a likelihood, que é dada por:\n",
        "\n",
        "$P(\\vec{x} \\mid y) = \\prod_{i=1}^{n} P(x_i \\mid y) $\n",
        "\n",
        "Onde cada $x_i$ representa uma palavra que compõe a frase de teste -- e essas probabilidades são exatamente o que temos nos dataframes acima!"
      ]
    },
    {
      "cell_type": "markdown",
      "metadata": {
        "id": "uAlKX4pPlP9S"
      },
      "source": [
        "Agora sim, podemos calcular $P(y \\mid \\vec{x})$!\n",
        "\n",
        "Vamos começar com a primeira frase de teste:"
      ]
    },
    {
      "cell_type": "code",
      "execution_count": null,
      "metadata": {
        "ExecuteTime": {
          "end_time": "2022-02-23T23:25:09.336767Z",
          "start_time": "2022-02-23T23:25:09.294789Z"
        },
        "id": "OyrzYRCelP9S",
        "outputId": "483250d3-9926-475f-f8a1-a0a13b5957f6"
      },
      "outputs": [
        {
          "data": {
            "text/plain": [
              "'digite aqui sua senha'"
            ]
          },
          "execution_count": 28,
          "metadata": {},
          "output_type": "execute_result"
        }
      ],
      "source": [
        "frase = df_test.loc[0, \"frases\"]\n",
        "\n",
        "frase"
      ]
    },
    {
      "cell_type": "markdown",
      "metadata": {
        "id": "aBJM3sgslP9S"
      },
      "source": [
        "$P(\\vec{x} = \\text{'digite aqui sua senha'} \\mid y = \\text{\"spam\"}) = \\prod_{i=1}^{n} P(x_i \\mid y = \\text{\"spam\"}) = $\n",
        "\n",
        "\n",
        "$  P(x = \\text{'digite'} \\mid y = \\text{\"spam\"})  P(x = \\text{'aqui'}  \\mid y = \\text{\"spam\"})  P(x = \\text{'sua'} \\mid y = \\text{\"spam\"})  P(x = \\text{'senha'} \\mid y = \\text{\"spam\"}) $"
      ]
    },
    {
      "cell_type": "code",
      "execution_count": null,
      "metadata": {
        "ExecuteTime": {
          "end_time": "2022-02-23T23:26:34.236751Z",
          "start_time": "2022-02-23T23:26:34.169793Z"
        },
        "id": "3xKFdqv0lP9S",
        "outputId": "d208685c-b6a3-44c4-eb0f-629e29ab01ad"
      },
      "outputs": [
        {
          "name": "stdout",
          "output_type": "stream",
          "text": [
            "digite 0.04918032786885246\n",
            "aqui 0.09836065573770492\n",
            "sua 0.06557377049180328\n",
            "senha 0.11475409836065574\n",
            "\n",
            "P(y='spam' | x='digite aqui sua senha') = 1.820041122818036e-05\n"
          ]
        }
      ],
      "source": [
        "P_spam_dado_x = 1\n",
        "\n",
        "for palavra in frase.split():\n",
        "    \n",
        "    if palavra in df_palavras_spam[\"palavras\"].values:\n",
        "        \n",
        "        P_x_dado_spam = df_palavras_spam.loc[df_palavras_spam[\"palavras\"] == palavra, \"prob\"].squeeze()\n",
        "        \n",
        "        print(palavra, P_x_dado_spam)\n",
        "        \n",
        "        P_spam_dado_x = P_spam_dado_x*P_x_dado_spam\n",
        "        \n",
        "# multiplicando pela priori, no fim\n",
        "P_spam_dado_x = P_spam_dado_x*P_spam\n",
        "\n",
        "print(f\"\\nP(y='spam' | x='{frase}') = {P_spam_dado_x}\")"
      ]
    },
    {
      "cell_type": "code",
      "execution_count": null,
      "metadata": {
        "ExecuteTime": {
          "end_time": "2022-02-23T23:28:49.067975Z",
          "start_time": "2022-02-23T23:28:49.049967Z"
        },
        "id": "qhLwWL8plP9S",
        "outputId": "271d709f-b0ac-4f0a-98d8-e506fac54a53"
      },
      "outputs": [
        {
          "name": "stdout",
          "output_type": "stream",
          "text": [
            "digite 0.019230769230769232\n",
            "aqui 0.019230769230769232\n",
            "sua 0.019230769230769232\n",
            "senha 0.019230769230769232\n",
            "\n",
            "P(y='ham' | x='digite aqui sua senha') = 6.838433528237808e-08\n"
          ]
        }
      ],
      "source": [
        "P_ham_dado_x = 1\n",
        "\n",
        "for palavra in frase.split():\n",
        "    \n",
        "    if palavra in df_palavras_ham[\"palavras\"].values:\n",
        "        \n",
        "        P_x_dado_ham = df_palavras_ham.loc[df_palavras_ham[\"palavras\"] == palavra, \"prob\"].squeeze()\n",
        "        \n",
        "        print(palavra, P_x_dado_ham)\n",
        "        \n",
        "        P_ham_dado_x = P_ham_dado_x*P_x_dado_ham\n",
        "        \n",
        "# multiplicando pela priori, no fim\n",
        "P_ham_dado_x = P_ham_dado_x*P_ham\n",
        "        \n",
        "print(f\"\\nP(y='ham' | x='{frase}') = {P_ham_dado_x}\")"
      ]
    },
    {
      "cell_type": "markdown",
      "metadata": {
        "id": "pBYE6pVNlP9S"
      },
      "source": [
        "Note que no código acima há um `if` que testa se a palavra de teste faz parte do conjunto de palavras de treino. Isso é importante, porque se houver uma palavra desconhecida, não é possível avaliarmos qual é o seu grau de \"spamicity\" ou \"hamicity\".\n",
        "\n",
        "Note, ainda, que fazemos esse check para ambos os casos, então não há nenhuma preferência em detrimento do spam ou do ham! (E por isso que foi importante que garantíssemos que todas as palavras estivessem contempladas em ambos os dataframes)"
      ]
    },
    {
      "cell_type": "markdown",
      "metadata": {
        "id": "223kTovQlP9T"
      },
      "source": [
        "Uma vez que temos as probabilidades, basta tomar a decisão baseada na maior probabilidade:"
      ]
    },
    {
      "cell_type": "code",
      "execution_count": null,
      "metadata": {
        "ExecuteTime": {
          "end_time": "2022-02-23T23:30:11.690645Z",
          "start_time": "2022-02-23T23:30:11.675656Z"
        },
        "id": "d_UI1FFWlP9T",
        "outputId": "1d89fe0b-2bab-4b89-bd83-aa43edcd591c"
      },
      "outputs": [
        {
          "data": {
            "text/plain": [
              "0.9962567682666971"
            ]
          },
          "execution_count": 32,
          "metadata": {},
          "output_type": "execute_result"
        }
      ],
      "source": [
        "P_spam_dado_x/(P_spam_dado_x + P_ham_dado_x)"
      ]
    },
    {
      "cell_type": "code",
      "execution_count": null,
      "metadata": {
        "ExecuteTime": {
          "end_time": "2022-02-23T23:30:12.720410Z",
          "start_time": "2022-02-23T23:30:12.700421Z"
        },
        "id": "EZjAol6NlP9T",
        "outputId": "4532593e-737e-416b-d597-e804ab2f60f8"
      },
      "outputs": [
        {
          "data": {
            "text/plain": [
              "0.0037432317333029623"
            ]
          },
          "execution_count": 33,
          "metadata": {},
          "output_type": "execute_result"
        }
      ],
      "source": [
        "P_ham_dado_x/(P_spam_dado_x + P_ham_dado_x)"
      ]
    },
    {
      "cell_type": "code",
      "execution_count": null,
      "metadata": {
        "ExecuteTime": {
          "end_time": "2022-02-23T23:31:52.150622Z",
          "start_time": "2022-02-23T23:31:52.133624Z"
        },
        "id": "MNdK0iDAlP9T"
      },
      "outputs": [],
      "source": [
        "if P_spam_dado_x > P_ham_dado_x:\n",
        "    \n",
        "    y_pred = \"spam\"\n",
        "    \n",
        "else:\n",
        "    \n",
        "    y_pred = \"ham\""
      ]
    },
    {
      "cell_type": "code",
      "execution_count": null,
      "metadata": {
        "ExecuteTime": {
          "end_time": "2022-02-23T23:32:01.499827Z",
          "start_time": "2022-02-23T23:32:01.492831Z"
        },
        "id": "eArsXlnMlP9T",
        "outputId": "e7e6d0c6-f605-45f9-bfcf-bc12b225afae"
      },
      "outputs": [
        {
          "data": {
            "text/plain": [
              "'spam'"
            ]
          },
          "execution_count": 35,
          "metadata": {},
          "output_type": "execute_result"
        }
      ],
      "source": [
        "y_pred"
      ]
    },
    {
      "cell_type": "code",
      "execution_count": null,
      "metadata": {
        "ExecuteTime": {
          "end_time": "2022-02-23T23:32:12.053649Z",
          "start_time": "2022-02-23T23:32:12.039655Z"
        },
        "id": "f7sOVLhmlP9T"
      },
      "outputs": [],
      "source": [
        "y_true = df_test.loc[0, \"y\"]"
      ]
    },
    {
      "cell_type": "code",
      "execution_count": null,
      "metadata": {
        "ExecuteTime": {
          "end_time": "2022-02-23T23:32:22.128169Z",
          "start_time": "2022-02-23T23:32:22.114176Z"
        },
        "id": "c1kMfmUjlP9T",
        "outputId": "e881f881-8f70-4fff-e105-9ed9d969e1ad"
      },
      "outputs": [
        {
          "data": {
            "text/plain": [
              "'spam'"
            ]
          },
          "execution_count": 39,
          "metadata": {},
          "output_type": "execute_result"
        }
      ],
      "source": [
        "y_true"
      ]
    },
    {
      "cell_type": "code",
      "execution_count": null,
      "metadata": {
        "ExecuteTime": {
          "end_time": "2022-02-23T23:32:14.618378Z",
          "start_time": "2022-02-23T23:32:14.601389Z"
        },
        "id": "qtlIMrAKlP9T",
        "outputId": "bf409cc7-a57f-46ea-e0cc-9ffdcb97512b"
      },
      "outputs": [
        {
          "name": "stdout",
          "output_type": "stream",
          "text": [
            "Frase: 'digite aqui sua senha'\n",
            "Target real: 'spam'\n",
            "Target predito: 'spam'\n"
          ]
        }
      ],
      "source": [
        "print(f\"Frase: '{frase}'\\nTarget real: '{y_true}'\\nTarget predito: '{y_pred}'\")"
      ]
    },
    {
      "cell_type": "markdown",
      "metadata": {
        "id": "-pTVI5M4lP9T"
      },
      "source": [
        "Deu certo!!\n",
        "\n",
        "Vamos agora colocar tudo num loop pra classificarmos todas as frases:"
      ]
    },
    {
      "cell_type": "code",
      "execution_count": null,
      "metadata": {
        "ExecuteTime": {
          "end_time": "2022-02-23T23:32:46.732834Z",
          "start_time": "2022-02-23T23:32:46.673865Z"
        },
        "scrolled": false,
        "id": "YA3b2FXWlP9U",
        "outputId": "3e9d11cb-6fc8-4f70-c415-8d925e9aff2a"
      },
      "outputs": [
        {
          "name": "stdout",
          "output_type": "stream",
          "text": [
            "P(y='spam' | x='digite aqui sua senha') = 1.820041122818036e-05\n",
            "P(y='ham' | x='digite aqui sua senha') = 6.838433528237808e-08\n",
            "\n",
            "Frase: 'digite aqui sua senha'\n",
            "\n",
            "Target real: 'spam'\n",
            "Target predito: 'spam'\n",
            "\n",
            "Probs normalizadas:\n",
            "\n",
            "[0.0037432317333029623, 0.9962567682666971]\n",
            "\n",
            "\n",
            "==================================================\n",
            "\n",
            "\n",
            "P(y='spam' | x='cupom de desconto em anexo') = 7.103985647221064e-08\n",
            "P(y='ham' | x='cupom de desconto em anexo') = 4.2082667866078824e-08\n",
            "\n",
            "Frase: 'cupom de desconto em anexo'\n",
            "\n",
            "Target real: 'spam'\n",
            "Target predito: 'spam'\n",
            "\n",
            "Probs normalizadas:\n",
            "\n",
            "[0.3720096250701751, 0.6279903749298248]\n",
            "\n",
            "\n",
            "==================================================\n",
            "\n",
            "\n",
            "P(y='spam' | x='cadê o relatório da pauta da reunião') = 9.70489842516539e-12\n",
            "P(y='ham' | x='cadê o relatório da pauta da reunião') = 3.823857801292739e-08\n",
            "\n",
            "Frase: 'cadê o relatório da pauta da reunião'\n",
            "\n",
            "Target real: 'ham'\n",
            "Target predito: 'ham'\n",
            "\n",
            "Probs normalizadas:\n",
            "\n",
            "[0.9997462657749197, 0.00025373422508033315]\n",
            "\n",
            "\n",
            "==================================================\n",
            "\n",
            "\n",
            "P(y='spam' | x='envio ainda hoje em anexo') = 2.202827549442465e-06\n",
            "P(y='ham' | x='envio ainda hoje em anexo') = 0.00011379153390987712\n",
            "\n",
            "Frase: 'envio ainda hoje em anexo'\n",
            "\n",
            "Target real: 'ham'\n",
            "Target predito: 'ham'\n",
            "\n",
            "Probs normalizadas:\n",
            "\n",
            "[0.9810091842247434, 0.018990815775256617]\n",
            "\n",
            "\n",
            "==================================================\n",
            "\n",
            "\n"
          ]
        }
      ],
      "source": [
        "lista_probs = []\n",
        "\n",
        "for i in df_test.index:\n",
        "\n",
        "    frase = df_test.loc[i, \"frases\"]\n",
        "    y_true = df_test.loc[i, \"y\"]\n",
        "    \n",
        "    ###################################################################\n",
        "    \n",
        "    P_spam_dado_x = 1\n",
        "\n",
        "    for palavra in frase.split():\n",
        "\n",
        "        if palavra in df_palavras_spam[\"palavras\"].values:\n",
        "\n",
        "            P_x_dado_spam = df_palavras_spam.loc[df_palavras_spam[\"palavras\"] == palavra, \"prob\"].squeeze()\n",
        "\n",
        "            P_spam_dado_x = P_spam_dado_x*P_x_dado_spam\n",
        "\n",
        "    P_spam_dado_x = P_spam_dado_x*P_spam\n",
        "\n",
        "    print(f\"P(y='spam' | x='{frase}') = {P_spam_dado_x}\")\n",
        "    \n",
        "    ###################################################################\n",
        "\n",
        "    P_ham_dado_x = 1\n",
        "\n",
        "    for palavra in frase.split():\n",
        "\n",
        "        if palavra in df_palavras_ham[\"palavras\"].values:\n",
        "\n",
        "            P_x_dado_ham = df_palavras_ham.loc[df_palavras_ham[\"palavras\"] == palavra, \"prob\"].squeeze()\n",
        "\n",
        "            P_ham_dado_x = P_ham_dado_x*P_x_dado_ham\n",
        "\n",
        "    P_ham_dado_x = P_ham_dado_x*P_ham\n",
        "\n",
        "    print(f\"P(y='ham' | x='{frase}') = {P_ham_dado_x}\")\n",
        "    \n",
        "    ###################################################################\n",
        "    \n",
        "    y_pred = \"spam\" if P_spam_dado_x > P_ham_dado_x else \"ham\"\n",
        "    \n",
        "    ###################################################################\n",
        "    \n",
        "    # normalizando as probabilidades, pra somar 1\n",
        "    probs_aux = [P_ham_dado_x/(P_spam_dado_x + P_ham_dado_x), P_spam_dado_x/(P_spam_dado_x + P_ham_dado_x)]\n",
        "    \n",
        "    lista_probs.append(probs_aux)\n",
        "    \n",
        "    print(f\"\\nFrase: '{frase}'\\n\\nTarget real: '{y_true}'\\nTarget predito: '{y_pred}'\")\n",
        "    \n",
        "    print(f\"\\nProbs normalizadas:\\n\\n{probs_aux}\")\n",
        "    \n",
        "    print(\"\\n\")\n",
        "    print(\"=\"*50)\n",
        "    print(\"\\n\")\n"
      ]
    },
    {
      "cell_type": "code",
      "execution_count": null,
      "metadata": {
        "ExecuteTime": {
          "end_time": "2022-02-23T23:34:44.941670Z",
          "start_time": "2022-02-23T23:34:44.922682Z"
        },
        "id": "LLgXcFl5lP9U",
        "outputId": "cbd63efa-e1fa-4c3a-e4e3-de521f9ce4c6"
      },
      "outputs": [
        {
          "data": {
            "text/plain": [
              "[[0.0037432317333029623, 0.9962567682666971],\n",
              " [0.3720096250701751, 0.6279903749298248],\n",
              " [0.9997462657749197, 0.00025373422508033315],\n",
              " [0.9810091842247434, 0.018990815775256617]]"
            ]
          },
          "execution_count": 41,
          "metadata": {},
          "output_type": "execute_result"
        }
      ],
      "source": [
        "lista_probs"
      ]
    },
    {
      "cell_type": "markdown",
      "metadata": {
        "id": "duo2Rq9ElP9U"
      },
      "source": [
        "_______________"
      ]
    },
    {
      "cell_type": "markdown",
      "metadata": {
        "ExecuteTime": {
          "end_time": "2021-09-17T19:13:59.925492Z",
          "start_time": "2021-09-17T19:13:59.833876Z"
        },
        "id": "ASwefWjwlP9U"
      },
      "source": [
        "Vamos ver agora como construir um modelo NB com o sklearn!\n",
        "\n",
        "Um ponto muito importante é que, para que o modelo possa ser treinado, um importante pré-processamento deve ser feito de modo a **representar os dados textuais de maneira tabular**.\n",
        "\n",
        "Como falamos acima, todos os detalhes acerca disso serão introduzidos no módulo de **dados não estruturados**. Aqui, vamos usar as técnicas pragmaticamente apenas como uma etapa necessária de pré-processamento.\n",
        "\n",
        "A ideia é bem parecida com a representação numérica de features categóricas - só que neste caso precisamos, de alguma forma, representar **frases inteiras** de alguma forma numérica.\n",
        "\n",
        "A abordagem que seguiremos é conhecida como [bag of words](https://machinelearningmastery.com/gentle-introduction-bag-words-model/#:~:text=A%20bag%2Dof%2Dwords%20is,the%20presence%20of%20known%20words.), e consiste, essencialmente, em criarmos uma matriz que represente todo o **vocabulário** de treino como **colunas**; e cujas linhas representam as frases do vocabulário, de modo que cada entrada da matriz indica a presença ou ausência de uma dada palavra do vocabulário na respectiva frase:\n",
        "\n",
        "<img src=https://ichi.pro/assets/images/max/724/1*hLvya7MXjsSc3NS2SoLMEg.png width=600>\n",
        "\n",
        "<img src=https://www.askpython.com/wp-content/uploads/2020/12/Bag-of-Words-model-1024x335.jpg width=700>\n",
        "\n",
        "A representação bag of words é implementada através da classe [CountVectorizer](https://scikit-learn.org/stable/modules/generated/sklearn.feature_extraction.text.CountVectorizer.html) do sklearn. Vamos utilizá-la!"
      ]
    },
    {
      "cell_type": "code",
      "execution_count": null,
      "metadata": {
        "ExecuteTime": {
          "end_time": "2022-02-23T23:44:26.026649Z",
          "start_time": "2022-02-23T23:44:26.006661Z"
        },
        "id": "StZH0YsQlP9U"
      },
      "outputs": [],
      "source": [
        "# features: frases\n",
        "\n",
        "X_train = df_train[\"frases\"]\n",
        "y_train = df_train[\"y\"]\n",
        "\n",
        "X_test = df_test[\"frases\"]\n",
        "y_test = df_test[\"y\"]"
      ]
    },
    {
      "cell_type": "code",
      "execution_count": null,
      "metadata": {
        "ExecuteTime": {
          "end_time": "2022-02-23T23:56:20.526101Z",
          "start_time": "2022-02-23T23:56:20.512107Z"
        },
        "id": "6tzWNCedlP9U",
        "outputId": "c2e85dbd-02f3-48c6-ec01-934cc338fe79"
      },
      "outputs": [
        {
          "data": {
            "text/plain": [
              "0                          digite sua senha\n",
              "1                     digite sua senha aqui\n",
              "2                    cupom de desconto aqui\n",
              "3     envie senha e ganhe cupom de desconto\n",
              "4               clique aqui ganhou desconto\n",
              "5                 cupom de desconto e senha\n",
              "6                         desconto de senha\n",
              "7                            sua senha aqui\n",
              "8                   você ganhou clique aqui\n",
              "9                           segue relatório\n",
              "10                        segue o orçamento\n",
              "11                       relatório em anexo\n",
              "12                pauta da reunião em anexo\n",
              "13                           relatório hoje\n",
              "14                   relatório de orçamento\n",
              "15                       relatório em anexo\n",
              "16                       pauta do relatório\n",
              "17                   segue pauta da reunião\n",
              "Name: frases, dtype: object"
            ]
          },
          "execution_count": 43,
          "metadata": {},
          "output_type": "execute_result"
        }
      ],
      "source": [
        "X_train"
      ]
    },
    {
      "cell_type": "code",
      "execution_count": null,
      "metadata": {
        "ExecuteTime": {
          "end_time": "2022-02-23T23:56:32.377894Z",
          "start_time": "2022-02-23T23:56:32.367904Z"
        },
        "id": "TyNr172OlP9U",
        "outputId": "0a4e62d3-9ae8-47f3-fc92-10dc24c6d177"
      },
      "outputs": [
        {
          "data": {
            "text/plain": [
              "0     spam\n",
              "1     spam\n",
              "2     spam\n",
              "3     spam\n",
              "4     spam\n",
              "5     spam\n",
              "6     spam\n",
              "7     spam\n",
              "8     spam\n",
              "9      ham\n",
              "10     ham\n",
              "11     ham\n",
              "12     ham\n",
              "13     ham\n",
              "14     ham\n",
              "15     ham\n",
              "16     ham\n",
              "17     ham\n",
              "Name: y, dtype: object"
            ]
          },
          "execution_count": 44,
          "metadata": {},
          "output_type": "execute_result"
        }
      ],
      "source": [
        "y_train"
      ]
    },
    {
      "cell_type": "code",
      "execution_count": null,
      "metadata": {
        "ExecuteTime": {
          "end_time": "2022-02-23T23:57:30.741824Z",
          "start_time": "2022-02-23T23:57:28.810591Z"
        },
        "id": "93NPaxl7lP9V"
      },
      "outputs": [],
      "source": [
        "# importando o countvectorizer\n",
        "from sklearn.feature_extraction.text import CountVectorizer\n",
        "\n",
        "# instanciando a classe\n",
        "vec = CountVectorizer().fit(X_train)\n",
        "\n",
        "X_train = vec.transform(X_train)\n",
        "X_test = vec.transform(X_test)"
      ]
    },
    {
      "cell_type": "code",
      "execution_count": null,
      "metadata": {
        "ExecuteTime": {
          "end_time": "2022-02-23T23:57:35.498413Z",
          "start_time": "2022-02-23T23:57:35.491411Z"
        },
        "id": "CW62tqxnlP9V",
        "outputId": "8cab667c-c222-4cae-f7db-e8ceaa1384d2"
      },
      "outputs": [
        {
          "data": {
            "text/plain": [
              "<18x22 sparse matrix of type '<class 'numpy.int64'>'\n",
              "\twith 62 stored elements in Compressed Sparse Row format>"
            ]
          },
          "execution_count": 46,
          "metadata": {},
          "output_type": "execute_result"
        }
      ],
      "source": [
        "X_train"
      ]
    },
    {
      "cell_type": "code",
      "execution_count": null,
      "metadata": {
        "ExecuteTime": {
          "end_time": "2022-02-23T23:58:17.744005Z",
          "start_time": "2022-02-23T23:58:17.732014Z"
        },
        "id": "eDkp7mjnlP9V",
        "outputId": "c07e9a0c-c80c-4cc1-f145-81ee4aeb4928"
      },
      "outputs": [
        {
          "data": {
            "text/plain": [
              "['anexo',\n",
              " 'aqui',\n",
              " 'clique',\n",
              " 'cupom',\n",
              " 'da',\n",
              " 'de',\n",
              " 'desconto',\n",
              " 'digite',\n",
              " 'do',\n",
              " 'em',\n",
              " 'envie',\n",
              " 'ganhe',\n",
              " 'ganhou',\n",
              " 'hoje',\n",
              " 'orçamento',\n",
              " 'pauta',\n",
              " 'relatório',\n",
              " 'reunião',\n",
              " 'segue',\n",
              " 'senha',\n",
              " 'sua',\n",
              " 'você']"
            ]
          },
          "execution_count": 48,
          "metadata": {},
          "output_type": "execute_result"
        }
      ],
      "source": [
        "# método get_feature_names_out()\n",
        "\n",
        "vec.get_feature_names_out().tolist()"
      ]
    },
    {
      "cell_type": "code",
      "execution_count": null,
      "metadata": {
        "ExecuteTime": {
          "end_time": "2022-02-23T23:59:01.102757Z",
          "start_time": "2022-02-23T23:59:01.089764Z"
        },
        "id": "LlP8HxtmlP9V",
        "outputId": "45d2d6ee-03d0-4a62-9ef4-fd7fc9498a46"
      },
      "outputs": [
        {
          "data": {
            "text/plain": [
              "array([[0, 0, 0, 0, 0, 0, 0, 1, 0, 0, 0, 0, 0, 0, 0, 0, 0, 0, 0, 1, 1, 0],\n",
              "       [0, 1, 0, 0, 0, 0, 0, 1, 0, 0, 0, 0, 0, 0, 0, 0, 0, 0, 0, 1, 1, 0],\n",
              "       [0, 1, 0, 1, 0, 1, 1, 0, 0, 0, 0, 0, 0, 0, 0, 0, 0, 0, 0, 0, 0, 0],\n",
              "       [0, 0, 0, 1, 0, 1, 1, 0, 0, 0, 1, 1, 0, 0, 0, 0, 0, 0, 0, 1, 0, 0],\n",
              "       [0, 1, 1, 0, 0, 0, 1, 0, 0, 0, 0, 0, 1, 0, 0, 0, 0, 0, 0, 0, 0, 0],\n",
              "       [0, 0, 0, 1, 0, 1, 1, 0, 0, 0, 0, 0, 0, 0, 0, 0, 0, 0, 0, 1, 0, 0],\n",
              "       [0, 0, 0, 0, 0, 1, 1, 0, 0, 0, 0, 0, 0, 0, 0, 0, 0, 0, 0, 1, 0, 0],\n",
              "       [0, 1, 0, 0, 0, 0, 0, 0, 0, 0, 0, 0, 0, 0, 0, 0, 0, 0, 0, 1, 1, 0],\n",
              "       [0, 1, 1, 0, 0, 0, 0, 0, 0, 0, 0, 0, 1, 0, 0, 0, 0, 0, 0, 0, 0, 1],\n",
              "       [0, 0, 0, 0, 0, 0, 0, 0, 0, 0, 0, 0, 0, 0, 0, 0, 1, 0, 1, 0, 0, 0],\n",
              "       [0, 0, 0, 0, 0, 0, 0, 0, 0, 0, 0, 0, 0, 0, 1, 0, 0, 0, 1, 0, 0, 0],\n",
              "       [1, 0, 0, 0, 0, 0, 0, 0, 0, 1, 0, 0, 0, 0, 0, 0, 1, 0, 0, 0, 0, 0],\n",
              "       [1, 0, 0, 0, 1, 0, 0, 0, 0, 1, 0, 0, 0, 0, 0, 1, 0, 1, 0, 0, 0, 0],\n",
              "       [0, 0, 0, 0, 0, 0, 0, 0, 0, 0, 0, 0, 0, 1, 0, 0, 1, 0, 0, 0, 0, 0],\n",
              "       [0, 0, 0, 0, 0, 1, 0, 0, 0, 0, 0, 0, 0, 0, 1, 0, 1, 0, 0, 0, 0, 0],\n",
              "       [1, 0, 0, 0, 0, 0, 0, 0, 0, 1, 0, 0, 0, 0, 0, 0, 1, 0, 0, 0, 0, 0],\n",
              "       [0, 0, 0, 0, 0, 0, 0, 0, 1, 0, 0, 0, 0, 0, 0, 1, 1, 0, 0, 0, 0, 0],\n",
              "       [0, 0, 0, 0, 1, 0, 0, 0, 0, 0, 0, 0, 0, 0, 0, 1, 0, 1, 1, 0, 0, 0]],\n",
              "      dtype=int64)"
            ]
          },
          "execution_count": 49,
          "metadata": {},
          "output_type": "execute_result"
        }
      ],
      "source": [
        "# método toarray()\n",
        "\n",
        "X_train.toarray()"
      ]
    },
    {
      "cell_type": "code",
      "execution_count": null,
      "metadata": {
        "ExecuteTime": {
          "end_time": "2022-02-23T23:59:34.139752Z",
          "start_time": "2022-02-23T23:59:34.077794Z"
        },
        "id": "PvhtXJI-lP9V",
        "outputId": "8e6977fc-4933-41bd-94c0-017b5d198e93"
      },
      "outputs": [
        {
          "data": {
            "text/html": [
              "<div>\n",
              "<style scoped>\n",
              "    .dataframe tbody tr th:only-of-type {\n",
              "        vertical-align: middle;\n",
              "    }\n",
              "\n",
              "    .dataframe tbody tr th {\n",
              "        vertical-align: top;\n",
              "    }\n",
              "\n",
              "    .dataframe thead th {\n",
              "        text-align: right;\n",
              "    }\n",
              "</style>\n",
              "<table border=\"1\" class=\"dataframe\">\n",
              "  <thead>\n",
              "    <tr style=\"text-align: right;\">\n",
              "      <th></th>\n",
              "      <th>anexo</th>\n",
              "      <th>aqui</th>\n",
              "      <th>clique</th>\n",
              "      <th>cupom</th>\n",
              "      <th>da</th>\n",
              "      <th>de</th>\n",
              "      <th>desconto</th>\n",
              "      <th>digite</th>\n",
              "      <th>do</th>\n",
              "      <th>em</th>\n",
              "      <th>...</th>\n",
              "      <th>ganhou</th>\n",
              "      <th>hoje</th>\n",
              "      <th>orçamento</th>\n",
              "      <th>pauta</th>\n",
              "      <th>relatório</th>\n",
              "      <th>reunião</th>\n",
              "      <th>segue</th>\n",
              "      <th>senha</th>\n",
              "      <th>sua</th>\n",
              "      <th>você</th>\n",
              "    </tr>\n",
              "  </thead>\n",
              "  <tbody>\n",
              "    <tr>\n",
              "      <th>0</th>\n",
              "      <td>0</td>\n",
              "      <td>0</td>\n",
              "      <td>0</td>\n",
              "      <td>0</td>\n",
              "      <td>0</td>\n",
              "      <td>0</td>\n",
              "      <td>0</td>\n",
              "      <td>1</td>\n",
              "      <td>0</td>\n",
              "      <td>0</td>\n",
              "      <td>...</td>\n",
              "      <td>0</td>\n",
              "      <td>0</td>\n",
              "      <td>0</td>\n",
              "      <td>0</td>\n",
              "      <td>0</td>\n",
              "      <td>0</td>\n",
              "      <td>0</td>\n",
              "      <td>1</td>\n",
              "      <td>1</td>\n",
              "      <td>0</td>\n",
              "    </tr>\n",
              "    <tr>\n",
              "      <th>1</th>\n",
              "      <td>0</td>\n",
              "      <td>1</td>\n",
              "      <td>0</td>\n",
              "      <td>0</td>\n",
              "      <td>0</td>\n",
              "      <td>0</td>\n",
              "      <td>0</td>\n",
              "      <td>1</td>\n",
              "      <td>0</td>\n",
              "      <td>0</td>\n",
              "      <td>...</td>\n",
              "      <td>0</td>\n",
              "      <td>0</td>\n",
              "      <td>0</td>\n",
              "      <td>0</td>\n",
              "      <td>0</td>\n",
              "      <td>0</td>\n",
              "      <td>0</td>\n",
              "      <td>1</td>\n",
              "      <td>1</td>\n",
              "      <td>0</td>\n",
              "    </tr>\n",
              "    <tr>\n",
              "      <th>2</th>\n",
              "      <td>0</td>\n",
              "      <td>1</td>\n",
              "      <td>0</td>\n",
              "      <td>1</td>\n",
              "      <td>0</td>\n",
              "      <td>1</td>\n",
              "      <td>1</td>\n",
              "      <td>0</td>\n",
              "      <td>0</td>\n",
              "      <td>0</td>\n",
              "      <td>...</td>\n",
              "      <td>0</td>\n",
              "      <td>0</td>\n",
              "      <td>0</td>\n",
              "      <td>0</td>\n",
              "      <td>0</td>\n",
              "      <td>0</td>\n",
              "      <td>0</td>\n",
              "      <td>0</td>\n",
              "      <td>0</td>\n",
              "      <td>0</td>\n",
              "    </tr>\n",
              "    <tr>\n",
              "      <th>3</th>\n",
              "      <td>0</td>\n",
              "      <td>0</td>\n",
              "      <td>0</td>\n",
              "      <td>1</td>\n",
              "      <td>0</td>\n",
              "      <td>1</td>\n",
              "      <td>1</td>\n",
              "      <td>0</td>\n",
              "      <td>0</td>\n",
              "      <td>0</td>\n",
              "      <td>...</td>\n",
              "      <td>0</td>\n",
              "      <td>0</td>\n",
              "      <td>0</td>\n",
              "      <td>0</td>\n",
              "      <td>0</td>\n",
              "      <td>0</td>\n",
              "      <td>0</td>\n",
              "      <td>1</td>\n",
              "      <td>0</td>\n",
              "      <td>0</td>\n",
              "    </tr>\n",
              "    <tr>\n",
              "      <th>4</th>\n",
              "      <td>0</td>\n",
              "      <td>1</td>\n",
              "      <td>1</td>\n",
              "      <td>0</td>\n",
              "      <td>0</td>\n",
              "      <td>0</td>\n",
              "      <td>1</td>\n",
              "      <td>0</td>\n",
              "      <td>0</td>\n",
              "      <td>0</td>\n",
              "      <td>...</td>\n",
              "      <td>1</td>\n",
              "      <td>0</td>\n",
              "      <td>0</td>\n",
              "      <td>0</td>\n",
              "      <td>0</td>\n",
              "      <td>0</td>\n",
              "      <td>0</td>\n",
              "      <td>0</td>\n",
              "      <td>0</td>\n",
              "      <td>0</td>\n",
              "    </tr>\n",
              "    <tr>\n",
              "      <th>5</th>\n",
              "      <td>0</td>\n",
              "      <td>0</td>\n",
              "      <td>0</td>\n",
              "      <td>1</td>\n",
              "      <td>0</td>\n",
              "      <td>1</td>\n",
              "      <td>1</td>\n",
              "      <td>0</td>\n",
              "      <td>0</td>\n",
              "      <td>0</td>\n",
              "      <td>...</td>\n",
              "      <td>0</td>\n",
              "      <td>0</td>\n",
              "      <td>0</td>\n",
              "      <td>0</td>\n",
              "      <td>0</td>\n",
              "      <td>0</td>\n",
              "      <td>0</td>\n",
              "      <td>1</td>\n",
              "      <td>0</td>\n",
              "      <td>0</td>\n",
              "    </tr>\n",
              "    <tr>\n",
              "      <th>6</th>\n",
              "      <td>0</td>\n",
              "      <td>0</td>\n",
              "      <td>0</td>\n",
              "      <td>0</td>\n",
              "      <td>0</td>\n",
              "      <td>1</td>\n",
              "      <td>1</td>\n",
              "      <td>0</td>\n",
              "      <td>0</td>\n",
              "      <td>0</td>\n",
              "      <td>...</td>\n",
              "      <td>0</td>\n",
              "      <td>0</td>\n",
              "      <td>0</td>\n",
              "      <td>0</td>\n",
              "      <td>0</td>\n",
              "      <td>0</td>\n",
              "      <td>0</td>\n",
              "      <td>1</td>\n",
              "      <td>0</td>\n",
              "      <td>0</td>\n",
              "    </tr>\n",
              "    <tr>\n",
              "      <th>7</th>\n",
              "      <td>0</td>\n",
              "      <td>1</td>\n",
              "      <td>0</td>\n",
              "      <td>0</td>\n",
              "      <td>0</td>\n",
              "      <td>0</td>\n",
              "      <td>0</td>\n",
              "      <td>0</td>\n",
              "      <td>0</td>\n",
              "      <td>0</td>\n",
              "      <td>...</td>\n",
              "      <td>0</td>\n",
              "      <td>0</td>\n",
              "      <td>0</td>\n",
              "      <td>0</td>\n",
              "      <td>0</td>\n",
              "      <td>0</td>\n",
              "      <td>0</td>\n",
              "      <td>1</td>\n",
              "      <td>1</td>\n",
              "      <td>0</td>\n",
              "    </tr>\n",
              "    <tr>\n",
              "      <th>8</th>\n",
              "      <td>0</td>\n",
              "      <td>1</td>\n",
              "      <td>1</td>\n",
              "      <td>0</td>\n",
              "      <td>0</td>\n",
              "      <td>0</td>\n",
              "      <td>0</td>\n",
              "      <td>0</td>\n",
              "      <td>0</td>\n",
              "      <td>0</td>\n",
              "      <td>...</td>\n",
              "      <td>1</td>\n",
              "      <td>0</td>\n",
              "      <td>0</td>\n",
              "      <td>0</td>\n",
              "      <td>0</td>\n",
              "      <td>0</td>\n",
              "      <td>0</td>\n",
              "      <td>0</td>\n",
              "      <td>0</td>\n",
              "      <td>1</td>\n",
              "    </tr>\n",
              "    <tr>\n",
              "      <th>9</th>\n",
              "      <td>0</td>\n",
              "      <td>0</td>\n",
              "      <td>0</td>\n",
              "      <td>0</td>\n",
              "      <td>0</td>\n",
              "      <td>0</td>\n",
              "      <td>0</td>\n",
              "      <td>0</td>\n",
              "      <td>0</td>\n",
              "      <td>0</td>\n",
              "      <td>...</td>\n",
              "      <td>0</td>\n",
              "      <td>0</td>\n",
              "      <td>0</td>\n",
              "      <td>0</td>\n",
              "      <td>1</td>\n",
              "      <td>0</td>\n",
              "      <td>1</td>\n",
              "      <td>0</td>\n",
              "      <td>0</td>\n",
              "      <td>0</td>\n",
              "    </tr>\n",
              "    <tr>\n",
              "      <th>10</th>\n",
              "      <td>0</td>\n",
              "      <td>0</td>\n",
              "      <td>0</td>\n",
              "      <td>0</td>\n",
              "      <td>0</td>\n",
              "      <td>0</td>\n",
              "      <td>0</td>\n",
              "      <td>0</td>\n",
              "      <td>0</td>\n",
              "      <td>0</td>\n",
              "      <td>...</td>\n",
              "      <td>0</td>\n",
              "      <td>0</td>\n",
              "      <td>1</td>\n",
              "      <td>0</td>\n",
              "      <td>0</td>\n",
              "      <td>0</td>\n",
              "      <td>1</td>\n",
              "      <td>0</td>\n",
              "      <td>0</td>\n",
              "      <td>0</td>\n",
              "    </tr>\n",
              "    <tr>\n",
              "      <th>11</th>\n",
              "      <td>1</td>\n",
              "      <td>0</td>\n",
              "      <td>0</td>\n",
              "      <td>0</td>\n",
              "      <td>0</td>\n",
              "      <td>0</td>\n",
              "      <td>0</td>\n",
              "      <td>0</td>\n",
              "      <td>0</td>\n",
              "      <td>1</td>\n",
              "      <td>...</td>\n",
              "      <td>0</td>\n",
              "      <td>0</td>\n",
              "      <td>0</td>\n",
              "      <td>0</td>\n",
              "      <td>1</td>\n",
              "      <td>0</td>\n",
              "      <td>0</td>\n",
              "      <td>0</td>\n",
              "      <td>0</td>\n",
              "      <td>0</td>\n",
              "    </tr>\n",
              "    <tr>\n",
              "      <th>12</th>\n",
              "      <td>1</td>\n",
              "      <td>0</td>\n",
              "      <td>0</td>\n",
              "      <td>0</td>\n",
              "      <td>1</td>\n",
              "      <td>0</td>\n",
              "      <td>0</td>\n",
              "      <td>0</td>\n",
              "      <td>0</td>\n",
              "      <td>1</td>\n",
              "      <td>...</td>\n",
              "      <td>0</td>\n",
              "      <td>0</td>\n",
              "      <td>0</td>\n",
              "      <td>1</td>\n",
              "      <td>0</td>\n",
              "      <td>1</td>\n",
              "      <td>0</td>\n",
              "      <td>0</td>\n",
              "      <td>0</td>\n",
              "      <td>0</td>\n",
              "    </tr>\n",
              "    <tr>\n",
              "      <th>13</th>\n",
              "      <td>0</td>\n",
              "      <td>0</td>\n",
              "      <td>0</td>\n",
              "      <td>0</td>\n",
              "      <td>0</td>\n",
              "      <td>0</td>\n",
              "      <td>0</td>\n",
              "      <td>0</td>\n",
              "      <td>0</td>\n",
              "      <td>0</td>\n",
              "      <td>...</td>\n",
              "      <td>0</td>\n",
              "      <td>1</td>\n",
              "      <td>0</td>\n",
              "      <td>0</td>\n",
              "      <td>1</td>\n",
              "      <td>0</td>\n",
              "      <td>0</td>\n",
              "      <td>0</td>\n",
              "      <td>0</td>\n",
              "      <td>0</td>\n",
              "    </tr>\n",
              "    <tr>\n",
              "      <th>14</th>\n",
              "      <td>0</td>\n",
              "      <td>0</td>\n",
              "      <td>0</td>\n",
              "      <td>0</td>\n",
              "      <td>0</td>\n",
              "      <td>1</td>\n",
              "      <td>0</td>\n",
              "      <td>0</td>\n",
              "      <td>0</td>\n",
              "      <td>0</td>\n",
              "      <td>...</td>\n",
              "      <td>0</td>\n",
              "      <td>0</td>\n",
              "      <td>1</td>\n",
              "      <td>0</td>\n",
              "      <td>1</td>\n",
              "      <td>0</td>\n",
              "      <td>0</td>\n",
              "      <td>0</td>\n",
              "      <td>0</td>\n",
              "      <td>0</td>\n",
              "    </tr>\n",
              "    <tr>\n",
              "      <th>15</th>\n",
              "      <td>1</td>\n",
              "      <td>0</td>\n",
              "      <td>0</td>\n",
              "      <td>0</td>\n",
              "      <td>0</td>\n",
              "      <td>0</td>\n",
              "      <td>0</td>\n",
              "      <td>0</td>\n",
              "      <td>0</td>\n",
              "      <td>1</td>\n",
              "      <td>...</td>\n",
              "      <td>0</td>\n",
              "      <td>0</td>\n",
              "      <td>0</td>\n",
              "      <td>0</td>\n",
              "      <td>1</td>\n",
              "      <td>0</td>\n",
              "      <td>0</td>\n",
              "      <td>0</td>\n",
              "      <td>0</td>\n",
              "      <td>0</td>\n",
              "    </tr>\n",
              "    <tr>\n",
              "      <th>16</th>\n",
              "      <td>0</td>\n",
              "      <td>0</td>\n",
              "      <td>0</td>\n",
              "      <td>0</td>\n",
              "      <td>0</td>\n",
              "      <td>0</td>\n",
              "      <td>0</td>\n",
              "      <td>0</td>\n",
              "      <td>1</td>\n",
              "      <td>0</td>\n",
              "      <td>...</td>\n",
              "      <td>0</td>\n",
              "      <td>0</td>\n",
              "      <td>0</td>\n",
              "      <td>1</td>\n",
              "      <td>1</td>\n",
              "      <td>0</td>\n",
              "      <td>0</td>\n",
              "      <td>0</td>\n",
              "      <td>0</td>\n",
              "      <td>0</td>\n",
              "    </tr>\n",
              "    <tr>\n",
              "      <th>17</th>\n",
              "      <td>0</td>\n",
              "      <td>0</td>\n",
              "      <td>0</td>\n",
              "      <td>0</td>\n",
              "      <td>1</td>\n",
              "      <td>0</td>\n",
              "      <td>0</td>\n",
              "      <td>0</td>\n",
              "      <td>0</td>\n",
              "      <td>0</td>\n",
              "      <td>...</td>\n",
              "      <td>0</td>\n",
              "      <td>0</td>\n",
              "      <td>0</td>\n",
              "      <td>1</td>\n",
              "      <td>0</td>\n",
              "      <td>1</td>\n",
              "      <td>1</td>\n",
              "      <td>0</td>\n",
              "      <td>0</td>\n",
              "      <td>0</td>\n",
              "    </tr>\n",
              "  </tbody>\n",
              "</table>\n",
              "<p>18 rows × 22 columns</p>\n",
              "</div>"
            ],
            "text/plain": [
              "    anexo  aqui  clique  cupom  da  de  desconto  digite  do  em  ...  ganhou  \\\n",
              "0       0     0       0      0   0   0         0       1   0   0  ...       0   \n",
              "1       0     1       0      0   0   0         0       1   0   0  ...       0   \n",
              "2       0     1       0      1   0   1         1       0   0   0  ...       0   \n",
              "3       0     0       0      1   0   1         1       0   0   0  ...       0   \n",
              "4       0     1       1      0   0   0         1       0   0   0  ...       1   \n",
              "5       0     0       0      1   0   1         1       0   0   0  ...       0   \n",
              "6       0     0       0      0   0   1         1       0   0   0  ...       0   \n",
              "7       0     1       0      0   0   0         0       0   0   0  ...       0   \n",
              "8       0     1       1      0   0   0         0       0   0   0  ...       1   \n",
              "9       0     0       0      0   0   0         0       0   0   0  ...       0   \n",
              "10      0     0       0      0   0   0         0       0   0   0  ...       0   \n",
              "11      1     0       0      0   0   0         0       0   0   1  ...       0   \n",
              "12      1     0       0      0   1   0         0       0   0   1  ...       0   \n",
              "13      0     0       0      0   0   0         0       0   0   0  ...       0   \n",
              "14      0     0       0      0   0   1         0       0   0   0  ...       0   \n",
              "15      1     0       0      0   0   0         0       0   0   1  ...       0   \n",
              "16      0     0       0      0   0   0         0       0   1   0  ...       0   \n",
              "17      0     0       0      0   1   0         0       0   0   0  ...       0   \n",
              "\n",
              "    hoje  orçamento  pauta  relatório  reunião  segue  senha  sua  você  \n",
              "0      0          0      0          0        0      0      1    1     0  \n",
              "1      0          0      0          0        0      0      1    1     0  \n",
              "2      0          0      0          0        0      0      0    0     0  \n",
              "3      0          0      0          0        0      0      1    0     0  \n",
              "4      0          0      0          0        0      0      0    0     0  \n",
              "5      0          0      0          0        0      0      1    0     0  \n",
              "6      0          0      0          0        0      0      1    0     0  \n",
              "7      0          0      0          0        0      0      1    1     0  \n",
              "8      0          0      0          0        0      0      0    0     1  \n",
              "9      0          0      0          1        0      1      0    0     0  \n",
              "10     0          1      0          0        0      1      0    0     0  \n",
              "11     0          0      0          1        0      0      0    0     0  \n",
              "12     0          0      1          0        1      0      0    0     0  \n",
              "13     1          0      0          1        0      0      0    0     0  \n",
              "14     0          1      0          1        0      0      0    0     0  \n",
              "15     0          0      0          1        0      0      0    0     0  \n",
              "16     0          0      1          1        0      0      0    0     0  \n",
              "17     0          0      1          0        1      1      0    0     0  \n",
              "\n",
              "[18 rows x 22 columns]"
            ]
          },
          "execution_count": 50,
          "metadata": {},
          "output_type": "execute_result"
        }
      ],
      "source": [
        "# se quiser transformar num dataframe...\n",
        "\n",
        "pd.DataFrame(X_train.toarray(), columns=vec.get_feature_names_out())"
      ]
    },
    {
      "cell_type": "markdown",
      "metadata": {
        "id": "4woSfUG1lP9V"
      },
      "source": [
        "Agora que o pré-processamento foi feito, podemos treinar o NB!\n",
        "\n",
        "A classe do modelo que discutimos acima é o [MultinomialNB](https://scikit-learn.org/stable/modules/generated/sklearn.naive_bayes.MultinomialNB.html#sklearn.naive_bayes.MultinomialNB). Note que há pouquíssimos hiperparâmetros, dada a simplicidade deste método!"
      ]
    },
    {
      "cell_type": "code",
      "execution_count": null,
      "metadata": {
        "ExecuteTime": {
          "end_time": "2022-02-24T00:04:46.968089Z",
          "start_time": "2022-02-24T00:04:46.623002Z"
        },
        "id": "HGq-MMGAlP9V"
      },
      "outputs": [],
      "source": [
        "# importando o NB\n",
        "from sklearn.naive_bayes import MultinomialNB\n",
        "\n",
        "# instanciando e treinando - não precisa mudar nenhum hiperparametro\n",
        "nb = MultinomialNB().fit(X_train, y_train)"
      ]
    },
    {
      "cell_type": "code",
      "execution_count": null,
      "metadata": {
        "ExecuteTime": {
          "end_time": "2022-02-24T00:05:35.102600Z",
          "start_time": "2022-02-24T00:05:35.084602Z"
        },
        "id": "9kkVR771lP9V",
        "outputId": "76fee60a-b6ec-4467-a6c8-d1029a3f9f30"
      },
      "outputs": [
        {
          "data": {
            "text/plain": [
              "0                   digite aqui sua senha\n",
              "1              cupom de desconto em anexo\n",
              "2    cadê o relatório da pauta da reunião\n",
              "3               envio ainda hoje em anexo\n",
              "Name: frases, dtype: object"
            ]
          },
          "execution_count": 54,
          "metadata": {},
          "output_type": "execute_result"
        }
      ],
      "source": [
        "df_test[\"frases\"]"
      ]
    },
    {
      "cell_type": "code",
      "execution_count": null,
      "metadata": {
        "ExecuteTime": {
          "end_time": "2022-02-24T00:05:04.195506Z",
          "start_time": "2022-02-24T00:05:04.173540Z"
        },
        "id": "8sy-UbIwlP9V",
        "outputId": "3cad8d9b-5924-4d17-83d9-57a11bf988dc"
      },
      "outputs": [
        {
          "data": {
            "text/plain": [
              "array([[0, 1, 0, 0, 0, 0, 0, 1, 0, 0, 0, 0, 0, 0, 0, 0, 0, 0, 0, 1, 1, 0],\n",
              "       [1, 0, 0, 1, 0, 1, 1, 0, 0, 1, 0, 0, 0, 0, 0, 0, 0, 0, 0, 0, 0, 0],\n",
              "       [0, 0, 0, 0, 2, 0, 0, 0, 0, 0, 0, 0, 0, 0, 0, 1, 1, 1, 0, 0, 0, 0],\n",
              "       [1, 0, 0, 0, 0, 0, 0, 0, 0, 1, 0, 0, 0, 1, 0, 0, 0, 0, 0, 0, 0, 0]],\n",
              "      dtype=int64)"
            ]
          },
          "execution_count": 53,
          "metadata": {},
          "output_type": "execute_result"
        }
      ],
      "source": [
        "X_test.toarray()"
      ]
    },
    {
      "cell_type": "code",
      "execution_count": null,
      "metadata": {
        "ExecuteTime": {
          "end_time": "2022-02-24T00:05:56.990025Z",
          "start_time": "2022-02-24T00:05:56.981031Z"
        },
        "id": "BLIi6JBklP9W",
        "outputId": "ec8fd8e7-91cc-4b90-ba96-cb9da42248d6"
      },
      "outputs": [
        {
          "data": {
            "text/plain": [
              "array(['spam', 'spam', 'ham', 'ham'], dtype='<U4')"
            ]
          },
          "execution_count": 55,
          "metadata": {},
          "output_type": "execute_result"
        }
      ],
      "source": [
        "# fazendo predições com o predict \n",
        "\n",
        "nb.predict(X_test)"
      ]
    },
    {
      "cell_type": "code",
      "execution_count": null,
      "metadata": {
        "ExecuteTime": {
          "end_time": "2022-02-24T00:06:03.714270Z",
          "start_time": "2022-02-24T00:06:03.695281Z"
        },
        "id": "UELiv4T7lP9W",
        "outputId": "7707e038-de4a-4028-e57d-9ef2146b1b8c"
      },
      "outputs": [
        {
          "data": {
            "text/plain": [
              "0    spam\n",
              "1    spam\n",
              "2     ham\n",
              "3     ham\n",
              "Name: y, dtype: object"
            ]
          },
          "execution_count": 56,
          "metadata": {},
          "output_type": "execute_result"
        }
      ],
      "source": [
        "# comparando com o target real\n",
        "\n",
        "y_test"
      ]
    },
    {
      "cell_type": "code",
      "execution_count": null,
      "metadata": {
        "ExecuteTime": {
          "end_time": "2022-02-24T00:06:16.971591Z",
          "start_time": "2022-02-24T00:06:16.954602Z"
        },
        "id": "K_bGTuXOlP9W",
        "outputId": "e1d867ef-2108-42e2-d52c-fb8fd30e0977"
      },
      "outputs": [
        {
          "data": {
            "text/plain": [
              "array([[3.62000828e-03, 9.96379992e-01],\n",
              "       [3.62252491e-01, 6.37747509e-01],\n",
              "       [9.99379396e-01, 6.20604210e-04],\n",
              "       [9.80534016e-01, 1.94659839e-02]])"
            ]
          },
          "execution_count": 57,
          "metadata": {},
          "output_type": "execute_result"
        }
      ],
      "source": [
        "# predict_proba dá o p(y|x)\n",
        "\n",
        "nb.predict_proba(X_test)"
      ]
    },
    {
      "cell_type": "markdown",
      "metadata": {
        "id": "dhi1YrjLlP9W"
      },
      "source": [
        "Vamos comparar com as probabilidades que encontramos na mão antes:"
      ]
    },
    {
      "cell_type": "code",
      "execution_count": null,
      "metadata": {
        "ExecuteTime": {
          "end_time": "2022-02-24T00:06:28.569646Z",
          "start_time": "2022-02-24T00:06:28.548658Z"
        },
        "id": "Up5kiNlglP9W",
        "outputId": "ddd3f59a-67c9-45ce-db3e-667929cb499d"
      },
      "outputs": [
        {
          "data": {
            "text/plain": [
              "[[0.0037432317333029623, 0.9962567682666971],\n",
              " [0.3720096250701751, 0.6279903749298248],\n",
              " [0.9997462657749197, 0.00025373422508033315],\n",
              " [0.9810091842247434, 0.018990815775256617]]"
            ]
          },
          "execution_count": 58,
          "metadata": {},
          "output_type": "execute_result"
        }
      ],
      "source": [
        "lista_probs"
      ]
    },
    {
      "cell_type": "markdown",
      "metadata": {
        "id": "PQg7j4yYlP9W"
      },
      "source": [
        "O valor não bate na vírgula, mas é bem próximo!"
      ]
    },
    {
      "cell_type": "markdown",
      "metadata": {
        "id": "pGIl-St5lP9W"
      },
      "source": [
        "Esse é o Naive Bayes! :)\n",
        "\n",
        "Vamos agora entender um pouco mais da matemática por trás deste método!"
      ]
    },
    {
      "cell_type": "markdown",
      "metadata": {
        "id": "xysM29xulP9W"
      },
      "source": [
        "_____\n",
        "_____\n",
        "_____"
      ]
    },
    {
      "cell_type": "markdown",
      "metadata": {
        "ExecuteTime": {
          "end_time": "2021-09-16T16:08:15.515224Z",
          "start_time": "2021-09-16T16:08:15.447243Z"
        },
        "id": "uVBTqSD_lP9W"
      },
      "source": [
        "## 3) A matemática do Naive Bayes\n",
        "\n",
        "Agora que vimos o Naive Bayes em ação, vamos entender um pouco mais formalmente o seu funcionamento!\n",
        "\n",
        "Considere novamente o teorema de Bayes\n",
        "\n",
        "$P(A \\mid B) = \\frac{P(B \\mid A)P(A)}{P(B)}$\n",
        "\n",
        "\n",
        "Considerando que o evento $A$ é o target $y$; e que o evento $B$ é o conjunto de features $\\vec{x} = (x_1, x_2, ..., x_n) $, temos que:\n",
        "\n",
        "$P(y \\mid \\vec{x}) = \\frac{ P(\\vec{x} \\mid y) P(y)}{P(\\vec{x})}$\n",
        "\n",
        "Note que o termo do denominador, $P(\\vec{x})$, é independente de $y$. Portanto, dado que queremos usar o método para classificação (ou seja, **determinação da separabilidade dos dados no que diz respeito a $y$**), podemos desconsiderar o denominador, e dizer simplesmente que:\n",
        "\n",
        "$P(y \\mid \\vec{x}) \\propto P(\\vec{x} \\mid y) P(y) \\ , $\n",
        "\n",
        "que é exatamente o que fizemos no exemplo acima, quando falamos que o que importa pra previsão final é a diferença relativa de probabilidades, não seu valor absoluto, por isso a proporcionalidade basta, e não precisamos nos preocupar com $P(\\vec{x})$."
      ]
    },
    {
      "cell_type": "markdown",
      "metadata": {
        "ExecuteTime": {
          "end_time": "2021-09-16T16:08:15.515224Z",
          "start_time": "2021-09-16T16:08:15.447243Z"
        },
        "id": "e42kCT2_lP9W"
      },
      "source": [
        "                                 \n",
        "A ideia do Naive Bayes (um método de **classificação**) é bem simples:\n",
        "\n",
        "- Inicialmente, temos uma crença inicial sobre a probabilidade de que as observações pertencem a cada classe: a probabilidade a priori $P(y)$, que é simplesmente a proporção de cada classe (`value_counts`);\n",
        "\n",
        "- Como podemos mudar esta crença inicial ao considerarmos as likelihoods $P(\\vec{x} \\mid y)$ (ou seja, as probabilidades **das features de uma observação terem determinado valor, dado que a observação pertence à classe y?**"
      ]
    },
    {
      "cell_type": "markdown",
      "metadata": {
        "ExecuteTime": {
          "end_time": "2021-09-16T16:08:15.515224Z",
          "start_time": "2021-09-16T16:08:15.447243Z"
        },
        "id": "soXV3pdklP9X"
      },
      "source": [
        "Note que o cálculo da probabilidade likelihood não é trivial **se as features forem dependentes entre si**. Pra entender isso, vamos pensar no caso de 3 features apenas, $\\vec{x} = (x_1, x_2, x_3)$. \n",
        "\n",
        "Note que $P(\\vec{x} \\mid y) P(y)$ é exatamente equivalente à **probabilidade conjunta** $P(\\vec{x}, y)$, ou seja, $P(\\vec{x} \\mid y) P(y) = P(\\vec{x}, y)$. Assim, no nosso caso, temos:\n",
        "\n",
        "$P(x_1, x_2, x_3 \\mid y) P(y) = P(x_1, x_2, x_3, y) $\n",
        "\n",
        "Podemos escrever esta probabilidade conjunta, de acordo com a [regra da cadeia](https://en.wikipedia.org/wiki/Chain_rule_(probability)) para probabilidades condicionais conforme:\n",
        "\n",
        "$ P(x_1, x_2, x_3, y) = P(x_1 \\mid x_2, x_3, y) P(x_2 \\mid x_3, y) P (x_3 \\mid y) P(y) $\n",
        "\n",
        "Note que os termos iniciais desse produto não são triviais, segundo nossa intuição: seria legal se tivéssemos apenas termos parecidos com o penúltimo termo, não é mesmo?"
      ]
    },
    {
      "cell_type": "markdown",
      "metadata": {
        "ExecuteTime": {
          "end_time": "2021-09-16T16:08:15.515224Z",
          "start_time": "2021-09-16T16:08:15.447243Z"
        },
        "id": "ohxOGauAlP9X"
      },
      "source": [
        "É aqui que entra o \"naive\" que nomeia o método: vamos assumir **independência condicional** entre as features, ou seja, assumimos que as features são **mutuamente independentes** quando condicionadas à $y$. Isso equivale a dizer que:\n",
        "\n",
        "$P(x_i \\mid x_{i+1}, \\cdots , x_n, y) = P(x_i \\mid y)$\n",
        "\n",
        "Ou, no nosso exemplo,\n",
        "\n",
        "- $P(x_1 \\mid x_2, x_3, y) = P(x_1 \\mid y)$\n",
        "\n",
        "- $P(x_2 \\mid x_3, y) = P(x_2 \\mid y)$\n",
        "\n",
        "Assim, seguindo a hipótese **naive**, temos que:\n",
        "\n",
        "$ P(x_1, x_2, x_3, y) \\approx P(x_1 \\mid y) P(x_2 \\mid y) P (x_3 \\mid y) P(y) $\n",
        "\n",
        "Ou, de maneira mais genérica,\n",
        "\n",
        "$ P(\\vec{x}, y) = P(y) \\prod_{i=1}^{n} P(x_i \\mid y) $\n",
        "\n",
        "Ou, ainda, pensando apenas na probabilidade condicional (como introduzimos na seção prática acima), temos:\n",
        "\n",
        "$P(\\vec{x} \\mid y) = \\prod_{i=1}^{n} P(x_i \\mid y) $\n",
        "\n",
        "Sendo assim, escrevemos a **posteriori** como:\n",
        "\n",
        "$$ P(y \\mid \\vec{x}) \\propto P(y) \\prod_{i=1}^{n} P(x_i \\mid y) $$\n",
        "\n",
        "Isso foi exatamente o que usamos na implementação acima! Com a distinção de que, claro, tomamos o target predito como sendo aquele que **maximiza** a posteriori, isso é,\n",
        "\n",
        "$$ \\boxed{\\hat{y} = \\arg\\max_y \\left ( P(y) \\prod_{i=1}^{n} P(x_i \\mid y)  \\right )}$$\n",
        "\n",
        "A equação acima pode ser vista como a hipótese atrelada ao Naive Bayes. Note que não há parametrização explícita, e que (como vimos no exemplo), sua aplicação é rápida e direta!"
      ]
    },
    {
      "cell_type": "markdown",
      "metadata": {
        "ExecuteTime": {
          "end_time": "2021-09-16T16:08:15.515224Z",
          "start_time": "2021-09-16T16:08:15.447243Z"
        },
        "id": "-z-bEEgXlP9X"
      },
      "source": [
        "______\n",
        "\n",
        "Entendido o método, algumas observações importantes:\n",
        "\n",
        "A suposição de independência condicional das features é **muito forte**, e em casos práticos não ocorre com frequência, o que acaba sendo uma grande desvantagem do Naive Bayes. \n",
        "\n",
        "Porém, por não ter nenhum hiperparâmetro a ser ajustado, e ser extremamente simples e rápido, o Naive Bayes é comumente utilizado como um primeiro modelo (*baseline*), ou seja, primeira passada pelo ciclo. \n",
        "\n",
        "Por outro lado, embora o método não seja robusto para problemas genéricos de classificação, é conhecido que o Naive Bayes funciona de forma satisfatória para problemas que envolvem texto (**tarefas de Natural Language Processing - NLP**), como o que vimos no exemplo."
      ]
    },
    {
      "cell_type": "markdown",
      "metadata": {
        "ExecuteTime": {
          "end_time": "2021-09-16T16:08:15.515224Z",
          "start_time": "2021-09-16T16:08:15.447243Z"
        },
        "id": "PLQO1npulP9X"
      },
      "source": [
        "> Interlúdio matemático: O Naive Bayes é fundamentalmente diferente dos classificadores que estudamos até o momento. <br><br>\n",
        "De um ponto de vista probabilístico, os algoritmos que estudamos até o momento tinham como objetivo (direto ou indireto) modelar $P(y \\mid \\vec{x})$, ou seja, **determinar o target $y$ como sendo condicionado pelas features $\\vec{x}$**. Por este motivo, eles são conhecidos como **classificadores discriminativos**, pois o objetivo é separar (discriminar) o target, gerando uma **fronteira de decisão** aprendida com base nas features.<br><br> \n",
        "Por outro lado, o Naive Bayes é um exemplo **classificador generativo**, pois o que ele estima é, na verdade, $P(\\vec{x} \\mid y)$. A ideia aqui é bem diferente: nós **utilizamos o target para determinar quais features são mais adequadas àquele valor de target**. Por este motivo, é possível utilizar modelos deste tipo para **gerar novas observações**, baseadas no que foi aprendido (um uso interessante de modelos generativos é justamente no [oversampling!](https://arxiv.org/pdf/2005.03773.pdf)).<br><br>\n",
        "[Neste post](https://www.analyticsvidhya.com/blog/2021/07/deep-understanding-of-discriminative-and-generative-models-in-machine-learning/), a diferença entre estes métodos é explorada de maneira mais conceitual. [Neste ótimo material](http://cs229.stanford.edu/notes-spring2019/cs229-notes2.pdf), a discussão toma um rumo mais matemático. E para ainda mais detalhes matemáticos, recomendo [este artigo](http://ai.stanford.edu/~ang/papers/nips01-discriminativegenerative.pdf)."
      ]
    },
    {
      "cell_type": "markdown",
      "metadata": {
        "id": "hcxLldRflP9X"
      },
      "source": [
        "<img src=\"https://miro.medium.com/max/500/1*1jV03DHuQeVkdzUKrwmX4w.png\">"
      ]
    },
    {
      "cell_type": "markdown",
      "metadata": {
        "id": "8yVtl9hVlP9X"
      },
      "source": [
        "_____\n",
        "_____\n",
        "____"
      ]
    },
    {
      "cell_type": "markdown",
      "metadata": {
        "ExecuteTime": {
          "end_time": "2021-09-16T16:08:15.515224Z",
          "start_time": "2021-09-16T16:08:15.447243Z"
        },
        "id": "aiIohNxzlP9X"
      },
      "source": [
        "\n",
        "## 4) Outras versões do Naive Bayes\n",
        "\n",
        "Para aplicação no sklearn, existem algumas possibilidades diferentes de implementações do Naive Bayes. No submódulo [sklearn.naive_bayes](https://scikit-learn.org/stable/modules/classes.html#module-sklearn.naive_bayes) você pode encontrá-las. As três versões mais utilizadas são:\n",
        "\n",
        "\n",
        "- [MultinomialNB](https://scikit-learn.org/stable/modules/generated/sklearn.naive_bayes.MultinomialNB.html#sklearn.naive_bayes.MultinomialNB) - essa é a versão do modelo que estudamos acima. Ele admite apenas **features discretas** que representam **contagens de ocorrência**, ou seja, **frequência absoluta**. Por este motivo, o método associa a [distribuição multinomial](https://en.wikipedia.org/wiki/Multinomial_distribution) às likelihoods $P(x_i \\mid y)$.\n",
        "- [BernoulliNB](https://scikit-learn.org/stable/modules/generated/sklearn.naive_bayes.BernoulliNB.html#sklearn.naive_bayes.BernoulliNB) - esta versão também é adequada para o uso de features discretas, mas deve ser utilizada quando há **features binárias**, isto é, tal que $P(x_i \\mid y)$ seguem uma [distribuição de bernoulli](https://en.wikipedia.org/wiki/Bernoulli_distribution): $P(x_i \\mid y) = P(i \\mid y) x_i + (1 - P(i \\mid y)) (1 - x_i)$.\n",
        "- [GaussianNB](https://scikit-learn.org/stable/modules/generated/sklearn.naive_bayes.GaussianNB.html#sklearn.naive_bayes.GaussianNB) - esta versão pode ser utilizada para features contínuas, que são assumidas estarem [normalmente distribuídas](https://en.wikipedia.org/wiki/Normal_distribution), isto é, $P(x_i \\mid y) = \\frac{1}{\\sqrt{2\\pi\\sigma^2_y}} \\exp\\left(-\\frac{(x_i - \\mu_y)^2}{2\\sigma^2_y}\\right)$. \n",
        "\n",
        "Todos os métodos NB são bem simples, rápidos e com pouquíssimos hiperparâmetros a serem ajustados. Escolha o método adequado para os seus dados, e os experimente!"
      ]
    },
    {
      "cell_type": "code",
      "execution_count": null,
      "metadata": {
        "ExecuteTime": {
          "end_time": "2022-02-24T00:36:55.546891Z",
          "start_time": "2022-02-24T00:36:54.046095Z"
        },
        "id": "Fw0LrPxSlP9X"
      },
      "outputs": [],
      "source": [
        "import pandas as pd\n",
        "from sklearn.model_selection import train_test_split\n",
        "\n",
        "from sklearn.metrics import confusion_matrix, classification_report, ConfusionMatrixDisplay\n",
        "\n",
        "import matplotlib.pyplot as plt"
      ]
    },
    {
      "cell_type": "code",
      "execution_count": null,
      "metadata": {
        "ExecuteTime": {
          "end_time": "2022-02-24T00:36:55.703857Z",
          "start_time": "2022-02-24T00:36:55.689866Z"
        },
        "id": "aGPOlEqilP9X"
      },
      "outputs": [],
      "source": [
        "from sklearn.naive_bayes import GaussianNB"
      ]
    },
    {
      "cell_type": "markdown",
      "metadata": {
        "id": "Q6HxYlO9lP9X"
      },
      "source": [
        "Credit risk dataset, só com features numéricas"
      ]
    },
    {
      "cell_type": "code",
      "execution_count": null,
      "metadata": {
        "ExecuteTime": {
          "end_time": "2022-02-24T00:37:01.239497Z",
          "start_time": "2022-02-24T00:37:00.813602Z"
        },
        "id": "AeCLEjwBlP9X"
      },
      "outputs": [],
      "source": [
        "df = pd.read_csv(\"../datasets/german_credit_data.csv\", index_col=0)\n",
        "\n",
        "df_model = df.select_dtypes(include=np.number)\n",
        "df_model = pd.concat([df_model, df[\"Risk\"]], axis=1)\n",
        "\n",
        "X = df_model.drop(columns=\"Risk\")\n",
        "y = df_model[\"Risk\"]\n",
        "\n",
        "X_train, X_test, y_train, y_test = train_test_split(X, y, test_size=0.2, random_state=42, stratify=y)"
      ]
    },
    {
      "cell_type": "code",
      "execution_count": null,
      "metadata": {
        "ExecuteTime": {
          "end_time": "2022-02-24T00:38:28.176727Z",
          "start_time": "2022-02-24T00:38:22.977737Z"
        },
        "id": "xOn95kd7lP9Y",
        "outputId": "c64a31f9-d6f3-4327-a85b-168bbfca77fc"
      },
      "outputs": [
        {
          "data": {
            "text/plain": [
              "<seaborn.axisgrid.PairGrid at 0x12a4152ab50>"
            ]
          },
          "execution_count": 63,
          "metadata": {},
          "output_type": "execute_result"
        },
        {
          "data": {
            "image/png": "[encoded data removed]",
            "text/plain": [
              "<Figure size 720x720 with 20 Axes>"
            ]
          },
          "metadata": {
            "needs_background": "light"
          },
          "output_type": "display_data"
        }
      ],
      "source": [
        "import seaborn as sns\n",
        "\n",
        "sns.pairplot(df_model)"
      ]
    },
    {
      "cell_type": "code",
      "execution_count": null,
      "metadata": {
        "ExecuteTime": {
          "end_time": "2022-02-24T00:37:33.384239Z",
          "start_time": "2022-02-24T00:37:32.560550Z"
        },
        "id": "2lUCUDKrlP9Y",
        "outputId": "5540fc71-7f6f-442d-dbda-04af4929eace"
      },
      "outputs": [
        {
          "name": "stdout",
          "output_type": "stream",
          "text": [
            "\n",
            "Métricas de avaliação de treino:\n",
            "[[ 57 183]\n",
            " [ 51 509]]\n"
          ]
        },
        {
          "data": {
            "image/png": "[encoded data removed]",
            "text/plain": [
              "<Figure size 432x288 with 2 Axes>"
            ]
          },
          "metadata": {
            "needs_background": "light"
          },
          "output_type": "display_data"
        },
        {
          "name": "stdout",
          "output_type": "stream",
          "text": [
            "              precision    recall  f1-score   support\n",
            "\n",
            "         bad       0.53      0.24      0.33       240\n",
            "        good       0.74      0.91      0.81       560\n",
            "\n",
            "    accuracy                           0.71       800\n",
            "   macro avg       0.63      0.57      0.57       800\n",
            "weighted avg       0.67      0.71      0.67       800\n",
            "\n",
            "\n",
            "Métricas de avaliação de teste:\n",
            "[[ 17  43]\n",
            " [ 15 125]]\n"
          ]
        },
        {
          "data": {
            "image/png": "[encoded data removed]",
            "text/plain": [
              "<Figure size 432x288 with 2 Axes>"
            ]
          },
          "metadata": {
            "needs_background": "light"
          },
          "output_type": "display_data"
        },
        {
          "name": "stdout",
          "output_type": "stream",
          "text": [
            "              precision    recall  f1-score   support\n",
            "\n",
            "         bad       0.53      0.28      0.37        60\n",
            "        good       0.74      0.89      0.81       140\n",
            "\n",
            "    accuracy                           0.71       200\n",
            "   macro avg       0.64      0.59      0.59       200\n",
            "weighted avg       0.68      0.71      0.68       200\n",
            "\n"
          ]
        }
      ],
      "source": [
        "# ============================================\n",
        "\n",
        "gnb = GaussianNB().fit(X_train, y_train)\n",
        "\n",
        "# ============================================\n",
        "\n",
        "print(\"\\nMétricas de avaliação de treino:\")\n",
        "\n",
        "y_pred_train = gnb.predict(X_train)\n",
        "\n",
        "print(confusion_matrix(y_train, y_pred_train))\n",
        "\n",
        "ConfusionMatrixDisplay.from_predictions(y_train, y_pred_train)\n",
        "plt.show()\n",
        "\n",
        "print(classification_report(y_train, y_pred_train))\n",
        "\n",
        "# ============================================\n",
        "\n",
        "print(\"\\nMétricas de avaliação de teste:\")\n",
        "\n",
        "y_pred_test = gnb.predict(X_test)\n",
        "\n",
        "print(confusion_matrix(y_test, y_pred_test))\n",
        "\n",
        "ConfusionMatrixDisplay.from_predictions(y_test, y_pred_test)\n",
        "plt.show()\n",
        "\n",
        "print(classification_report(y_test, y_pred_test))"
      ]
    },
    {
      "cell_type": "markdown",
      "metadata": {
        "id": "vOAlsO5glP9Y"
      },
      "source": [
        "Agora, com o multinomial NB..."
      ]
    },
    {
      "cell_type": "code",
      "execution_count": null,
      "metadata": {
        "ExecuteTime": {
          "end_time": "2022-02-24T00:39:54.867926Z",
          "start_time": "2022-02-24T00:39:53.646616Z"
        },
        "id": "QBzv88G7lP9Y",
        "outputId": "e08c6e54-c298-4283-d443-e9a0ad22c30a"
      },
      "outputs": [
        {
          "name": "stdout",
          "output_type": "stream",
          "text": [
            "\n",
            "Métricas de avaliação de treino:\n",
            "[[100 140]\n",
            " [154 406]]\n"
          ]
        },
        {
          "data": {
            "image/png": "[encoded data removed]",
            "text/plain": [
              "<Figure size 432x288 with 2 Axes>"
            ]
          },
          "metadata": {
            "needs_background": "light"
          },
          "output_type": "display_data"
        },
        {
          "name": "stdout",
          "output_type": "stream",
          "text": [
            "              precision    recall  f1-score   support\n",
            "\n",
            "         bad       0.39      0.42      0.40       240\n",
            "        good       0.74      0.72      0.73       560\n",
            "\n",
            "    accuracy                           0.63       800\n",
            "   macro avg       0.57      0.57      0.57       800\n",
            "weighted avg       0.64      0.63      0.64       800\n",
            "\n",
            "\n",
            "Métricas de avaliação de teste:\n",
            "[[26 34]\n",
            " [45 95]]\n"
          ]
        },
        {
          "data": {
            "image/png": "[encoded data removed]",
            "text/plain": [
              "<Figure size 432x288 with 2 Axes>"
            ]
          },
          "metadata": {
            "needs_background": "light"
          },
          "output_type": "display_data"
        },
        {
          "name": "stdout",
          "output_type": "stream",
          "text": [
            "              precision    recall  f1-score   support\n",
            "\n",
            "         bad       0.37      0.43      0.40        60\n",
            "        good       0.74      0.68      0.71       140\n",
            "\n",
            "    accuracy                           0.60       200\n",
            "   macro avg       0.55      0.56      0.55       200\n",
            "weighted avg       0.63      0.60      0.61       200\n",
            "\n"
          ]
        }
      ],
      "source": [
        "# ============================================\n",
        "\n",
        "mnb = MultinomialNB().fit(X_train, y_train)\n",
        "\n",
        "# ============================================\n",
        "\n",
        "print(\"\\nMétricas de avaliação de treino:\")\n",
        "\n",
        "y_pred_train = mnb.predict(X_train)\n",
        "\n",
        "print(confusion_matrix(y_train, y_pred_train))\n",
        "\n",
        "ConfusionMatrixDisplay.from_predictions(y_train, y_pred_train)\n",
        "plt.show()\n",
        "\n",
        "print(classification_report(y_train, y_pred_train))\n",
        "\n",
        "# ============================================\n",
        "\n",
        "print(\"\\nMétricas de avaliação de teste:\")\n",
        "\n",
        "y_pred_test = mnb.predict(X_test)\n",
        "\n",
        "print(confusion_matrix(y_test, y_pred_test))\n",
        "\n",
        "ConfusionMatrixDisplay.from_predictions(y_test, y_pred_test)\n",
        "plt.show()\n",
        "\n",
        "print(classification_report(y_test, y_pred_test))"
      ]
    },
    {
      "cell_type": "markdown",
      "metadata": {
        "id": "i0_zIXcRlP9Y"
      },
      "source": [
        "Já com o Bernoulli..."
      ]
    },
    {
      "cell_type": "code",
      "execution_count": null,
      "metadata": {
        "ExecuteTime": {
          "end_time": "2022-02-24T00:40:50.410769Z",
          "start_time": "2022-02-24T00:40:50.392783Z"
        },
        "id": "Hw0r90PPlP9Y"
      },
      "outputs": [],
      "source": [
        "from sklearn.naive_bayes import BernoulliNB"
      ]
    },
    {
      "cell_type": "code",
      "execution_count": null,
      "metadata": {
        "ExecuteTime": {
          "end_time": "2022-02-24T00:40:52.533594Z",
          "start_time": "2022-02-24T00:40:50.853721Z"
        },
        "id": "lDt9gCNslP9Y",
        "outputId": "0f1d0289-fc90-4360-8a0d-612e04c76ff6"
      },
      "outputs": [
        {
          "name": "stdout",
          "output_type": "stream",
          "text": [
            "\n",
            "Métricas de avaliação de treino:\n",
            "[[  0 240]\n",
            " [  0 560]]\n"
          ]
        },
        {
          "data": {
            "image/png": "[encoded data removed]",
            "text/plain": [
              "<Figure size 432x288 with 2 Axes>"
            ]
          },
          "metadata": {
            "needs_background": "light"
          },
          "output_type": "display_data"
        },
        {
          "name": "stderr",
          "output_type": "stream",
          "text": [
            "C:\\Users\\andre\\anaconda3\\lib\\site-packages\\sklearn\\metrics\\_classification.py:1318: UndefinedMetricWarning: Precision and F-score are ill-defined and being set to 0.0 in labels with no predicted samples. Use `zero_division` parameter to control this behavior.\n",
            "  _warn_prf(average, modifier, msg_start, len(result))\n",
            "C:\\Users\\andre\\anaconda3\\lib\\site-packages\\sklearn\\metrics\\_classification.py:1318: UndefinedMetricWarning: Precision and F-score are ill-defined and being set to 0.0 in labels with no predicted samples. Use `zero_division` parameter to control this behavior.\n",
            "  _warn_prf(average, modifier, msg_start, len(result))\n",
            "C:\\Users\\andre\\anaconda3\\lib\\site-packages\\sklearn\\metrics\\_classification.py:1318: UndefinedMetricWarning: Precision and F-score are ill-defined and being set to 0.0 in labels with no predicted samples. Use `zero_division` parameter to control this behavior.\n",
            "  _warn_prf(average, modifier, msg_start, len(result))\n"
          ]
        },
        {
          "name": "stdout",
          "output_type": "stream",
          "text": [
            "              precision    recall  f1-score   support\n",
            "\n",
            "         bad       0.00      0.00      0.00       240\n",
            "        good       0.70      1.00      0.82       560\n",
            "\n",
            "    accuracy                           0.70       800\n",
            "   macro avg       0.35      0.50      0.41       800\n",
            "weighted avg       0.49      0.70      0.58       800\n",
            "\n",
            "\n",
            "Métricas de avaliação de teste:\n",
            "[[  0  60]\n",
            " [  0 140]]\n"
          ]
        },
        {
          "data": {
            "image/png": "[encoded data removed]",
            "text/plain": [
              "<Figure size 432x288 with 2 Axes>"
            ]
          },
          "metadata": {
            "needs_background": "light"
          },
          "output_type": "display_data"
        },
        {
          "name": "stdout",
          "output_type": "stream",
          "text": [
            "              precision    recall  f1-score   support\n",
            "\n",
            "         bad       0.00      0.00      0.00        60\n",
            "        good       0.70      1.00      0.82       140\n",
            "\n",
            "    accuracy                           0.70       200\n",
            "   macro avg       0.35      0.50      0.41       200\n",
            "weighted avg       0.49      0.70      0.58       200\n",
            "\n"
          ]
        },
        {
          "name": "stderr",
          "output_type": "stream",
          "text": [
            "C:\\Users\\andre\\anaconda3\\lib\\site-packages\\sklearn\\metrics\\_classification.py:1318: UndefinedMetricWarning: Precision and F-score are ill-defined and being set to 0.0 in labels with no predicted samples. Use `zero_division` parameter to control this behavior.\n",
            "  _warn_prf(average, modifier, msg_start, len(result))\n",
            "C:\\Users\\andre\\anaconda3\\lib\\site-packages\\sklearn\\metrics\\_classification.py:1318: UndefinedMetricWarning: Precision and F-score are ill-defined and being set to 0.0 in labels with no predicted samples. Use `zero_division` parameter to control this behavior.\n",
            "  _warn_prf(average, modifier, msg_start, len(result))\n",
            "C:\\Users\\andre\\anaconda3\\lib\\site-packages\\sklearn\\metrics\\_classification.py:1318: UndefinedMetricWarning: Precision and F-score are ill-defined and being set to 0.0 in labels with no predicted samples. Use `zero_division` parameter to control this behavior.\n",
            "  _warn_prf(average, modifier, msg_start, len(result))\n"
          ]
        }
      ],
      "source": [
        "# ============================================\n",
        "\n",
        "bnb = BernoulliNB().fit(X_train, y_train)\n",
        "\n",
        "# ============================================\n",
        "\n",
        "print(\"\\nMétricas de avaliação de treino:\")\n",
        "\n",
        "y_pred_train = bnb.predict(X_train)\n",
        "\n",
        "print(confusion_matrix(y_train, y_pred_train))\n",
        "\n",
        "ConfusionMatrixDisplay.from_predictions(y_train, y_pred_train)\n",
        "plt.show()\n",
        "\n",
        "print(classification_report(y_train, y_pred_train))\n",
        "\n",
        "# ============================================\n",
        "\n",
        "print(\"\\nMétricas de avaliação de teste:\")\n",
        "\n",
        "y_pred_test = bnb.predict(X_test)\n",
        "\n",
        "print(confusion_matrix(y_test, y_pred_test))\n",
        "\n",
        "ConfusionMatrixDisplay.from_predictions(y_test, y_pred_test)\n",
        "plt.show()\n",
        "\n",
        "print(classification_report(y_test, y_pred_test))"
      ]
    },
    {
      "cell_type": "markdown",
      "metadata": {
        "id": "by_pgM3blP9Y"
      },
      "source": [
        "____\n",
        "____\n",
        "____"
      ]
    }
  ],
  "metadata": {
    "kernelspec": {
      "display_name": "Python 3",
      "language": "python",
      "name": "python3"
    },
    "language_info": {
      "codemirror_mode": {
        "name": "ipython",
        "version": 3
      },
      "file_extension": ".py",
      "mimetype": "text/x-python",
      "name": "python",
      "nbconvert_exporter": "python",
      "pygments_lexer": "ipython3",
      "version": "3.8.3"
    },
    "colab": {
      "provenance": [],
      "include_colab_link": true
    }
  },
  "nbformat": 4,
  "nbformat_minor": 0
}