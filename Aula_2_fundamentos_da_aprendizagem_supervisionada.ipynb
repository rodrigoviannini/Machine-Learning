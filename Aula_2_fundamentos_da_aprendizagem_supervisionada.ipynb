{
  "cells": [
    {
      "cell_type": "markdown",
      "metadata": {
        "id": "view-in-github",
        "colab_type": "text"
      },
      "source": [
        "<a href=\"https://colab.research.google.com/github/rodrigoviannini/Machine-Learning/blob/main/Aula_2_fundamentos_da_aprendizagem_supervisionada.ipynb\" target=\"_parent\"><img src=\"https://colab.research.google.com/assets/colab-badge.svg\" alt=\"Open In Colab\"/></a>"
      ]
    },
    {
      "cell_type": "markdown",
      "metadata": {
        "id": "h18MCqdah5BJ"
      },
      "source": [
        "# Aula 2 - Fundamentos da aprendizagem supervisionada\n",
        "\n",
        "____________"
      ]
    },
    {
      "cell_type": "markdown",
      "metadata": {
        "id": "7APaSxloh5BL"
      },
      "source": [
        "Conforme vimos anteriormente, dividimos ML em 3 grandes abordagens:\n",
        "\n",
        "<img src=\"https://i.pinimg.com/originals/67/70/5d/67705d8c7aee0c6b601c16548076e924.png\" width=600>\n",
        "\n",
        "Neste curso, trataremos sobre a aprendizagem supervisionada e não supervisionada.\n",
        "\n",
        "Inicialmente, vamos introduzir e explora a fundo a **aprendizagem supervisionada**. \n",
        "\n",
        "Após seus conceitos e técnicas estarem bem fundamentados, veremos que a aprendizagem não-supervisionada será bem facilmente compreendida, o que faremos no módulo 10."
      ]
    },
    {
      "cell_type": "markdown",
      "metadata": {
        "id": "ULarFZ_Rh5BL"
      },
      "source": [
        "Vamos apresentar a aprendizagem supervisionada segundo a seguinte figura:\n",
        "\n",
        "<img src=https://s3-sa-east-1.amazonaws.com/lcpi/dfc2968c-b9a9-43a9-a531-e24e34c2e270.png>"
      ]
    },
    {
      "cell_type": "markdown",
      "metadata": {
        "id": "LbftWvdNh5BM"
      },
      "source": [
        "Podemos resumir a informação acima no seguinte diagrama:\n",
        "\n",
        "<img src=https://s3-sa-east-1.amazonaws.com/lcpi/70da0385-e3fc-4fda-ba15-0004cc3b68ae.PNG>"
      ]
    },
    {
      "cell_type": "markdown",
      "metadata": {
        "id": "zOsqYcJnh5BM"
      },
      "source": [
        "Esquematicamente, vamos dividir cada \"passada no ciclo\" de modelagem em dois grandes passos:"
      ]
    },
    {
      "cell_type": "markdown",
      "metadata": {
        "id": "B76XGyv6h5BM"
      },
      "source": [
        "## Passo 1: construção do modelo\n",
        "\n",
        "<img src=https://s3-sa-east-1.amazonaws.com/lcpi/23769bcb-a364-4d7b-a68f-04b3dfcde684.png>"
      ]
    },
    {
      "cell_type": "markdown",
      "metadata": {
        "id": "X7HtxAf7h5BM"
      },
      "source": [
        "## Passo 2: avaliação do modelo\n",
        "\n",
        "<img src=https://s3-sa-east-1.amazonaws.com/lcpi/8de84cf0-adb1-4203-921c-bc8dec07df55.png>"
      ]
    },
    {
      "cell_type": "markdown",
      "metadata": {
        "id": "kZbcjfvzh5BM"
      },
      "source": [
        "Agora que temos estas noções claras, vamos concretizar, nas próximas aulas, as etapas do ciclo de modelagem (passos de 1) a 7)):\n",
        "\n",
        "- 0) Conhecer os dados com os quais estamos trabalhando --- fazer todo o processo de EDA, etc., etc.\n",
        "\n",
        "\n",
        "- 1) Importar a **classe do estimador que se deseja treinar** - escolher a hipótese!\n",
        "    - Usaremos a biblioteca [scikit-learn](https://scikit-learn.org/stable/)\n",
        "  \n",
        "  \n",
        "- 2) Instanciar a classe do estimador, **escolhendo os hiperparâmetros desejados**\n",
        "    - Para a primeira versão do modelo, pode ser uma boa escolha utilizar os parâmetros default;\n",
        "    - Veremos mais pra frente como escolher os hiperparâmetros adequadamente;\n",
        "   \n",
        "   \n",
        "- 3) Separe os dados em **dados de treino** e **dados de teste**.\n",
        "    - Em alguns casos, pode ser interessante criar também um conjunto de **dados de validação**\n",
        "    - Para fazer a separação, usamos o [train-test split](https://scikit-learn.org/stable/modules/generated/sklearn.model_selection.train_test_split.html)\n",
        "    \n",
        "    \n",
        "- 4) Treine o modelo, usando **os dados de treino**\n",
        "\n",
        "\n",
        "- 5) Use o modelo treinado para **fazer previsões** usando os **dados de teste** (ou **de validação**)\n",
        "\n",
        "\n",
        "- 6) **Avalie a performance do modelo com base nas previsões acima**\n",
        "\n",
        "\n",
        "- 7) Se necessário, reinicie o ciclo!\n",
        "\n",
        "\n",
        "- 8) Quando o modelo estiver suficientemente bom, faça o **deploy**"
      ]
    }
  ],
  "metadata": {
    "kernelspec": {
      "display_name": "Python 3",
      "language": "python",
      "name": "python3"
    },
    "language_info": {
      "codemirror_mode": {
        "name": "ipython",
        "version": 3
      },
      "file_extension": ".py",
      "mimetype": "text/x-python",
      "name": "python",
      "nbconvert_exporter": "python",
      "pygments_lexer": "ipython3",
      "version": "3.8.3"
    },
    "colab": {
      "provenance": [],
      "include_colab_link": true
    }
  },
  "nbformat": 4,
  "nbformat_minor": 0
}