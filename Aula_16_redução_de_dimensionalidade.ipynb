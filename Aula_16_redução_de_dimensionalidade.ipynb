{
  "cells": [
    {
      "cell_type": "markdown",
      "metadata": {
        "id": "view-in-github",
        "colab_type": "text"
      },
      "source": [
        "<a href=\"https://colab.research.google.com/github/rodrigoviannini/Machine-Learning/blob/main/Aula_16_redu%C3%A7%C3%A3o_de_dimensionalidade.ipynb\" target=\"_parent\"><img src=\"https://colab.research.google.com/assets/colab-badge.svg\" alt=\"Open In Colab\"/></a>"
      ]
    },
    {
      "cell_type": "markdown",
      "metadata": {
        "id": "o9lAHj-lmPIq"
      },
      "source": [
        "# Aula 16 - redução de dimensionalidade\n",
        "\n",
        "Na aula de hoje, vamos explorar os seguintes tópicos em Python:\n",
        "\n",
        "- 1) PCA\n",
        "- 2) PCA na Pipeline\n",
        "- 3) A matemática do PCA\n"
      ]
    },
    {
      "cell_type": "code",
      "execution_count": null,
      "metadata": {
        "ExecuteTime": {
          "end_time": "2022-03-09T21:48:09.888683Z",
          "start_time": "2022-03-09T21:47:34.719833Z"
        },
        "id": "Ji2ThDlHmPIs"
      },
      "outputs": [],
      "source": [
        "import numpy  as np\n",
        "import pandas as pd \n",
        "\n",
        "import matplotlib.pyplot as plt\n",
        "import seaborn as sns"
      ]
    },
    {
      "cell_type": "markdown",
      "metadata": {
        "id": "Z0vFgfwWmPIt"
      },
      "source": [
        "____\n",
        "____\n",
        "_____"
      ]
    },
    {
      "cell_type": "markdown",
      "metadata": {
        "id": "J8UKgLaAmPIt"
      },
      "source": [
        "## 1) PCA\n",
        "\n",
        "PCA (principal component analysis) é uma técnica **não supervisionada** que determina **as direções de máxima variância** no espaço de features, de modo que **as direções são ortogonais entre si**.\n",
        "\n",
        "Ou seja,\n",
        "\n",
        "> A primeira componente principal é a direção que maximiza a variáncia dos dados projetados em sua direção; A segunda componente principal é uma direção ortogonal à primeira que também maximiza a variância nesta direção, e assim sucessivamente.\n",
        "\n",
        "<img src=https://austingwalters.com/wp-content/uploads/2014/11/gaussDist-labeled.png width=400>"
      ]
    },
    {
      "cell_type": "markdown",
      "metadata": {
        "id": "DvargYshmPIu"
      },
      "source": [
        "É importante lembrar que:\n",
        "\n",
        "- Se o espaço original tem $n$ features, é possível construir $n$ componentes principais;<br><br>\n",
        "- Cada componente principal é uma **combinação linear das features originais**;<br><br>\n",
        "- As componentes principais são ortogonais entre si;<br><br>\n",
        "- As componentes principais são linearmente descorrelacionadas;<br>"
      ]
    },
    {
      "cell_type": "markdown",
      "metadata": {
        "id": "Ww6_M-NdmPIu"
      },
      "source": [
        "É muito comum que PCA seja utilizada como uma técnica de **redução de dimensionalidade**, isto porque, **no espaço transformado de componentes principais**, é comum que grande parte da variância completa dos dados esteja contida nas $L$ primeiras componentes principais ($L < n$).\n",
        "\n",
        "Sendo assim, ao invés de utilizar o espaço de features completo (de dimensão $n$) para a construção de modelos, podemos utilizar apenas $L$ dimensões **do espaço de features de componentes principais**, reduzindo, assim, a dimensionalidade do espaço de features efetivo em que os estimadores irão trabalhar.\n",
        "\n",
        "Os objetivos desta redução podem ser:\n",
        "\n",
        "- Evitar a maldição da dimensionalidade;\n",
        "- Treinar modelos mais rápido (de maneira mais eficiente), afinal, há menos dados;\n",
        "- Fornecer dados sem qualquer colinearidade (há estimadores que assumem não-colinearidade!)"
      ]
    },
    {
      "cell_type": "markdown",
      "metadata": {
        "id": "RBdduF6BmPIu"
      },
      "source": [
        "### 1.1) O que é cada PC?\n",
        "\n",
        "Como dissemos acima, cada componente principal é uma **combinação linear das features originais**.\n",
        "\n",
        "Nesse sentido, podemos enxergar o PCA como um método que constrói um novo espaço de features, de mesma dimensão que o espaço original:\n",
        "\n",
        "<img src=https://miro.medium.com/max/1200/1*V3JWBvxB92Uo116Bpxa3Tw.png width=700>\n",
        "\n",
        "O ponto é que o espaço de features construído pelo PCA é muito particular: as novas features são ortogonais entre si, e tais que maximizam a variância dos dados em cada sub-espaço de projeção, como dissemos acima.\n",
        "\n",
        "Assim, na prática, seja um espaço de input $\\mathcal{X}$ de $n$ dimensões, tal que cada vetor de features $\\vec{x} \\in \\mathcal{X}$ é dado por:\n",
        "\n",
        "$ \\vec{x} = \\left ( x_1, x_2, x_3, \\cdots , x_n \\right) $\n",
        "\n",
        "Após a aplicação do PCA, estaremos no espaço de componentes principais, tal que um vetor de features neste espaço, $\\vec{x}_{PC}$, será dado por:\n",
        "\n",
        "$ \\vec{x}_{PC} = \\left ( PC_1, PC_2, PC_3, \\cdots , PC_n \\right) $\n",
        "\n",
        "Onde cada componente principal é uma combinação linear das features originais, isto é, \n",
        "\n",
        "$ PC_i = \\sum_{k=1}^n \\alpha_{i, k} x_k = \\alpha_{i, 1} x_1 +  \\alpha_{i, 2} x_2 + \\cdots +  \\alpha_{i, n} x_n$\n",
        "\n",
        "Note que cada componente principal $i$ tem $n$ coeficientes diferentes $\\alpha_{i, k}$, que acompanham cada uma das features $k$ do espaço original.\n",
        "\n",
        "Para entender melhor, vamos tomar um dataset bem simples!"
      ]
    },
    {
      "cell_type": "code",
      "execution_count": null,
      "metadata": {
        "ExecuteTime": {
          "end_time": "2022-03-09T21:48:10.294631Z",
          "start_time": "2022-03-09T21:48:09.891160Z"
        },
        "id": "6jc2w3EvmPIu"
      },
      "outputs": [],
      "source": [
        "df = pd.read_csv(\"../datasets/iris.csv\")"
      ]
    },
    {
      "cell_type": "code",
      "execution_count": null,
      "metadata": {
        "ExecuteTime": {
          "end_time": "2022-03-09T21:48:10.436428Z",
          "start_time": "2022-03-09T21:48:10.298628Z"
        },
        "id": "nzAhI73lmPIv",
        "outputId": "b19722b2-59a8-44a0-d5f6-210ce711c339"
      },
      "outputs": [
        {
          "data": {
            "text/html": [
              "<div>\n",
              "<style scoped>\n",
              "    .dataframe tbody tr th:only-of-type {\n",
              "        vertical-align: middle;\n",
              "    }\n",
              "\n",
              "    .dataframe tbody tr th {\n",
              "        vertical-align: top;\n",
              "    }\n",
              "\n",
              "    .dataframe thead th {\n",
              "        text-align: right;\n",
              "    }\n",
              "</style>\n",
              "<table border=\"1\" class=\"dataframe\">\n",
              "  <thead>\n",
              "    <tr style=\"text-align: right;\">\n",
              "      <th></th>\n",
              "      <th>sepal_length</th>\n",
              "      <th>sepal_width</th>\n",
              "      <th>petal_length</th>\n",
              "      <th>petal_width</th>\n",
              "      <th>species</th>\n",
              "    </tr>\n",
              "  </thead>\n",
              "  <tbody>\n",
              "    <tr>\n",
              "      <th>0</th>\n",
              "      <td>5.1</td>\n",
              "      <td>3.5</td>\n",
              "      <td>1.4</td>\n",
              "      <td>0.2</td>\n",
              "      <td>setosa</td>\n",
              "    </tr>\n",
              "    <tr>\n",
              "      <th>1</th>\n",
              "      <td>4.9</td>\n",
              "      <td>3.0</td>\n",
              "      <td>1.4</td>\n",
              "      <td>0.2</td>\n",
              "      <td>setosa</td>\n",
              "    </tr>\n",
              "    <tr>\n",
              "      <th>2</th>\n",
              "      <td>4.7</td>\n",
              "      <td>3.2</td>\n",
              "      <td>1.3</td>\n",
              "      <td>0.2</td>\n",
              "      <td>setosa</td>\n",
              "    </tr>\n",
              "    <tr>\n",
              "      <th>3</th>\n",
              "      <td>4.6</td>\n",
              "      <td>3.1</td>\n",
              "      <td>1.5</td>\n",
              "      <td>0.2</td>\n",
              "      <td>setosa</td>\n",
              "    </tr>\n",
              "    <tr>\n",
              "      <th>4</th>\n",
              "      <td>5.0</td>\n",
              "      <td>3.6</td>\n",
              "      <td>1.4</td>\n",
              "      <td>0.2</td>\n",
              "      <td>setosa</td>\n",
              "    </tr>\n",
              "    <tr>\n",
              "      <th>...</th>\n",
              "      <td>...</td>\n",
              "      <td>...</td>\n",
              "      <td>...</td>\n",
              "      <td>...</td>\n",
              "      <td>...</td>\n",
              "    </tr>\n",
              "    <tr>\n",
              "      <th>145</th>\n",
              "      <td>6.7</td>\n",
              "      <td>3.0</td>\n",
              "      <td>5.2</td>\n",
              "      <td>2.3</td>\n",
              "      <td>virginica</td>\n",
              "    </tr>\n",
              "    <tr>\n",
              "      <th>146</th>\n",
              "      <td>6.3</td>\n",
              "      <td>2.5</td>\n",
              "      <td>5.0</td>\n",
              "      <td>1.9</td>\n",
              "      <td>virginica</td>\n",
              "    </tr>\n",
              "    <tr>\n",
              "      <th>147</th>\n",
              "      <td>6.5</td>\n",
              "      <td>3.0</td>\n",
              "      <td>5.2</td>\n",
              "      <td>2.0</td>\n",
              "      <td>virginica</td>\n",
              "    </tr>\n",
              "    <tr>\n",
              "      <th>148</th>\n",
              "      <td>6.2</td>\n",
              "      <td>3.4</td>\n",
              "      <td>5.4</td>\n",
              "      <td>2.3</td>\n",
              "      <td>virginica</td>\n",
              "    </tr>\n",
              "    <tr>\n",
              "      <th>149</th>\n",
              "      <td>5.9</td>\n",
              "      <td>3.0</td>\n",
              "      <td>5.1</td>\n",
              "      <td>1.8</td>\n",
              "      <td>virginica</td>\n",
              "    </tr>\n",
              "  </tbody>\n",
              "</table>\n",
              "<p>150 rows × 5 columns</p>\n",
              "</div>"
            ],
            "text/plain": [
              "     sepal_length  sepal_width  petal_length  petal_width    species\n",
              "0             5.1          3.5           1.4          0.2     setosa\n",
              "1             4.9          3.0           1.4          0.2     setosa\n",
              "2             4.7          3.2           1.3          0.2     setosa\n",
              "3             4.6          3.1           1.5          0.2     setosa\n",
              "4             5.0          3.6           1.4          0.2     setosa\n",
              "..            ...          ...           ...          ...        ...\n",
              "145           6.7          3.0           5.2          2.3  virginica\n",
              "146           6.3          2.5           5.0          1.9  virginica\n",
              "147           6.5          3.0           5.2          2.0  virginica\n",
              "148           6.2          3.4           5.4          2.3  virginica\n",
              "149           5.9          3.0           5.1          1.8  virginica\n",
              "\n",
              "[150 rows x 5 columns]"
            ]
          },
          "execution_count": 3,
          "metadata": {},
          "output_type": "execute_result"
        }
      ],
      "source": [
        "df"
      ]
    },
    {
      "cell_type": "code",
      "execution_count": null,
      "metadata": {
        "ExecuteTime": {
          "end_time": "2022-03-09T21:48:10.578058Z",
          "start_time": "2022-03-09T21:48:10.439427Z"
        },
        "id": "Ak4geyFjmPIv"
      },
      "outputs": [],
      "source": [
        "X = df.drop(columns=\"species\")\n",
        "y = df[\"species\"]"
      ]
    },
    {
      "cell_type": "code",
      "execution_count": null,
      "metadata": {
        "ExecuteTime": {
          "end_time": "2022-03-09T21:48:13.962509Z",
          "start_time": "2022-03-09T21:48:10.581077Z"
        },
        "id": "SGMYUiN9mPIv"
      },
      "outputs": [],
      "source": [
        "from sklearn.model_selection import train_test_split\n",
        "\n",
        "X_train, X_test, y_train, y_test = train_test_split(X, y, test_size=0.2, \n",
        "                                                    random_state=42, stratify=y)"
      ]
    },
    {
      "cell_type": "code",
      "execution_count": null,
      "metadata": {
        "ExecuteTime": {
          "end_time": "2022-03-09T21:48:13.994512Z",
          "start_time": "2022-03-09T21:48:13.965508Z"
        },
        "id": "YJ1fQj3UmPIv",
        "outputId": "46748a24-828f-4885-e784-6d5e3e8ced37"
      },
      "outputs": [
        {
          "data": {
            "text/html": [
              "<div>\n",
              "<style scoped>\n",
              "    .dataframe tbody tr th:only-of-type {\n",
              "        vertical-align: middle;\n",
              "    }\n",
              "\n",
              "    .dataframe tbody tr th {\n",
              "        vertical-align: top;\n",
              "    }\n",
              "\n",
              "    .dataframe thead th {\n",
              "        text-align: right;\n",
              "    }\n",
              "</style>\n",
              "<table border=\"1\" class=\"dataframe\">\n",
              "  <thead>\n",
              "    <tr style=\"text-align: right;\">\n",
              "      <th></th>\n",
              "      <th>sepal_length</th>\n",
              "      <th>sepal_width</th>\n",
              "      <th>petal_length</th>\n",
              "      <th>petal_width</th>\n",
              "    </tr>\n",
              "  </thead>\n",
              "  <tbody>\n",
              "    <tr>\n",
              "      <th>8</th>\n",
              "      <td>4.4</td>\n",
              "      <td>2.9</td>\n",
              "      <td>1.4</td>\n",
              "      <td>0.2</td>\n",
              "    </tr>\n",
              "    <tr>\n",
              "      <th>106</th>\n",
              "      <td>4.9</td>\n",
              "      <td>2.5</td>\n",
              "      <td>4.5</td>\n",
              "      <td>1.7</td>\n",
              "    </tr>\n",
              "    <tr>\n",
              "      <th>76</th>\n",
              "      <td>6.8</td>\n",
              "      <td>2.8</td>\n",
              "      <td>4.8</td>\n",
              "      <td>1.4</td>\n",
              "    </tr>\n",
              "    <tr>\n",
              "      <th>9</th>\n",
              "      <td>4.9</td>\n",
              "      <td>3.1</td>\n",
              "      <td>1.5</td>\n",
              "      <td>0.1</td>\n",
              "    </tr>\n",
              "    <tr>\n",
              "      <th>89</th>\n",
              "      <td>5.5</td>\n",
              "      <td>2.5</td>\n",
              "      <td>4.0</td>\n",
              "      <td>1.3</td>\n",
              "    </tr>\n",
              "    <tr>\n",
              "      <th>...</th>\n",
              "      <td>...</td>\n",
              "      <td>...</td>\n",
              "      <td>...</td>\n",
              "      <td>...</td>\n",
              "    </tr>\n",
              "    <tr>\n",
              "      <th>37</th>\n",
              "      <td>4.9</td>\n",
              "      <td>3.6</td>\n",
              "      <td>1.4</td>\n",
              "      <td>0.1</td>\n",
              "    </tr>\n",
              "    <tr>\n",
              "      <th>2</th>\n",
              "      <td>4.7</td>\n",
              "      <td>3.2</td>\n",
              "      <td>1.3</td>\n",
              "      <td>0.2</td>\n",
              "    </tr>\n",
              "    <tr>\n",
              "      <th>33</th>\n",
              "      <td>5.5</td>\n",
              "      <td>4.2</td>\n",
              "      <td>1.4</td>\n",
              "      <td>0.2</td>\n",
              "    </tr>\n",
              "    <tr>\n",
              "      <th>52</th>\n",
              "      <td>6.9</td>\n",
              "      <td>3.1</td>\n",
              "      <td>4.9</td>\n",
              "      <td>1.5</td>\n",
              "    </tr>\n",
              "    <tr>\n",
              "      <th>3</th>\n",
              "      <td>4.6</td>\n",
              "      <td>3.1</td>\n",
              "      <td>1.5</td>\n",
              "      <td>0.2</td>\n",
              "    </tr>\n",
              "  </tbody>\n",
              "</table>\n",
              "<p>120 rows × 4 columns</p>\n",
              "</div>"
            ],
            "text/plain": [
              "     sepal_length  sepal_width  petal_length  petal_width\n",
              "8             4.4          2.9           1.4          0.2\n",
              "106           4.9          2.5           4.5          1.7\n",
              "76            6.8          2.8           4.8          1.4\n",
              "9             4.9          3.1           1.5          0.1\n",
              "89            5.5          2.5           4.0          1.3\n",
              "..            ...          ...           ...          ...\n",
              "37            4.9          3.6           1.4          0.1\n",
              "2             4.7          3.2           1.3          0.2\n",
              "33            5.5          4.2           1.4          0.2\n",
              "52            6.9          3.1           4.9          1.5\n",
              "3             4.6          3.1           1.5          0.2\n",
              "\n",
              "[120 rows x 4 columns]"
            ]
          },
          "execution_count": 6,
          "metadata": {},
          "output_type": "execute_result"
        }
      ],
      "source": [
        "X_train"
      ]
    },
    {
      "cell_type": "markdown",
      "metadata": {
        "id": "sOMhiPLMmPIw"
      },
      "source": [
        "No caso do dataset iris, temos 4 features, de modo que o espaço original tem 4 dimensões, e um vetor de features é:\n",
        "\n",
        "$ \\vec{x} = (x_1, x_2, x_3, x_4)$.\n",
        "\n",
        "Sendo que:\n",
        "\n",
        "- $x_1$ : 'sepal_length', \n",
        "- $x_2$ : 'sepal_width', \n",
        "- $x_3$ : 'petal_length', \n",
        "- $x_4$ : 'petal_width'."
      ]
    },
    {
      "cell_type": "markdown",
      "metadata": {
        "id": "MmZ11OhzmPIw"
      },
      "source": [
        "Assim, esperamos que após o PCA, o espaço de componentes principais também tenha 4 dimensões, isto é, \n",
        "\n",
        "$ \\vec{x}_{PC} = \\left ( PC_1, PC_2, PC_3, PC_4 \\right) $\n",
        "\n",
        "E as componentes principais serão: \n",
        "\n",
        "$ PC_1 = \\alpha_{1, 1} x_1 + \\alpha_{1, 2} x_2 + \\alpha_{1, 3} x_3 + \\alpha_{1, 4} x_4$\n",
        "\n",
        "$ PC_2 = \\alpha_{2, 1} x_1 + \\alpha_{2, 2} x_2 + \\alpha_{2, 3} x_3 + \\alpha_{2, 4} x_4$\n",
        "\n",
        "$ PC_3 = \\alpha_{3, 1} x_1 + \\alpha_{3, 2} x_2 + \\alpha_{3, 3} x_3 + \\alpha_{3, 4} x_4$\n",
        "\n",
        "$ PC_4 = \\alpha_{4, 1} x_1 + \\alpha_{4, 2} x_2 + \\alpha_{4, 3} x_3 + \\alpha_{4, 4} x_4$"
      ]
    },
    {
      "cell_type": "markdown",
      "metadata": {
        "id": "hZf47ie6mPIw"
      },
      "source": [
        "Vamos agora aplicar o PCA para calcular as componentes principais!"
      ]
    },
    {
      "cell_type": "markdown",
      "metadata": {
        "id": "wWcrd-nqmPIw"
      },
      "source": [
        "Mas antes, um ponto muito importante: **devemos escalar as features originais com o StandardScaler antes de aplicarmos o PCA**!\n",
        "\n",
        "Isso porque o método matemático recebe dados com média 0 e desvio padrão 1!"
      ]
    },
    {
      "cell_type": "code",
      "execution_count": null,
      "metadata": {
        "ExecuteTime": {
          "end_time": "2022-03-09T21:48:14.232038Z",
          "start_time": "2022-03-09T21:48:13.998491Z"
        },
        "id": "SM7lFaKumPIw",
        "outputId": "7cb7567f-13d5-4443-d112-4dcb3f130d35"
      },
      "outputs": [
        {
          "data": {
            "text/html": [
              "<div>\n",
              "<style scoped>\n",
              "    .dataframe tbody tr th:only-of-type {\n",
              "        vertical-align: middle;\n",
              "    }\n",
              "\n",
              "    .dataframe tbody tr th {\n",
              "        vertical-align: top;\n",
              "    }\n",
              "\n",
              "    .dataframe thead th {\n",
              "        text-align: right;\n",
              "    }\n",
              "</style>\n",
              "<table border=\"1\" class=\"dataframe\">\n",
              "  <thead>\n",
              "    <tr style=\"text-align: right;\">\n",
              "      <th></th>\n",
              "      <th>sepal_length</th>\n",
              "      <th>sepal_width</th>\n",
              "      <th>petal_length</th>\n",
              "      <th>petal_width</th>\n",
              "    </tr>\n",
              "  </thead>\n",
              "  <tbody>\n",
              "    <tr>\n",
              "      <th>0</th>\n",
              "      <td>-1.721568</td>\n",
              "      <td>-0.332101</td>\n",
              "      <td>-1.345722</td>\n",
              "      <td>-1.323276</td>\n",
              "    </tr>\n",
              "    <tr>\n",
              "      <th>1</th>\n",
              "      <td>-1.124492</td>\n",
              "      <td>-1.227655</td>\n",
              "      <td>0.414505</td>\n",
              "      <td>0.651763</td>\n",
              "    </tr>\n",
              "    <tr>\n",
              "      <th>2</th>\n",
              "      <td>1.144395</td>\n",
              "      <td>-0.555990</td>\n",
              "      <td>0.584850</td>\n",
              "      <td>0.256755</td>\n",
              "    </tr>\n",
              "    <tr>\n",
              "      <th>3</th>\n",
              "      <td>-1.124492</td>\n",
              "      <td>0.115676</td>\n",
              "      <td>-1.288941</td>\n",
              "      <td>-1.454945</td>\n",
              "    </tr>\n",
              "    <tr>\n",
              "      <th>4</th>\n",
              "      <td>-0.408002</td>\n",
              "      <td>-1.227655</td>\n",
              "      <td>0.130598</td>\n",
              "      <td>0.125086</td>\n",
              "    </tr>\n",
              "    <tr>\n",
              "      <th>...</th>\n",
              "      <td>...</td>\n",
              "      <td>...</td>\n",
              "      <td>...</td>\n",
              "      <td>...</td>\n",
              "    </tr>\n",
              "    <tr>\n",
              "      <th>115</th>\n",
              "      <td>-1.124492</td>\n",
              "      <td>1.235118</td>\n",
              "      <td>-1.345722</td>\n",
              "      <td>-1.454945</td>\n",
              "    </tr>\n",
              "    <tr>\n",
              "      <th>116</th>\n",
              "      <td>-1.363322</td>\n",
              "      <td>0.339564</td>\n",
              "      <td>-1.402504</td>\n",
              "      <td>-1.323276</td>\n",
              "    </tr>\n",
              "    <tr>\n",
              "      <th>117</th>\n",
              "      <td>-0.408002</td>\n",
              "      <td>2.578448</td>\n",
              "      <td>-1.345722</td>\n",
              "      <td>-1.323276</td>\n",
              "    </tr>\n",
              "    <tr>\n",
              "      <th>118</th>\n",
              "      <td>1.263810</td>\n",
              "      <td>0.115676</td>\n",
              "      <td>0.641631</td>\n",
              "      <td>0.388424</td>\n",
              "    </tr>\n",
              "    <tr>\n",
              "      <th>119</th>\n",
              "      <td>-1.482738</td>\n",
              "      <td>0.115676</td>\n",
              "      <td>-1.288941</td>\n",
              "      <td>-1.323276</td>\n",
              "    </tr>\n",
              "  </tbody>\n",
              "</table>\n",
              "<p>120 rows × 4 columns</p>\n",
              "</div>"
            ],
            "text/plain": [
              "     sepal_length  sepal_width  petal_length  petal_width\n",
              "0       -1.721568    -0.332101     -1.345722    -1.323276\n",
              "1       -1.124492    -1.227655      0.414505     0.651763\n",
              "2        1.144395    -0.555990      0.584850     0.256755\n",
              "3       -1.124492     0.115676     -1.288941    -1.454945\n",
              "4       -0.408002    -1.227655      0.130598     0.125086\n",
              "..            ...          ...           ...          ...\n",
              "115     -1.124492     1.235118     -1.345722    -1.454945\n",
              "116     -1.363322     0.339564     -1.402504    -1.323276\n",
              "117     -0.408002     2.578448     -1.345722    -1.323276\n",
              "118      1.263810     0.115676      0.641631     0.388424\n",
              "119     -1.482738     0.115676     -1.288941    -1.323276\n",
              "\n",
              "[120 rows x 4 columns]"
            ]
          },
          "execution_count": 7,
          "metadata": {},
          "output_type": "execute_result"
        }
      ],
      "source": [
        "from sklearn.preprocessing import StandardScaler\n",
        "\n",
        "ss = StandardScaler().fit(X_train)\n",
        "\n",
        "X_train_ss = pd.DataFrame(ss.transform(X_train), columns=X_train.columns)\n",
        "\n",
        "X_train_ss"
      ]
    },
    {
      "cell_type": "markdown",
      "metadata": {
        "id": "8jzQHA-VmPIw"
      },
      "source": [
        "Agora sim!"
      ]
    },
    {
      "cell_type": "code",
      "execution_count": null,
      "metadata": {
        "ExecuteTime": {
          "end_time": "2022-03-09T21:48:16.668891Z",
          "start_time": "2022-03-09T21:48:14.237032Z"
        },
        "id": "05rfsWZLmPIx"
      },
      "outputs": [],
      "source": [
        "from sklearn.decomposition import PCA\n",
        "\n",
        "pca = PCA(random_state=42).fit(X_train_ss)"
      ]
    },
    {
      "cell_type": "markdown",
      "metadata": {
        "id": "8TP6W7ebmPIx"
      },
      "source": [
        "Com o PCA fitado, temos alguns atributos importantes!"
      ]
    },
    {
      "cell_type": "code",
      "execution_count": null,
      "metadata": {
        "ExecuteTime": {
          "end_time": "2022-03-09T21:48:16.683887Z",
          "start_time": "2022-03-09T21:48:16.671894Z"
        },
        "id": "i5ERRk1nmPIx",
        "outputId": "5651aa77-2219-4a90-e147-eee9afc1905f"
      },
      "outputs": [
        {
          "data": {
            "text/plain": [
              "array(['sepal_length', 'sepal_width', 'petal_length', 'petal_width'],\n",
              "      dtype=object)"
            ]
          },
          "execution_count": 9,
          "metadata": {},
          "output_type": "execute_result"
        }
      ],
      "source": [
        "pca.feature_names_in_"
      ]
    },
    {
      "cell_type": "code",
      "execution_count": null,
      "metadata": {
        "ExecuteTime": {
          "end_time": "2022-03-09T21:48:16.889339Z",
          "start_time": "2022-03-09T21:48:16.686885Z"
        },
        "id": "GqJGprN3mPIx",
        "outputId": "df6456c4-6ac7-473f-a9fd-35e69cd5df53"
      },
      "outputs": [
        {
          "data": {
            "text/plain": [
              "array([[ 0.52679335, -0.25307206,  0.58186918,  0.56557189],\n",
              "       [ 0.34813945,  0.93470791,  0.02689438,  0.06630793],\n",
              "       [-0.72745724,  0.22196252,  0.1386138 ,  0.6342908 ],\n",
              "       [ 0.26850263, -0.11405393, -0.80093144,  0.52288323]])"
            ]
          },
          "execution_count": 10,
          "metadata": {},
          "output_type": "execute_result"
        }
      ],
      "source": [
        "pca.components_"
      ]
    },
    {
      "cell_type": "code",
      "execution_count": null,
      "metadata": {
        "ExecuteTime": {
          "end_time": "2022-03-09T21:48:16.997238Z",
          "start_time": "2022-03-09T21:48:16.892318Z"
        },
        "id": "qloaLGelmPIx",
        "outputId": "77e49a65-f0e2-4bde-854a-0b6f2818302c"
      },
      "outputs": [
        {
          "data": {
            "text/plain": [
              "4"
            ]
          },
          "execution_count": 11,
          "metadata": {},
          "output_type": "execute_result"
        }
      ],
      "source": [
        "pca.n_components_"
      ]
    },
    {
      "cell_type": "markdown",
      "metadata": {
        "id": "rGGPf1U6mPIx"
      },
      "source": [
        "O atributo `components_` dá exatamente os coeficientes $\\alpha_{i, k}$ que determinan as combinações lineares de cada componente principal!"
      ]
    },
    {
      "cell_type": "code",
      "execution_count": null,
      "metadata": {
        "ExecuteTime": {
          "end_time": "2022-03-09T21:48:17.107902Z",
          "start_time": "2022-03-09T21:48:16.999160Z"
        },
        "id": "SuIraZt4mPIx",
        "outputId": "7b4f5606-5aa6-4cca-8347-394a5cdd8bd7"
      },
      "outputs": [
        {
          "name": "stdout",
          "output_type": "stream",
          "text": [
            "PC_1 = (0.527)*x_1 + (-0.253)*x_2 + (0.582)*x_3 + (0.566)*x_4\n",
            "\n",
            "PC_2 = (0.348)*x_1 + (0.935)*x_2 + (0.027)*x_3 + (0.066)*x_4\n",
            "\n",
            "PC_3 = (-0.727)*x_1 + (0.222)*x_2 + (0.139)*x_3 + (0.634)*x_4\n",
            "\n",
            "PC_4 = (0.269)*x_1 + (-0.114)*x_2 + (-0.801)*x_3 + (0.523)*x_4\n",
            "\n"
          ]
        }
      ],
      "source": [
        "for j in range(pca.n_components_):\n",
        "    \n",
        "    string = (f'PC_{j+1} = ' \n",
        "              + \n",
        "              \" + \".join([f\"({alpha:.3f})*x_{i+1}\" for i, alpha in enumerate(pca.components_[j])])\n",
        "              +\n",
        "              \"\\n\")\n",
        "    \n",
        "    print(string)"
      ]
    },
    {
      "cell_type": "markdown",
      "metadata": {
        "id": "IMoYBVummPIy"
      },
      "source": [
        "Ou seja,\n",
        "\n",
        "$PC_1 = 0.527x_1 -0.253x_2 + 0.582x_3 + 0.566x_4$\n",
        "\n",
        "$PC_2 = 0.348x_1 + 0.935x_2 + 0.027x_3 + 0.066x_4$\n",
        "\n",
        "$PC_3 = -0.727x_1 + 0.222x_2 + 0.139x_3 + 0.634x_4$\n",
        "\n",
        "$PC_4 = 0.269x_1 -0.114x_2 -0.801x_3 + 0.523x_4$"
      ]
    },
    {
      "cell_type": "markdown",
      "metadata": {
        "id": "Dqccem5JmPIy"
      },
      "source": [
        "Lembrando que:\n",
        "\n",
        "- $x_1$ : 'sepal_length', \n",
        "- $x_2$ : 'sepal_width', \n",
        "- $x_3$ : 'petal_length', \n",
        "- $x_4$ : 'petal_width'."
      ]
    },
    {
      "cell_type": "markdown",
      "metadata": {
        "id": "XYzpKMYMmPIy"
      },
      "source": [
        "Há alguns outros atributos muito importantes:"
      ]
    },
    {
      "cell_type": "code",
      "execution_count": null,
      "metadata": {
        "ExecuteTime": {
          "end_time": "2022-03-09T22:16:54.152256Z",
          "start_time": "2022-03-09T22:16:54.132268Z"
        },
        "id": "UObWes-XmPIy",
        "outputId": "3843b1a1-2d0f-41a1-e3da-70cf1ea044f7"
      },
      "outputs": [
        {
          "data": {
            "text/plain": [
              "4.016771562027472"
            ]
          },
          "execution_count": 18,
          "metadata": {},
          "output_type": "execute_result"
        }
      ],
      "source": [
        "X_train_ss.std().sum()"
      ]
    },
    {
      "cell_type": "code",
      "execution_count": null,
      "metadata": {
        "ExecuteTime": {
          "end_time": "2022-03-09T22:15:24.307069Z",
          "start_time": "2022-03-09T22:15:24.288084Z"
        },
        "id": "-SP8qycUmPIy",
        "outputId": "cba42d17-8e36-400d-b89f-8c7a500edec1"
      },
      "outputs": [
        {
          "data": {
            "text/plain": [
              "array([2.93151868, 0.93042018, 0.15254729, 0.01912729])"
            ]
          },
          "execution_count": 13,
          "metadata": {},
          "output_type": "execute_result"
        }
      ],
      "source": [
        "pca.explained_variance_"
      ]
    },
    {
      "cell_type": "code",
      "execution_count": null,
      "metadata": {
        "ExecuteTime": {
          "end_time": "2022-03-09T22:20:48.645257Z",
          "start_time": "2022-03-09T22:20:48.628264Z"
        },
        "id": "w-tgTla7mPIy",
        "outputId": "e1f43ed5-eccb-4c2a-d872-876a0e631e18"
      },
      "outputs": [
        {
          "data": {
            "text/plain": [
              "array([72.67723405, 23.06666702,  3.78190145,  0.47419749])"
            ]
          },
          "execution_count": 22,
          "metadata": {},
          "output_type": "execute_result"
        }
      ],
      "source": [
        "pca.explained_variance_ratio_*100"
      ]
    },
    {
      "cell_type": "code",
      "execution_count": null,
      "metadata": {
        "ExecuteTime": {
          "end_time": "2022-03-09T22:21:14.785872Z",
          "start_time": "2022-03-09T22:21:14.770877Z"
        },
        "id": "qqt9ockcmPIy",
        "outputId": "a9e9214b-bfe4-4567-b95c-b400c6fde784"
      },
      "outputs": [
        {
          "data": {
            "text/plain": [
              "array([ 72.67723405,  95.74390107,  99.52580251, 100.        ])"
            ]
          },
          "execution_count": 24,
          "metadata": {},
          "output_type": "execute_result"
        }
      ],
      "source": [
        "pca.explained_variance_ratio_.cumsum()*100"
      ]
    },
    {
      "cell_type": "markdown",
      "metadata": {
        "id": "1ULAiD4LmPIy"
      },
      "source": [
        "Podemos plotar os resultados acima:"
      ]
    },
    {
      "cell_type": "code",
      "execution_count": null,
      "metadata": {
        "ExecuteTime": {
          "end_time": "2022-03-09T22:38:03.181943Z",
          "start_time": "2022-03-09T22:38:03.166930Z"
        },
        "id": "P-3B8dWemPIz"
      },
      "outputs": [],
      "source": [
        "labels = [f\"PC_{i+1}\" for i in range(pca.n_components_)]"
      ]
    },
    {
      "cell_type": "code",
      "execution_count": null,
      "metadata": {
        "ExecuteTime": {
          "end_time": "2022-03-09T22:38:18.833790Z",
          "start_time": "2022-03-09T22:38:18.601923Z"
        },
        "id": "D6FixTT5mPIz",
        "outputId": "ce6e8478-1846-46ca-b96a-85bd9a507efa"
      },
      "outputs": [
        {
          "data": {
            "image/png": "[encoded data removed]",
            "text/plain": [
              "<Figure size 432x288 with 1 Axes>"
            ]
          },
          "metadata": {
            "needs_background": "light"
          },
          "output_type": "display_data"
        }
      ],
      "source": [
        "plt.bar(labels, pca.explained_variance_ratio_*100);"
      ]
    },
    {
      "cell_type": "code",
      "execution_count": null,
      "metadata": {
        "ExecuteTime": {
          "end_time": "2022-03-09T22:38:39.578291Z",
          "start_time": "2022-03-09T22:38:39.314444Z"
        },
        "id": "CWur85qHmPIz",
        "outputId": "43b401a7-c148-404a-b5c9-fe2fa1b5e9c2"
      },
      "outputs": [
        {
          "data": {
            "image/png": "[encoded data removed]",
            "text/plain": [
              "<Figure size 432x288 with 1 Axes>"
            ]
          },
          "metadata": {
            "needs_background": "light"
          },
          "output_type": "display_data"
        }
      ],
      "source": [
        "plt.bar(labels, pca.explained_variance_ratio_.cumsum()*100);"
      ]
    },
    {
      "cell_type": "markdown",
      "metadata": {
        "id": "qHzwz6OTmPIz"
      },
      "source": [
        "Dos resultados, é fácil ver que com apenas 2 componentes principais, capturamos 95% da variância dos dados!\n",
        "\n",
        "Assim, caso queiramos reduzir o número de dimensões de $n=4$ para $L=2$, temos a garantia de que grande parte da variabilidade estará contida nas duas componentes principais que usaremos para modelagem!\n",
        "\n",
        "> Veja que a escolha de $L < n$ componentes principais pode ser visto como um procedimento de **feature selection**, mas feito **no espaço de componentes principais!**\n",
        "> Como não são as features originais que são selecionadas, é comum nos referirmos a este procedimento como **redução de dimensionalidade** (e a dimensionalidade que é reduzida é do espaço de componentes principais!)\n",
        "\n",
        "De fato, note que **todas as 4 features originais** estão presentes em cada uma das PCs, como termos da combinação linear que define cada PC. E, naturalmente, todas as 4 estão presentes nas $L$ primeiras."
      ]
    },
    {
      "cell_type": "markdown",
      "metadata": {
        "id": "kdfg_J_umPIz"
      },
      "source": [
        "Caso queiramos construir modelos no espaço de componentes principais, é importante que incorporemos o PCA em nossa pipeline! \n",
        "\n",
        "Vamos ver na prática!"
      ]
    },
    {
      "cell_type": "markdown",
      "metadata": {
        "id": "D9FLunBOmPIz"
      },
      "source": [
        "____________"
      ]
    },
    {
      "cell_type": "markdown",
      "metadata": {
        "id": "aB0O9McrmPIz"
      },
      "source": [
        "## 2) PCA na Pipeline"
      ]
    },
    {
      "cell_type": "code",
      "execution_count": null,
      "metadata": {
        "ExecuteTime": {
          "end_time": "2022-03-09T22:48:21.445070Z",
          "start_time": "2022-03-09T22:48:21.436058Z"
        },
        "id": "6WQGQRQwmPIz"
      },
      "outputs": [],
      "source": [
        "from sklearn.metrics import confusion_matrix, classification_report, ConfusionMatrixDisplay"
      ]
    },
    {
      "cell_type": "code",
      "execution_count": null,
      "metadata": {
        "ExecuteTime": {
          "end_time": "2022-03-09T22:48:22.771588Z",
          "start_time": "2022-03-09T22:48:22.743602Z"
        },
        "id": "gdn3WyWzmPIz"
      },
      "outputs": [],
      "source": [
        "def metricas_classificacao(estimator, X_train, X_test, y_train, y_test):\n",
        "    \n",
        "    # ============================================\n",
        "\n",
        "    print(\"\\nMétricas de avaliação de treino:\")\n",
        "\n",
        "    y_pred_train = estimator.predict(X_train)\n",
        "\n",
        "    print(confusion_matrix(y_train, y_pred_train))\n",
        "\n",
        "    ConfusionMatrixDisplay.from_predictions(y_train, y_pred_train)\n",
        "    plt.show()\n",
        "\n",
        "    print(classification_report(y_train, y_pred_train))\n",
        "\n",
        "    # ============================================\n",
        "\n",
        "    print(\"\\nMétricas de avaliação de teste:\")\n",
        "\n",
        "    y_pred_test = estimator.predict(X_test)\n",
        "\n",
        "    print(confusion_matrix(y_test, y_pred_test))\n",
        "\n",
        "    ConfusionMatrixDisplay.from_predictions(y_test, y_pred_test)\n",
        "    plt.show()\n",
        "\n",
        "    print(classification_report(y_test, y_pred_test))"
      ]
    },
    {
      "cell_type": "code",
      "execution_count": null,
      "metadata": {
        "ExecuteTime": {
          "end_time": "2022-03-09T22:48:57.406480Z",
          "start_time": "2022-03-09T22:48:57.154196Z"
        },
        "id": "Pfb5M5jhmPI0",
        "outputId": "9a970b83-2178-4ac9-f945-a26e9248a9c3"
      },
      "outputs": [
        {
          "name": "stdout",
          "output_type": "stream",
          "text": [
            "<class 'pandas.core.frame.DataFrame'>\n",
            "RangeIndex: 150 entries, 0 to 149\n",
            "Data columns (total 5 columns):\n",
            " #   Column        Non-Null Count  Dtype  \n",
            "---  ------        --------------  -----  \n",
            " 0   sepal_length  150 non-null    float64\n",
            " 1   sepal_width   150 non-null    float64\n",
            " 2   petal_length  150 non-null    float64\n",
            " 3   petal_width   150 non-null    float64\n",
            " 4   species       150 non-null    object \n",
            "dtypes: float64(4), object(1)\n",
            "memory usage: 6.0+ KB\n"
          ]
        }
      ],
      "source": [
        "df = pd.read_csv(\"../datasets/iris.csv\")\n",
        "\n",
        "X = df.drop(columns=\"species\")\n",
        "y = df[\"species\"]\n",
        "\n",
        "X_train, X_test, y_train, y_test = train_test_split(X, y, test_size=0.2, \n",
        "                                                    random_state=42, stratify=y)\n",
        "\n",
        "df.info()"
      ]
    },
    {
      "cell_type": "code",
      "execution_count": null,
      "metadata": {
        "ExecuteTime": {
          "end_time": "2022-03-09T22:49:42.315032Z",
          "start_time": "2022-03-09T22:49:42.306016Z"
        },
        "id": "Gg6W_qWemPI0"
      },
      "outputs": [],
      "source": [
        "from sklearn.pipeline import Pipeline\n",
        "from sklearn.linear_model import LogisticRegression"
      ]
    },
    {
      "cell_type": "code",
      "execution_count": null,
      "metadata": {
        "ExecuteTime": {
          "end_time": "2022-03-09T22:51:03.149200Z",
          "start_time": "2022-03-09T22:51:02.058273Z"
        },
        "scrolled": true,
        "id": "r1WHNLgYmPI0",
        "outputId": "3d06c794-d97d-416d-993b-d9b73ae75483"
      },
      "outputs": [
        {
          "name": "stdout",
          "output_type": "stream",
          "text": [
            "\n",
            "Métricas de avaliação de treino:\n",
            "[[40  0  0]\n",
            " [ 0 38  2]\n",
            " [ 0  1 39]]\n"
          ]
        },
        {
          "data": {
            "image/png": "[encoded data removed]",
            "text/plain": [
              "<Figure size 432x288 with 2 Axes>"
            ]
          },
          "metadata": {
            "needs_background": "light"
          },
          "output_type": "display_data"
        },
        {
          "name": "stdout",
          "output_type": "stream",
          "text": [
            "              precision    recall  f1-score   support\n",
            "\n",
            "      setosa       1.00      1.00      1.00        40\n",
            "  versicolor       0.97      0.95      0.96        40\n",
            "   virginica       0.95      0.97      0.96        40\n",
            "\n",
            "    accuracy                           0.97       120\n",
            "   macro avg       0.98      0.97      0.97       120\n",
            "weighted avg       0.98      0.97      0.97       120\n",
            "\n",
            "\n",
            "Métricas de avaliação de teste:\n",
            "[[10  0  0]\n",
            " [ 0  9  1]\n",
            " [ 0  0 10]]\n"
          ]
        },
        {
          "data": {
            "image/png": "[encoded data removed]",
            "text/plain": [
              "<Figure size 432x288 with 2 Axes>"
            ]
          },
          "metadata": {
            "needs_background": "light"
          },
          "output_type": "display_data"
        },
        {
          "name": "stdout",
          "output_type": "stream",
          "text": [
            "              precision    recall  f1-score   support\n",
            "\n",
            "      setosa       1.00      1.00      1.00        10\n",
            "  versicolor       1.00      0.90      0.95        10\n",
            "   virginica       0.91      1.00      0.95        10\n",
            "\n",
            "    accuracy                           0.97        30\n",
            "   macro avg       0.97      0.97      0.97        30\n",
            "weighted avg       0.97      0.97      0.97        30\n",
            "\n"
          ]
        }
      ],
      "source": [
        "pipe_no_pca = Pipeline([(\"lr\", LogisticRegression(random_state=42))])\n",
        "\n",
        "pipe_no_pca.fit(X_train, y_train)\n",
        "\n",
        "metricas_classificacao(pipe_no_pca, X_train, X_test, y_train, y_test)"
      ]
    },
    {
      "cell_type": "code",
      "execution_count": null,
      "metadata": {
        "ExecuteTime": {
          "end_time": "2022-03-09T22:55:12.038557Z",
          "start_time": "2022-03-09T22:55:11.391884Z"
        },
        "scrolled": true,
        "id": "Z9000TegmPI0",
        "outputId": "d852155a-fa89-4447-effd-423241651f09"
      },
      "outputs": [
        {
          "name": "stdout",
          "output_type": "stream",
          "text": [
            "\n",
            "Métricas de avaliação de treino:\n",
            "[[40  0  0]\n",
            " [ 0 35  5]\n",
            " [ 0  3 37]]\n"
          ]
        },
        {
          "data": {
            "image/png": "[encoded data removed]",
            "text/plain": [
              "<Figure size 432x288 with 2 Axes>"
            ]
          },
          "metadata": {
            "needs_background": "light"
          },
          "output_type": "display_data"
        },
        {
          "name": "stdout",
          "output_type": "stream",
          "text": [
            "              precision    recall  f1-score   support\n",
            "\n",
            "      setosa       1.00      1.00      1.00        40\n",
            "  versicolor       0.92      0.88      0.90        40\n",
            "   virginica       0.88      0.93      0.90        40\n",
            "\n",
            "    accuracy                           0.93       120\n",
            "   macro avg       0.93      0.93      0.93       120\n",
            "weighted avg       0.93      0.93      0.93       120\n",
            "\n",
            "\n",
            "Métricas de avaliação de teste:\n",
            "[[10  0  0]\n",
            " [ 0  9  1]\n",
            " [ 0  2  8]]\n"
          ]
        },
        {
          "data": {
            "image/png": "[encoded data removed]",
            "text/plain": [
              "<Figure size 432x288 with 2 Axes>"
            ]
          },
          "metadata": {
            "needs_background": "light"
          },
          "output_type": "display_data"
        },
        {
          "name": "stdout",
          "output_type": "stream",
          "text": [
            "              precision    recall  f1-score   support\n",
            "\n",
            "      setosa       1.00      1.00      1.00        10\n",
            "  versicolor       0.82      0.90      0.86        10\n",
            "   virginica       0.89      0.80      0.84        10\n",
            "\n",
            "    accuracy                           0.90        30\n",
            "   macro avg       0.90      0.90      0.90        30\n",
            "weighted avg       0.90      0.90      0.90        30\n",
            "\n"
          ]
        }
      ],
      "source": [
        "pipe_pca = Pipeline([(\"ss\", StandardScaler()),\n",
        "                        # depois da anália prévia acima, vimos que é suficiente considerar 2 PCs\n",
        "                        (\"pca\", PCA(n_components=2)),\n",
        "                        (\"lr\", LogisticRegression(random_state=42))])\n",
        "\n",
        "pipe_pca.fit(X_train, y_train)\n",
        "\n",
        "metricas_classificacao(pipe_pca, X_train, X_test, y_train, y_test)"
      ]
    },
    {
      "cell_type": "code",
      "execution_count": null,
      "metadata": {
        "ExecuteTime": {
          "end_time": "2022-03-09T22:59:46.463399Z",
          "start_time": "2022-03-09T22:59:45.762803Z"
        },
        "scrolled": true,
        "id": "_W6-xjhDmPI0",
        "outputId": "1f4587ce-d841-49f0-cc49-ec340b03ed4c"
      },
      "outputs": [
        {
          "name": "stdout",
          "output_type": "stream",
          "text": [
            "\n",
            "Métricas de avaliação de treino:\n",
            "[[40  0  0]\n",
            " [ 0 35  5]\n",
            " [ 0  3 37]]\n"
          ]
        },
        {
          "data": {
            "image/png": "[encoded data removed]",
            "text/plain": [
              "<Figure size 432x288 with 2 Axes>"
            ]
          },
          "metadata": {
            "needs_background": "light"
          },
          "output_type": "display_data"
        },
        {
          "name": "stdout",
          "output_type": "stream",
          "text": [
            "              precision    recall  f1-score   support\n",
            "\n",
            "      setosa       1.00      1.00      1.00        40\n",
            "  versicolor       0.92      0.88      0.90        40\n",
            "   virginica       0.88      0.93      0.90        40\n",
            "\n",
            "    accuracy                           0.93       120\n",
            "   macro avg       0.93      0.93      0.93       120\n",
            "weighted avg       0.93      0.93      0.93       120\n",
            "\n",
            "\n",
            "Métricas de avaliação de teste:\n",
            "[[10  0  0]\n",
            " [ 0  9  1]\n",
            " [ 0  2  8]]\n"
          ]
        },
        {
          "data": {
            "image/png": "[encoded data removed]",
            "text/plain": [
              "<Figure size 432x288 with 2 Axes>"
            ]
          },
          "metadata": {
            "needs_background": "light"
          },
          "output_type": "display_data"
        },
        {
          "name": "stdout",
          "output_type": "stream",
          "text": [
            "              precision    recall  f1-score   support\n",
            "\n",
            "      setosa       1.00      1.00      1.00        10\n",
            "  versicolor       0.82      0.90      0.86        10\n",
            "   virginica       0.89      0.80      0.84        10\n",
            "\n",
            "    accuracy                           0.90        30\n",
            "   macro avg       0.90      0.90      0.90        30\n",
            "weighted avg       0.90      0.90      0.90        30\n",
            "\n"
          ]
        }
      ],
      "source": [
        "pipe_pca = Pipeline([(\"ss\", StandardScaler()),\n",
        "                     # fixando diretamente a variancia explicada desejada\n",
        "                     (\"pca\", PCA(n_components=0.9)),\n",
        "                     (\"lr\", LogisticRegression(random_state=42))])\n",
        "\n",
        "pipe_pca.fit(X_train, y_train)\n",
        "\n",
        "metricas_classificacao(pipe_pca, X_train, X_test, y_train, y_test)"
      ]
    },
    {
      "cell_type": "code",
      "execution_count": null,
      "metadata": {
        "ExecuteTime": {
          "end_time": "2022-03-09T23:01:32.720433Z",
          "start_time": "2022-03-09T23:01:32.701425Z"
        },
        "id": "qRK5iXQzmPI0",
        "outputId": "bb5cf0f3-5a51-4398-ef69-db8b2917fc44"
      },
      "outputs": [
        {
          "data": {
            "text/plain": [
              "{'n_components': 0.9,\n",
              " 'copy': True,\n",
              " 'whiten': False,\n",
              " 'svd_solver': 'auto',\n",
              " 'tol': 0.0,\n",
              " 'iterated_power': 'auto',\n",
              " 'random_state': None,\n",
              " 'n_features_in_': 4,\n",
              " '_fit_svd_solver': 'full',\n",
              " 'mean_': array([-1.36927506e-16,  9.99200722e-16,  1.66533454e-17,  1.70234197e-16]),\n",
              " 'noise_variance_': 0.08583728943622848,\n",
              " 'n_samples_': 120,\n",
              " 'n_features_': 4,\n",
              " 'components_': array([[ 0.52679335, -0.25307206,  0.58186918,  0.56557189],\n",
              "        [ 0.34813945,  0.93470791,  0.02689438,  0.06630793]]),\n",
              " 'n_components_': 2,\n",
              " 'explained_variance_': array([2.93151868, 0.93042018]),\n",
              " 'explained_variance_ratio_': array([0.72677234, 0.23066667]),\n",
              " 'singular_values_': array([18.67754597, 10.52235723])}"
            ]
          },
          "execution_count": 46,
          "metadata": {},
          "output_type": "execute_result"
        }
      ],
      "source": [
        "vars(pipe_pca.steps[1][-1])"
      ]
    },
    {
      "cell_type": "code",
      "execution_count": null,
      "metadata": {
        "ExecuteTime": {
          "end_time": "2022-03-09T23:02:01.468835Z",
          "start_time": "2022-03-09T23:02:01.450846Z"
        },
        "id": "GOTbF8u3mPI0",
        "outputId": "515df1ea-172d-40b9-90ab-d6a8246ac4e4"
      },
      "outputs": [
        {
          "data": {
            "text/plain": [
              "2"
            ]
          },
          "execution_count": 47,
          "metadata": {},
          "output_type": "execute_result"
        }
      ],
      "source": [
        "pipe_pca.steps[1][-1].n_components_"
      ]
    },
    {
      "cell_type": "markdown",
      "metadata": {
        "id": "A5JJR3Z1mPI0"
      },
      "source": [
        "___________\n",
        "\n",
        "Vamos analisar um outro dataset?"
      ]
    },
    {
      "cell_type": "code",
      "execution_count": null,
      "metadata": {
        "ExecuteTime": {
          "end_time": "2022-03-09T23:04:22.004286Z",
          "start_time": "2022-03-09T23:04:21.949319Z"
        },
        "id": "Gz8GxHfYmPI0"
      },
      "outputs": [],
      "source": [
        "df_bc = pd.read_csv(\"../datasets/breast_cancer.csv\")\n",
        "\n",
        "X = df_bc.drop(columns=[\"id\", \"diagnosis\"])\n",
        "y = df_bc[\"diagnosis\"]\n",
        "\n",
        "X_train, X_test, y_train, y_test = train_test_split(X, y, test_size=0.2, \n",
        "                                                    random_state=42, stratify=y)"
      ]
    },
    {
      "cell_type": "markdown",
      "metadata": {
        "id": "3oFqby21mPI1"
      },
      "source": [
        "Antes, vamos analisar o PCA"
      ]
    },
    {
      "cell_type": "code",
      "execution_count": null,
      "metadata": {
        "ExecuteTime": {
          "end_time": "2022-03-09T23:04:22.496714Z",
          "start_time": "2022-03-09T23:04:22.445746Z"
        },
        "id": "7IWW5sNBmPI1"
      },
      "outputs": [],
      "source": [
        "ss = StandardScaler().fit(X_train)\n",
        "X_train_ss = pd.DataFrame(ss.transform(X_train), columns=X_train.columns)\n",
        "\n",
        "pca_bc = PCA(random_state=42).fit(X_train_ss)"
      ]
    },
    {
      "cell_type": "code",
      "execution_count": null,
      "metadata": {
        "ExecuteTime": {
          "end_time": "2022-03-09T23:04:30.908434Z",
          "start_time": "2022-03-09T23:04:30.880450Z"
        },
        "id": "m6uh2NeFmPI1",
        "outputId": "e7a898d8-1210-42c8-9419-893b77c22ba9"
      },
      "outputs": [
        {
          "data": {
            "text/plain": [
              "array([[ 2.17057431e-01,  1.01899728e-01,  2.25804376e-01,\n",
              "         2.19078681e-01,  1.48588416e-01,  2.41928271e-01,\n",
              "         2.57761371e-01,  2.60382814e-01,  1.42086256e-01,\n",
              "         7.15926428e-02,  2.04691204e-01,  2.02094854e-02,\n",
              "         2.10070529e-01,  1.99926314e-01,  2.31645996e-02,\n",
              "         1.75338940e-01,  1.50796174e-01,  1.84482732e-01,\n",
              "         5.03977614e-02,  1.06999631e-01,  2.26607291e-01,\n",
              "         1.04175660e-01,  2.35493815e-01,  2.23108037e-01,\n",
              "         1.29967792e-01,  2.10301491e-01,  2.26321939e-01,\n",
              "         2.49366974e-01,  1.22964478e-01,  1.33513179e-01],\n",
              "       [-2.39775900e-01, -6.15333635e-02, -2.20948876e-01,\n",
              "        -2.36925147e-01,  1.77062535e-01,  1.39921191e-01,\n",
              "         6.00889218e-02, -4.05327434e-02,  1.93611573e-01,\n",
              "         3.66647802e-01, -1.10269914e-01,  7.58423303e-02,\n",
              "        -9.44153634e-02, -1.57130070e-01,  1.90534593e-01,\n",
              "         2.24035281e-01,  2.02018669e-01,  1.33312587e-01,\n",
              "         1.74132183e-01,  2.76203478e-01, -2.23083155e-01,\n",
              "        -4.70704638e-02, -2.02364829e-01, -2.23733767e-01,\n",
              "         1.68981821e-01,  1.42217285e-01,  1.04546705e-01,\n",
              "        -6.52474265e-03,  1.50772459e-01,  2.77470544e-01],\n",
              "       [-8.31060655e-03,  4.26220397e-02, -8.68232367e-03,\n",
              "         2.67736696e-02, -1.23746613e-01, -7.23898200e-02,\n",
              "         6.24351727e-03, -3.31201149e-02, -3.15264736e-02,\n",
              "        -2.47543702e-02,  2.61600856e-01,  3.65249385e-01,\n",
              "         2.60287136e-01,  2.12088203e-01,  2.96997093e-01,\n",
              "         1.69104563e-01,  1.95783187e-01,  2.28363359e-01,\n",
              "         2.95181277e-01,  2.24180066e-01, -5.17653925e-02,\n",
              "        -6.50056537e-02, -5.19203897e-02, -1.84630890e-02,\n",
              "        -2.73405486e-01, -2.32022838e-01, -1.66840008e-01,\n",
              "        -1.73776407e-01, -2.58227342e-01, -2.27018697e-01],\n",
              "       [ 3.40193015e-02, -6.04567155e-01,  3.48113744e-02,\n",
              "         4.97599792e-02,  1.72319403e-01,  2.69189891e-02,\n",
              "         1.87723504e-02,  6.65966837e-02,  6.02587961e-02,\n",
              "         4.77276023e-02,  1.01823291e-01, -3.65445327e-01,\n",
              "         9.17718274e-02,  1.15348752e-01,  5.15589478e-02,\n",
              "        -3.83986522e-02, -8.92428448e-03,  5.03967547e-02,\n",
              "         5.22837286e-02, -6.08042990e-03,  1.43404797e-02,\n",
              "        -6.25307379e-01,  1.18213495e-02,  2.85541683e-02,\n",
              "         4.61061305e-02, -8.69426198e-02, -7.07202788e-02,\n",
              "         1.22778229e-02, -2.31372803e-02, -7.63374541e-02],\n",
              "       [ 5.12734630e-02, -7.83891240e-02,  4.92302321e-02,\n",
              "         1.92675117e-02, -3.53763046e-01,  5.87972064e-03,\n",
              "         8.83143741e-02, -3.70162729e-02, -2.89882834e-01,\n",
              "        -5.79845971e-02, -1.66747427e-01, -1.98434626e-01,\n",
              "        -1.34976345e-01, -1.36352863e-01, -2.63105212e-01,\n",
              "         2.68271420e-01,  3.47644795e-01,  1.88824258e-01,\n",
              "        -2.41214492e-01,  2.64045571e-01,  5.30233342e-03,\n",
              "        -1.20840762e-01,  1.55763466e-02, -2.06669089e-02,\n",
              "        -3.21436423e-01,  1.21793645e-01,  2.01612756e-01,\n",
              "         5.05917893e-02, -2.27207165e-01,  9.37933131e-02],\n",
              "       [ 2.20945940e-02, -3.33296066e-02,  2.14642056e-02,\n",
              "        -5.85562253e-03, -2.71336064e-01, -9.35045991e-03,\n",
              "        -1.19821107e-02, -3.09958493e-02,  3.53413668e-01,\n",
              "        -1.24979276e-01, -3.83404235e-02, -3.31816944e-02,\n",
              "        -4.00389749e-03, -6.30015249e-02, -3.50438025e-01,\n",
              "         5.33599238e-02,  2.65657267e-02, -9.63812299e-03,\n",
              "         4.99505362e-01, -8.03000157e-02,  3.81390988e-03,\n",
              "        -5.16595612e-02,  1.37437420e-02, -2.88599058e-02,\n",
              "        -3.41605847e-01,  3.96556736e-02,  1.95439989e-02,\n",
              "        -7.39659422e-03,  5.12424044e-01, -9.28440509e-02],\n",
              "       [ 1.31638714e-01,  1.93240458e-02,  1.20194615e-01,\n",
              "         6.33942531e-02,  1.15506971e-01, -4.27691174e-02,\n",
              "         8.06508710e-02,  1.38947658e-01,  8.88439538e-02,\n",
              "        -2.94944563e-01, -3.12163811e-01,  3.54972839e-03,\n",
              "        -3.28514948e-01, -3.44836655e-01,  3.44866742e-01,\n",
              "        -9.57670698e-03,  1.82054829e-01,  3.52366651e-01,\n",
              "         7.73023944e-02, -1.31582855e-01,  2.85517841e-02,\n",
              "         5.55280228e-03,  1.40881128e-02, -4.54833924e-02,\n",
              "         1.33500096e-01, -1.59189906e-01,  2.11308005e-02,\n",
              "         1.65254011e-01,  3.39657547e-02, -3.58977254e-01],\n",
              "       [ 4.60976452e-02, -2.01141537e-01,  5.55994395e-02,\n",
              "         9.57527245e-04,  2.85401991e-01,  1.57806192e-01,\n",
              "         1.00743710e-01,  1.83449390e-01,  1.52937047e-01,\n",
              "         1.71084850e-01, -9.01640280e-02,  5.63949664e-01,\n",
              "        -6.14012646e-02, -1.57711763e-01, -5.03384337e-01,\n",
              "        -1.29184766e-01, -5.08218193e-02,  7.24635948e-02,\n",
              "        -1.30988449e-01, -2.08477668e-02, -1.54659935e-02,\n",
              "        -5.91333866e-02, -6.07854867e-03, -5.75679238e-02,\n",
              "        -1.51450227e-01, -9.59429316e-02, -5.84189198e-02,\n",
              "         5.44867900e-02, -2.20651883e-01, -8.29711167e-02],\n",
              "       [-1.74010752e-01,  1.27047907e-01, -1.79168555e-01,\n",
              "        -1.58599160e-01,  6.29310565e-02, -1.74614778e-01,\n",
              "         1.16735192e-02, -7.36311590e-02,  4.15289978e-01,\n",
              "        -8.54173356e-02,  2.06300980e-01, -2.20535472e-01,\n",
              "         1.62763810e-01,  1.86190380e-01, -2.16149081e-01,\n",
              "        -1.52318574e-01,  3.21891646e-01,  2.96494698e-01,\n",
              "        -4.03819955e-01, -6.20346412e-02, -7.66532031e-02,\n",
              "         1.14439645e-01, -8.62407957e-02, -4.64077022e-02,\n",
              "         5.03716738e-02, -1.86198469e-01,  6.05801979e-02,\n",
              "         5.14550563e-02,  3.74726818e-02, -1.49475604e-01],\n",
              "       [-1.33805265e-01, -1.06163247e-01, -1.24420963e-01,\n",
              "        -1.18961755e-01,  1.17839523e-01, -2.90580680e-02,\n",
              "         1.44987657e-01, -2.22997644e-02, -5.21363900e-01,\n",
              "        -1.16367275e-01,  9.08262963e-02,  1.17462584e-01,\n",
              "         1.48869353e-01,  1.12299274e-01, -1.73086759e-01,\n",
              "        -7.64503807e-02,  2.31861642e-01,  3.80429874e-02,\n",
              "         2.86419042e-01, -4.12381419e-01, -1.15173672e-01,\n",
              "         2.32869311e-02, -8.79518877e-02, -1.17130169e-01,\n",
              "         1.62909944e-01,  1.13327973e-01,  3.45412215e-01,\n",
              "         1.00786683e-01,  2.66734992e-02, -1.21790053e-01],\n",
              "       [ 2.56398256e-02, -3.27072802e-01, -1.26465772e-03,\n",
              "         1.02273555e-01, -1.47535514e-01, -3.27007129e-01,\n",
              "         9.94907550e-02, -9.66513835e-02,  4.73242467e-02,\n",
              "        -7.23313725e-02, -2.09705897e-02,  3.49045609e-01,\n",
              "        -1.54391341e-01,  6.53225509e-02,  9.47328983e-02,\n",
              "        -2.07561813e-01,  3.45778083e-01, -3.23570555e-01,\n",
              "        -1.10631603e-01,  2.20030242e-01,  1.13234362e-01,\n",
              "         2.39826489e-02,  6.04411619e-02,  2.01565377e-01,\n",
              "         1.85264461e-01, -1.66522718e-01,  1.98153988e-01,\n",
              "        -8.97380342e-02,  2.35678489e-01,  1.28659531e-01],\n",
              "       [ 5.89029887e-02,  1.70171312e-01,  3.39037595e-02,\n",
              "         5.08366112e-02,  2.53565728e-01, -1.52878711e-01,\n",
              "        -1.24298416e-01, -1.07919309e-02, -3.39567619e-01,\n",
              "         2.21445701e-01,  2.08147970e-03, -2.27290161e-01,\n",
              "        -8.97142744e-02, -4.44715154e-02, -3.00068384e-01,\n",
              "        -2.28023381e-01,  1.07130784e-01,  1.84383111e-01,\n",
              "         2.96642953e-01,  3.68032248e-01,  1.06069133e-01,\n",
              "         9.93480226e-02,  4.13547795e-02,  1.02835067e-01,\n",
              "         1.13402272e-01, -3.32162831e-01, -2.19446107e-01,\n",
              "         2.89926494e-02,  1.22131956e-01,  5.56977457e-02],\n",
              "       [ 4.83977943e-02,  2.75407475e-01,  7.08017340e-02,\n",
              "         1.09543286e-01,  1.67642124e-01,  1.39926313e-01,\n",
              "         3.77907967e-01,  1.28309296e-01,  1.05418729e-01,\n",
              "         1.75057295e-01, -7.90976290e-02, -2.62826366e-01,\n",
              "        -9.77981905e-02,  4.48317155e-02,  2.16600847e-02,\n",
              "        -7.44347798e-02,  2.74332145e-01, -4.89596458e-01,\n",
              "         1.01070322e-01, -5.32601625e-02, -1.02287637e-01,\n",
              "        -3.41056715e-02, -8.35671938e-02, -6.21390860e-02,\n",
              "        -1.62635187e-01, -1.55231587e-01,  1.34030575e-01,\n",
              "        -2.89467581e-01, -1.74817390e-01, -1.72653463e-01],\n",
              "       [ 5.52553862e-02, -3.50419251e-02,  4.65893243e-02,\n",
              "        -1.30444985e-02,  4.28780946e-01,  2.25357185e-02,\n",
              "        -1.82282980e-01, -2.17074665e-01,  1.45989569e-02,\n",
              "        -4.08740565e-01,  2.35310557e-02,  1.45537274e-02,\n",
              "        -2.10345610e-02,  2.73168982e-02, -2.16764167e-01,\n",
              "         4.83874175e-01,  8.58607967e-02, -2.01177984e-01,\n",
              "        -3.55144573e-02,  2.09005637e-01,  3.02207010e-02,\n",
              "         4.75880318e-02,  2.93816214e-02, -2.93636106e-02,\n",
              "         1.85067218e-01,  1.63116370e-01, -8.61457737e-02,\n",
              "        -2.51902041e-01,  3.28631090e-02, -2.18646738e-01],\n",
              "       [ 8.57275486e-02,  9.70344346e-02,  6.77329016e-02,\n",
              "         2.80933461e-02,  1.49963822e-01, -2.15569158e-01,\n",
              "         1.22411439e-01,  2.01147132e-01,  6.23928967e-02,\n",
              "        -4.91316971e-01,  1.01213546e-01, -1.38585100e-02,\n",
              "        -1.38791297e-02,  7.12952170e-02, -2.95041912e-03,\n",
              "        -2.32408617e-01, -2.30837513e-01, -2.67374122e-02,\n",
              "         1.03998061e-01,  3.26991398e-01, -1.75595287e-01,\n",
              "        -8.86516976e-02, -2.07157318e-01, -3.30592438e-01,\n",
              "        -9.67831998e-02,  4.27779114e-02,  1.77704918e-01,\n",
              "         1.49865986e-01, -1.09678925e-01,  3.13896769e-01],\n",
              "       [-1.43801349e-01, -1.41657823e-01, -1.05109190e-01,\n",
              "        -1.47125261e-01, -2.47695190e-01,  2.08366068e-01,\n",
              "         2.85104543e-01,  3.78205963e-01, -1.82643069e-01,\n",
              "        -6.40295407e-02,  7.53219059e-02, -3.69765832e-02,\n",
              "         2.27491530e-02,  5.20269871e-02, -3.42339383e-02,\n",
              "         1.05048625e-01, -1.27500527e-01, -1.86855545e-01,\n",
              "        -1.47103733e-01,  2.94562445e-01, -8.91532530e-02,\n",
              "         1.72516834e-01, -5.58938900e-02, -1.22930065e-01,\n",
              "         1.39325697e-01, -1.28190383e-01, -2.49406179e-01,\n",
              "         2.11058112e-01,  2.45857619e-01, -3.44924287e-01],\n",
              "       [ 2.00364354e-01, -5.78812085e-02,  1.90436524e-01,\n",
              "         2.56622375e-01,  1.90326936e-01, -2.28623479e-03,\n",
              "        -4.79553478e-02, -2.31849917e-02, -2.06045381e-01,\n",
              "         1.09650520e-01, -1.49635865e-01,  6.36669493e-02,\n",
              "        -1.33446002e-02,  3.14170471e-01,  1.25609238e-01,\n",
              "         3.03814596e-02,  9.85604840e-02,  1.09571048e-01,\n",
              "        -2.94961595e-01, -1.40944824e-01, -2.19656351e-01,\n",
              "         7.09357817e-02, -2.11237066e-01, -2.40228068e-01,\n",
              "        -2.92374516e-01,  1.80212753e-02, -1.85955731e-01,\n",
              "        -5.37554107e-02,  4.52162352e-01,  8.29757745e-02],\n",
              "       [ 9.70881634e-03, -5.69463836e-02,  1.97666063e-02,\n",
              "         2.67214945e-01, -2.00884879e-01, -1.47232452e-01,\n",
              "        -1.95019186e-03, -8.30749423e-04,  1.69444644e-01,\n",
              "         7.94925741e-02, -3.17142219e-01, -2.15109059e-02,\n",
              "        -1.80647124e-01,  4.68282611e-01, -1.94366068e-01,\n",
              "         2.38248181e-01, -8.69697233e-02,  3.89915557e-02,\n",
              "         1.92960795e-01, -7.39520068e-02, -2.14616949e-01,\n",
              "         9.75741637e-02, -2.13060076e-01,  8.39758736e-02,\n",
              "         3.28085669e-01, -7.09397237e-02, -5.67367381e-02,\n",
              "         1.66214504e-01, -2.77252434e-01,  9.71836113e-03],\n",
              "       [ 2.80074209e-01,  3.92174212e-03,  2.93438605e-01,\n",
              "         1.29388659e-01, -3.21511607e-01,  2.41805812e-01,\n",
              "        -3.71197778e-02, -2.14406541e-01,  5.26269328e-02,\n",
              "         3.09469192e-02,  4.00528315e-02,  1.33277984e-02,\n",
              "         2.83427505e-01, -1.92401419e-01, -1.01374672e-01,\n",
              "        -2.16448080e-01,  1.10116082e-01,  4.07884600e-02,\n",
              "         3.36964518e-03,  5.58354885e-02, -9.12171768e-02,\n",
              "        -3.03966860e-02, -3.72967213e-02, -4.18019107e-01,\n",
              "         4.36312990e-01,  1.24054240e-02, -4.94681945e-02,\n",
              "        -1.79949032e-01, -3.52058630e-02, -2.52489145e-02],\n",
              "       [-1.47350002e-03,  5.14694971e-01, -2.76919670e-02,\n",
              "         6.41668442e-02, -8.87869086e-02, -1.41186465e-01,\n",
              "        -5.23217734e-02,  5.26459366e-02, -7.37448460e-02,\n",
              "         8.84367350e-02,  1.31712048e-01,  2.19853374e-01,\n",
              "        -1.19618410e-01, -8.48416316e-03, -8.38996097e-02,\n",
              "         1.23861393e-01,  1.34911218e-02, -7.79498239e-02,\n",
              "        -1.44170023e-01, -2.27186938e-02, -1.34992298e-02,\n",
              "        -6.60124232e-01, -9.16682872e-02,  3.28192704e-02,\n",
              "         1.83653961e-01,  3.61549869e-02, -1.69957438e-02,\n",
              "         1.58761692e-01,  1.86866161e-01, -1.12861619e-01],\n",
              "       [-9.13962385e-02,  7.58589671e-02, -5.69745753e-02,\n",
              "        -7.37310042e-02, -1.51052153e-02,  4.72184742e-01,\n",
              "        -2.21024918e-02, -2.65993212e-01, -1.26206337e-02,\n",
              "        -1.39970882e-01, -1.26784544e-01,  5.93401875e-02,\n",
              "        -2.66986119e-01,  3.61075092e-01,  4.14031670e-02,\n",
              "        -4.45795368e-01,  1.67261108e-02,  1.16788450e-01,\n",
              "         2.89380768e-02,  2.32348095e-01, -1.25218964e-02,\n",
              "        -1.12264524e-01, -1.72037363e-02,  1.89626924e-01,\n",
              "        -4.34669340e-02,  2.91336997e-01, -1.75026419e-03,\n",
              "        -9.74019717e-03,  3.53830067e-03, -1.91564969e-01],\n",
              "       [-8.78293674e-02,  5.08790148e-02, -6.72562641e-02,\n",
              "        -3.95644070e-02, -8.75031524e-02,  1.10297390e-01,\n",
              "         3.40004498e-01,  2.05229432e-01, -5.69303930e-02,\n",
              "        -2.57039830e-01,  3.25137325e-02,  2.93018454e-02,\n",
              "        -1.35108848e-01,  1.66651670e-02, -1.00038880e-01,\n",
              "         4.46412298e-02, -1.24618823e-02,  2.74745216e-01,\n",
              "        -1.50534266e-02, -1.91218834e-01,  3.37385369e-02,\n",
              "        -8.92358010e-02, -3.42272114e-02,  1.69387827e-01,\n",
              "         1.63735973e-01, -6.81833934e-02, -2.64175663e-01,\n",
              "        -5.57112477e-01,  6.94662334e-02,  3.69406858e-01],\n",
              "       [ 4.35554320e-02, -4.85281560e-02, -7.53958263e-03,\n",
              "        -3.57222569e-02, -3.12321730e-02,  5.34219019e-02,\n",
              "        -1.68245649e-01,  1.33882213e-01,  5.94373109e-02,\n",
              "        -8.88308055e-02,  2.68478540e-01, -1.41488638e-02,\n",
              "        -2.10941475e-01, -3.64795274e-02,  1.55126919e-02,\n",
              "        -7.85751754e-02,  4.66037682e-01, -2.10879588e-01,\n",
              "         1.00784141e-01, -1.81763260e-01,  8.34458400e-02,\n",
              "         6.19864560e-02, -1.01387588e-01, -6.55440001e-02,\n",
              "        -2.48214829e-02,  2.41072458e-01, -5.13802793e-01,\n",
              "         2.91255816e-01, -1.72300827e-01,  2.02306034e-01],\n",
              "       [-1.46866692e-01,  4.41118549e-02, -1.16563161e-01,\n",
              "         1.79428701e-01,  4.61321917e-02, -3.19303484e-01,\n",
              "         1.04856866e-01,  1.76885235e-01,  1.35082575e-02,\n",
              "        -1.72240018e-03, -3.80467186e-01, -5.17195619e-03,\n",
              "         4.28012505e-01, -1.18860558e-01, -2.56397836e-03,\n",
              "        -1.84716203e-01,  1.12669257e-01, -6.46653576e-04,\n",
              "         8.29848344e-03,  1.09967439e-01, -1.73041971e-01,\n",
              "        -4.53446043e-02,  1.48164462e-01,  1.36159010e-01,\n",
              "         1.50291103e-02,  4.69324047e-01, -2.65433310e-01,\n",
              "        -7.58740957e-02, -1.90669051e-02, -1.16213023e-01],\n",
              "       [ 9.70781690e-02, -1.20938698e-01,  2.45421527e-02,\n",
              "         1.33236198e-01, -4.93837802e-02, -2.87215954e-01,\n",
              "         4.71685163e-02,  1.17808100e-01,  1.02088937e-02,\n",
              "         2.53928054e-01,  4.21289481e-01, -5.66156004e-02,\n",
              "        -3.47707487e-01, -7.54542225e-02, -2.50074146e-02,\n",
              "        -6.62735974e-02, -1.47877551e-01,  1.65812176e-01,\n",
              "         2.90886325e-03,  5.91879407e-02,  2.31182058e-02,\n",
              "         1.56234508e-01, -2.13330056e-01, -1.71635006e-02,\n",
              "         2.73381351e-02,  4.19513106e-01,  1.03032235e-01,\n",
              "        -2.76903308e-01, -1.36829881e-02, -3.03045921e-01],\n",
              "       [-1.74390160e-01, -3.20696642e-02, -1.50156420e-01,\n",
              "         4.70099294e-01, -1.59080931e-02,  2.99281925e-01,\n",
              "        -4.08132351e-01,  2.39957929e-01, -1.98693172e-02,\n",
              "        -1.28238539e-01,  1.21931320e-01, -1.86586201e-02,\n",
              "         1.01824944e-01, -2.43617790e-01, -5.68051443e-03,\n",
              "        -3.17531588e-02,  6.60244137e-02, -2.49173666e-02,\n",
              "        -2.47636778e-02,  3.31412546e-02, -2.46386958e-01,\n",
              "         4.89112703e-02, -2.98693465e-01,  2.99889619e-01,\n",
              "        -7.73072221e-03, -1.22743294e-01,  1.98104932e-01,\n",
              "        -5.54483474e-02,  3.68097576e-02,  2.20941391e-02],\n",
              "       [-7.61235927e-02, -2.44219273e-02, -6.82522377e-02,\n",
              "         3.18060870e-01,  8.19754214e-02,  1.11303290e-02,\n",
              "         5.04078616e-01, -5.69221648e-01, -6.47817945e-03,\n",
              "        -4.80386040e-02,  1.88025040e-01, -1.71721211e-02,\n",
              "         2.76802763e-02, -2.67199776e-01, -2.17607164e-03,\n",
              "         4.67771761e-02, -1.17243657e-01, -1.29210498e-05,\n",
              "        -1.14239696e-02, -1.29382781e-02, -8.97224067e-02,\n",
              "         3.13233088e-02, -1.74338621e-01,  1.66040338e-01,\n",
              "        -5.88593828e-02, -2.69919765e-02, -1.88982097e-01,\n",
              "         2.61519141e-01,  8.66412936e-03,  3.27019772e-02],\n",
              "       [ 2.12174077e-01,  1.43059623e-03,  8.26669162e-02,\n",
              "        -2.83850601e-01,  2.49028902e-03, -1.67452479e-02,\n",
              "         3.12793023e-02,  2.03297229e-02,  8.53041956e-05,\n",
              "         1.15339549e-03, -2.03167762e-01, -5.13246965e-03,\n",
              "         2.69610787e-01, -3.93736494e-02,  9.80183639e-03,\n",
              "        -7.04221395e-03, -1.72594857e-03, -3.07574940e-02,\n",
              "        -9.22986419e-03,  2.46738109e-02,  4.08680324e-01,\n",
              "        -4.71897045e-04, -7.20841569e-01,  2.42237975e-01,\n",
              "        -1.52330033e-03,  4.38446813e-02,  3.99173541e-03,\n",
              "         8.15962895e-03,  8.20668943e-03, -3.43062875e-02],\n",
              "       [ 2.23045237e-01, -1.00833953e-02,  3.78689862e-01,\n",
              "        -4.26246466e-01, -2.92982613e-03, -5.02077932e-02,\n",
              "        -5.29929685e-03, -4.87900870e-03, -6.67891042e-03,\n",
              "         8.07980953e-03,  1.15520840e-01, -8.01148689e-03,\n",
              "        -3.34198370e-03, -8.63320795e-02,  1.21313624e-03,\n",
              "         3.02297199e-03,  1.43512667e-02, -2.36529970e-02,\n",
              "        -3.64766827e-03, -6.77981155e-03, -6.38000035e-01,\n",
              "         1.65416371e-02,  3.42364561e-02,  4.36295805e-01,\n",
              "         9.88558908e-03,  1.76289250e-03, -1.34345360e-02,\n",
              "         3.47163852e-02,  1.19769470e-02,  1.35322627e-02],\n",
              "       [-6.98030280e-01,  3.51575646e-04,  6.95659116e-01,\n",
              "         2.32994169e-02,  6.36667116e-03, -4.95303886e-02,\n",
              "        -2.07981749e-02,  2.89135472e-04,  1.36417500e-04,\n",
              "         4.48413418e-03,  9.47190762e-03,  1.45437156e-03,\n",
              "        -1.36716149e-02, -1.37658750e-03,  1.43298803e-03,\n",
              "        -2.46175350e-03,  8.64384372e-03,  1.94020905e-03,\n",
              "        -8.96026955e-04, -1.10732761e-03,  1.30998208e-01,\n",
              "        -1.77441736e-03, -7.90679497e-02, -3.56094006e-02,\n",
              "        -5.46238825e-03,  1.49298183e-02, -2.67192701e-03,\n",
              "         2.86651435e-03,  3.73618466e-04, -1.27399238e-03]])"
            ]
          },
          "execution_count": 54,
          "metadata": {},
          "output_type": "execute_result"
        }
      ],
      "source": [
        "pca_bc.components_"
      ]
    },
    {
      "cell_type": "code",
      "execution_count": null,
      "metadata": {
        "ExecuteTime": {
          "end_time": "2022-03-09T23:05:31.088840Z",
          "start_time": "2022-03-09T23:05:31.068831Z"
        },
        "id": "t3BX4xKgmPI1",
        "outputId": "9ed6afd0-edf2-476d-a31e-62adae7e2459"
      },
      "outputs": [
        {
          "data": {
            "text/plain": [
              "30.033021473948068"
            ]
          },
          "execution_count": 56,
          "metadata": {},
          "output_type": "execute_result"
        }
      ],
      "source": [
        "X_train_ss.std().sum()"
      ]
    },
    {
      "cell_type": "code",
      "execution_count": null,
      "metadata": {
        "ExecuteTime": {
          "end_time": "2022-03-09T23:05:36.597320Z",
          "start_time": "2022-03-09T23:05:36.589324Z"
        },
        "id": "CRgRx5hpmPI1",
        "outputId": "9ccf7c5e-ee5b-44a0-b9ce-7c23960af75e"
      },
      "outputs": [
        {
          "data": {
            "text/plain": [
              "array([1.34075237e+01, 5.57583121e+00, 2.88172583e+00, 1.98248759e+00,\n",
              "       1.69040102e+00, 1.19918188e+00, 6.65811271e-01, 4.85268216e-01,\n",
              "       3.86285667e-01, 3.50468676e-01, 3.03174298e-01, 2.72258795e-01,\n",
              "       2.38314353e-01, 1.44161469e-01, 9.14330565e-02, 7.55558771e-02,\n",
              "       5.93879845e-02, 5.24392723e-02, 4.73079416e-02, 3.16151650e-02,\n",
              "       2.99319648e-02, 2.39270335e-02, 2.35728449e-02, 1.59724926e-02,\n",
              "       1.53896919e-02, 7.94084410e-03, 6.31364827e-03, 1.51324664e-03,\n",
              "       7.60153510e-04, 1.24064291e-04])"
            ]
          },
          "execution_count": 57,
          "metadata": {},
          "output_type": "execute_result"
        }
      ],
      "source": [
        "pca_bc.explained_variance_"
      ]
    },
    {
      "cell_type": "code",
      "execution_count": null,
      "metadata": {
        "ExecuteTime": {
          "end_time": "2022-03-09T23:05:52.800635Z",
          "start_time": "2022-03-09T23:05:52.781649Z"
        },
        "id": "al2ZjBNDmPI1",
        "outputId": "a2071bd3-b7dd-4ef4-9200-7de40d54e35c"
      },
      "outputs": [
        {
          "data": {
            "text/plain": [
              "array([4.45935222e+01, 1.85452555e+01, 9.58464121e+00, 6.59376825e+00,\n",
              "       5.62228616e+00, 3.98848772e+00, 2.21449317e+00, 1.61400564e+00,\n",
              "       1.28478896e+00, 1.16566138e+00, 1.00835994e+00, 9.05534747e-01,\n",
              "       7.92635285e-01, 4.79482101e-01, 3.04107016e-01, 2.51299401e-01,\n",
              "       1.97524871e-01, 1.74413404e-01, 1.57346560e-01, 1.05152270e-01,\n",
              "       9.95539341e-02, 7.95814888e-02, 7.84034550e-02, 5.31246275e-02,\n",
              "       5.11862282e-02, 2.64113057e-02, 2.09992404e-02, 5.03306942e-03,\n",
              "       2.52827614e-03, 4.12638742e-04])"
            ]
          },
          "execution_count": 58,
          "metadata": {},
          "output_type": "execute_result"
        }
      ],
      "source": [
        "pca_bc.explained_variance_ratio_*100"
      ]
    },
    {
      "cell_type": "code",
      "execution_count": null,
      "metadata": {
        "ExecuteTime": {
          "end_time": "2022-03-09T23:06:19.153606Z",
          "start_time": "2022-03-09T23:06:19.144614Z"
        },
        "id": "SbnVjzjpmPI1",
        "outputId": "4815fb5a-ad38-488b-d7c7-f33ca54ad3c7"
      },
      "outputs": [
        {
          "data": {
            "text/plain": [
              "array([ 44.5935222 ,  63.13877766,  72.72341886,  79.31718711,\n",
              "        84.93947327,  88.927961  ,  91.14245416,  92.7564598 ,\n",
              "        94.04124876,  95.20691014,  96.21527008,  97.12080483,\n",
              "        97.91344011,  98.39292221,  98.69702923,  98.94832863,\n",
              "        99.1458535 ,  99.32026691,  99.47761347,  99.58276574,\n",
              "        99.68231967,  99.76190116,  99.84030461,  99.89342924,\n",
              "        99.94461547,  99.97102678,  99.99202602,  99.99705909,\n",
              "        99.99958736, 100.        ])"
            ]
          },
          "execution_count": 61,
          "metadata": {},
          "output_type": "execute_result"
        }
      ],
      "source": [
        "pca_bc.explained_variance_ratio_.cumsum()*100"
      ]
    },
    {
      "cell_type": "code",
      "execution_count": null,
      "metadata": {
        "ExecuteTime": {
          "end_time": "2022-03-09T23:08:12.763586Z",
          "start_time": "2022-03-09T23:08:12.382804Z"
        },
        "id": "CNs2qozXmPI1",
        "outputId": "03572c97-1d42-46c3-a84b-a4b54d15941c"
      },
      "outputs": [
        {
          "data": {
            "image/png": "[encoded data removed]",
            "text/plain": [
              "<Figure size 1152x360 with 1 Axes>"
            ]
          },
          "metadata": {
            "needs_background": "light"
          },
          "output_type": "display_data"
        }
      ],
      "source": [
        "labels = [f\"PC{i+1}\" for i in range(pca.n_components_)]\n",
        "\n",
        "plt.figure(figsize=(16,5))\n",
        "plt.bar(labels, pca.explained_variance_ratio_*100);"
      ]
    },
    {
      "cell_type": "code",
      "execution_count": null,
      "metadata": {
        "ExecuteTime": {
          "end_time": "2022-03-09T23:08:26.239070Z",
          "start_time": "2022-03-09T23:08:25.722029Z"
        },
        "id": "3NEjd_EgmPI1",
        "outputId": "8649f39a-5ecf-4590-e014-a81752bc8f5b"
      },
      "outputs": [
        {
          "data": {
            "image/png": "[encoded data removed]",
            "text/plain": [
              "<Figure size 1152x360 with 1 Axes>"
            ]
          },
          "metadata": {
            "needs_background": "light"
          },
          "output_type": "display_data"
        }
      ],
      "source": [
        "plt.figure(figsize=(16,5))\n",
        "plt.bar(labels, pca.explained_variance_ratio_.cumsum()*100);"
      ]
    },
    {
      "cell_type": "markdown",
      "metadata": {
        "id": "Xi21j-Z4mPI2"
      },
      "source": [
        "Vamos treinar modelos!"
      ]
    },
    {
      "cell_type": "code",
      "execution_count": null,
      "metadata": {
        "ExecuteTime": {
          "end_time": "2022-03-09T23:09:58.410423Z",
          "start_time": "2022-03-09T23:09:57.671839Z"
        },
        "scrolled": false,
        "id": "N5Qh2PdMmPI2",
        "outputId": "9621c6f8-180f-4943-c124-6371459a57bd"
      },
      "outputs": [
        {
          "name": "stdout",
          "output_type": "stream",
          "text": [
            "\n",
            "Métricas de avaliação de treino:\n",
            "[[285   0]\n",
            " [  6 164]]\n"
          ]
        },
        {
          "data": {
            "image/png": "[encoded data removed]",
            "text/plain": [
              "<Figure size 432x288 with 2 Axes>"
            ]
          },
          "metadata": {
            "needs_background": "light"
          },
          "output_type": "display_data"
        },
        {
          "name": "stdout",
          "output_type": "stream",
          "text": [
            "              precision    recall  f1-score   support\n",
            "\n",
            "           B       0.98      1.00      0.99       285\n",
            "           M       1.00      0.96      0.98       170\n",
            "\n",
            "    accuracy                           0.99       455\n",
            "   macro avg       0.99      0.98      0.99       455\n",
            "weighted avg       0.99      0.99      0.99       455\n",
            "\n",
            "\n",
            "Métricas de avaliação de teste:\n",
            "[[71  1]\n",
            " [ 3 39]]\n"
          ]
        },
        {
          "data": {
            "image/png": "[encoded data removed]",
            "text/plain": [
              "<Figure size 432x288 with 2 Axes>"
            ]
          },
          "metadata": {
            "needs_background": "light"
          },
          "output_type": "display_data"
        },
        {
          "name": "stdout",
          "output_type": "stream",
          "text": [
            "              precision    recall  f1-score   support\n",
            "\n",
            "           B       0.96      0.99      0.97        72\n",
            "           M       0.97      0.93      0.95        42\n",
            "\n",
            "    accuracy                           0.96       114\n",
            "   macro avg       0.97      0.96      0.96       114\n",
            "weighted avg       0.97      0.96      0.96       114\n",
            "\n"
          ]
        }
      ],
      "source": [
        "pipe_no_pca = Pipeline([(\"ss\", StandardScaler()),\n",
        "                        (\"lr\", LogisticRegression(random_state=42, max_iter=1000))])\n",
        "\n",
        "pipe_no_pca.fit(X_train, y_train)\n",
        "\n",
        "metricas_classificacao(pipe_no_pca, X_train, X_test, y_train, y_test)"
      ]
    },
    {
      "cell_type": "code",
      "execution_count": null,
      "metadata": {
        "ExecuteTime": {
          "end_time": "2022-03-09T23:10:54.416763Z",
          "start_time": "2022-03-09T23:10:53.853086Z"
        },
        "scrolled": true,
        "id": "qSo02HlkmPI2",
        "outputId": "77166173-0871-44bb-ee8e-4fb91fa766e8"
      },
      "outputs": [
        {
          "name": "stdout",
          "output_type": "stream",
          "text": [
            "\n",
            "Métricas de avaliação de treino:\n",
            "[[276   9]\n",
            " [ 14 156]]\n"
          ]
        },
        {
          "data": {
            "image/png": "[encoded data removed]",
            "text/plain": [
              "<Figure size 432x288 with 2 Axes>"
            ]
          },
          "metadata": {
            "needs_background": "light"
          },
          "output_type": "display_data"
        },
        {
          "name": "stdout",
          "output_type": "stream",
          "text": [
            "              precision    recall  f1-score   support\n",
            "\n",
            "           B       0.95      0.97      0.96       285\n",
            "           M       0.95      0.92      0.93       170\n",
            "\n",
            "    accuracy                           0.95       455\n",
            "   macro avg       0.95      0.94      0.95       455\n",
            "weighted avg       0.95      0.95      0.95       455\n",
            "\n",
            "\n",
            "Métricas de avaliação de teste:\n",
            "[[71  1]\n",
            " [ 5 37]]\n"
          ]
        },
        {
          "data": {
            "image/png": "[encoded data removed]",
            "text/plain": [
              "<Figure size 432x288 with 2 Axes>"
            ]
          },
          "metadata": {
            "needs_background": "light"
          },
          "output_type": "display_data"
        },
        {
          "name": "stdout",
          "output_type": "stream",
          "text": [
            "              precision    recall  f1-score   support\n",
            "\n",
            "           B       0.93      0.99      0.96        72\n",
            "           M       0.97      0.88      0.93        42\n",
            "\n",
            "    accuracy                           0.95       114\n",
            "   macro avg       0.95      0.93      0.94       114\n",
            "weighted avg       0.95      0.95      0.95       114\n",
            "\n"
          ]
        }
      ],
      "source": [
        "pipe_pca = Pipeline([(\"ss\", StandardScaler()),\n",
        "                     (\"pca\", PCA(n_components=2)),\n",
        "                     (\"lr\", LogisticRegression(random_state=42))])\n",
        "\n",
        "pipe_pca.fit(X_train, y_train)\n",
        "\n",
        "metricas_classificacao(pipe_pca, X_train, X_test, y_train, y_test)"
      ]
    },
    {
      "cell_type": "code",
      "execution_count": null,
      "metadata": {
        "ExecuteTime": {
          "end_time": "2022-03-09T23:12:32.341732Z",
          "start_time": "2022-03-09T23:12:32.325744Z"
        },
        "id": "5XK3M9GamPI2"
      },
      "outputs": [],
      "source": [
        "from sklearn.preprocessing import MinMaxScaler"
      ]
    },
    {
      "cell_type": "code",
      "execution_count": null,
      "metadata": {
        "ExecuteTime": {
          "end_time": "2022-03-09T23:14:09.717524Z",
          "start_time": "2022-03-09T23:14:09.101361Z"
        },
        "scrolled": true,
        "id": "NudhEvlZmPI2",
        "outputId": "08e626bf-350a-4275-e216-6cc15c4ec781"
      },
      "outputs": [
        {
          "name": "stdout",
          "output_type": "stream",
          "text": [
            "\n",
            "Métricas de avaliação de treino:\n",
            "[[280   5]\n",
            " [ 20 150]]\n"
          ]
        },
        {
          "data": {
            "image/png": "[encoded data removed]",
            "text/plain": [
              "<Figure size 432x288 with 2 Axes>"
            ]
          },
          "metadata": {
            "needs_background": "light"
          },
          "output_type": "display_data"
        },
        {
          "name": "stdout",
          "output_type": "stream",
          "text": [
            "              precision    recall  f1-score   support\n",
            "\n",
            "           B       0.93      0.98      0.96       285\n",
            "           M       0.97      0.88      0.92       170\n",
            "\n",
            "    accuracy                           0.95       455\n",
            "   macro avg       0.95      0.93      0.94       455\n",
            "weighted avg       0.95      0.95      0.94       455\n",
            "\n",
            "\n",
            "Métricas de avaliação de teste:\n",
            "[[71  1]\n",
            " [ 6 36]]\n"
          ]
        },
        {
          "data": {
            "image/png": "[encoded data removed]",
            "text/plain": [
              "<Figure size 432x288 with 2 Axes>"
            ]
          },
          "metadata": {
            "needs_background": "light"
          },
          "output_type": "display_data"
        },
        {
          "name": "stdout",
          "output_type": "stream",
          "text": [
            "              precision    recall  f1-score   support\n",
            "\n",
            "           B       0.92      0.99      0.95        72\n",
            "           M       0.97      0.86      0.91        42\n",
            "\n",
            "    accuracy                           0.94       114\n",
            "   macro avg       0.95      0.92      0.93       114\n",
            "weighted avg       0.94      0.94      0.94       114\n",
            "\n"
          ]
        }
      ],
      "source": [
        "pipe_pca = Pipeline([(\"mms\", MinMaxScaler()),\n",
        "                     (\"pca\", PCA(n_components=2)),\n",
        "                     (\"lr\", LogisticRegression(random_state=42))])\n",
        "\n",
        "pipe_pca.fit(X_train, y_train)\n",
        "\n",
        "metricas_classificacao(pipe_pca, X_train, X_test, y_train, y_test)"
      ]
    },
    {
      "cell_type": "markdown",
      "metadata": {
        "id": "ow0wYjUlmPI2"
      },
      "source": [
        "____________"
      ]
    },
    {
      "cell_type": "markdown",
      "metadata": {
        "id": "OoiZgRhvmPI2"
      },
      "source": [
        "## 3) A matemática do PCA\n",
        "\n",
        "(Adaptado do notebook do Walisson!)\n",
        "\n",
        "__________\n",
        "\n",
        "Considere a matriz de features $X_{N \\times n}$\n",
        "\n",
        "> $N$ linhas (observações), cada uma caracterizada por $n$ features no espaço original.\n",
        "\n",
        "Cada observação $i$ é caracterizada pelo vetor de features $\\vec{x}_i = (x_{i1}, x_{i2}, \\cdots, x_{in}$), que são as linhas da matriz de features:\n",
        "\n",
        "$$\n",
        "  X = \\left [ \\begin{array}{ccccc}\n",
        "x_{11} & x_{12} & x_{13} & \\cdots & x_{1n}\\\\ \n",
        "x_{21} & x_{22} & x_{23} & \\cdots & x_{2n}\\\\ \n",
        "\\vdots & \\vdots & \\vdots & \\cdots & \\vdots  \\\\\n",
        "x_{N1} & x_{N2} & x_{N3} & \\cdots & x_{Nn}\\\\ \n",
        "   \\end{array} \\right ] \n",
        "$$"
      ]
    },
    {
      "cell_type": "markdown",
      "metadata": {
        "id": "Wu-FQGaWmPI2"
      },
      "source": [
        "### Passo 1 - standardização\n",
        "\n",
        "Para dados em que as features originais $x_j$ estão em escalas diferentes, é necessário escalar os dados para que eles tenham média 0 e desvio padrão 1 (ou seja, usamos o `StandardScaler`). \n",
        "\n",
        "Isso porque os componentes são influenciados pela escala das variáveis, justamente porque as matrizes de covariâncias, $\\Sigma$ ou $\\hat{\\Sigma} = S$, são sensíveis à escala de um par de variáveis. \n",
        "\n",
        "Considere:\n",
        "\n",
        "- $\\bar{x}_j$ a média da variável $x_j$; \n",
        "- $s(x_j)$ o desvio padrão de $x_j$; \n",
        "\n",
        "Sendo $i = 1, 2,3,4,\\cdots, N$ e $j = 1, 2,3,4,\\cdots, n$.\n",
        "\n",
        "Com isso, a padronização pode ser realizada por meio da equação abaixo: \n",
        "\n",
        "- Média 0 e desvio padrão 1: \n",
        "\n",
        "$$ \\tilde{x}_{ij}= \\frac{x_{ij}-\\bar{x_j}}{s(X_j)} $$ \n",
        "\n",
        "<br>"
      ]
    },
    {
      "cell_type": "markdown",
      "metadata": {
        "id": "gWx5leaLmPI2"
      },
      "source": [
        "### Passo 2 - cálculo da matriz de covariância\n",
        "\n",
        "Calcular a matriz de **covariância**/**correlação**, que são dadas por:\n",
        "\n",
        "$$\n",
        "  S = \\left [ \\begin{array}{ccccc}\n",
        "\\hat{Var}(x_1) & \\hat{Cov}(x_1x_2) & \\hat{Cov}(x_1x_3) & \\cdots & \\hat{Cov}(x_1x_n)\\\\ \n",
        "\\hat{Cov}(x_2x_1) &\\hat{Var}(x_2)& \\hat{Cov}(x_2x_3) & \\cdots & \\hat{Cov}(x_2x_n)\\\\ \n",
        "\\vdots & \\vdots & \\vdots & \\cdots & \\vdots  \\\\\n",
        "\\hat{Cov}(x_nx_1) & \\hat{Cov}(x_nx_2)  & \\hat{Cov}(x_nx_3)  & \\cdots & \\hat{Var}(x_n)\\\\ \n",
        "   \\end{array} \\right ] \n",
        "$$\n",
        "\n",
        "<br>\n",
        "<br>\n",
        "\n",
        "$$\n",
        "  R = \\left [ \\begin{array}{ccccc}\n",
        "1 & r(x_1x_2) & r(x_1x_3) & \\cdots & r(x_1x_n)\\\\ \n",
        "r(x_2x_1) & 1 & r(x_2x_3) & \\cdots & r(x_2x_n)\\\\ \n",
        "\\vdots & \\vdots & \\vdots & \\cdots & \\vdots  \\\\\n",
        "r(x_nx_1) & r(x_nx_2)  & r(x_nx_3)  & \\cdots & 1\\\\ \n",
        "   \\end{array} \\right ] \n",
        "$$\n",
        "\n",
        "Em que:\n",
        "\n",
        "$$\n",
        " \\begin{array}{ccc}\n",
        "\\hat{Var}(x_j) = \\frac{\\sum_{i=1}^{N}(x_{ij}-\\bar{x}_j)}{N-1}, & \n",
        "\\hat{Cov}(x_{j1},x_{j2}) = \\frac{\\sum_{i=1}^N(x_{ij1}-\\bar{x_{j1}})(x_{ij2}-\\bar{x_{j2}})}{N-1}, &\n",
        "r(x_{j1},x_{j2}) = \\frac{\\hat{Cov}(x_{j1},x_{j2})}{S_{xj1}S_{xj2}}\n",
        "   \\end{array} \n",
        "$$\n",
        "\n",
        "<br>"
      ]
    },
    {
      "cell_type": "markdown",
      "metadata": {
        "id": "l28b71J5mPI3"
      },
      "source": [
        "### Passo 3 - determinação de autovalores e autovetores\n",
        "\n",
        "As componentes principais são determinadas através da equação característica (equação de autovalores) da matriz S ou R:\n",
        "\n",
        "$$det[R - \\lambda I]= 0 $$\n",
        "\n",
        "Em que $I$ é a matriz identidade de dimensão $n \\times n $. \n",
        "\n",
        "Se R ou S tem posto completo igual a $n$, então $det[R - \\lambda I]= 0$, que pode ser reescrito como $\\mid R - \\lambda I \\mid = 0$, terá $n$ soluções. Lembrando que ter posto completo significa que nenhuma coluna é combinação linear de outra.\n",
        "\n",
        "Considere que $\\lambda_1,\\lambda_2,\\lambda_3, \\cdots, \\lambda_n$ sejam as raízes da equação característica de R ou S, então temos que  $\\lambda_1 > \\lambda_2 > \\lambda_3 > \\cdots, \\lambda_n$. \n",
        "\n",
        "Chamamos $\\lambda_i$ de **autovalores**. \n",
        "\n",
        "Além disso, para cada autovalor há um **autovetor** $\\tilde{a}_i$ associado, $\n",
        "  \\tilde{a}_i = \\left [ \\begin{array}{c}\n",
        "a_{i1}\\\\ \n",
        "a_{i2}\\\\ \n",
        "\\vdots \\\\\n",
        "a_{ip} \\\\ \n",
        "   \\end{array} \\right ] \n",
        "$\n",
        "\n",
        "O cálculo do autovetor $\\tilde{a}_i$, pode ser realizado considerando a seguinte propriedade:\n",
        "\n",
        "$$ R\\tilde{a}_i =  \\lambda_i \\tilde{a}_i $$\n",
        "\n",
        "O autovetor deve ser normalizado, isso é,\n",
        "\n",
        "$$ a_i = \\frac{\\tilde{a}_i }{\\mid \\tilde{a}_i  \\mid}$$\n",
        "\n",
        "Desta maneira, as componentes do vetor são tais que sua norma L2 é igual a 1.\n",
        "\n",
        "<br>"
      ]
    },
    {
      "cell_type": "markdown",
      "metadata": {
        "id": "Me0-X1NdmPI3"
      },
      "source": [
        "### Passo 4 - cálculo das componentes principais\n",
        "\n",
        "O cálculo da i-ésima componente principal é dado por:\n",
        "\n",
        "$$PC_i = a_{i1}x_1 + a_{i2}x_2 + a_{i3}x_3 + \\cdots + a_{in}x_n $$\n",
        "\n",
        "em que $a_{i1}$ são as componetes do autovetor $a_i$ associado ao autovalor $\\lambda_i$."
      ]
    },
    {
      "cell_type": "markdown",
      "metadata": {
        "id": "m8vZgnZKmPI3"
      },
      "source": [
        "__________\n",
        "\n",
        "Operacionalmente, o PCA se apoia em um procedimento matemático denominado **Singular Value Decomposition (SVD)**, que é uma forma de decompor qualquer matriz não quadrada $M_{m\\times n}$,\n",
        "\n",
        "$$M_{m\\times n} = U_{m \\times m}\\Sigma_{m \\times n}V_{n \\times n}^{\\dagger}$$\n",
        "\n",
        "- onde $U$ é uma matriz unitária $m\\times m$ real ou complexa;\n",
        "\n",
        "- $\\Sigma$ é uma matriz retangular diagonal $m\\times n$ com números reais não-negativos na diagonal;\n",
        "\n",
        "- e $V^{\\dagger}$ (a conjugada transposta de $V$) é uma matriz unitária $n\\times n$ real ou complexa. \n",
        "\n",
        "Os valores de $\\Sigma$ são os chamados valores singulares de $M$. As $m$ colunas de $U$ e as $n$ colunas de $V$ são os chamados vetores singulares à esquerda e vetores singulares à direita de $A$, respetivamente.\n",
        "\n",
        "<img src=https://upload.wikimedia.org/wikipedia/commons/thumb/c/c8/Singular_value_decomposition_visualisation.svg/800px-Singular_value_decomposition_visualisation.svg.png width=300>"
      ]
    }
  ],
  "metadata": {
    "kernelspec": {
      "display_name": "Python 3",
      "language": "python",
      "name": "python3"
    },
    "language_info": {
      "codemirror_mode": {
        "name": "ipython",
        "version": 3
      },
      "file_extension": ".py",
      "mimetype": "text/x-python",
      "name": "python",
      "nbconvert_exporter": "python",
      "pygments_lexer": "ipython3",
      "version": "3.8.3"
    },
    "colab": {
      "provenance": [],
      "include_colab_link": true
    }
  },
  "nbformat": 4,
  "nbformat_minor": 0
}