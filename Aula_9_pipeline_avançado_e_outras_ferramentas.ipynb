{
  "cells": [
    {
      "cell_type": "markdown",
      "metadata": {
        "id": "view-in-github",
        "colab_type": "text"
      },
      "source": [
        "<a href=\"https://colab.research.google.com/github/rodrigoviannini/Machine-Learning/blob/main/Aula_9_pipeline_avan%C3%A7ado_e_outras_ferramentas.ipynb\" target=\"_parent\"><img src=\"https://colab.research.google.com/assets/colab-badge.svg\" alt=\"Open In Colab\"/></a>"
      ]
    },
    {
      "cell_type": "markdown",
      "metadata": {
        "id": "rD0VOxqVkxB8"
      },
      "source": [
        "# Aula 9 - pipeline avançado e outras ferramentas\n",
        "\n",
        "Na aula de hoje, vamos explorar os seguintes tópicos em Python:\n",
        "\n",
        "- 1) Preenchendo NaNs com o sklearn\n",
        "- 2) Utilizando dados categóricos com o sklearn\n",
        "- 3) Pipelines mais completas"
      ]
    },
    {
      "cell_type": "markdown",
      "metadata": {
        "id": "oL7Y6_RvkxB-"
      },
      "source": [
        "____\n",
        "____\n",
        "____"
      ]
    },
    {
      "cell_type": "code",
      "execution_count": null,
      "metadata": {
        "ExecuteTime": {
          "end_time": "2022-02-18T21:35:21.446289Z",
          "start_time": "2022-02-18T21:35:16.205113Z"
        },
        "id": "H7kOEiuqkxB_"
      },
      "outputs": [],
      "source": [
        "# importe as principais bibliotecas\n",
        "import pandas as pd\n",
        "import numpy as np\n",
        "import matplotlib.pyplot as plt\n",
        "import seaborn as sns\n",
        "\n",
        "# desabilita os warnings\n",
        "import warnings\n",
        "warnings.filterwarnings('ignore')"
      ]
    },
    {
      "cell_type": "markdown",
      "metadata": {
        "id": "bdwulQ_skxB_"
      },
      "source": [
        "Para a aula de hoje, vamos utilizar novamente a base de risco de crédito:"
      ]
    },
    {
      "cell_type": "code",
      "execution_count": null,
      "metadata": {
        "ExecuteTime": {
          "end_time": "2022-02-18T21:35:21.929915Z",
          "start_time": "2022-02-18T21:35:21.446289Z"
        },
        "id": "vQ_66lDVkxCA",
        "outputId": "9baa64f7-79d7-4166-f5d4-2b57fd3a1775"
      },
      "outputs": [
        {
          "data": {
            "text/html": [
              "<div>\n",
              "<style scoped>\n",
              "    .dataframe tbody tr th:only-of-type {\n",
              "        vertical-align: middle;\n",
              "    }\n",
              "\n",
              "    .dataframe tbody tr th {\n",
              "        vertical-align: top;\n",
              "    }\n",
              "\n",
              "    .dataframe thead th {\n",
              "        text-align: right;\n",
              "    }\n",
              "</style>\n",
              "<table border=\"1\" class=\"dataframe\">\n",
              "  <thead>\n",
              "    <tr style=\"text-align: right;\">\n",
              "      <th></th>\n",
              "      <th>Age</th>\n",
              "      <th>Sex</th>\n",
              "      <th>Job</th>\n",
              "      <th>Housing</th>\n",
              "      <th>Saving accounts</th>\n",
              "      <th>Checking account</th>\n",
              "      <th>Credit amount</th>\n",
              "      <th>Duration</th>\n",
              "      <th>Purpose</th>\n",
              "      <th>Risk</th>\n",
              "    </tr>\n",
              "  </thead>\n",
              "  <tbody>\n",
              "    <tr>\n",
              "      <th>0</th>\n",
              "      <td>67</td>\n",
              "      <td>male</td>\n",
              "      <td>2</td>\n",
              "      <td>own</td>\n",
              "      <td>NaN</td>\n",
              "      <td>little</td>\n",
              "      <td>1169</td>\n",
              "      <td>6</td>\n",
              "      <td>radio/TV</td>\n",
              "      <td>good</td>\n",
              "    </tr>\n",
              "    <tr>\n",
              "      <th>1</th>\n",
              "      <td>22</td>\n",
              "      <td>female</td>\n",
              "      <td>2</td>\n",
              "      <td>own</td>\n",
              "      <td>little</td>\n",
              "      <td>moderate</td>\n",
              "      <td>5951</td>\n",
              "      <td>48</td>\n",
              "      <td>radio/TV</td>\n",
              "      <td>bad</td>\n",
              "    </tr>\n",
              "    <tr>\n",
              "      <th>2</th>\n",
              "      <td>49</td>\n",
              "      <td>male</td>\n",
              "      <td>1</td>\n",
              "      <td>own</td>\n",
              "      <td>little</td>\n",
              "      <td>NaN</td>\n",
              "      <td>2096</td>\n",
              "      <td>12</td>\n",
              "      <td>education</td>\n",
              "      <td>good</td>\n",
              "    </tr>\n",
              "    <tr>\n",
              "      <th>3</th>\n",
              "      <td>45</td>\n",
              "      <td>male</td>\n",
              "      <td>2</td>\n",
              "      <td>free</td>\n",
              "      <td>little</td>\n",
              "      <td>little</td>\n",
              "      <td>7882</td>\n",
              "      <td>42</td>\n",
              "      <td>furniture/equipment</td>\n",
              "      <td>good</td>\n",
              "    </tr>\n",
              "    <tr>\n",
              "      <th>4</th>\n",
              "      <td>53</td>\n",
              "      <td>male</td>\n",
              "      <td>2</td>\n",
              "      <td>free</td>\n",
              "      <td>little</td>\n",
              "      <td>little</td>\n",
              "      <td>4870</td>\n",
              "      <td>24</td>\n",
              "      <td>car</td>\n",
              "      <td>bad</td>\n",
              "    </tr>\n",
              "    <tr>\n",
              "      <th>...</th>\n",
              "      <td>...</td>\n",
              "      <td>...</td>\n",
              "      <td>...</td>\n",
              "      <td>...</td>\n",
              "      <td>...</td>\n",
              "      <td>...</td>\n",
              "      <td>...</td>\n",
              "      <td>...</td>\n",
              "      <td>...</td>\n",
              "      <td>...</td>\n",
              "    </tr>\n",
              "    <tr>\n",
              "      <th>995</th>\n",
              "      <td>31</td>\n",
              "      <td>female</td>\n",
              "      <td>1</td>\n",
              "      <td>own</td>\n",
              "      <td>little</td>\n",
              "      <td>NaN</td>\n",
              "      <td>1736</td>\n",
              "      <td>12</td>\n",
              "      <td>furniture/equipment</td>\n",
              "      <td>good</td>\n",
              "    </tr>\n",
              "    <tr>\n",
              "      <th>996</th>\n",
              "      <td>40</td>\n",
              "      <td>male</td>\n",
              "      <td>3</td>\n",
              "      <td>own</td>\n",
              "      <td>little</td>\n",
              "      <td>little</td>\n",
              "      <td>3857</td>\n",
              "      <td>30</td>\n",
              "      <td>car</td>\n",
              "      <td>good</td>\n",
              "    </tr>\n",
              "    <tr>\n",
              "      <th>997</th>\n",
              "      <td>38</td>\n",
              "      <td>male</td>\n",
              "      <td>2</td>\n",
              "      <td>own</td>\n",
              "      <td>little</td>\n",
              "      <td>NaN</td>\n",
              "      <td>804</td>\n",
              "      <td>12</td>\n",
              "      <td>radio/TV</td>\n",
              "      <td>good</td>\n",
              "    </tr>\n",
              "    <tr>\n",
              "      <th>998</th>\n",
              "      <td>23</td>\n",
              "      <td>male</td>\n",
              "      <td>2</td>\n",
              "      <td>free</td>\n",
              "      <td>little</td>\n",
              "      <td>little</td>\n",
              "      <td>1845</td>\n",
              "      <td>45</td>\n",
              "      <td>radio/TV</td>\n",
              "      <td>bad</td>\n",
              "    </tr>\n",
              "    <tr>\n",
              "      <th>999</th>\n",
              "      <td>27</td>\n",
              "      <td>male</td>\n",
              "      <td>2</td>\n",
              "      <td>own</td>\n",
              "      <td>moderate</td>\n",
              "      <td>moderate</td>\n",
              "      <td>4576</td>\n",
              "      <td>45</td>\n",
              "      <td>car</td>\n",
              "      <td>good</td>\n",
              "    </tr>\n",
              "  </tbody>\n",
              "</table>\n",
              "<p>1000 rows × 10 columns</p>\n",
              "</div>"
            ],
            "text/plain": [
              "     Age     Sex  Job Housing Saving accounts Checking account  Credit amount  \\\n",
              "0     67    male    2     own             NaN           little           1169   \n",
              "1     22  female    2     own          little         moderate           5951   \n",
              "2     49    male    1     own          little              NaN           2096   \n",
              "3     45    male    2    free          little           little           7882   \n",
              "4     53    male    2    free          little           little           4870   \n",
              "..   ...     ...  ...     ...             ...              ...            ...   \n",
              "995   31  female    1     own          little              NaN           1736   \n",
              "996   40    male    3     own          little           little           3857   \n",
              "997   38    male    2     own          little              NaN            804   \n",
              "998   23    male    2    free          little           little           1845   \n",
              "999   27    male    2     own        moderate         moderate           4576   \n",
              "\n",
              "     Duration              Purpose  Risk  \n",
              "0           6             radio/TV  good  \n",
              "1          48             radio/TV   bad  \n",
              "2          12            education  good  \n",
              "3          42  furniture/equipment  good  \n",
              "4          24                  car   bad  \n",
              "..        ...                  ...   ...  \n",
              "995        12  furniture/equipment  good  \n",
              "996        30                  car  good  \n",
              "997        12             radio/TV  good  \n",
              "998        45             radio/TV   bad  \n",
              "999        45                  car  good  \n",
              "\n",
              "[1000 rows x 10 columns]"
            ]
          },
          "execution_count": 2,
          "metadata": {},
          "output_type": "execute_result"
        }
      ],
      "source": [
        "df = pd.read_csv(\"../datasets/german_credit_data.csv\", index_col=0)\n",
        "\n",
        "df"
      ]
    },
    {
      "cell_type": "code",
      "execution_count": null,
      "metadata": {
        "ExecuteTime": {
          "end_time": "2022-02-18T21:35:21.945906Z",
          "start_time": "2022-02-18T21:35:21.933894Z"
        },
        "id": "yhTyeH6bkxCA",
        "outputId": "2a5bc287-9067-42eb-d991-ee32a315a638"
      },
      "outputs": [
        {
          "data": {
            "text/plain": [
              "Age                  int64\n",
              "Sex                 object\n",
              "Job                  int64\n",
              "Housing             object\n",
              "Saving accounts     object\n",
              "Checking account    object\n",
              "Credit amount        int64\n",
              "Duration             int64\n",
              "Purpose             object\n",
              "Risk                object\n",
              "dtype: object"
            ]
          },
          "execution_count": 3,
          "metadata": {},
          "output_type": "execute_result"
        }
      ],
      "source": [
        "df.dtypes"
      ]
    },
    {
      "cell_type": "code",
      "execution_count": null,
      "metadata": {
        "ExecuteTime": {
          "end_time": "2022-02-18T21:35:22.288074Z",
          "start_time": "2022-02-18T21:35:21.949887Z"
        },
        "id": "HIXvBoadkxCA",
        "outputId": "74e30874-d489-4464-bdd0-ed9d272424d2"
      },
      "outputs": [
        {
          "data": {
            "text/plain": [
              "Age                   0\n",
              "Sex                   0\n",
              "Job                   0\n",
              "Housing               0\n",
              "Saving accounts     183\n",
              "Checking account    394\n",
              "Credit amount         0\n",
              "Duration              0\n",
              "Purpose               0\n",
              "Risk                  0\n",
              "dtype: int64"
            ]
          },
          "execution_count": 4,
          "metadata": {},
          "output_type": "execute_result"
        }
      ],
      "source": [
        "df.isnull().sum()"
      ]
    },
    {
      "cell_type": "markdown",
      "metadata": {
        "id": "7erm3E-6kxCB"
      },
      "source": [
        "Em todas os modelos que criamos até agora, sempre nos certificamos que os dados recebidos pelos estimadores não tivessem as duas seguintes carecterísticas:\n",
        "\n",
        "- Dados missing (NaN);\n",
        "- Dados não-numéricos (str)\n",
        "\n",
        "A esta altura, já entendemos bem o porquê disso: os estimadores dependem de algoritmos de aprendizagem, que, de uma forma ou de outra, realizam **cálculos matemáticos** no processo de aprendizagem. Sendo assim, é natural que os dados fornecidos ao estimador devem ser todos numéricos, e sem \"buracos\"!\n",
        "\n",
        "Até o momento, seguimos o caminho mais simples, que é: simplesmente eliminar colunas não numéricas, e colunas/linhas que têm NaNs.\n",
        "\n",
        "Apesar desta ser uma abordagem possível, é evidente que estamos **jogando informação fora**. Deve haver alguma forma menos drástica de resolver o problema, não é mesmo?\n",
        "\n",
        "E é isso que aprenderemos a fazer na aula de hoje, utilizando as ferramentas do sklearn!"
      ]
    },
    {
      "cell_type": "code",
      "execution_count": null,
      "metadata": {
        "ExecuteTime": {
          "end_time": "2022-02-18T21:35:22.349753Z",
          "start_time": "2022-02-18T21:35:22.290065Z"
        },
        "id": "93BLr4XzkxCB"
      },
      "outputs": [],
      "source": [
        "X_cat = df.select_dtypes(exclude=np.number).drop(columns=\"Risk\")"
      ]
    },
    {
      "cell_type": "code",
      "execution_count": null,
      "metadata": {
        "ExecuteTime": {
          "end_time": "2022-02-18T22:06:34.518759Z",
          "start_time": "2022-02-18T22:06:34.502766Z"
        },
        "id": "Lad8UmevkxCB",
        "outputId": "1afe81cb-ac65-4d55-fc24-6d8f17da7e91"
      },
      "outputs": [
        {
          "data": {
            "text/plain": [
              "own     713\n",
              "rent    179\n",
              "free    108\n",
              "Name: Housing, dtype: int64"
            ]
          },
          "execution_count": 19,
          "metadata": {},
          "output_type": "execute_result"
        }
      ],
      "source": [
        "X_cat[\"Housing\"].value_counts()"
      ]
    },
    {
      "cell_type": "code",
      "execution_count": null,
      "metadata": {
        "ExecuteTime": {
          "end_time": "2022-02-18T22:08:22.649016Z",
          "start_time": "2022-02-18T22:08:22.636024Z"
        },
        "id": "CEGhHuUekxCB",
        "outputId": "951561a0-d79d-44af-9ae5-a9ee6ec1dd4b"
      },
      "outputs": [
        {
          "data": {
            "text/plain": [
              "0      1\n",
              "1      1\n",
              "2      1\n",
              "3      0\n",
              "4      0\n",
              "      ..\n",
              "995    1\n",
              "996    1\n",
              "997    1\n",
              "998    0\n",
              "999    1\n",
              "Length: 1000, dtype: int8"
            ]
          },
          "execution_count": 25,
          "metadata": {},
          "output_type": "execute_result"
        }
      ],
      "source": [
        "X_cat[\"Housing\"].astype(\"category\").cat.codes"
      ]
    },
    {
      "cell_type": "code",
      "execution_count": null,
      "metadata": {
        "ExecuteTime": {
          "end_time": "2022-02-18T22:06:57.576882Z",
          "start_time": "2022-02-18T22:06:57.555893Z"
        },
        "id": "BnGbdpkukxCB",
        "outputId": "e9444293-1939-424c-ad5d-11102ebcfbe1"
      },
      "outputs": [
        {
          "data": {
            "text/html": [
              "<div>\n",
              "<style scoped>\n",
              "    .dataframe tbody tr th:only-of-type {\n",
              "        vertical-align: middle;\n",
              "    }\n",
              "\n",
              "    .dataframe tbody tr th {\n",
              "        vertical-align: top;\n",
              "    }\n",
              "\n",
              "    .dataframe thead th {\n",
              "        text-align: right;\n",
              "    }\n",
              "</style>\n",
              "<table border=\"1\" class=\"dataframe\">\n",
              "  <thead>\n",
              "    <tr style=\"text-align: right;\">\n",
              "      <th></th>\n",
              "      <th>free</th>\n",
              "      <th>own</th>\n",
              "      <th>rent</th>\n",
              "    </tr>\n",
              "  </thead>\n",
              "  <tbody>\n",
              "    <tr>\n",
              "      <th>0</th>\n",
              "      <td>0</td>\n",
              "      <td>1</td>\n",
              "      <td>0</td>\n",
              "    </tr>\n",
              "    <tr>\n",
              "      <th>1</th>\n",
              "      <td>0</td>\n",
              "      <td>1</td>\n",
              "      <td>0</td>\n",
              "    </tr>\n",
              "    <tr>\n",
              "      <th>2</th>\n",
              "      <td>0</td>\n",
              "      <td>1</td>\n",
              "      <td>0</td>\n",
              "    </tr>\n",
              "    <tr>\n",
              "      <th>3</th>\n",
              "      <td>1</td>\n",
              "      <td>0</td>\n",
              "      <td>0</td>\n",
              "    </tr>\n",
              "    <tr>\n",
              "      <th>4</th>\n",
              "      <td>1</td>\n",
              "      <td>0</td>\n",
              "      <td>0</td>\n",
              "    </tr>\n",
              "    <tr>\n",
              "      <th>...</th>\n",
              "      <td>...</td>\n",
              "      <td>...</td>\n",
              "      <td>...</td>\n",
              "    </tr>\n",
              "    <tr>\n",
              "      <th>995</th>\n",
              "      <td>0</td>\n",
              "      <td>1</td>\n",
              "      <td>0</td>\n",
              "    </tr>\n",
              "    <tr>\n",
              "      <th>996</th>\n",
              "      <td>0</td>\n",
              "      <td>1</td>\n",
              "      <td>0</td>\n",
              "    </tr>\n",
              "    <tr>\n",
              "      <th>997</th>\n",
              "      <td>0</td>\n",
              "      <td>1</td>\n",
              "      <td>0</td>\n",
              "    </tr>\n",
              "    <tr>\n",
              "      <th>998</th>\n",
              "      <td>1</td>\n",
              "      <td>0</td>\n",
              "      <td>0</td>\n",
              "    </tr>\n",
              "    <tr>\n",
              "      <th>999</th>\n",
              "      <td>0</td>\n",
              "      <td>1</td>\n",
              "      <td>0</td>\n",
              "    </tr>\n",
              "  </tbody>\n",
              "</table>\n",
              "<p>1000 rows × 3 columns</p>\n",
              "</div>"
            ],
            "text/plain": [
              "     free  own  rent\n",
              "0       0    1     0\n",
              "1       0    1     0\n",
              "2       0    1     0\n",
              "3       1    0     0\n",
              "4       1    0     0\n",
              "..    ...  ...   ...\n",
              "995     0    1     0\n",
              "996     0    1     0\n",
              "997     0    1     0\n",
              "998     1    0     0\n",
              "999     0    1     0\n",
              "\n",
              "[1000 rows x 3 columns]"
            ]
          },
          "execution_count": 20,
          "metadata": {},
          "output_type": "execute_result"
        }
      ],
      "source": [
        "pd.get_dummies(X_cat[\"Housing\"])"
      ]
    },
    {
      "cell_type": "code",
      "execution_count": null,
      "metadata": {
        "ExecuteTime": {
          "end_time": "2022-02-18T21:35:22.694791Z",
          "start_time": "2022-02-18T21:35:22.351732Z"
        },
        "id": "kGH_LdxSkxCC",
        "outputId": "f9b39734-6621-4f93-f128-2a1505d6e142"
      },
      "outputs": [
        {
          "data": {
            "text/html": [
              "<div>\n",
              "<style scoped>\n",
              "    .dataframe tbody tr th:only-of-type {\n",
              "        vertical-align: middle;\n",
              "    }\n",
              "\n",
              "    .dataframe tbody tr th {\n",
              "        vertical-align: top;\n",
              "    }\n",
              "\n",
              "    .dataframe thead th {\n",
              "        text-align: right;\n",
              "    }\n",
              "</style>\n",
              "<table border=\"1\" class=\"dataframe\">\n",
              "  <thead>\n",
              "    <tr style=\"text-align: right;\">\n",
              "      <th></th>\n",
              "      <th>Sex_female</th>\n",
              "      <th>Sex_male</th>\n",
              "      <th>Housing_free</th>\n",
              "      <th>Housing_own</th>\n",
              "      <th>Housing_rent</th>\n",
              "      <th>Saving accounts_little</th>\n",
              "      <th>Saving accounts_moderate</th>\n",
              "      <th>Saving accounts_quite rich</th>\n",
              "      <th>Saving accounts_rich</th>\n",
              "      <th>Checking account_little</th>\n",
              "      <th>Checking account_moderate</th>\n",
              "      <th>Checking account_rich</th>\n",
              "      <th>Purpose_business</th>\n",
              "      <th>Purpose_car</th>\n",
              "      <th>Purpose_domestic appliances</th>\n",
              "      <th>Purpose_education</th>\n",
              "      <th>Purpose_furniture/equipment</th>\n",
              "      <th>Purpose_radio/TV</th>\n",
              "      <th>Purpose_repairs</th>\n",
              "      <th>Purpose_vacation/others</th>\n",
              "    </tr>\n",
              "  </thead>\n",
              "  <tbody>\n",
              "    <tr>\n",
              "      <th>0</th>\n",
              "      <td>0</td>\n",
              "      <td>1</td>\n",
              "      <td>0</td>\n",
              "      <td>1</td>\n",
              "      <td>0</td>\n",
              "      <td>0</td>\n",
              "      <td>0</td>\n",
              "      <td>0</td>\n",
              "      <td>0</td>\n",
              "      <td>1</td>\n",
              "      <td>0</td>\n",
              "      <td>0</td>\n",
              "      <td>0</td>\n",
              "      <td>0</td>\n",
              "      <td>0</td>\n",
              "      <td>0</td>\n",
              "      <td>0</td>\n",
              "      <td>1</td>\n",
              "      <td>0</td>\n",
              "      <td>0</td>\n",
              "    </tr>\n",
              "    <tr>\n",
              "      <th>1</th>\n",
              "      <td>1</td>\n",
              "      <td>0</td>\n",
              "      <td>0</td>\n",
              "      <td>1</td>\n",
              "      <td>0</td>\n",
              "      <td>1</td>\n",
              "      <td>0</td>\n",
              "      <td>0</td>\n",
              "      <td>0</td>\n",
              "      <td>0</td>\n",
              "      <td>1</td>\n",
              "      <td>0</td>\n",
              "      <td>0</td>\n",
              "      <td>0</td>\n",
              "      <td>0</td>\n",
              "      <td>0</td>\n",
              "      <td>0</td>\n",
              "      <td>1</td>\n",
              "      <td>0</td>\n",
              "      <td>0</td>\n",
              "    </tr>\n",
              "    <tr>\n",
              "      <th>2</th>\n",
              "      <td>0</td>\n",
              "      <td>1</td>\n",
              "      <td>0</td>\n",
              "      <td>1</td>\n",
              "      <td>0</td>\n",
              "      <td>1</td>\n",
              "      <td>0</td>\n",
              "      <td>0</td>\n",
              "      <td>0</td>\n",
              "      <td>0</td>\n",
              "      <td>0</td>\n",
              "      <td>0</td>\n",
              "      <td>0</td>\n",
              "      <td>0</td>\n",
              "      <td>0</td>\n",
              "      <td>1</td>\n",
              "      <td>0</td>\n",
              "      <td>0</td>\n",
              "      <td>0</td>\n",
              "      <td>0</td>\n",
              "    </tr>\n",
              "    <tr>\n",
              "      <th>3</th>\n",
              "      <td>0</td>\n",
              "      <td>1</td>\n",
              "      <td>1</td>\n",
              "      <td>0</td>\n",
              "      <td>0</td>\n",
              "      <td>1</td>\n",
              "      <td>0</td>\n",
              "      <td>0</td>\n",
              "      <td>0</td>\n",
              "      <td>1</td>\n",
              "      <td>0</td>\n",
              "      <td>0</td>\n",
              "      <td>0</td>\n",
              "      <td>0</td>\n",
              "      <td>0</td>\n",
              "      <td>0</td>\n",
              "      <td>1</td>\n",
              "      <td>0</td>\n",
              "      <td>0</td>\n",
              "      <td>0</td>\n",
              "    </tr>\n",
              "    <tr>\n",
              "      <th>4</th>\n",
              "      <td>0</td>\n",
              "      <td>1</td>\n",
              "      <td>1</td>\n",
              "      <td>0</td>\n",
              "      <td>0</td>\n",
              "      <td>1</td>\n",
              "      <td>0</td>\n",
              "      <td>0</td>\n",
              "      <td>0</td>\n",
              "      <td>1</td>\n",
              "      <td>0</td>\n",
              "      <td>0</td>\n",
              "      <td>0</td>\n",
              "      <td>1</td>\n",
              "      <td>0</td>\n",
              "      <td>0</td>\n",
              "      <td>0</td>\n",
              "      <td>0</td>\n",
              "      <td>0</td>\n",
              "      <td>0</td>\n",
              "    </tr>\n",
              "    <tr>\n",
              "      <th>...</th>\n",
              "      <td>...</td>\n",
              "      <td>...</td>\n",
              "      <td>...</td>\n",
              "      <td>...</td>\n",
              "      <td>...</td>\n",
              "      <td>...</td>\n",
              "      <td>...</td>\n",
              "      <td>...</td>\n",
              "      <td>...</td>\n",
              "      <td>...</td>\n",
              "      <td>...</td>\n",
              "      <td>...</td>\n",
              "      <td>...</td>\n",
              "      <td>...</td>\n",
              "      <td>...</td>\n",
              "      <td>...</td>\n",
              "      <td>...</td>\n",
              "      <td>...</td>\n",
              "      <td>...</td>\n",
              "      <td>...</td>\n",
              "    </tr>\n",
              "    <tr>\n",
              "      <th>995</th>\n",
              "      <td>1</td>\n",
              "      <td>0</td>\n",
              "      <td>0</td>\n",
              "      <td>1</td>\n",
              "      <td>0</td>\n",
              "      <td>1</td>\n",
              "      <td>0</td>\n",
              "      <td>0</td>\n",
              "      <td>0</td>\n",
              "      <td>0</td>\n",
              "      <td>0</td>\n",
              "      <td>0</td>\n",
              "      <td>0</td>\n",
              "      <td>0</td>\n",
              "      <td>0</td>\n",
              "      <td>0</td>\n",
              "      <td>1</td>\n",
              "      <td>0</td>\n",
              "      <td>0</td>\n",
              "      <td>0</td>\n",
              "    </tr>\n",
              "    <tr>\n",
              "      <th>996</th>\n",
              "      <td>0</td>\n",
              "      <td>1</td>\n",
              "      <td>0</td>\n",
              "      <td>1</td>\n",
              "      <td>0</td>\n",
              "      <td>1</td>\n",
              "      <td>0</td>\n",
              "      <td>0</td>\n",
              "      <td>0</td>\n",
              "      <td>1</td>\n",
              "      <td>0</td>\n",
              "      <td>0</td>\n",
              "      <td>0</td>\n",
              "      <td>1</td>\n",
              "      <td>0</td>\n",
              "      <td>0</td>\n",
              "      <td>0</td>\n",
              "      <td>0</td>\n",
              "      <td>0</td>\n",
              "      <td>0</td>\n",
              "    </tr>\n",
              "    <tr>\n",
              "      <th>997</th>\n",
              "      <td>0</td>\n",
              "      <td>1</td>\n",
              "      <td>0</td>\n",
              "      <td>1</td>\n",
              "      <td>0</td>\n",
              "      <td>1</td>\n",
              "      <td>0</td>\n",
              "      <td>0</td>\n",
              "      <td>0</td>\n",
              "      <td>0</td>\n",
              "      <td>0</td>\n",
              "      <td>0</td>\n",
              "      <td>0</td>\n",
              "      <td>0</td>\n",
              "      <td>0</td>\n",
              "      <td>0</td>\n",
              "      <td>0</td>\n",
              "      <td>1</td>\n",
              "      <td>0</td>\n",
              "      <td>0</td>\n",
              "    </tr>\n",
              "    <tr>\n",
              "      <th>998</th>\n",
              "      <td>0</td>\n",
              "      <td>1</td>\n",
              "      <td>1</td>\n",
              "      <td>0</td>\n",
              "      <td>0</td>\n",
              "      <td>1</td>\n",
              "      <td>0</td>\n",
              "      <td>0</td>\n",
              "      <td>0</td>\n",
              "      <td>1</td>\n",
              "      <td>0</td>\n",
              "      <td>0</td>\n",
              "      <td>0</td>\n",
              "      <td>0</td>\n",
              "      <td>0</td>\n",
              "      <td>0</td>\n",
              "      <td>0</td>\n",
              "      <td>1</td>\n",
              "      <td>0</td>\n",
              "      <td>0</td>\n",
              "    </tr>\n",
              "    <tr>\n",
              "      <th>999</th>\n",
              "      <td>0</td>\n",
              "      <td>1</td>\n",
              "      <td>0</td>\n",
              "      <td>1</td>\n",
              "      <td>0</td>\n",
              "      <td>0</td>\n",
              "      <td>1</td>\n",
              "      <td>0</td>\n",
              "      <td>0</td>\n",
              "      <td>0</td>\n",
              "      <td>1</td>\n",
              "      <td>0</td>\n",
              "      <td>0</td>\n",
              "      <td>1</td>\n",
              "      <td>0</td>\n",
              "      <td>0</td>\n",
              "      <td>0</td>\n",
              "      <td>0</td>\n",
              "      <td>0</td>\n",
              "      <td>0</td>\n",
              "    </tr>\n",
              "  </tbody>\n",
              "</table>\n",
              "<p>1000 rows × 20 columns</p>\n",
              "</div>"
            ],
            "text/plain": [
              "     Sex_female  Sex_male  Housing_free  Housing_own  Housing_rent  \\\n",
              "0             0         1             0            1             0   \n",
              "1             1         0             0            1             0   \n",
              "2             0         1             0            1             0   \n",
              "3             0         1             1            0             0   \n",
              "4             0         1             1            0             0   \n",
              "..          ...       ...           ...          ...           ...   \n",
              "995           1         0             0            1             0   \n",
              "996           0         1             0            1             0   \n",
              "997           0         1             0            1             0   \n",
              "998           0         1             1            0             0   \n",
              "999           0         1             0            1             0   \n",
              "\n",
              "     Saving accounts_little  Saving accounts_moderate  \\\n",
              "0                         0                         0   \n",
              "1                         1                         0   \n",
              "2                         1                         0   \n",
              "3                         1                         0   \n",
              "4                         1                         0   \n",
              "..                      ...                       ...   \n",
              "995                       1                         0   \n",
              "996                       1                         0   \n",
              "997                       1                         0   \n",
              "998                       1                         0   \n",
              "999                       0                         1   \n",
              "\n",
              "     Saving accounts_quite rich  Saving accounts_rich  \\\n",
              "0                             0                     0   \n",
              "1                             0                     0   \n",
              "2                             0                     0   \n",
              "3                             0                     0   \n",
              "4                             0                     0   \n",
              "..                          ...                   ...   \n",
              "995                           0                     0   \n",
              "996                           0                     0   \n",
              "997                           0                     0   \n",
              "998                           0                     0   \n",
              "999                           0                     0   \n",
              "\n",
              "     Checking account_little  Checking account_moderate  \\\n",
              "0                          1                          0   \n",
              "1                          0                          1   \n",
              "2                          0                          0   \n",
              "3                          1                          0   \n",
              "4                          1                          0   \n",
              "..                       ...                        ...   \n",
              "995                        0                          0   \n",
              "996                        1                          0   \n",
              "997                        0                          0   \n",
              "998                        1                          0   \n",
              "999                        0                          1   \n",
              "\n",
              "     Checking account_rich  Purpose_business  Purpose_car  \\\n",
              "0                        0                 0            0   \n",
              "1                        0                 0            0   \n",
              "2                        0                 0            0   \n",
              "3                        0                 0            0   \n",
              "4                        0                 0            1   \n",
              "..                     ...               ...          ...   \n",
              "995                      0                 0            0   \n",
              "996                      0                 0            1   \n",
              "997                      0                 0            0   \n",
              "998                      0                 0            0   \n",
              "999                      0                 0            1   \n",
              "\n",
              "     Purpose_domestic appliances  Purpose_education  \\\n",
              "0                              0                  0   \n",
              "1                              0                  0   \n",
              "2                              0                  1   \n",
              "3                              0                  0   \n",
              "4                              0                  0   \n",
              "..                           ...                ...   \n",
              "995                            0                  0   \n",
              "996                            0                  0   \n",
              "997                            0                  0   \n",
              "998                            0                  0   \n",
              "999                            0                  0   \n",
              "\n",
              "     Purpose_furniture/equipment  Purpose_radio/TV  Purpose_repairs  \\\n",
              "0                              0                 1                0   \n",
              "1                              0                 1                0   \n",
              "2                              0                 0                0   \n",
              "3                              1                 0                0   \n",
              "4                              0                 0                0   \n",
              "..                           ...               ...              ...   \n",
              "995                            1                 0                0   \n",
              "996                            0                 0                0   \n",
              "997                            0                 1                0   \n",
              "998                            0                 1                0   \n",
              "999                            0                 0                0   \n",
              "\n",
              "     Purpose_vacation/others  \n",
              "0                          0  \n",
              "1                          0  \n",
              "2                          0  \n",
              "3                          0  \n",
              "4                          0  \n",
              "..                       ...  \n",
              "995                        0  \n",
              "996                        0  \n",
              "997                        0  \n",
              "998                        0  \n",
              "999                        0  \n",
              "\n",
              "[1000 rows x 20 columns]"
            ]
          },
          "execution_count": 6,
          "metadata": {},
          "output_type": "execute_result"
        }
      ],
      "source": [
        "pd.get_dummies(X_cat)"
      ]
    },
    {
      "cell_type": "code",
      "execution_count": null,
      "metadata": {
        "ExecuteTime": {
          "end_time": "2022-02-18T21:35:22.757340Z",
          "start_time": "2022-02-18T21:35:22.697792Z"
        },
        "id": "1WoNPQJbkxCC",
        "outputId": "46f1f8f4-b03a-46d9-dce3-e074974f821b"
      },
      "outputs": [
        {
          "data": {
            "text/plain": [
              "Sex                   0\n",
              "Housing               0\n",
              "Saving accounts     183\n",
              "Checking account    394\n",
              "Purpose               0\n",
              "dtype: int64"
            ]
          },
          "execution_count": 7,
          "metadata": {},
          "output_type": "execute_result"
        }
      ],
      "source": [
        "X_cat.isnull().sum()"
      ]
    },
    {
      "cell_type": "code",
      "execution_count": null,
      "metadata": {
        "ExecuteTime": {
          "end_time": "2022-02-18T22:09:32.221113Z",
          "start_time": "2022-02-18T22:09:32.206121Z"
        },
        "id": "FTGGkeLukxCC",
        "outputId": "b2ce3d52-55dc-44ce-a7b7-0a8145c9e214"
      },
      "outputs": [
        {
          "data": {
            "text/plain": [
              "little        603\n",
              "NaN           183\n",
              "moderate      103\n",
              "quite rich     63\n",
              "rich           48\n",
              "Name: Saving accounts, dtype: int64"
            ]
          },
          "execution_count": 26,
          "metadata": {},
          "output_type": "execute_result"
        }
      ],
      "source": [
        "X_cat[\"Saving accounts\"].value_counts(dropna=False)"
      ]
    },
    {
      "cell_type": "code",
      "execution_count": null,
      "metadata": {
        "ExecuteTime": {
          "end_time": "2022-02-18T21:35:22.960754Z",
          "start_time": "2022-02-18T21:35:22.760338Z"
        },
        "id": "FrmU9bkkkxCD",
        "outputId": "cb21497a-1b7c-4a6d-b813-7f4b9153c21d"
      },
      "outputs": [
        {
          "data": {
            "text/plain": [
              "0       unknown\n",
              "1        little\n",
              "2        little\n",
              "3        little\n",
              "4        little\n",
              "         ...   \n",
              "995      little\n",
              "996      little\n",
              "997      little\n",
              "998      little\n",
              "999    moderate\n",
              "Name: Saving accounts, Length: 1000, dtype: object"
            ]
          },
          "execution_count": 8,
          "metadata": {},
          "output_type": "execute_result"
        }
      ],
      "source": [
        "X_cat[\"Saving accounts\"].fillna(\"unknown\")"
      ]
    },
    {
      "cell_type": "code",
      "execution_count": null,
      "metadata": {
        "ExecuteTime": {
          "end_time": "2022-02-18T21:35:23.086224Z",
          "start_time": "2022-02-18T21:35:22.963733Z"
        },
        "id": "-kjZgEgekxCD",
        "outputId": "935739ec-1689-448e-ded2-741804ebd550"
      },
      "outputs": [
        {
          "data": {
            "text/plain": [
              "0    little\n",
              "dtype: object"
            ]
          },
          "execution_count": 9,
          "metadata": {},
          "output_type": "execute_result"
        }
      ],
      "source": [
        "X_cat[\"Saving accounts\"].mode()"
      ]
    },
    {
      "cell_type": "code",
      "execution_count": null,
      "metadata": {
        "ExecuteTime": {
          "end_time": "2022-02-18T21:35:23.148009Z",
          "start_time": "2022-02-18T21:35:23.089195Z"
        },
        "id": "pdiBccqRkxCD",
        "outputId": "75a1fda1-f56f-4a12-b8e2-8d0974b3f53d"
      },
      "outputs": [
        {
          "data": {
            "text/plain": [
              "0        little\n",
              "1        little\n",
              "2        little\n",
              "3        little\n",
              "4        little\n",
              "         ...   \n",
              "995      little\n",
              "996      little\n",
              "997      little\n",
              "998      little\n",
              "999    moderate\n",
              "Name: Saving accounts, Length: 1000, dtype: object"
            ]
          },
          "execution_count": 10,
          "metadata": {},
          "output_type": "execute_result"
        }
      ],
      "source": [
        "X_cat[\"Saving accounts\"].fillna(X_cat[\"Saving accounts\"].mode())"
      ]
    },
    {
      "cell_type": "markdown",
      "metadata": {
        "id": "E06S6WrckxCE"
      },
      "source": [
        "Na prática, faremos isso com o sklearn, como uma etapa da pipeline!"
      ]
    },
    {
      "cell_type": "markdown",
      "metadata": {
        "id": "V8P79JMHkxCE"
      },
      "source": [
        "_________________"
      ]
    },
    {
      "cell_type": "markdown",
      "metadata": {
        "id": "QA1NeOvqkxCE"
      },
      "source": [
        "Antes de avançarmos, vamos fazer o train-test split -- mas desta vez com todas as features, bem como dados missing!"
      ]
    },
    {
      "cell_type": "code",
      "execution_count": null,
      "metadata": {
        "ExecuteTime": {
          "end_time": "2022-02-18T21:35:24.992084Z",
          "start_time": "2022-02-18T21:35:23.150008Z"
        },
        "id": "cFl55orpkxCF"
      },
      "outputs": [],
      "source": [
        "from sklearn.model_selection import train_test_split"
      ]
    },
    {
      "cell_type": "code",
      "execution_count": null,
      "metadata": {
        "ExecuteTime": {
          "end_time": "2022-02-18T21:35:25.006815Z",
          "start_time": "2022-02-18T21:35:24.992084Z"
        },
        "id": "H0Ful3yXkxCF"
      },
      "outputs": [],
      "source": [
        "df = pd.read_csv(\"../datasets/german_credit_data.csv\", index_col=0)\n",
        "\n",
        "X = df.drop(columns=\"Risk\")\n",
        "y = df[\"Risk\"]\n",
        "\n",
        "X_train, X_test, y_train, y_test = train_test_split(X, y, test_size=0.2, random_state=42, stratify=y)"
      ]
    },
    {
      "cell_type": "markdown",
      "metadata": {
        "id": "8cjJpt_akxCG"
      },
      "source": [
        "## 1) Preenchendo NaNs com o sklearn\n",
        "\n",
        "No submódulo [sklearn.impute](https://scikit-learn.org/stable/modules/classes.html#module-sklearn.impute), existem algumas classes que são utilizadas para a o preenchimento (input) de dados NaN.\n",
        "\n",
        "Sugiro a leitura do [User Guide](https://scikit-learn.org/stable/modules/impute.html) para maiores detalhes sobre os inputers.\n",
        "\n",
        "Vamos utilizar o [SimpleImputer](https://scikit-learn.org/stable/modules/generated/sklearn.impute.SimpleImputer.html#sklearn.impute.SimpleImputer), que preenche os dados de uma coluna a partir de estatísticas descritivas dos dados naquela coluna -- no nosso caso, as colunas com NaNs são colunas categóricas. Portanto, os NaNs serão preenchidos **com a moda** de cada coluna!\n",
        "\n",
        "Os inputers se comportam como transformers, no que diz respeito aos métodos `.fit()` e `.transform()`. Por este motivo, aqui também é muito importante que eles **sejam fitados apenas nos dados de treino!**. \n",
        "\n",
        "O Pipeline irá garantir isso pra gente depois, automaticamente!"
      ]
    },
    {
      "cell_type": "code",
      "execution_count": null,
      "metadata": {
        "ExecuteTime": {
          "end_time": "2022-02-18T21:35:25.155380Z",
          "start_time": "2022-02-18T21:35:25.010814Z"
        },
        "id": "WQc8tRhNkxCG",
        "outputId": "0a16e133-35d9-42e0-b0a8-bda767c31c94"
      },
      "outputs": [
        {
          "data": {
            "text/plain": [
              "Age                   0\n",
              "Sex                   0\n",
              "Job                   0\n",
              "Housing               0\n",
              "Saving accounts     183\n",
              "Checking account    394\n",
              "Credit amount         0\n",
              "Duration              0\n",
              "Purpose               0\n",
              "Risk                  0\n",
              "dtype: int64"
            ]
          },
          "execution_count": 13,
          "metadata": {},
          "output_type": "execute_result"
        }
      ],
      "source": [
        "df.isnull().sum()"
      ]
    },
    {
      "cell_type": "code",
      "execution_count": null,
      "metadata": {
        "ExecuteTime": {
          "end_time": "2022-02-18T22:19:03.487998Z",
          "start_time": "2022-02-18T22:19:03.468005Z"
        },
        "id": "BuTEp6q_kxCH"
      },
      "outputs": [],
      "source": [
        "from sklearn.impute import SimpleImputer\n",
        "\n",
        "inputer_constant = SimpleImputer(strategy=\"constant\", fill_value=\"none\").fit(X_train)\n",
        "\n",
        "inputer_mode = SimpleImputer(strategy=\"most_frequent\").fit(X_train)"
      ]
    },
    {
      "cell_type": "code",
      "execution_count": null,
      "metadata": {
        "ExecuteTime": {
          "end_time": "2022-02-18T22:19:04.069366Z",
          "start_time": "2022-02-18T22:19:04.046378Z"
        },
        "id": "GqkmUyQBkxCH",
        "outputId": "82269b11-80b9-464b-ae95-b03665dd5830"
      },
      "outputs": [
        {
          "data": {
            "text/plain": [
              "little        480\n",
              "NaN           149\n",
              "moderate       87\n",
              "quite rich     48\n",
              "rich           36\n",
              "Name: Saving accounts, dtype: int64"
            ]
          },
          "metadata": {},
          "output_type": "display_data"
        },
        {
          "data": {
            "text/plain": [
              "NaN         323\n",
              "little      225\n",
              "moderate    201\n",
              "rich         51\n",
              "Name: Checking account, dtype: int64"
            ]
          },
          "metadata": {},
          "output_type": "display_data"
        }
      ],
      "source": [
        "display(X_train[\"Saving accounts\"].value_counts(dropna=False))\n",
        "\n",
        "display(X_train[\"Checking account\"].value_counts(dropna=False))"
      ]
    },
    {
      "cell_type": "code",
      "execution_count": null,
      "metadata": {
        "ExecuteTime": {
          "end_time": "2022-02-18T22:19:04.908580Z",
          "start_time": "2022-02-18T22:19:04.870581Z"
        },
        "id": "YZi6oj28kxCH",
        "outputId": "b0747152-4336-4aed-e8a6-6a5a28f2867d"
      },
      "outputs": [
        {
          "data": {
            "text/plain": [
              "little        480\n",
              "none          149\n",
              "moderate       87\n",
              "quite rich     48\n",
              "rich           36\n",
              "Name: Saving accounts, dtype: int64"
            ]
          },
          "metadata": {},
          "output_type": "display_data"
        },
        {
          "data": {
            "text/plain": [
              "none        323\n",
              "little      225\n",
              "moderate    201\n",
              "rich         51\n",
              "Name: Checking account, dtype: int64"
            ]
          },
          "metadata": {},
          "output_type": "display_data"
        }
      ],
      "source": [
        "X_train_inputed_constant = pd.DataFrame(inputer_constant.transform(X_train), columns=X_train.columns)\n",
        "\n",
        "display(X_train_inputed_constant[\"Saving accounts\"].value_counts(dropna=False))\n",
        "\n",
        "display(X_train_inputed_constant[\"Checking account\"].value_counts(dropna=False))"
      ]
    },
    {
      "cell_type": "code",
      "execution_count": null,
      "metadata": {
        "ExecuteTime": {
          "end_time": "2022-02-18T21:35:26.368858Z",
          "start_time": "2022-02-18T21:35:26.290673Z"
        },
        "id": "zItLQj24kxCH",
        "outputId": "cad5ae31-7331-4a54-d80f-28625977a8ad"
      },
      "outputs": [
        {
          "data": {
            "text/plain": [
              "little        629\n",
              "moderate       87\n",
              "quite rich     48\n",
              "rich           36\n",
              "Name: Saving accounts, dtype: int64"
            ]
          },
          "metadata": {},
          "output_type": "display_data"
        },
        {
          "data": {
            "text/plain": [
              "little      548\n",
              "moderate    201\n",
              "rich         51\n",
              "Name: Checking account, dtype: int64"
            ]
          },
          "metadata": {},
          "output_type": "display_data"
        }
      ],
      "source": [
        "X_train_inputed_mode = pd.DataFrame(inputer_mode.transform(X_train), columns=X_train.columns)\n",
        "\n",
        "display(X_train_inputed_mode[\"Saving accounts\"].value_counts(dropna=False))\n",
        "\n",
        "display(X_train_inputed_mode[\"Checking account\"].value_counts(dropna=False))"
      ]
    },
    {
      "cell_type": "markdown",
      "metadata": {
        "id": "uIcpZ2ZlkxCI"
      },
      "source": [
        "Na prática, vamos **adicionar o inputer como parte do nosso Pipeline**, e, com isso, garantiremos que o data leakage não vai acontecer! ;)"
      ]
    },
    {
      "cell_type": "markdown",
      "metadata": {
        "id": "-47hSYe2kxCI"
      },
      "source": [
        "Obs.: como fizemos, o sklearn irá transformar todas as colunas em dados do tipo `object`. \n",
        "\n",
        "Isso porque o inputer foi fitado **com todas as colunas**, o que inclui as numéricas também.\n",
        "\n",
        "Para evitar isso, seria legal usar o inputer **apenas em colunas determinadas**. Faremos isso com a Pipeline! ;)"
      ]
    },
    {
      "cell_type": "code",
      "execution_count": null,
      "metadata": {
        "ExecuteTime": {
          "end_time": "2022-02-18T22:21:17.458104Z",
          "start_time": "2022-02-18T22:21:17.372151Z"
        },
        "id": "J6zooF--kxCI",
        "outputId": "47f2295a-5e4d-47b9-a51a-0ff9fc868fec"
      },
      "outputs": [
        {
          "name": "stdout",
          "output_type": "stream",
          "text": [
            "<class 'pandas.core.frame.DataFrame'>\n",
            "Int64Index: 800 entries, 675 to 695\n",
            "Data columns (total 9 columns):\n",
            " #   Column            Non-Null Count  Dtype \n",
            "---  ------            --------------  ----- \n",
            " 0   Age               800 non-null    int64 \n",
            " 1   Sex               800 non-null    object\n",
            " 2   Job               800 non-null    int64 \n",
            " 3   Housing           800 non-null    object\n",
            " 4   Saving accounts   651 non-null    object\n",
            " 5   Checking account  477 non-null    object\n",
            " 6   Credit amount     800 non-null    int64 \n",
            " 7   Duration          800 non-null    int64 \n",
            " 8   Purpose           800 non-null    object\n",
            "dtypes: int64(4), object(5)\n",
            "memory usage: 62.5+ KB\n"
          ]
        }
      ],
      "source": [
        "X_train.info()"
      ]
    },
    {
      "cell_type": "code",
      "execution_count": null,
      "metadata": {
        "ExecuteTime": {
          "end_time": "2022-02-18T22:21:31.004984Z",
          "start_time": "2022-02-18T22:21:30.981995Z"
        },
        "id": "LnhMq2A_kxCI",
        "outputId": "80494cc9-d650-43eb-dcf4-facb2dcd6bac"
      },
      "outputs": [
        {
          "name": "stdout",
          "output_type": "stream",
          "text": [
            "<class 'pandas.core.frame.DataFrame'>\n",
            "RangeIndex: 800 entries, 0 to 799\n",
            "Data columns (total 9 columns):\n",
            " #   Column            Non-Null Count  Dtype \n",
            "---  ------            --------------  ----- \n",
            " 0   Age               800 non-null    object\n",
            " 1   Sex               800 non-null    object\n",
            " 2   Job               800 non-null    object\n",
            " 3   Housing           800 non-null    object\n",
            " 4   Saving accounts   800 non-null    object\n",
            " 5   Checking account  800 non-null    object\n",
            " 6   Credit amount     800 non-null    object\n",
            " 7   Duration          800 non-null    object\n",
            " 8   Purpose           800 non-null    object\n",
            "dtypes: object(9)\n",
            "memory usage: 56.4+ KB\n"
          ]
        }
      ],
      "source": [
        "X_train_inputed_mode.info()"
      ]
    },
    {
      "cell_type": "markdown",
      "metadata": {
        "id": "Ps5Kp5v3kxCI"
      },
      "source": [
        "____\n",
        "_____\n",
        "____"
      ]
    },
    {
      "cell_type": "markdown",
      "metadata": {
        "id": "JrfpAiJ_kxCI"
      },
      "source": [
        "## 2) Utilizando dados categóricos com o sklearn\n",
        "\n",
        "No módulo 3, aprendemos como numerizar features categóricas usando o `pd.get_dummies()`, bem como usando o `.astype(\"category\").cat.codes`.\n",
        "\n",
        "Agora, com o objetivo de incluir essas estratégias de pré-processamento no pipeline, é importante que também usemos o sklearn pra fazer isso!\n",
        "\n",
        "As classes relevantes são:\n",
        "\n",
        "- [OneHotEncoder](https://scikit-learn.org/stable/modules/generated/sklearn.preprocessing.OneHotEncoder.html#sklearn.preprocessing.OneHotEncoder) - faz o one-hot encoding;\n",
        "- [OrdinalEncoder](https://scikit-learn.org/stable/modules/generated/sklearn.preprocessing.OrdinalEncoder.html#sklearn.preprocessing.OrdinalEncoder) - faz o categorical (ordinal) encoding.\n",
        "\n",
        "Ambos os encoders também funcionam com os métodos `.fit()` e `.transform()`, então também é uma boa ideia colocá-los **como etapa inicial da Pipeline**.\n",
        "\n",
        "Mas, para ilustrar seu funcionamento, vejamos a seguir."
      ]
    },
    {
      "cell_type": "code",
      "execution_count": null,
      "metadata": {
        "ExecuteTime": {
          "end_time": "2022-02-18T22:24:27.480470Z",
          "start_time": "2022-02-18T22:24:27.461478Z"
        },
        "id": "-jcp_Bf9kxCI",
        "outputId": "2a3ee158-f0b3-4cf8-c01e-0a77a87a1f0b"
      },
      "outputs": [
        {
          "name": "stdout",
          "output_type": "stream",
          "text": [
            "<class 'pandas.core.frame.DataFrame'>\n",
            "Int64Index: 800 entries, 675 to 695\n",
            "Data columns (total 9 columns):\n",
            " #   Column            Non-Null Count  Dtype \n",
            "---  ------            --------------  ----- \n",
            " 0   Age               800 non-null    int64 \n",
            " 1   Sex               800 non-null    object\n",
            " 2   Job               800 non-null    int64 \n",
            " 3   Housing           800 non-null    object\n",
            " 4   Saving accounts   651 non-null    object\n",
            " 5   Checking account  477 non-null    object\n",
            " 6   Credit amount     800 non-null    int64 \n",
            " 7   Duration          800 non-null    int64 \n",
            " 8   Purpose           800 non-null    object\n",
            "dtypes: int64(4), object(5)\n",
            "memory usage: 62.5+ KB\n"
          ]
        }
      ],
      "source": [
        "X_train.info()"
      ]
    },
    {
      "cell_type": "code",
      "execution_count": null,
      "metadata": {
        "ExecuteTime": {
          "end_time": "2022-02-18T22:24:10.082256Z",
          "start_time": "2022-02-18T22:24:10.061271Z"
        },
        "id": "H334fWiokxCJ",
        "outputId": "34b2e4b9-5075-4c4c-d82f-e16b825d9a8d"
      },
      "outputs": [
        {
          "name": "stdout",
          "output_type": "stream",
          "text": [
            "<class 'pandas.core.frame.DataFrame'>\n",
            "RangeIndex: 800 entries, 0 to 799\n",
            "Data columns (total 9 columns):\n",
            " #   Column            Non-Null Count  Dtype \n",
            "---  ------            --------------  ----- \n",
            " 0   Age               800 non-null    object\n",
            " 1   Sex               800 non-null    object\n",
            " 2   Job               800 non-null    object\n",
            " 3   Housing           800 non-null    object\n",
            " 4   Saving accounts   800 non-null    object\n",
            " 5   Checking account  800 non-null    object\n",
            " 6   Credit amount     800 non-null    object\n",
            " 7   Duration          800 non-null    object\n",
            " 8   Purpose           800 non-null    object\n",
            "dtypes: object(9)\n",
            "memory usage: 56.4+ KB\n"
          ]
        }
      ],
      "source": [
        "X_train_inputed_mode.info()"
      ]
    },
    {
      "cell_type": "markdown",
      "metadata": {
        "id": "MusAxxOqkxCJ"
      },
      "source": [
        "(Primeiramente, vamos \"corrigir\" a codificação como object das colunas, induzida pelo inputer)"
      ]
    },
    {
      "cell_type": "code",
      "execution_count": null,
      "metadata": {
        "ExecuteTime": {
          "end_time": "2022-02-18T22:25:19.132323Z",
          "start_time": "2022-02-18T22:25:19.120313Z"
        },
        "id": "hAMm6KQCkxCJ",
        "outputId": "1848dc27-78d4-48c5-9c5e-3f017fc479ce"
      },
      "outputs": [
        {
          "data": {
            "text/plain": [
              "['Age', 'Job', 'Duration']"
            ]
          },
          "execution_count": 39,
          "metadata": {},
          "output_type": "execute_result"
        }
      ],
      "source": [
        "\"Age Job Duration\".split()"
      ]
    },
    {
      "cell_type": "code",
      "execution_count": null,
      "metadata": {
        "ExecuteTime": {
          "end_time": "2022-02-18T22:27:50.336861Z",
          "start_time": "2022-02-18T22:27:50.301875Z"
        },
        "id": "Oz5m-FnokxCK"
      },
      "outputs": [],
      "source": [
        "X_train_inputed_mode[['Age', 'Job', 'Duration', 'Credit amount']] = X_train_inputed_mode[['Age', 'Job', 'Duration', 'Credit amount']].astype(int)"
      ]
    },
    {
      "cell_type": "code",
      "execution_count": null,
      "metadata": {
        "ExecuteTime": {
          "end_time": "2022-02-18T22:27:58.075627Z",
          "start_time": "2022-02-18T22:27:58.043647Z"
        },
        "id": "FS1f1Q1HkxCK",
        "outputId": "2052adf9-d806-4888-d498-d3f713a13a29"
      },
      "outputs": [
        {
          "name": "stdout",
          "output_type": "stream",
          "text": [
            "<class 'pandas.core.frame.DataFrame'>\n",
            "RangeIndex: 800 entries, 0 to 799\n",
            "Data columns (total 9 columns):\n",
            " #   Column            Non-Null Count  Dtype \n",
            "---  ------            --------------  ----- \n",
            " 0   Age               800 non-null    int32 \n",
            " 1   Sex               800 non-null    object\n",
            " 2   Job               800 non-null    int32 \n",
            " 3   Housing           800 non-null    object\n",
            " 4   Saving accounts   800 non-null    object\n",
            " 5   Checking account  800 non-null    object\n",
            " 6   Credit amount     800 non-null    int32 \n",
            " 7   Duration          800 non-null    int32 \n",
            " 8   Purpose           800 non-null    object\n",
            "dtypes: int32(4), object(5)\n",
            "memory usage: 43.9+ KB\n"
          ]
        }
      ],
      "source": [
        "X_train_inputed_mode.info()"
      ]
    },
    {
      "cell_type": "code",
      "execution_count": null,
      "metadata": {
        "ExecuteTime": {
          "end_time": "2022-02-18T22:28:21.723996Z",
          "start_time": "2022-02-18T22:28:21.708026Z"
        },
        "id": "0XsO2Hl0kxCK",
        "outputId": "5426cc0b-9968-4afb-9313-054081e96dde"
      },
      "outputs": [
        {
          "name": "stdout",
          "output_type": "stream",
          "text": [
            "<class 'pandas.core.frame.DataFrame'>\n",
            "Int64Index: 800 entries, 675 to 695\n",
            "Data columns (total 9 columns):\n",
            " #   Column            Non-Null Count  Dtype \n",
            "---  ------            --------------  ----- \n",
            " 0   Age               800 non-null    int64 \n",
            " 1   Sex               800 non-null    object\n",
            " 2   Job               800 non-null    int64 \n",
            " 3   Housing           800 non-null    object\n",
            " 4   Saving accounts   651 non-null    object\n",
            " 5   Checking account  477 non-null    object\n",
            " 6   Credit amount     800 non-null    int64 \n",
            " 7   Duration          800 non-null    int64 \n",
            " 8   Purpose           800 non-null    object\n",
            "dtypes: int64(4), object(5)\n",
            "memory usage: 62.5+ KB\n"
          ]
        }
      ],
      "source": [
        "X_train.info()"
      ]
    },
    {
      "cell_type": "code",
      "execution_count": null,
      "metadata": {
        "ExecuteTime": {
          "end_time": "2022-02-18T22:28:33.625514Z",
          "start_time": "2022-02-18T22:28:33.598552Z"
        },
        "id": "VbVN1uJykxCK",
        "outputId": "f5fe8069-5511-4ae8-b203-8c74cd47a0f4"
      },
      "outputs": [
        {
          "name": "stdout",
          "output_type": "stream",
          "text": [
            "<class 'pandas.core.frame.DataFrame'>\n",
            "RangeIndex: 800 entries, 0 to 799\n",
            "Data columns (total 9 columns):\n",
            " #   Column            Non-Null Count  Dtype \n",
            "---  ------            --------------  ----- \n",
            " 0   Age               800 non-null    int32 \n",
            " 1   Sex               800 non-null    object\n",
            " 2   Job               800 non-null    int32 \n",
            " 3   Housing           800 non-null    object\n",
            " 4   Saving accounts   800 non-null    object\n",
            " 5   Checking account  800 non-null    object\n",
            " 6   Credit amount     800 non-null    int32 \n",
            " 7   Duration          800 non-null    int32 \n",
            " 8   Purpose           800 non-null    object\n",
            "dtypes: int32(4), object(5)\n",
            "memory usage: 43.9+ KB\n"
          ]
        }
      ],
      "source": [
        "X_train_inputed_mode.info()"
      ]
    },
    {
      "cell_type": "markdown",
      "metadata": {
        "id": "xdYWEKFFkxCK"
      },
      "source": [
        "Agora sim, vamos pros encoders!"
      ]
    },
    {
      "cell_type": "code",
      "execution_count": null,
      "metadata": {
        "ExecuteTime": {
          "end_time": "2022-02-18T22:31:38.518472Z",
          "start_time": "2022-02-18T22:31:38.508480Z"
        },
        "id": "I4dYPjXVkxCK"
      },
      "outputs": [],
      "source": [
        "from sklearn.preprocessing import OneHotEncoder, OrdinalEncoder"
      ]
    },
    {
      "cell_type": "code",
      "execution_count": null,
      "metadata": {
        "ExecuteTime": {
          "end_time": "2022-02-18T22:32:23.088285Z",
          "start_time": "2022-02-18T22:32:23.053304Z"
        },
        "id": "HIc-a_-jkxCL",
        "outputId": "e49a2b9f-8c82-4cdd-b102-9be52c4e4186"
      },
      "outputs": [
        {
          "data": {
            "text/html": [
              "<div>\n",
              "<style scoped>\n",
              "    .dataframe tbody tr th:only-of-type {\n",
              "        vertical-align: middle;\n",
              "    }\n",
              "\n",
              "    .dataframe tbody tr th {\n",
              "        vertical-align: top;\n",
              "    }\n",
              "\n",
              "    .dataframe thead th {\n",
              "        text-align: right;\n",
              "    }\n",
              "</style>\n",
              "<table border=\"1\" class=\"dataframe\">\n",
              "  <thead>\n",
              "    <tr style=\"text-align: right;\">\n",
              "      <th></th>\n",
              "      <th>Age</th>\n",
              "      <th>Sex</th>\n",
              "      <th>Job</th>\n",
              "      <th>Housing</th>\n",
              "      <th>Saving accounts</th>\n",
              "      <th>Checking account</th>\n",
              "      <th>Credit amount</th>\n",
              "      <th>Duration</th>\n",
              "      <th>Purpose</th>\n",
              "    </tr>\n",
              "  </thead>\n",
              "  <tbody>\n",
              "    <tr>\n",
              "      <th>0</th>\n",
              "      <td>26</td>\n",
              "      <td>female</td>\n",
              "      <td>3</td>\n",
              "      <td>rent</td>\n",
              "      <td>little</td>\n",
              "      <td>little</td>\n",
              "      <td>4530</td>\n",
              "      <td>30</td>\n",
              "      <td>radio/TV</td>\n",
              "    </tr>\n",
              "    <tr>\n",
              "      <th>1</th>\n",
              "      <td>41</td>\n",
              "      <td>male</td>\n",
              "      <td>2</td>\n",
              "      <td>own</td>\n",
              "      <td>moderate</td>\n",
              "      <td>moderate</td>\n",
              "      <td>2503</td>\n",
              "      <td>30</td>\n",
              "      <td>business</td>\n",
              "    </tr>\n",
              "    <tr>\n",
              "      <th>2</th>\n",
              "      <td>22</td>\n",
              "      <td>female</td>\n",
              "      <td>2</td>\n",
              "      <td>own</td>\n",
              "      <td>little</td>\n",
              "      <td>moderate</td>\n",
              "      <td>1567</td>\n",
              "      <td>12</td>\n",
              "      <td>radio/TV</td>\n",
              "    </tr>\n",
              "    <tr>\n",
              "      <th>3</th>\n",
              "      <td>35</td>\n",
              "      <td>male</td>\n",
              "      <td>2</td>\n",
              "      <td>own</td>\n",
              "      <td>little</td>\n",
              "      <td>moderate</td>\n",
              "      <td>3976</td>\n",
              "      <td>21</td>\n",
              "      <td>furniture/equipment</td>\n",
              "    </tr>\n",
              "    <tr>\n",
              "      <th>4</th>\n",
              "      <td>22</td>\n",
              "      <td>female</td>\n",
              "      <td>2</td>\n",
              "      <td>rent</td>\n",
              "      <td>moderate</td>\n",
              "      <td>little</td>\n",
              "      <td>2301</td>\n",
              "      <td>9</td>\n",
              "      <td>furniture/equipment</td>\n",
              "    </tr>\n",
              "    <tr>\n",
              "      <th>...</th>\n",
              "      <td>...</td>\n",
              "      <td>...</td>\n",
              "      <td>...</td>\n",
              "      <td>...</td>\n",
              "      <td>...</td>\n",
              "      <td>...</td>\n",
              "      <td>...</td>\n",
              "      <td>...</td>\n",
              "      <td>...</td>\n",
              "    </tr>\n",
              "    <tr>\n",
              "      <th>795</th>\n",
              "      <td>37</td>\n",
              "      <td>male</td>\n",
              "      <td>2</td>\n",
              "      <td>own</td>\n",
              "      <td>moderate</td>\n",
              "      <td>moderate</td>\n",
              "      <td>3878</td>\n",
              "      <td>24</td>\n",
              "      <td>car</td>\n",
              "    </tr>\n",
              "    <tr>\n",
              "      <th>796</th>\n",
              "      <td>31</td>\n",
              "      <td>male</td>\n",
              "      <td>2</td>\n",
              "      <td>own</td>\n",
              "      <td>little</td>\n",
              "      <td>moderate</td>\n",
              "      <td>1935</td>\n",
              "      <td>24</td>\n",
              "      <td>business</td>\n",
              "    </tr>\n",
              "    <tr>\n",
              "      <th>797</th>\n",
              "      <td>40</td>\n",
              "      <td>female</td>\n",
              "      <td>2</td>\n",
              "      <td>own</td>\n",
              "      <td>little</td>\n",
              "      <td>little</td>\n",
              "      <td>894</td>\n",
              "      <td>10</td>\n",
              "      <td>education</td>\n",
              "    </tr>\n",
              "    <tr>\n",
              "      <th>798</th>\n",
              "      <td>22</td>\n",
              "      <td>male</td>\n",
              "      <td>2</td>\n",
              "      <td>free</td>\n",
              "      <td>little</td>\n",
              "      <td>little</td>\n",
              "      <td>3973</td>\n",
              "      <td>14</td>\n",
              "      <td>car</td>\n",
              "    </tr>\n",
              "    <tr>\n",
              "      <th>799</th>\n",
              "      <td>50</td>\n",
              "      <td>male</td>\n",
              "      <td>2</td>\n",
              "      <td>rent</td>\n",
              "      <td>quite rich</td>\n",
              "      <td>little</td>\n",
              "      <td>1236</td>\n",
              "      <td>6</td>\n",
              "      <td>car</td>\n",
              "    </tr>\n",
              "  </tbody>\n",
              "</table>\n",
              "<p>800 rows × 9 columns</p>\n",
              "</div>"
            ],
            "text/plain": [
              "     Age     Sex  Job Housing Saving accounts Checking account  Credit amount  \\\n",
              "0     26  female    3    rent          little           little           4530   \n",
              "1     41    male    2     own        moderate         moderate           2503   \n",
              "2     22  female    2     own          little         moderate           1567   \n",
              "3     35    male    2     own          little         moderate           3976   \n",
              "4     22  female    2    rent        moderate           little           2301   \n",
              "..   ...     ...  ...     ...             ...              ...            ...   \n",
              "795   37    male    2     own        moderate         moderate           3878   \n",
              "796   31    male    2     own          little         moderate           1935   \n",
              "797   40  female    2     own          little           little            894   \n",
              "798   22    male    2    free          little           little           3973   \n",
              "799   50    male    2    rent      quite rich           little           1236   \n",
              "\n",
              "     Duration              Purpose  \n",
              "0          30             radio/TV  \n",
              "1          30             business  \n",
              "2          12             radio/TV  \n",
              "3          21  furniture/equipment  \n",
              "4           9  furniture/equipment  \n",
              "..        ...                  ...  \n",
              "795        24                  car  \n",
              "796        24             business  \n",
              "797        10            education  \n",
              "798        14                  car  \n",
              "799         6                  car  \n",
              "\n",
              "[800 rows x 9 columns]"
            ]
          },
          "execution_count": 48,
          "metadata": {},
          "output_type": "execute_result"
        }
      ],
      "source": [
        "X_train_inputed_mode"
      ]
    },
    {
      "cell_type": "code",
      "execution_count": null,
      "metadata": {
        "ExecuteTime": {
          "end_time": "2022-02-18T22:33:35.918134Z",
          "start_time": "2022-02-18T22:33:35.895147Z"
        },
        "id": "lbThlxBMkxCL",
        "outputId": "eececb62-e23a-4157-85d1-a0f72432c809"
      },
      "outputs": [
        {
          "data": {
            "text/html": [
              "<div>\n",
              "<style scoped>\n",
              "    .dataframe tbody tr th:only-of-type {\n",
              "        vertical-align: middle;\n",
              "    }\n",
              "\n",
              "    .dataframe tbody tr th {\n",
              "        vertical-align: top;\n",
              "    }\n",
              "\n",
              "    .dataframe thead th {\n",
              "        text-align: right;\n",
              "    }\n",
              "</style>\n",
              "<table border=\"1\" class=\"dataframe\">\n",
              "  <thead>\n",
              "    <tr style=\"text-align: right;\">\n",
              "      <th></th>\n",
              "      <th>Sex</th>\n",
              "      <th>Housing</th>\n",
              "      <th>Saving accounts</th>\n",
              "      <th>Checking account</th>\n",
              "      <th>Purpose</th>\n",
              "    </tr>\n",
              "  </thead>\n",
              "  <tbody>\n",
              "    <tr>\n",
              "      <th>0</th>\n",
              "      <td>female</td>\n",
              "      <td>rent</td>\n",
              "      <td>little</td>\n",
              "      <td>little</td>\n",
              "      <td>radio/TV</td>\n",
              "    </tr>\n",
              "    <tr>\n",
              "      <th>1</th>\n",
              "      <td>male</td>\n",
              "      <td>own</td>\n",
              "      <td>moderate</td>\n",
              "      <td>moderate</td>\n",
              "      <td>business</td>\n",
              "    </tr>\n",
              "    <tr>\n",
              "      <th>2</th>\n",
              "      <td>female</td>\n",
              "      <td>own</td>\n",
              "      <td>little</td>\n",
              "      <td>moderate</td>\n",
              "      <td>radio/TV</td>\n",
              "    </tr>\n",
              "    <tr>\n",
              "      <th>3</th>\n",
              "      <td>male</td>\n",
              "      <td>own</td>\n",
              "      <td>little</td>\n",
              "      <td>moderate</td>\n",
              "      <td>furniture/equipment</td>\n",
              "    </tr>\n",
              "    <tr>\n",
              "      <th>4</th>\n",
              "      <td>female</td>\n",
              "      <td>rent</td>\n",
              "      <td>moderate</td>\n",
              "      <td>little</td>\n",
              "      <td>furniture/equipment</td>\n",
              "    </tr>\n",
              "    <tr>\n",
              "      <th>...</th>\n",
              "      <td>...</td>\n",
              "      <td>...</td>\n",
              "      <td>...</td>\n",
              "      <td>...</td>\n",
              "      <td>...</td>\n",
              "    </tr>\n",
              "    <tr>\n",
              "      <th>795</th>\n",
              "      <td>male</td>\n",
              "      <td>own</td>\n",
              "      <td>moderate</td>\n",
              "      <td>moderate</td>\n",
              "      <td>car</td>\n",
              "    </tr>\n",
              "    <tr>\n",
              "      <th>796</th>\n",
              "      <td>male</td>\n",
              "      <td>own</td>\n",
              "      <td>little</td>\n",
              "      <td>moderate</td>\n",
              "      <td>business</td>\n",
              "    </tr>\n",
              "    <tr>\n",
              "      <th>797</th>\n",
              "      <td>female</td>\n",
              "      <td>own</td>\n",
              "      <td>little</td>\n",
              "      <td>little</td>\n",
              "      <td>education</td>\n",
              "    </tr>\n",
              "    <tr>\n",
              "      <th>798</th>\n",
              "      <td>male</td>\n",
              "      <td>free</td>\n",
              "      <td>little</td>\n",
              "      <td>little</td>\n",
              "      <td>car</td>\n",
              "    </tr>\n",
              "    <tr>\n",
              "      <th>799</th>\n",
              "      <td>male</td>\n",
              "      <td>rent</td>\n",
              "      <td>quite rich</td>\n",
              "      <td>little</td>\n",
              "      <td>car</td>\n",
              "    </tr>\n",
              "  </tbody>\n",
              "</table>\n",
              "<p>800 rows × 5 columns</p>\n",
              "</div>"
            ],
            "text/plain": [
              "        Sex Housing Saving accounts Checking account              Purpose\n",
              "0    female    rent          little           little             radio/TV\n",
              "1      male     own        moderate         moderate             business\n",
              "2    female     own          little         moderate             radio/TV\n",
              "3      male     own          little         moderate  furniture/equipment\n",
              "4    female    rent        moderate           little  furniture/equipment\n",
              "..      ...     ...             ...              ...                  ...\n",
              "795    male     own        moderate         moderate                  car\n",
              "796    male     own          little         moderate             business\n",
              "797  female     own          little           little            education\n",
              "798    male    free          little           little                  car\n",
              "799    male    rent      quite rich           little                  car\n",
              "\n",
              "[800 rows x 5 columns]"
            ]
          },
          "execution_count": 50,
          "metadata": {},
          "output_type": "execute_result"
        }
      ],
      "source": [
        "X_train_inputed_mode.select_dtypes(exclude=np.number)"
      ]
    },
    {
      "cell_type": "code",
      "execution_count": null,
      "metadata": {
        "ExecuteTime": {
          "end_time": "2022-02-18T22:38:24.901738Z",
          "start_time": "2022-02-18T22:38:24.878756Z"
        },
        "id": "QaoL8VKzkxCL"
      },
      "outputs": [],
      "source": [
        "encoder_oh = OneHotEncoder().fit(X_train_inputed_mode.select_dtypes(exclude=np.number))\n",
        "\n",
        "encoder_oe = OrdinalEncoder().fit(X_train_inputed_mode.select_dtypes(exclude=np.number))"
      ]
    },
    {
      "cell_type": "code",
      "execution_count": null,
      "metadata": {
        "ExecuteTime": {
          "end_time": "2022-02-18T22:40:34.334890Z",
          "start_time": "2022-02-18T22:40:34.292915Z"
        },
        "id": "xu2zmwmwkxCL",
        "outputId": "e119861c-9aea-400f-ca6b-6bf1ff3a9c77"
      },
      "outputs": [
        {
          "data": {
            "text/plain": [
              "array([[1., 0., 0., ..., 1., 0., 0.],\n",
              "       [0., 1., 0., ..., 0., 0., 0.],\n",
              "       [1., 0., 0., ..., 1., 0., 0.],\n",
              "       ...,\n",
              "       [1., 0., 0., ..., 0., 0., 0.],\n",
              "       [0., 1., 1., ..., 0., 0., 0.],\n",
              "       [0., 1., 0., ..., 0., 0., 0.]])"
            ]
          },
          "execution_count": 56,
          "metadata": {},
          "output_type": "execute_result"
        }
      ],
      "source": [
        "encoder_oh.transform(X_train_inputed_mode.select_dtypes(exclude=np.number)).toarray()"
      ]
    },
    {
      "cell_type": "code",
      "execution_count": null,
      "metadata": {
        "ExecuteTime": {
          "end_time": "2022-02-18T22:41:51.571848Z",
          "start_time": "2022-02-18T22:41:51.409942Z"
        },
        "id": "JS8dT-8XkxCL",
        "outputId": "4663a572-16b1-440d-b7d4-a9b8b696f917"
      },
      "outputs": [
        {
          "data": {
            "text/html": [
              "<div>\n",
              "<style scoped>\n",
              "    .dataframe tbody tr th:only-of-type {\n",
              "        vertical-align: middle;\n",
              "    }\n",
              "\n",
              "    .dataframe tbody tr th {\n",
              "        vertical-align: top;\n",
              "    }\n",
              "\n",
              "    .dataframe thead th {\n",
              "        text-align: right;\n",
              "    }\n",
              "</style>\n",
              "<table border=\"1\" class=\"dataframe\">\n",
              "  <thead>\n",
              "    <tr style=\"text-align: right;\">\n",
              "      <th></th>\n",
              "      <th>0</th>\n",
              "      <th>1</th>\n",
              "      <th>2</th>\n",
              "      <th>3</th>\n",
              "      <th>4</th>\n",
              "      <th>5</th>\n",
              "      <th>6</th>\n",
              "      <th>7</th>\n",
              "      <th>8</th>\n",
              "      <th>9</th>\n",
              "      <th>10</th>\n",
              "      <th>11</th>\n",
              "      <th>12</th>\n",
              "      <th>13</th>\n",
              "      <th>14</th>\n",
              "      <th>15</th>\n",
              "      <th>16</th>\n",
              "      <th>17</th>\n",
              "      <th>18</th>\n",
              "      <th>19</th>\n",
              "    </tr>\n",
              "  </thead>\n",
              "  <tbody>\n",
              "    <tr>\n",
              "      <th>0</th>\n",
              "      <td>1.0</td>\n",
              "      <td>0.0</td>\n",
              "      <td>0.0</td>\n",
              "      <td>0.0</td>\n",
              "      <td>1.0</td>\n",
              "      <td>1.0</td>\n",
              "      <td>0.0</td>\n",
              "      <td>0.0</td>\n",
              "      <td>0.0</td>\n",
              "      <td>1.0</td>\n",
              "      <td>0.0</td>\n",
              "      <td>0.0</td>\n",
              "      <td>0.0</td>\n",
              "      <td>0.0</td>\n",
              "      <td>0.0</td>\n",
              "      <td>0.0</td>\n",
              "      <td>0.0</td>\n",
              "      <td>1.0</td>\n",
              "      <td>0.0</td>\n",
              "      <td>0.0</td>\n",
              "    </tr>\n",
              "    <tr>\n",
              "      <th>1</th>\n",
              "      <td>0.0</td>\n",
              "      <td>1.0</td>\n",
              "      <td>0.0</td>\n",
              "      <td>1.0</td>\n",
              "      <td>0.0</td>\n",
              "      <td>0.0</td>\n",
              "      <td>1.0</td>\n",
              "      <td>0.0</td>\n",
              "      <td>0.0</td>\n",
              "      <td>0.0</td>\n",
              "      <td>1.0</td>\n",
              "      <td>0.0</td>\n",
              "      <td>1.0</td>\n",
              "      <td>0.0</td>\n",
              "      <td>0.0</td>\n",
              "      <td>0.0</td>\n",
              "      <td>0.0</td>\n",
              "      <td>0.0</td>\n",
              "      <td>0.0</td>\n",
              "      <td>0.0</td>\n",
              "    </tr>\n",
              "    <tr>\n",
              "      <th>2</th>\n",
              "      <td>1.0</td>\n",
              "      <td>0.0</td>\n",
              "      <td>0.0</td>\n",
              "      <td>1.0</td>\n",
              "      <td>0.0</td>\n",
              "      <td>1.0</td>\n",
              "      <td>0.0</td>\n",
              "      <td>0.0</td>\n",
              "      <td>0.0</td>\n",
              "      <td>0.0</td>\n",
              "      <td>1.0</td>\n",
              "      <td>0.0</td>\n",
              "      <td>0.0</td>\n",
              "      <td>0.0</td>\n",
              "      <td>0.0</td>\n",
              "      <td>0.0</td>\n",
              "      <td>0.0</td>\n",
              "      <td>1.0</td>\n",
              "      <td>0.0</td>\n",
              "      <td>0.0</td>\n",
              "    </tr>\n",
              "    <tr>\n",
              "      <th>3</th>\n",
              "      <td>0.0</td>\n",
              "      <td>1.0</td>\n",
              "      <td>0.0</td>\n",
              "      <td>1.0</td>\n",
              "      <td>0.0</td>\n",
              "      <td>1.0</td>\n",
              "      <td>0.0</td>\n",
              "      <td>0.0</td>\n",
              "      <td>0.0</td>\n",
              "      <td>0.0</td>\n",
              "      <td>1.0</td>\n",
              "      <td>0.0</td>\n",
              "      <td>0.0</td>\n",
              "      <td>0.0</td>\n",
              "      <td>0.0</td>\n",
              "      <td>0.0</td>\n",
              "      <td>1.0</td>\n",
              "      <td>0.0</td>\n",
              "      <td>0.0</td>\n",
              "      <td>0.0</td>\n",
              "    </tr>\n",
              "    <tr>\n",
              "      <th>4</th>\n",
              "      <td>1.0</td>\n",
              "      <td>0.0</td>\n",
              "      <td>0.0</td>\n",
              "      <td>0.0</td>\n",
              "      <td>1.0</td>\n",
              "      <td>0.0</td>\n",
              "      <td>1.0</td>\n",
              "      <td>0.0</td>\n",
              "      <td>0.0</td>\n",
              "      <td>1.0</td>\n",
              "      <td>0.0</td>\n",
              "      <td>0.0</td>\n",
              "      <td>0.0</td>\n",
              "      <td>0.0</td>\n",
              "      <td>0.0</td>\n",
              "      <td>0.0</td>\n",
              "      <td>1.0</td>\n",
              "      <td>0.0</td>\n",
              "      <td>0.0</td>\n",
              "      <td>0.0</td>\n",
              "    </tr>\n",
              "    <tr>\n",
              "      <th>...</th>\n",
              "      <td>...</td>\n",
              "      <td>...</td>\n",
              "      <td>...</td>\n",
              "      <td>...</td>\n",
              "      <td>...</td>\n",
              "      <td>...</td>\n",
              "      <td>...</td>\n",
              "      <td>...</td>\n",
              "      <td>...</td>\n",
              "      <td>...</td>\n",
              "      <td>...</td>\n",
              "      <td>...</td>\n",
              "      <td>...</td>\n",
              "      <td>...</td>\n",
              "      <td>...</td>\n",
              "      <td>...</td>\n",
              "      <td>...</td>\n",
              "      <td>...</td>\n",
              "      <td>...</td>\n",
              "      <td>...</td>\n",
              "    </tr>\n",
              "    <tr>\n",
              "      <th>795</th>\n",
              "      <td>0.0</td>\n",
              "      <td>1.0</td>\n",
              "      <td>0.0</td>\n",
              "      <td>1.0</td>\n",
              "      <td>0.0</td>\n",
              "      <td>0.0</td>\n",
              "      <td>1.0</td>\n",
              "      <td>0.0</td>\n",
              "      <td>0.0</td>\n",
              "      <td>0.0</td>\n",
              "      <td>1.0</td>\n",
              "      <td>0.0</td>\n",
              "      <td>0.0</td>\n",
              "      <td>1.0</td>\n",
              "      <td>0.0</td>\n",
              "      <td>0.0</td>\n",
              "      <td>0.0</td>\n",
              "      <td>0.0</td>\n",
              "      <td>0.0</td>\n",
              "      <td>0.0</td>\n",
              "    </tr>\n",
              "    <tr>\n",
              "      <th>796</th>\n",
              "      <td>0.0</td>\n",
              "      <td>1.0</td>\n",
              "      <td>0.0</td>\n",
              "      <td>1.0</td>\n",
              "      <td>0.0</td>\n",
              "      <td>1.0</td>\n",
              "      <td>0.0</td>\n",
              "      <td>0.0</td>\n",
              "      <td>0.0</td>\n",
              "      <td>0.0</td>\n",
              "      <td>1.0</td>\n",
              "      <td>0.0</td>\n",
              "      <td>1.0</td>\n",
              "      <td>0.0</td>\n",
              "      <td>0.0</td>\n",
              "      <td>0.0</td>\n",
              "      <td>0.0</td>\n",
              "      <td>0.0</td>\n",
              "      <td>0.0</td>\n",
              "      <td>0.0</td>\n",
              "    </tr>\n",
              "    <tr>\n",
              "      <th>797</th>\n",
              "      <td>1.0</td>\n",
              "      <td>0.0</td>\n",
              "      <td>0.0</td>\n",
              "      <td>1.0</td>\n",
              "      <td>0.0</td>\n",
              "      <td>1.0</td>\n",
              "      <td>0.0</td>\n",
              "      <td>0.0</td>\n",
              "      <td>0.0</td>\n",
              "      <td>1.0</td>\n",
              "      <td>0.0</td>\n",
              "      <td>0.0</td>\n",
              "      <td>0.0</td>\n",
              "      <td>0.0</td>\n",
              "      <td>0.0</td>\n",
              "      <td>1.0</td>\n",
              "      <td>0.0</td>\n",
              "      <td>0.0</td>\n",
              "      <td>0.0</td>\n",
              "      <td>0.0</td>\n",
              "    </tr>\n",
              "    <tr>\n",
              "      <th>798</th>\n",
              "      <td>0.0</td>\n",
              "      <td>1.0</td>\n",
              "      <td>1.0</td>\n",
              "      <td>0.0</td>\n",
              "      <td>0.0</td>\n",
              "      <td>1.0</td>\n",
              "      <td>0.0</td>\n",
              "      <td>0.0</td>\n",
              "      <td>0.0</td>\n",
              "      <td>1.0</td>\n",
              "      <td>0.0</td>\n",
              "      <td>0.0</td>\n",
              "      <td>0.0</td>\n",
              "      <td>1.0</td>\n",
              "      <td>0.0</td>\n",
              "      <td>0.0</td>\n",
              "      <td>0.0</td>\n",
              "      <td>0.0</td>\n",
              "      <td>0.0</td>\n",
              "      <td>0.0</td>\n",
              "    </tr>\n",
              "    <tr>\n",
              "      <th>799</th>\n",
              "      <td>0.0</td>\n",
              "      <td>1.0</td>\n",
              "      <td>0.0</td>\n",
              "      <td>0.0</td>\n",
              "      <td>1.0</td>\n",
              "      <td>0.0</td>\n",
              "      <td>0.0</td>\n",
              "      <td>1.0</td>\n",
              "      <td>0.0</td>\n",
              "      <td>1.0</td>\n",
              "      <td>0.0</td>\n",
              "      <td>0.0</td>\n",
              "      <td>0.0</td>\n",
              "      <td>1.0</td>\n",
              "      <td>0.0</td>\n",
              "      <td>0.0</td>\n",
              "      <td>0.0</td>\n",
              "      <td>0.0</td>\n",
              "      <td>0.0</td>\n",
              "      <td>0.0</td>\n",
              "    </tr>\n",
              "  </tbody>\n",
              "</table>\n",
              "<p>800 rows × 20 columns</p>\n",
              "</div>"
            ],
            "text/plain": [
              "      0    1    2    3    4    5    6    7    8    9    10   11   12   13  \\\n",
              "0    1.0  0.0  0.0  0.0  1.0  1.0  0.0  0.0  0.0  1.0  0.0  0.0  0.0  0.0   \n",
              "1    0.0  1.0  0.0  1.0  0.0  0.0  1.0  0.0  0.0  0.0  1.0  0.0  1.0  0.0   \n",
              "2    1.0  0.0  0.0  1.0  0.0  1.0  0.0  0.0  0.0  0.0  1.0  0.0  0.0  0.0   \n",
              "3    0.0  1.0  0.0  1.0  0.0  1.0  0.0  0.0  0.0  0.0  1.0  0.0  0.0  0.0   \n",
              "4    1.0  0.0  0.0  0.0  1.0  0.0  1.0  0.0  0.0  1.0  0.0  0.0  0.0  0.0   \n",
              "..   ...  ...  ...  ...  ...  ...  ...  ...  ...  ...  ...  ...  ...  ...   \n",
              "795  0.0  1.0  0.0  1.0  0.0  0.0  1.0  0.0  0.0  0.0  1.0  0.0  0.0  1.0   \n",
              "796  0.0  1.0  0.0  1.0  0.0  1.0  0.0  0.0  0.0  0.0  1.0  0.0  1.0  0.0   \n",
              "797  1.0  0.0  0.0  1.0  0.0  1.0  0.0  0.0  0.0  1.0  0.0  0.0  0.0  0.0   \n",
              "798  0.0  1.0  1.0  0.0  0.0  1.0  0.0  0.0  0.0  1.0  0.0  0.0  0.0  1.0   \n",
              "799  0.0  1.0  0.0  0.0  1.0  0.0  0.0  1.0  0.0  1.0  0.0  0.0  0.0  1.0   \n",
              "\n",
              "      14   15   16   17   18   19  \n",
              "0    0.0  0.0  0.0  1.0  0.0  0.0  \n",
              "1    0.0  0.0  0.0  0.0  0.0  0.0  \n",
              "2    0.0  0.0  0.0  1.0  0.0  0.0  \n",
              "3    0.0  0.0  1.0  0.0  0.0  0.0  \n",
              "4    0.0  0.0  1.0  0.0  0.0  0.0  \n",
              "..   ...  ...  ...  ...  ...  ...  \n",
              "795  0.0  0.0  0.0  0.0  0.0  0.0  \n",
              "796  0.0  0.0  0.0  0.0  0.0  0.0  \n",
              "797  0.0  1.0  0.0  0.0  0.0  0.0  \n",
              "798  0.0  0.0  0.0  0.0  0.0  0.0  \n",
              "799  0.0  0.0  0.0  0.0  0.0  0.0  \n",
              "\n",
              "[800 rows x 20 columns]"
            ]
          },
          "execution_count": 61,
          "metadata": {},
          "output_type": "execute_result"
        }
      ],
      "source": [
        "pd.DataFrame(encoder_oh.transform(X_train_inputed_mode.select_dtypes(exclude=np.number)).toarray())"
      ]
    },
    {
      "cell_type": "code",
      "execution_count": null,
      "metadata": {
        "ExecuteTime": {
          "end_time": "2022-02-18T22:45:30.695098Z",
          "start_time": "2022-02-18T22:45:30.663116Z"
        },
        "id": "F8VrRSIykxCL",
        "outputId": "bc0f7dd9-719e-48c0-87fa-6f98721e1c57"
      },
      "outputs": [
        {
          "data": {
            "text/html": [
              "<div>\n",
              "<style scoped>\n",
              "    .dataframe tbody tr th:only-of-type {\n",
              "        vertical-align: middle;\n",
              "    }\n",
              "\n",
              "    .dataframe tbody tr th {\n",
              "        vertical-align: top;\n",
              "    }\n",
              "\n",
              "    .dataframe thead th {\n",
              "        text-align: right;\n",
              "    }\n",
              "</style>\n",
              "<table border=\"1\" class=\"dataframe\">\n",
              "  <thead>\n",
              "    <tr style=\"text-align: right;\">\n",
              "      <th></th>\n",
              "      <th>0</th>\n",
              "      <th>1</th>\n",
              "      <th>2</th>\n",
              "      <th>3</th>\n",
              "      <th>4</th>\n",
              "    </tr>\n",
              "  </thead>\n",
              "  <tbody>\n",
              "    <tr>\n",
              "      <th>0</th>\n",
              "      <td>0.0</td>\n",
              "      <td>2.0</td>\n",
              "      <td>0.0</td>\n",
              "      <td>0.0</td>\n",
              "      <td>5.0</td>\n",
              "    </tr>\n",
              "    <tr>\n",
              "      <th>1</th>\n",
              "      <td>1.0</td>\n",
              "      <td>1.0</td>\n",
              "      <td>1.0</td>\n",
              "      <td>1.0</td>\n",
              "      <td>0.0</td>\n",
              "    </tr>\n",
              "    <tr>\n",
              "      <th>2</th>\n",
              "      <td>0.0</td>\n",
              "      <td>1.0</td>\n",
              "      <td>0.0</td>\n",
              "      <td>1.0</td>\n",
              "      <td>5.0</td>\n",
              "    </tr>\n",
              "    <tr>\n",
              "      <th>3</th>\n",
              "      <td>1.0</td>\n",
              "      <td>1.0</td>\n",
              "      <td>0.0</td>\n",
              "      <td>1.0</td>\n",
              "      <td>4.0</td>\n",
              "    </tr>\n",
              "    <tr>\n",
              "      <th>4</th>\n",
              "      <td>0.0</td>\n",
              "      <td>2.0</td>\n",
              "      <td>1.0</td>\n",
              "      <td>0.0</td>\n",
              "      <td>4.0</td>\n",
              "    </tr>\n",
              "    <tr>\n",
              "      <th>...</th>\n",
              "      <td>...</td>\n",
              "      <td>...</td>\n",
              "      <td>...</td>\n",
              "      <td>...</td>\n",
              "      <td>...</td>\n",
              "    </tr>\n",
              "    <tr>\n",
              "      <th>795</th>\n",
              "      <td>1.0</td>\n",
              "      <td>1.0</td>\n",
              "      <td>1.0</td>\n",
              "      <td>1.0</td>\n",
              "      <td>1.0</td>\n",
              "    </tr>\n",
              "    <tr>\n",
              "      <th>796</th>\n",
              "      <td>1.0</td>\n",
              "      <td>1.0</td>\n",
              "      <td>0.0</td>\n",
              "      <td>1.0</td>\n",
              "      <td>0.0</td>\n",
              "    </tr>\n",
              "    <tr>\n",
              "      <th>797</th>\n",
              "      <td>0.0</td>\n",
              "      <td>1.0</td>\n",
              "      <td>0.0</td>\n",
              "      <td>0.0</td>\n",
              "      <td>3.0</td>\n",
              "    </tr>\n",
              "    <tr>\n",
              "      <th>798</th>\n",
              "      <td>1.0</td>\n",
              "      <td>0.0</td>\n",
              "      <td>0.0</td>\n",
              "      <td>0.0</td>\n",
              "      <td>1.0</td>\n",
              "    </tr>\n",
              "    <tr>\n",
              "      <th>799</th>\n",
              "      <td>1.0</td>\n",
              "      <td>2.0</td>\n",
              "      <td>2.0</td>\n",
              "      <td>0.0</td>\n",
              "      <td>1.0</td>\n",
              "    </tr>\n",
              "  </tbody>\n",
              "</table>\n",
              "<p>800 rows × 5 columns</p>\n",
              "</div>"
            ],
            "text/plain": [
              "       0    1    2    3    4\n",
              "0    0.0  2.0  0.0  0.0  5.0\n",
              "1    1.0  1.0  1.0  1.0  0.0\n",
              "2    0.0  1.0  0.0  1.0  5.0\n",
              "3    1.0  1.0  0.0  1.0  4.0\n",
              "4    0.0  2.0  1.0  0.0  4.0\n",
              "..   ...  ...  ...  ...  ...\n",
              "795  1.0  1.0  1.0  1.0  1.0\n",
              "796  1.0  1.0  0.0  1.0  0.0\n",
              "797  0.0  1.0  0.0  0.0  3.0\n",
              "798  1.0  0.0  0.0  0.0  1.0\n",
              "799  1.0  2.0  2.0  0.0  1.0\n",
              "\n",
              "[800 rows x 5 columns]"
            ]
          },
          "execution_count": 64,
          "metadata": {},
          "output_type": "execute_result"
        }
      ],
      "source": [
        "aux = pd.DataFrame(encoder_oe.transform(X_train_inputed_mode.select_dtypes(exclude=np.number)))\n",
        "\n",
        "aux"
      ]
    },
    {
      "cell_type": "code",
      "execution_count": null,
      "metadata": {
        "ExecuteTime": {
          "end_time": "2022-02-18T22:45:46.110443Z",
          "start_time": "2022-02-18T22:45:46.086459Z"
        },
        "id": "rR_g15l2kxCL",
        "outputId": "d07281d0-232c-45f9-cb97-66ef616b2687"
      },
      "outputs": [
        {
          "data": {
            "text/plain": [
              "1.0    579\n",
              "2.0    139\n",
              "0.0     82\n",
              "Name: 1, dtype: int64"
            ]
          },
          "execution_count": 67,
          "metadata": {},
          "output_type": "execute_result"
        }
      ],
      "source": [
        "aux[1].value_counts()"
      ]
    },
    {
      "cell_type": "code",
      "execution_count": null,
      "metadata": {
        "ExecuteTime": {
          "end_time": "2022-02-18T22:45:51.966053Z",
          "start_time": "2022-02-18T22:45:51.958057Z"
        },
        "id": "F7bHsaXLkxCM",
        "outputId": "c4624bae-00f6-4292-fdb7-d55f4e36a187"
      },
      "outputs": [
        {
          "data": {
            "text/plain": [
              "own     579\n",
              "rent    139\n",
              "free     82\n",
              "Name: Housing, dtype: int64"
            ]
          },
          "execution_count": 68,
          "metadata": {},
          "output_type": "execute_result"
        }
      ],
      "source": [
        "X_train[\"Housing\"].value_counts()"
      ]
    },
    {
      "cell_type": "markdown",
      "metadata": {
        "id": "1RNo7rCJkxCM"
      },
      "source": [
        "Na prática, vamos deixar esta etapa pro Pipeline também! :)"
      ]
    },
    {
      "cell_type": "markdown",
      "metadata": {
        "id": "jgvrp2W6kxCP"
      },
      "source": [
        "É isso que faremos agora! Vamos construir uma pipeline mais completa, que vai **incluir todos os pré-processamentos**, tratando separadamente features numéricas de features categóricas!"
      ]
    },
    {
      "cell_type": "markdown",
      "metadata": {
        "id": "Q40cGVfgkxCP"
      },
      "source": [
        "___________"
      ]
    },
    {
      "cell_type": "markdown",
      "metadata": {
        "id": "P3EI9v9KkxCP"
      },
      "source": [
        "## 3) Pipelines mais completas\n",
        "\n",
        "Veremos agora como construir pipelines mais completas!"
      ]
    },
    {
      "cell_type": "markdown",
      "metadata": {
        "id": "sl5gP14WkxCP"
      },
      "source": [
        "Pra fazer isso, vai ser muito importante que usemos também o [ColumnTransformer](https://scikit-learn.org/stable/modules/generated/sklearn.compose.ColumnTransformer.html).\n",
        "\n",
        "Vamos ver na prática como funciona!!"
      ]
    },
    {
      "cell_type": "code",
      "execution_count": null,
      "metadata": {
        "ExecuteTime": {
          "end_time": "2022-02-18T23:20:11.240602Z",
          "start_time": "2022-02-18T23:20:11.221611Z"
        },
        "id": "e-Nn7DmOkxCP"
      },
      "outputs": [],
      "source": [
        "from sklearn.compose import ColumnTransformer\n",
        "\n",
        "from sklearn.preprocessing import StandardScaler\n",
        "\n",
        "from sklearn.tree import DecisionTreeClassifier\n",
        "from sklearn.model_selection import GridSearchCV, StratifiedKFold\n",
        "\n",
        "from sklearn.pipeline import Pipeline"
      ]
    },
    {
      "cell_type": "code",
      "execution_count": null,
      "metadata": {
        "ExecuteTime": {
          "end_time": "2022-02-18T23:20:26.977843Z",
          "start_time": "2022-02-18T23:20:19.737467Z"
        },
        "scrolled": true,
        "id": "lxhUAQqtkxCQ",
        "outputId": "18e50cc1-0fdd-473c-9df8-f8d7732f14ec"
      },
      "outputs": [
        {
          "name": "stdout",
          "output_type": "stream",
          "text": [
            "Fitting 5 folds for each of 36 candidates, totalling 180 fits\n",
            "[CV 1/5; 1/36] START dt__criterion=gini, dt__max_depth=2, dt__splitter=best.....\n",
            "[CV 1/5; 1/36] END dt__criterion=gini, dt__max_depth=2, dt__splitter=best;, score=0.674 total time=   0.0s\n",
            "[CV 2/5; 1/36] START dt__criterion=gini, dt__max_depth=2, dt__splitter=best.....\n",
            "[CV 2/5; 1/36] END dt__criterion=gini, dt__max_depth=2, dt__splitter=best;, score=0.688 total time=   0.0s\n",
            "[CV 3/5; 1/36] START dt__criterion=gini, dt__max_depth=2, dt__splitter=best.....\n",
            "[CV 3/5; 1/36] END dt__criterion=gini, dt__max_depth=2, dt__splitter=best;, score=0.647 total time=   0.0s\n",
            "[CV 4/5; 1/36] START dt__criterion=gini, dt__max_depth=2, dt__splitter=best.....\n",
            "[CV 4/5; 1/36] END dt__criterion=gini, dt__max_depth=2, dt__splitter=best;, score=0.705 total time=   0.0s\n",
            "[CV 5/5; 1/36] START dt__criterion=gini, dt__max_depth=2, dt__splitter=best.....\n",
            "[CV 5/5; 1/36] END dt__criterion=gini, dt__max_depth=2, dt__splitter=best;, score=0.576 total time=   0.0s\n",
            "[CV 1/5; 2/36] START dt__criterion=gini, dt__max_depth=2, dt__splitter=random...\n",
            "[CV 1/5; 2/36] END dt__criterion=gini, dt__max_depth=2, dt__splitter=random;, score=0.674 total time=   0.0s\n",
            "[CV 2/5; 2/36] START dt__criterion=gini, dt__max_depth=2, dt__splitter=random...\n",
            "[CV 2/5; 2/36] END dt__criterion=gini, dt__max_depth=2, dt__splitter=random;, score=0.688 total time=   0.0s\n",
            "[CV 3/5; 2/36] START dt__criterion=gini, dt__max_depth=2, dt__splitter=random...\n",
            "[CV 3/5; 2/36] END dt__criterion=gini, dt__max_depth=2, dt__splitter=random;, score=0.635 total time=   0.0s\n",
            "[CV 4/5; 2/36] START dt__criterion=gini, dt__max_depth=2, dt__splitter=random...\n",
            "[CV 4/5; 2/36] END dt__criterion=gini, dt__max_depth=2, dt__splitter=random;, score=0.677 total time=   0.0s\n",
            "[CV 5/5; 2/36] START dt__criterion=gini, dt__max_depth=2, dt__splitter=random...\n",
            "[CV 5/5; 2/36] END dt__criterion=gini, dt__max_depth=2, dt__splitter=random;, score=0.576 total time=   0.0s\n",
            "[CV 1/5; 3/36] START dt__criterion=gini, dt__max_depth=3, dt__splitter=best.....\n",
            "[CV 1/5; 3/36] END dt__criterion=gini, dt__max_depth=3, dt__splitter=best;, score=0.669 total time=   0.0s\n",
            "[CV 2/5; 3/36] START dt__criterion=gini, dt__max_depth=3, dt__splitter=best.....\n",
            "[CV 2/5; 3/36] END dt__criterion=gini, dt__max_depth=3, dt__splitter=best;, score=0.664 total time=   0.0s\n",
            "[CV 3/5; 3/36] START dt__criterion=gini, dt__max_depth=3, dt__splitter=best.....\n",
            "[CV 3/5; 3/36] END dt__criterion=gini, dt__max_depth=3, dt__splitter=best;, score=0.646 total time=   0.0s\n",
            "[CV 4/5; 3/36] START dt__criterion=gini, dt__max_depth=3, dt__splitter=best.....\n",
            "[CV 4/5; 3/36] END dt__criterion=gini, dt__max_depth=3, dt__splitter=best;, score=0.695 total time=   0.0s\n",
            "[CV 5/5; 3/36] START dt__criterion=gini, dt__max_depth=3, dt__splitter=best.....\n",
            "[CV 5/5; 3/36] END dt__criterion=gini, dt__max_depth=3, dt__splitter=best;, score=0.628 total time=   0.0s\n",
            "[CV 1/5; 4/36] START dt__criterion=gini, dt__max_depth=3, dt__splitter=random...\n",
            "[CV 1/5; 4/36] END dt__criterion=gini, dt__max_depth=3, dt__splitter=random;, score=0.665 total time=   0.0s\n",
            "[CV 2/5; 4/36] START dt__criterion=gini, dt__max_depth=3, dt__splitter=random...\n",
            "[CV 2/5; 4/36] END dt__criterion=gini, dt__max_depth=3, dt__splitter=random;, score=0.684 total time=   0.0s\n",
            "[CV 3/5; 4/36] START dt__criterion=gini, dt__max_depth=3, dt__splitter=random...\n",
            "[CV 3/5; 4/36] END dt__criterion=gini, dt__max_depth=3, dt__splitter=random;, score=0.635 total time=   0.0s\n",
            "[CV 4/5; 4/36] START dt__criterion=gini, dt__max_depth=3, dt__splitter=random...\n",
            "[CV 4/5; 4/36] END dt__criterion=gini, dt__max_depth=3, dt__splitter=random;, score=0.653 total time=   0.0s\n",
            "[CV 5/5; 4/36] START dt__criterion=gini, dt__max_depth=3, dt__splitter=random...\n",
            "[CV 5/5; 4/36] END dt__criterion=gini, dt__max_depth=3, dt__splitter=random;, score=0.576 total time=   0.0s\n",
            "[CV 1/5; 5/36] START dt__criterion=gini, dt__max_depth=4, dt__splitter=best.....\n",
            "[CV 1/5; 5/36] END dt__criterion=gini, dt__max_depth=4, dt__splitter=best;, score=0.674 total time=   0.0s\n",
            "[CV 2/5; 5/36] START dt__criterion=gini, dt__max_depth=4, dt__splitter=best.....\n",
            "[CV 2/5; 5/36] END dt__criterion=gini, dt__max_depth=4, dt__splitter=best;, score=0.715 total time=   0.0s\n",
            "[CV 3/5; 5/36] START dt__criterion=gini, dt__max_depth=4, dt__splitter=best.....\n",
            "[CV 3/5; 5/36] END dt__criterion=gini, dt__max_depth=4, dt__splitter=best;, score=0.666 total time=   0.0s\n",
            "[CV 4/5; 5/36] START dt__criterion=gini, dt__max_depth=4, dt__splitter=best.....\n",
            "[CV 4/5; 5/36] END dt__criterion=gini, dt__max_depth=4, dt__splitter=best;, score=0.684 total time=   0.0s\n",
            "[CV 5/5; 5/36] START dt__criterion=gini, dt__max_depth=4, dt__splitter=best.....\n",
            "[CV 5/5; 5/36] END dt__criterion=gini, dt__max_depth=4, dt__splitter=best;, score=0.707 total time=   0.0s\n",
            "[CV 1/5; 6/36] START dt__criterion=gini, dt__max_depth=4, dt__splitter=random...\n",
            "[CV 1/5; 6/36] END dt__criterion=gini, dt__max_depth=4, dt__splitter=random;, score=0.679 total time=   0.0s\n",
            "[CV 2/5; 6/36] START dt__criterion=gini, dt__max_depth=4, dt__splitter=random...\n",
            "[CV 2/5; 6/36] END dt__criterion=gini, dt__max_depth=4, dt__splitter=random;, score=0.696 total time=   0.0s\n",
            "[CV 3/5; 6/36] START dt__criterion=gini, dt__max_depth=4, dt__splitter=random...\n",
            "[CV 3/5; 6/36] END dt__criterion=gini, dt__max_depth=4, dt__splitter=random;, score=0.646 total time=   0.0s\n",
            "[CV 4/5; 6/36] START dt__criterion=gini, dt__max_depth=4, dt__splitter=random...\n",
            "[CV 4/5; 6/36] END dt__criterion=gini, dt__max_depth=4, dt__splitter=random;, score=0.692 total time=   0.0s\n",
            "[CV 5/5; 6/36] START dt__criterion=gini, dt__max_depth=4, dt__splitter=random...\n",
            "[CV 5/5; 6/36] END dt__criterion=gini, dt__max_depth=4, dt__splitter=random;, score=0.698 total time=   0.0s\n",
            "[CV 1/5; 7/36] START dt__criterion=gini, dt__max_depth=5, dt__splitter=best.....\n",
            "[CV 1/5; 7/36] END dt__criterion=gini, dt__max_depth=5, dt__splitter=best;, score=0.720 total time=   0.0s\n",
            "[CV 2/5; 7/36] START dt__criterion=gini, dt__max_depth=5, dt__splitter=best.....\n",
            "[CV 2/5; 7/36] END dt__criterion=gini, dt__max_depth=5, dt__splitter=best;, score=0.689 total time=   0.0s\n",
            "[CV 3/5; 7/36] START dt__criterion=gini, dt__max_depth=5, dt__splitter=best.....\n",
            "[CV 3/5; 7/36] END dt__criterion=gini, dt__max_depth=5, dt__splitter=best;, score=0.629 total time=   0.0s\n",
            "[CV 4/5; 7/36] START dt__criterion=gini, dt__max_depth=5, dt__splitter=best.....\n",
            "[CV 4/5; 7/36] END dt__criterion=gini, dt__max_depth=5, dt__splitter=best;, score=0.646 total time=   0.0s\n",
            "[CV 5/5; 7/36] START dt__criterion=gini, dt__max_depth=5, dt__splitter=best.....\n",
            "[CV 5/5; 7/36] END dt__criterion=gini, dt__max_depth=5, dt__splitter=best;, score=0.698 total time=   0.0s\n",
            "[CV 1/5; 8/36] START dt__criterion=gini, dt__max_depth=5, dt__splitter=random...\n",
            "[CV 1/5; 8/36] END dt__criterion=gini, dt__max_depth=5, dt__splitter=random;, score=0.679 total time=   0.0s\n",
            "[CV 2/5; 8/36] START dt__criterion=gini, dt__max_depth=5, dt__splitter=random...\n",
            "[CV 2/5; 8/36] END dt__criterion=gini, dt__max_depth=5, dt__splitter=random;, score=0.741 total time=   0.0s\n",
            "[CV 3/5; 8/36] START dt__criterion=gini, dt__max_depth=5, dt__splitter=random...\n",
            "[CV 3/5; 8/36] END dt__criterion=gini, dt__max_depth=5, dt__splitter=random;, score=0.652 total time=   0.0s\n",
            "[CV 4/5; 8/36] START dt__criterion=gini, dt__max_depth=5, dt__splitter=random...\n",
            "[CV 4/5; 8/36] END dt__criterion=gini, dt__max_depth=5, dt__splitter=random;, score=0.678 total time=   0.0s\n",
            "[CV 5/5; 8/36] START dt__criterion=gini, dt__max_depth=5, dt__splitter=random...\n",
            "[CV 5/5; 8/36] END dt__criterion=gini, dt__max_depth=5, dt__splitter=random;, score=0.685 total time=   0.0s\n",
            "[CV 1/5; 9/36] START dt__criterion=gini, dt__max_depth=6, dt__splitter=best.....\n",
            "[CV 1/5; 9/36] END dt__criterion=gini, dt__max_depth=6, dt__splitter=best;, score=0.674 total time=   0.0s\n",
            "[CV 2/5; 9/36] START dt__criterion=gini, dt__max_depth=6, dt__splitter=best.....\n",
            "[CV 2/5; 9/36] END dt__criterion=gini, dt__max_depth=6, dt__splitter=best;, score=0.730 total time=   0.0s\n",
            "[CV 3/5; 9/36] START dt__criterion=gini, dt__max_depth=6, dt__splitter=best.....\n",
            "[CV 3/5; 9/36] END dt__criterion=gini, dt__max_depth=6, dt__splitter=best;, score=0.627 total time=   0.0s\n",
            "[CV 4/5; 9/36] START dt__criterion=gini, dt__max_depth=6, dt__splitter=best.....\n",
            "[CV 4/5; 9/36] END dt__criterion=gini, dt__max_depth=6, dt__splitter=best;, score=0.655 total time=   0.0s\n",
            "[CV 5/5; 9/36] START dt__criterion=gini, dt__max_depth=6, dt__splitter=best.....\n",
            "[CV 5/5; 9/36] END dt__criterion=gini, dt__max_depth=6, dt__splitter=best;, score=0.680 total time=   0.0s\n",
            "[CV 1/5; 10/36] START dt__criterion=gini, dt__max_depth=6, dt__splitter=random..\n",
            "[CV 1/5; 10/36] END dt__criterion=gini, dt__max_depth=6, dt__splitter=random;, score=0.623 total time=   0.0s\n",
            "[CV 2/5; 10/36] START dt__criterion=gini, dt__max_depth=6, dt__splitter=random..\n"
          ]
        },
        {
          "name": "stdout",
          "output_type": "stream",
          "text": [
            "[CV 2/5; 10/36] END dt__criterion=gini, dt__max_depth=6, dt__splitter=random;, score=0.703 total time=   0.0s\n",
            "[CV 3/5; 10/36] START dt__criterion=gini, dt__max_depth=6, dt__splitter=random..\n",
            "[CV 3/5; 10/36] END dt__criterion=gini, dt__max_depth=6, dt__splitter=random;, score=0.630 total time=   0.0s\n",
            "[CV 4/5; 10/36] START dt__criterion=gini, dt__max_depth=6, dt__splitter=random..\n",
            "[CV 4/5; 10/36] END dt__criterion=gini, dt__max_depth=6, dt__splitter=random;, score=0.658 total time=   0.0s\n",
            "[CV 5/5; 10/36] START dt__criterion=gini, dt__max_depth=6, dt__splitter=random..\n",
            "[CV 5/5; 10/36] END dt__criterion=gini, dt__max_depth=6, dt__splitter=random;, score=0.686 total time=   0.0s\n",
            "[CV 1/5; 11/36] START dt__criterion=gini, dt__max_depth=7, dt__splitter=best....\n",
            "[CV 1/5; 11/36] END dt__criterion=gini, dt__max_depth=7, dt__splitter=best;, score=0.693 total time=   0.0s\n",
            "[CV 2/5; 11/36] START dt__criterion=gini, dt__max_depth=7, dt__splitter=best....\n",
            "[CV 2/5; 11/36] END dt__criterion=gini, dt__max_depth=7, dt__splitter=best;, score=0.748 total time=   0.0s\n",
            "[CV 3/5; 11/36] START dt__criterion=gini, dt__max_depth=7, dt__splitter=best....\n",
            "[CV 3/5; 11/36] END dt__criterion=gini, dt__max_depth=7, dt__splitter=best;, score=0.607 total time=   0.0s\n",
            "[CV 4/5; 11/36] START dt__criterion=gini, dt__max_depth=7, dt__splitter=best....\n",
            "[CV 4/5; 11/36] END dt__criterion=gini, dt__max_depth=7, dt__splitter=best;, score=0.647 total time=   0.0s\n",
            "[CV 5/5; 11/36] START dt__criterion=gini, dt__max_depth=7, dt__splitter=best....\n",
            "[CV 5/5; 11/36] END dt__criterion=gini, dt__max_depth=7, dt__splitter=best;, score=0.665 total time=   0.0s\n",
            "[CV 1/5; 12/36] START dt__criterion=gini, dt__max_depth=7, dt__splitter=random..\n",
            "[CV 1/5; 12/36] END dt__criterion=gini, dt__max_depth=7, dt__splitter=random;, score=0.630 total time=   0.0s\n",
            "[CV 2/5; 12/36] START dt__criterion=gini, dt__max_depth=7, dt__splitter=random..\n",
            "[CV 2/5; 12/36] END dt__criterion=gini, dt__max_depth=7, dt__splitter=random;, score=0.723 total time=   0.0s\n",
            "[CV 3/5; 12/36] START dt__criterion=gini, dt__max_depth=7, dt__splitter=random..\n",
            "[CV 3/5; 12/36] END dt__criterion=gini, dt__max_depth=7, dt__splitter=random;, score=0.635 total time=   0.0s\n",
            "[CV 4/5; 12/36] START dt__criterion=gini, dt__max_depth=7, dt__splitter=random..\n",
            "[CV 4/5; 12/36] END dt__criterion=gini, dt__max_depth=7, dt__splitter=random;, score=0.688 total time=   0.0s\n",
            "[CV 5/5; 12/36] START dt__criterion=gini, dt__max_depth=7, dt__splitter=random..\n",
            "[CV 5/5; 12/36] END dt__criterion=gini, dt__max_depth=7, dt__splitter=random;, score=0.653 total time=   0.0s\n",
            "[CV 1/5; 13/36] START dt__criterion=gini, dt__max_depth=8, dt__splitter=best....\n",
            "[CV 1/5; 13/36] END dt__criterion=gini, dt__max_depth=8, dt__splitter=best;, score=0.684 total time=   0.0s\n",
            "[CV 2/5; 13/36] START dt__criterion=gini, dt__max_depth=8, dt__splitter=best....\n",
            "[CV 2/5; 13/36] END dt__criterion=gini, dt__max_depth=8, dt__splitter=best;, score=0.736 total time=   0.0s\n",
            "[CV 3/5; 13/36] START dt__criterion=gini, dt__max_depth=8, dt__splitter=best....\n",
            "[CV 3/5; 13/36] END dt__criterion=gini, dt__max_depth=8, dt__splitter=best;, score=0.643 total time=   0.0s\n",
            "[CV 4/5; 13/36] START dt__criterion=gini, dt__max_depth=8, dt__splitter=best....\n",
            "[CV 4/5; 13/36] END dt__criterion=gini, dt__max_depth=8, dt__splitter=best;, score=0.633 total time=   0.0s\n",
            "[CV 5/5; 13/36] START dt__criterion=gini, dt__max_depth=8, dt__splitter=best....\n",
            "[CV 5/5; 13/36] END dt__criterion=gini, dt__max_depth=8, dt__splitter=best;, score=0.684 total time=   0.0s\n",
            "[CV 1/5; 14/36] START dt__criterion=gini, dt__max_depth=8, dt__splitter=random..\n",
            "[CV 1/5; 14/36] END dt__criterion=gini, dt__max_depth=8, dt__splitter=random;, score=0.673 total time=   0.0s\n",
            "[CV 2/5; 14/36] START dt__criterion=gini, dt__max_depth=8, dt__splitter=random..\n",
            "[CV 2/5; 14/36] END dt__criterion=gini, dt__max_depth=8, dt__splitter=random;, score=0.775 total time=   0.0s\n",
            "[CV 3/5; 14/36] START dt__criterion=gini, dt__max_depth=8, dt__splitter=random..\n",
            "[CV 3/5; 14/36] END dt__criterion=gini, dt__max_depth=8, dt__splitter=random;, score=0.613 total time=   0.0s\n",
            "[CV 4/5; 14/36] START dt__criterion=gini, dt__max_depth=8, dt__splitter=random..\n",
            "[CV 4/5; 14/36] END dt__criterion=gini, dt__max_depth=8, dt__splitter=random;, score=0.688 total time=   0.0s\n",
            "[CV 5/5; 14/36] START dt__criterion=gini, dt__max_depth=8, dt__splitter=random..\n",
            "[CV 5/5; 14/36] END dt__criterion=gini, dt__max_depth=8, dt__splitter=random;, score=0.643 total time=   0.0s\n",
            "[CV 1/5; 15/36] START dt__criterion=gini, dt__max_depth=9, dt__splitter=best....\n",
            "[CV 1/5; 15/36] END dt__criterion=gini, dt__max_depth=9, dt__splitter=best;, score=0.668 total time=   0.0s\n",
            "[CV 2/5; 15/36] START dt__criterion=gini, dt__max_depth=9, dt__splitter=best....\n",
            "[CV 2/5; 15/36] END dt__criterion=gini, dt__max_depth=9, dt__splitter=best;, score=0.699 total time=   0.0s\n",
            "[CV 3/5; 15/36] START dt__criterion=gini, dt__max_depth=9, dt__splitter=best....\n",
            "[CV 3/5; 15/36] END dt__criterion=gini, dt__max_depth=9, dt__splitter=best;, score=0.615 total time=   0.0s\n",
            "[CV 4/5; 15/36] START dt__criterion=gini, dt__max_depth=9, dt__splitter=best....\n",
            "[CV 4/5; 15/36] END dt__criterion=gini, dt__max_depth=9, dt__splitter=best;, score=0.663 total time=   0.0s\n",
            "[CV 5/5; 15/36] START dt__criterion=gini, dt__max_depth=9, dt__splitter=best....\n",
            "[CV 5/5; 15/36] END dt__criterion=gini, dt__max_depth=9, dt__splitter=best;, score=0.694 total time=   0.0s\n",
            "[CV 1/5; 16/36] START dt__criterion=gini, dt__max_depth=9, dt__splitter=random..\n",
            "[CV 1/5; 16/36] END dt__criterion=gini, dt__max_depth=9, dt__splitter=random;, score=0.664 total time=   0.0s\n",
            "[CV 2/5; 16/36] START dt__criterion=gini, dt__max_depth=9, dt__splitter=random..\n",
            "[CV 2/5; 16/36] END dt__criterion=gini, dt__max_depth=9, dt__splitter=random;, score=0.712 total time=   0.0s\n",
            "[CV 3/5; 16/36] START dt__criterion=gini, dt__max_depth=9, dt__splitter=random..\n",
            "[CV 3/5; 16/36] END dt__criterion=gini, dt__max_depth=9, dt__splitter=random;, score=0.629 total time=   0.0s\n",
            "[CV 4/5; 16/36] START dt__criterion=gini, dt__max_depth=9, dt__splitter=random..\n",
            "[CV 4/5; 16/36] END dt__criterion=gini, dt__max_depth=9, dt__splitter=random;, score=0.692 total time=   0.0s\n",
            "[CV 5/5; 16/36] START dt__criterion=gini, dt__max_depth=9, dt__splitter=random..\n",
            "[CV 5/5; 16/36] END dt__criterion=gini, dt__max_depth=9, dt__splitter=random;, score=0.679 total time=   0.0s\n",
            "[CV 1/5; 17/36] START dt__criterion=gini, dt__max_depth=10, dt__splitter=best...\n",
            "[CV 1/5; 17/36] END dt__criterion=gini, dt__max_depth=10, dt__splitter=best;, score=0.717 total time=   0.0s\n",
            "[CV 2/5; 17/36] START dt__criterion=gini, dt__max_depth=10, dt__splitter=best...\n",
            "[CV 2/5; 17/36] END dt__criterion=gini, dt__max_depth=10, dt__splitter=best;, score=0.691 total time=   0.0s\n",
            "[CV 3/5; 17/36] START dt__criterion=gini, dt__max_depth=10, dt__splitter=best...\n",
            "[CV 3/5; 17/36] END dt__criterion=gini, dt__max_depth=10, dt__splitter=best;, score=0.635 total time=   0.0s\n",
            "[CV 4/5; 17/36] START dt__criterion=gini, dt__max_depth=10, dt__splitter=best...\n",
            "[CV 4/5; 17/36] END dt__criterion=gini, dt__max_depth=10, dt__splitter=best;, score=0.677 total time=   0.0s\n",
            "[CV 5/5; 17/36] START dt__criterion=gini, dt__max_depth=10, dt__splitter=best...\n",
            "[CV 5/5; 17/36] END dt__criterion=gini, dt__max_depth=10, dt__splitter=best;, score=0.703 total time=   0.0s\n",
            "[CV 1/5; 18/36] START dt__criterion=gini, dt__max_depth=10, dt__splitter=random.\n",
            "[CV 1/5; 18/36] END dt__criterion=gini, dt__max_depth=10, dt__splitter=random;, score=0.654 total time=   0.0s\n",
            "[CV 2/5; 18/36] START dt__criterion=gini, dt__max_depth=10, dt__splitter=random.\n",
            "[CV 2/5; 18/36] END dt__criterion=gini, dt__max_depth=10, dt__splitter=random;, score=0.732 total time=   0.0s\n",
            "[CV 3/5; 18/36] START dt__criterion=gini, dt__max_depth=10, dt__splitter=random.\n",
            "[CV 3/5; 18/36] END dt__criterion=gini, dt__max_depth=10, dt__splitter=random;, score=0.616 total time=   0.0s\n",
            "[CV 4/5; 18/36] START dt__criterion=gini, dt__max_depth=10, dt__splitter=random.\n",
            "[CV 4/5; 18/36] END dt__criterion=gini, dt__max_depth=10, dt__splitter=random;, score=0.680 total time=   0.0s\n",
            "[CV 5/5; 18/36] START dt__criterion=gini, dt__max_depth=10, dt__splitter=random.\n",
            "[CV 5/5; 18/36] END dt__criterion=gini, dt__max_depth=10, dt__splitter=random;, score=0.681 total time=   0.0s\n",
            "[CV 1/5; 19/36] START dt__criterion=entropy, dt__max_depth=2, dt__splitter=best.\n",
            "[CV 1/5; 19/36] END dt__criterion=entropy, dt__max_depth=2, dt__splitter=best;, score=0.674 total time=   0.0s\n",
            "[CV 2/5; 19/36] START dt__criterion=entropy, dt__max_depth=2, dt__splitter=best.\n",
            "[CV 2/5; 19/36] END dt__criterion=entropy, dt__max_depth=2, dt__splitter=best;, score=0.688 total time=   0.0s\n",
            "[CV 3/5; 19/36] START dt__criterion=entropy, dt__max_depth=2, dt__splitter=best.\n",
            "[CV 3/5; 19/36] END dt__criterion=entropy, dt__max_depth=2, dt__splitter=best;, score=0.647 total time=   0.0s\n",
            "[CV 4/5; 19/36] START dt__criterion=entropy, dt__max_depth=2, dt__splitter=best.\n",
            "[CV 4/5; 19/36] END dt__criterion=entropy, dt__max_depth=2, dt__splitter=best;, score=0.705 total time=   0.0s\n",
            "[CV 5/5; 19/36] START dt__criterion=entropy, dt__max_depth=2, dt__splitter=best.\n"
          ]
        },
        {
          "name": "stdout",
          "output_type": "stream",
          "text": [
            "[CV 5/5; 19/36] END dt__criterion=entropy, dt__max_depth=2, dt__splitter=best;, score=0.576 total time=   0.0s\n",
            "[CV 1/5; 20/36] START dt__criterion=entropy, dt__max_depth=2, dt__splitter=random\n",
            "[CV 1/5; 20/36] END dt__criterion=entropy, dt__max_depth=2, dt__splitter=random;, score=0.674 total time=   0.0s\n",
            "[CV 2/5; 20/36] START dt__criterion=entropy, dt__max_depth=2, dt__splitter=random\n",
            "[CV 2/5; 20/36] END dt__criterion=entropy, dt__max_depth=2, dt__splitter=random;, score=0.688 total time=   0.0s\n",
            "[CV 3/5; 20/36] START dt__criterion=entropy, dt__max_depth=2, dt__splitter=random\n",
            "[CV 3/5; 20/36] END dt__criterion=entropy, dt__max_depth=2, dt__splitter=random;, score=0.635 total time=   0.0s\n",
            "[CV 4/5; 20/36] START dt__criterion=entropy, dt__max_depth=2, dt__splitter=random\n",
            "[CV 4/5; 20/36] END dt__criterion=entropy, dt__max_depth=2, dt__splitter=random;, score=0.677 total time=   0.0s\n",
            "[CV 5/5; 20/36] START dt__criterion=entropy, dt__max_depth=2, dt__splitter=random\n",
            "[CV 5/5; 20/36] END dt__criterion=entropy, dt__max_depth=2, dt__splitter=random;, score=0.576 total time=   0.0s\n",
            "[CV 1/5; 21/36] START dt__criterion=entropy, dt__max_depth=3, dt__splitter=best.\n",
            "[CV 1/5; 21/36] END dt__criterion=entropy, dt__max_depth=3, dt__splitter=best;, score=0.669 total time=   0.0s\n",
            "[CV 2/5; 21/36] START dt__criterion=entropy, dt__max_depth=3, dt__splitter=best.\n",
            "[CV 2/5; 21/36] END dt__criterion=entropy, dt__max_depth=3, dt__splitter=best;, score=0.684 total time=   0.0s\n",
            "[CV 3/5; 21/36] START dt__criterion=entropy, dt__max_depth=3, dt__splitter=best.\n",
            "[CV 3/5; 21/36] END dt__criterion=entropy, dt__max_depth=3, dt__splitter=best;, score=0.660 total time=   0.0s\n",
            "[CV 4/5; 21/36] START dt__criterion=entropy, dt__max_depth=3, dt__splitter=best.\n",
            "[CV 4/5; 21/36] END dt__criterion=entropy, dt__max_depth=3, dt__splitter=best;, score=0.690 total time=   0.0s\n",
            "[CV 5/5; 21/36] START dt__criterion=entropy, dt__max_depth=3, dt__splitter=best.\n",
            "[CV 5/5; 21/36] END dt__criterion=entropy, dt__max_depth=3, dt__splitter=best;, score=0.632 total time=   0.0s\n",
            "[CV 1/5; 22/36] START dt__criterion=entropy, dt__max_depth=3, dt__splitter=random\n",
            "[CV 1/5; 22/36] END dt__criterion=entropy, dt__max_depth=3, dt__splitter=random;, score=0.665 total time=   0.0s\n",
            "[CV 2/5; 22/36] START dt__criterion=entropy, dt__max_depth=3, dt__splitter=random\n",
            "[CV 2/5; 22/36] END dt__criterion=entropy, dt__max_depth=3, dt__splitter=random;, score=0.684 total time=   0.0s\n",
            "[CV 3/5; 22/36] START dt__criterion=entropy, dt__max_depth=3, dt__splitter=random\n",
            "[CV 3/5; 22/36] END dt__criterion=entropy, dt__max_depth=3, dt__splitter=random;, score=0.625 total time=   0.0s\n",
            "[CV 4/5; 22/36] START dt__criterion=entropy, dt__max_depth=3, dt__splitter=random\n",
            "[CV 4/5; 22/36] END dt__criterion=entropy, dt__max_depth=3, dt__splitter=random;, score=0.653 total time=   0.0s\n",
            "[CV 5/5; 22/36] START dt__criterion=entropy, dt__max_depth=3, dt__splitter=random\n",
            "[CV 5/5; 22/36] END dt__criterion=entropy, dt__max_depth=3, dt__splitter=random;, score=0.576 total time=   0.0s\n",
            "[CV 1/5; 23/36] START dt__criterion=entropy, dt__max_depth=4, dt__splitter=best.\n",
            "[CV 1/5; 23/36] END dt__criterion=entropy, dt__max_depth=4, dt__splitter=best;, score=0.669 total time=   0.0s\n",
            "[CV 2/5; 23/36] START dt__criterion=entropy, dt__max_depth=4, dt__splitter=best.\n",
            "[CV 2/5; 23/36] END dt__criterion=entropy, dt__max_depth=4, dt__splitter=best;, score=0.715 total time=   0.0s\n",
            "[CV 3/5; 23/36] START dt__criterion=entropy, dt__max_depth=4, dt__splitter=best.\n",
            "[CV 3/5; 23/36] END dt__criterion=entropy, dt__max_depth=4, dt__splitter=best;, score=0.679 total time=   0.0s\n",
            "[CV 4/5; 23/36] START dt__criterion=entropy, dt__max_depth=4, dt__splitter=best.\n",
            "[CV 4/5; 23/36] END dt__criterion=entropy, dt__max_depth=4, dt__splitter=best;, score=0.700 total time=   0.0s\n",
            "[CV 5/5; 23/36] START dt__criterion=entropy, dt__max_depth=4, dt__splitter=best.\n",
            "[CV 5/5; 23/36] END dt__criterion=entropy, dt__max_depth=4, dt__splitter=best;, score=0.684 total time=   0.0s\n",
            "[CV 1/5; 24/36] START dt__criterion=entropy, dt__max_depth=4, dt__splitter=random\n",
            "[CV 1/5; 24/36] END dt__criterion=entropy, dt__max_depth=4, dt__splitter=random;, score=0.679 total time=   0.0s\n",
            "[CV 2/5; 24/36] START dt__criterion=entropy, dt__max_depth=4, dt__splitter=random\n",
            "[CV 2/5; 24/36] END dt__criterion=entropy, dt__max_depth=4, dt__splitter=random;, score=0.696 total time=   0.0s\n",
            "[CV 3/5; 24/36] START dt__criterion=entropy, dt__max_depth=4, dt__splitter=random\n",
            "[CV 3/5; 24/36] END dt__criterion=entropy, dt__max_depth=4, dt__splitter=random;, score=0.660 total time=   0.0s\n",
            "[CV 4/5; 24/36] START dt__criterion=entropy, dt__max_depth=4, dt__splitter=random\n",
            "[CV 4/5; 24/36] END dt__criterion=entropy, dt__max_depth=4, dt__splitter=random;, score=0.692 total time=   0.0s\n",
            "[CV 5/5; 24/36] START dt__criterion=entropy, dt__max_depth=4, dt__splitter=random\n",
            "[CV 5/5; 24/36] END dt__criterion=entropy, dt__max_depth=4, dt__splitter=random;, score=0.705 total time=   0.0s\n",
            "[CV 1/5; 25/36] START dt__criterion=entropy, dt__max_depth=5, dt__splitter=best.\n",
            "[CV 1/5; 25/36] END dt__criterion=entropy, dt__max_depth=5, dt__splitter=best;, score=0.669 total time=   0.0s\n",
            "[CV 2/5; 25/36] START dt__criterion=entropy, dt__max_depth=5, dt__splitter=best.\n",
            "[CV 2/5; 25/36] END dt__criterion=entropy, dt__max_depth=5, dt__splitter=best;, score=0.736 total time=   0.0s\n",
            "[CV 3/5; 25/36] START dt__criterion=entropy, dt__max_depth=5, dt__splitter=best.\n",
            "[CV 3/5; 25/36] END dt__criterion=entropy, dt__max_depth=5, dt__splitter=best;, score=0.637 total time=   0.0s\n",
            "[CV 4/5; 25/36] START dt__criterion=entropy, dt__max_depth=5, dt__splitter=best.\n",
            "[CV 4/5; 25/36] END dt__criterion=entropy, dt__max_depth=5, dt__splitter=best;, score=0.650 total time=   0.0s\n",
            "[CV 5/5; 25/36] START dt__criterion=entropy, dt__max_depth=5, dt__splitter=best.\n",
            "[CV 5/5; 25/36] END dt__criterion=entropy, dt__max_depth=5, dt__splitter=best;, score=0.688 total time=   0.0s\n",
            "[CV 1/5; 26/36] START dt__criterion=entropy, dt__max_depth=5, dt__splitter=random\n",
            "[CV 1/5; 26/36] END dt__criterion=entropy, dt__max_depth=5, dt__splitter=random;, score=0.679 total time=   0.0s\n",
            "[CV 2/5; 26/36] START dt__criterion=entropy, dt__max_depth=5, dt__splitter=random\n",
            "[CV 2/5; 26/36] END dt__criterion=entropy, dt__max_depth=5, dt__splitter=random;, score=0.747 total time=   0.0s\n",
            "[CV 3/5; 26/36] START dt__criterion=entropy, dt__max_depth=5, dt__splitter=random\n",
            "[CV 3/5; 26/36] END dt__criterion=entropy, dt__max_depth=5, dt__splitter=random;, score=0.662 total time=   0.0s\n",
            "[CV 4/5; 26/36] START dt__criterion=entropy, dt__max_depth=5, dt__splitter=random\n",
            "[CV 4/5; 26/36] END dt__criterion=entropy, dt__max_depth=5, dt__splitter=random;, score=0.668 total time=   0.0s\n",
            "[CV 5/5; 26/36] START dt__criterion=entropy, dt__max_depth=5, dt__splitter=random\n",
            "[CV 5/5; 26/36] END dt__criterion=entropy, dt__max_depth=5, dt__splitter=random;, score=0.691 total time=   0.0s\n",
            "[CV 1/5; 27/36] START dt__criterion=entropy, dt__max_depth=6, dt__splitter=best.\n",
            "[CV 1/5; 27/36] END dt__criterion=entropy, dt__max_depth=6, dt__splitter=best;, score=0.696 total time=   0.0s\n",
            "[CV 2/5; 27/36] START dt__criterion=entropy, dt__max_depth=6, dt__splitter=best.\n",
            "[CV 2/5; 27/36] END dt__criterion=entropy, dt__max_depth=6, dt__splitter=best;, score=0.728 total time=   0.0s\n",
            "[CV 3/5; 27/36] START dt__criterion=entropy, dt__max_depth=6, dt__splitter=best.\n",
            "[CV 3/5; 27/36] END dt__criterion=entropy, dt__max_depth=6, dt__splitter=best;, score=0.622 total time=   0.0s\n",
            "[CV 4/5; 27/36] START dt__criterion=entropy, dt__max_depth=6, dt__splitter=best.\n",
            "[CV 4/5; 27/36] END dt__criterion=entropy, dt__max_depth=6, dt__splitter=best;, score=0.686 total time=   0.0s\n",
            "[CV 5/5; 27/36] START dt__criterion=entropy, dt__max_depth=6, dt__splitter=best.\n",
            "[CV 5/5; 27/36] END dt__criterion=entropy, dt__max_depth=6, dt__splitter=best;, score=0.703 total time=   0.0s\n",
            "[CV 1/5; 28/36] START dt__criterion=entropy, dt__max_depth=6, dt__splitter=random\n",
            "[CV 1/5; 28/36] END dt__criterion=entropy, dt__max_depth=6, dt__splitter=random;, score=0.631 total time=   0.0s\n",
            "[CV 2/5; 28/36] START dt__criterion=entropy, dt__max_depth=6, dt__splitter=random\n",
            "[CV 2/5; 28/36] END dt__criterion=entropy, dt__max_depth=6, dt__splitter=random;, score=0.662 total time=   0.0s\n",
            "[CV 3/5; 28/36] START dt__criterion=entropy, dt__max_depth=6, dt__splitter=random\n",
            "[CV 3/5; 28/36] END dt__criterion=entropy, dt__max_depth=6, dt__splitter=random;, score=0.622 total time=   0.0s\n",
            "[CV 4/5; 28/36] START dt__criterion=entropy, dt__max_depth=6, dt__splitter=random\n",
            "[CV 4/5; 28/36] END dt__criterion=entropy, dt__max_depth=6, dt__splitter=random;, score=0.688 total time=   0.0s\n",
            "[CV 5/5; 28/36] START dt__criterion=entropy, dt__max_depth=6, dt__splitter=random\n",
            "[CV 5/5; 28/36] END dt__criterion=entropy, dt__max_depth=6, dt__splitter=random;, score=0.696 total time=   0.0s\n",
            "[CV 1/5; 29/36] START dt__criterion=entropy, dt__max_depth=7, dt__splitter=best.\n"
          ]
        },
        {
          "name": "stdout",
          "output_type": "stream",
          "text": [
            "[CV 1/5; 29/36] END dt__criterion=entropy, dt__max_depth=7, dt__splitter=best;, score=0.725 total time=   0.0s\n",
            "[CV 2/5; 29/36] START dt__criterion=entropy, dt__max_depth=7, dt__splitter=best.\n",
            "[CV 2/5; 29/36] END dt__criterion=entropy, dt__max_depth=7, dt__splitter=best;, score=0.697 total time=   0.0s\n",
            "[CV 3/5; 29/36] START dt__criterion=entropy, dt__max_depth=7, dt__splitter=best.\n",
            "[CV 3/5; 29/36] END dt__criterion=entropy, dt__max_depth=7, dt__splitter=best;, score=0.594 total time=   0.0s\n",
            "[CV 4/5; 29/36] START dt__criterion=entropy, dt__max_depth=7, dt__splitter=best.\n",
            "[CV 4/5; 29/36] END dt__criterion=entropy, dt__max_depth=7, dt__splitter=best;, score=0.678 total time=   0.0s\n",
            "[CV 5/5; 29/36] START dt__criterion=entropy, dt__max_depth=7, dt__splitter=best.\n",
            "[CV 5/5; 29/36] END dt__criterion=entropy, dt__max_depth=7, dt__splitter=best;, score=0.679 total time=   0.0s\n",
            "[CV 1/5; 30/36] START dt__criterion=entropy, dt__max_depth=7, dt__splitter=random\n",
            "[CV 1/5; 30/36] END dt__criterion=entropy, dt__max_depth=7, dt__splitter=random;, score=0.629 total time=   0.0s\n",
            "[CV 2/5; 30/36] START dt__criterion=entropy, dt__max_depth=7, dt__splitter=random\n",
            "[CV 2/5; 30/36] END dt__criterion=entropy, dt__max_depth=7, dt__splitter=random;, score=0.768 total time=   0.0s\n",
            "[CV 3/5; 30/36] START dt__criterion=entropy, dt__max_depth=7, dt__splitter=random\n",
            "[CV 3/5; 30/36] END dt__criterion=entropy, dt__max_depth=7, dt__splitter=random;, score=0.635 total time=   0.0s\n",
            "[CV 4/5; 30/36] START dt__criterion=entropy, dt__max_depth=7, dt__splitter=random\n",
            "[CV 4/5; 30/36] END dt__criterion=entropy, dt__max_depth=7, dt__splitter=random;, score=0.715 total time=   0.0s\n",
            "[CV 5/5; 30/36] START dt__criterion=entropy, dt__max_depth=7, dt__splitter=random\n",
            "[CV 5/5; 30/36] END dt__criterion=entropy, dt__max_depth=7, dt__splitter=random;, score=0.674 total time=   0.0s\n",
            "[CV 1/5; 31/36] START dt__criterion=entropy, dt__max_depth=8, dt__splitter=best.\n",
            "[CV 1/5; 31/36] END dt__criterion=entropy, dt__max_depth=8, dt__splitter=best;, score=0.691 total time=   0.0s\n",
            "[CV 2/5; 31/36] START dt__criterion=entropy, dt__max_depth=8, dt__splitter=best.\n",
            "[CV 2/5; 31/36] END dt__criterion=entropy, dt__max_depth=8, dt__splitter=best;, score=0.754 total time=   0.0s\n",
            "[CV 3/5; 31/36] START dt__criterion=entropy, dt__max_depth=8, dt__splitter=best.\n",
            "[CV 3/5; 31/36] END dt__criterion=entropy, dt__max_depth=8, dt__splitter=best;, score=0.625 total time=   0.0s\n",
            "[CV 4/5; 31/36] START dt__criterion=entropy, dt__max_depth=8, dt__splitter=best.\n",
            "[CV 4/5; 31/36] END dt__criterion=entropy, dt__max_depth=8, dt__splitter=best;, score=0.674 total time=   0.0s\n",
            "[CV 5/5; 31/36] START dt__criterion=entropy, dt__max_depth=8, dt__splitter=best.\n",
            "[CV 5/5; 31/36] END dt__criterion=entropy, dt__max_depth=8, dt__splitter=best;, score=0.630 total time=   0.0s\n",
            "[CV 1/5; 32/36] START dt__criterion=entropy, dt__max_depth=8, dt__splitter=random\n",
            "[CV 1/5; 32/36] END dt__criterion=entropy, dt__max_depth=8, dt__splitter=random;, score=0.664 total time=   0.0s\n",
            "[CV 2/5; 32/36] START dt__criterion=entropy, dt__max_depth=8, dt__splitter=random\n",
            "[CV 2/5; 32/36] END dt__criterion=entropy, dt__max_depth=8, dt__splitter=random;, score=0.691 total time=   0.0s\n",
            "[CV 3/5; 32/36] START dt__criterion=entropy, dt__max_depth=8, dt__splitter=random\n",
            "[CV 3/5; 32/36] END dt__criterion=entropy, dt__max_depth=8, dt__splitter=random;, score=0.657 total time=   0.0s\n",
            "[CV 4/5; 32/36] START dt__criterion=entropy, dt__max_depth=8, dt__splitter=random\n",
            "[CV 4/5; 32/36] END dt__criterion=entropy, dt__max_depth=8, dt__splitter=random;, score=0.697 total time=   0.0s\n",
            "[CV 5/5; 32/36] START dt__criterion=entropy, dt__max_depth=8, dt__splitter=random\n",
            "[CV 5/5; 32/36] END dt__criterion=entropy, dt__max_depth=8, dt__splitter=random;, score=0.650 total time=   0.0s\n",
            "[CV 1/5; 33/36] START dt__criterion=entropy, dt__max_depth=9, dt__splitter=best.\n",
            "[CV 1/5; 33/36] END dt__criterion=entropy, dt__max_depth=9, dt__splitter=best;, score=0.720 total time=   0.0s\n",
            "[CV 2/5; 33/36] START dt__criterion=entropy, dt__max_depth=9, dt__splitter=best.\n",
            "[CV 2/5; 33/36] END dt__criterion=entropy, dt__max_depth=9, dt__splitter=best;, score=0.717 total time=   0.0s\n",
            "[CV 3/5; 33/36] START dt__criterion=entropy, dt__max_depth=9, dt__splitter=best.\n",
            "[CV 3/5; 33/36] END dt__criterion=entropy, dt__max_depth=9, dt__splitter=best;, score=0.625 total time=   0.0s\n",
            "[CV 4/5; 33/36] START dt__criterion=entropy, dt__max_depth=9, dt__splitter=best.\n",
            "[CV 4/5; 33/36] END dt__criterion=entropy, dt__max_depth=9, dt__splitter=best;, score=0.632 total time=   0.0s\n",
            "[CV 5/5; 33/36] START dt__criterion=entropy, dt__max_depth=9, dt__splitter=best.\n",
            "[CV 5/5; 33/36] END dt__criterion=entropy, dt__max_depth=9, dt__splitter=best;, score=0.651 total time=   0.0s\n",
            "[CV 1/5; 34/36] START dt__criterion=entropy, dt__max_depth=9, dt__splitter=random\n",
            "[CV 1/5; 34/36] END dt__criterion=entropy, dt__max_depth=9, dt__splitter=random;, score=0.643 total time=   0.0s\n",
            "[CV 2/5; 34/36] START dt__criterion=entropy, dt__max_depth=9, dt__splitter=random\n",
            "[CV 2/5; 34/36] END dt__criterion=entropy, dt__max_depth=9, dt__splitter=random;, score=0.705 total time=   0.0s\n",
            "[CV 3/5; 34/36] START dt__criterion=entropy, dt__max_depth=9, dt__splitter=random\n",
            "[CV 3/5; 34/36] END dt__criterion=entropy, dt__max_depth=9, dt__splitter=random;, score=0.625 total time=   0.0s\n",
            "[CV 4/5; 34/36] START dt__criterion=entropy, dt__max_depth=9, dt__splitter=random\n",
            "[CV 4/5; 34/36] END dt__criterion=entropy, dt__max_depth=9, dt__splitter=random;, score=0.712 total time=   0.0s\n",
            "[CV 5/5; 34/36] START dt__criterion=entropy, dt__max_depth=9, dt__splitter=random\n",
            "[CV 5/5; 34/36] END dt__criterion=entropy, dt__max_depth=9, dt__splitter=random;, score=0.643 total time=   0.0s\n",
            "[CV 1/5; 35/36] START dt__criterion=entropy, dt__max_depth=10, dt__splitter=best\n",
            "[CV 1/5; 35/36] END dt__criterion=entropy, dt__max_depth=10, dt__splitter=best;, score=0.729 total time=   0.0s\n",
            "[CV 2/5; 35/36] START dt__criterion=entropy, dt__max_depth=10, dt__splitter=best\n",
            "[CV 2/5; 35/36] END dt__criterion=entropy, dt__max_depth=10, dt__splitter=best;, score=0.701 total time=   0.0s\n",
            "[CV 3/5; 35/36] START dt__criterion=entropy, dt__max_depth=10, dt__splitter=best\n",
            "[CV 3/5; 35/36] END dt__criterion=entropy, dt__max_depth=10, dt__splitter=best;, score=0.650 total time=   0.0s\n",
            "[CV 4/5; 35/36] START dt__criterion=entropy, dt__max_depth=10, dt__splitter=best\n",
            "[CV 4/5; 35/36] END dt__criterion=entropy, dt__max_depth=10, dt__splitter=best;, score=0.688 total time=   0.0s\n",
            "[CV 5/5; 35/36] START dt__criterion=entropy, dt__max_depth=10, dt__splitter=best\n",
            "[CV 5/5; 35/36] END dt__criterion=entropy, dt__max_depth=10, dt__splitter=best;, score=0.655 total time=   0.0s\n",
            "[CV 1/5; 36/36] START dt__criterion=entropy, dt__max_depth=10, dt__splitter=random\n",
            "[CV 1/5; 36/36] END dt__criterion=entropy, dt__max_depth=10, dt__splitter=random;, score=0.655 total time=   0.0s\n",
            "[CV 2/5; 36/36] START dt__criterion=entropy, dt__max_depth=10, dt__splitter=random\n",
            "[CV 2/5; 36/36] END dt__criterion=entropy, dt__max_depth=10, dt__splitter=random;, score=0.686 total time=   0.0s\n",
            "[CV 3/5; 36/36] START dt__criterion=entropy, dt__max_depth=10, dt__splitter=random\n",
            "[CV 3/5; 36/36] END dt__criterion=entropy, dt__max_depth=10, dt__splitter=random;, score=0.639 total time=   0.0s\n",
            "[CV 4/5; 36/36] START dt__criterion=entropy, dt__max_depth=10, dt__splitter=random\n",
            "[CV 4/5; 36/36] END dt__criterion=entropy, dt__max_depth=10, dt__splitter=random;, score=0.698 total time=   0.0s\n",
            "[CV 5/5; 36/36] START dt__criterion=entropy, dt__max_depth=10, dt__splitter=random\n",
            "[CV 5/5; 36/36] END dt__criterion=entropy, dt__max_depth=10, dt__splitter=random;, score=0.632 total time=   0.0s\n"
          ]
        },
        {
          "data": {
            "text/plain": [
              "GridSearchCV(cv=StratifiedKFold(n_splits=5, random_state=42, shuffle=True),\n",
              "             estimator=Pipeline(steps=[('pre_processador',\n",
              "                                        ColumnTransformer(transformers=[('transf_num',\n",
              "                                                                         Pipeline(steps=[('input_num',\n",
              "                                                                                          SimpleImputer()),\n",
              "                                                                                         ('std',\n",
              "                                                                                          StandardScaler())]),\n",
              "                                                                         ['Age',\n",
              "                                                                          'Job',\n",
              "                                                                          'Credit '\n",
              "                                                                          'amount',\n",
              "                                                                          'Duration']),\n",
              "                                                                        ('transf_cat',\n",
              "                                                                         Pipeline(steps=[('input_cat',\n",
              "                                                                                          SimpleImputer(fill_value='unknown',\n",
              "                                                                                                        strategy='constant')),\n",
              "                                                                                         ('onehot',\n",
              "                                                                                          OneHotEncoder())]),\n",
              "                                                                         ['Sex',\n",
              "                                                                          'Housing',\n",
              "                                                                          'Saving '\n",
              "                                                                          'accounts',\n",
              "                                                                          'Checking '\n",
              "                                                                          'account',\n",
              "                                                                          'Purpose'])])),\n",
              "                                       ('dt',\n",
              "                                        DecisionTreeClassifier(random_state=42))]),\n",
              "             param_grid={'dt__criterion': ['gini', 'entropy'],\n",
              "                         'dt__max_depth': range(2, 11),\n",
              "                         'dt__splitter': ['best', 'random']},\n",
              "             scoring='f1_weighted', verbose=10)"
            ]
          },
          "execution_count": 80,
          "metadata": {},
          "output_type": "execute_result"
        }
      ],
      "source": [
        "df = pd.read_csv(\"../datasets/german_credit_data.csv\", index_col=0)\n",
        "\n",
        "X = df.drop(columns=\"Risk\")\n",
        "y = df[\"Risk\"]\n",
        "\n",
        "X_train, X_test, y_train, y_test = train_test_split(X, y, test_size=0.2, random_state=42, stratify=y)\n",
        "\n",
        "# ==========================================================\n",
        "# o que eu vou fazer com as features numéricas\n",
        "\n",
        "pipe_features_num = Pipeline([(\"input_num\", SimpleImputer(strategy=\"mean\")),\n",
        "                              (\"std\", StandardScaler())])\n",
        "\n",
        "features_num = X_train.select_dtypes(include=np.number).columns.tolist()\n",
        "\n",
        "# ==========================================================\n",
        "\n",
        "pipe_features_cat = Pipeline([(\"input_cat\", SimpleImputer(strategy=\"constant\", fill_value=\"unknown\")),\n",
        "                              (\"onehot\", OneHotEncoder())])\n",
        "\n",
        "features_cat = X_train.select_dtypes(exclude=np.number).columns.tolist()\n",
        "\n",
        "# ==========================================================\n",
        "\n",
        "pre_processador = ColumnTransformer([(\"transf_num\", pipe_features_num, features_num),\n",
        "                                     (\"transf_cat\", pipe_features_cat, features_cat)])\n",
        "\n",
        "# pipeline final\n",
        "pipe = Pipeline([(\"pre_processador\", pre_processador),\n",
        "                 (\"dt\", DecisionTreeClassifier(random_state=42))])\n",
        "\n",
        "# ============================================\n",
        "\n",
        "params_grid_dt = {\"dt__criterion\" : [\"gini\", \"entropy\"],\n",
        "                  \"dt__splitter\" : [\"best\", \"random\"],\n",
        "                  \"dt__max_depth\" : range(2, 11)} \n",
        "\n",
        "splitter = StratifiedKFold(n_splits=5, shuffle=True, random_state=42)\n",
        "\n",
        "grid_dt = GridSearchCV(estimator=pipe,\n",
        "                       param_grid=params_grid_dt,\n",
        "                       scoring=\"f1_weighted\",\n",
        "                       cv=splitter,\n",
        "                       verbose=10)\n",
        "\n",
        "grid_dt.fit(X_train, y_train)"
      ]
    },
    {
      "cell_type": "code",
      "execution_count": null,
      "metadata": {
        "ExecuteTime": {
          "end_time": "2022-02-18T23:21:08.417535Z",
          "start_time": "2022-02-18T23:21:08.306599Z"
        },
        "scrolled": true,
        "id": "drwb3dZbkxCQ",
        "outputId": "f3682825-3d3c-41c0-fe07-d03c47b440c0"
      },
      "outputs": [
        {
          "data": {
            "text/plain": [
              "GridSearchCV(cv=StratifiedKFold(n_splits=5, random_state=42, shuffle=True),\n",
              "             estimator=Pipeline(steps=[('pre_processador',\n",
              "                                        ColumnTransformer(transformers=[('transf_num',\n",
              "                                                                         Pipeline(steps=[('input_num',\n",
              "                                                                                          SimpleImputer()),\n",
              "                                                                                         ('std',\n",
              "                                                                                          StandardScaler())]),\n",
              "                                                                         ['Age',\n",
              "                                                                          'Job',\n",
              "                                                                          'Credit '\n",
              "                                                                          'amount',\n",
              "                                                                          'Duration']),\n",
              "                                                                        ('transf_cat',\n",
              "                                                                         Pipeline(steps=[('input_cat',\n",
              "                                                                                          SimpleImputer(fill_value='unknown',\n",
              "                                                                                                        strategy='constant')),\n",
              "                                                                                         ('onehot',\n",
              "                                                                                          OneHotEncoder())]),\n",
              "                                                                         ['Sex',\n",
              "                                                                          'Housing',\n",
              "                                                                          'Saving '\n",
              "                                                                          'accounts',\n",
              "                                                                          'Checking '\n",
              "                                                                          'account',\n",
              "                                                                          'Purpose'])])),\n",
              "                                       ('dt',\n",
              "                                        DecisionTreeClassifier(random_state=42))]),\n",
              "             param_grid={'dt__criterion': ['gini', 'entropy'],\n",
              "                         'dt__max_depth': range(2, 11),\n",
              "                         'dt__splitter': ['best', 'random']},\n",
              "             scoring='f1_weighted', verbose=10)"
            ]
          },
          "execution_count": 81,
          "metadata": {},
          "output_type": "execute_result"
        }
      ],
      "source": [
        "grid_dt"
      ]
    },
    {
      "cell_type": "code",
      "execution_count": null,
      "metadata": {
        "ExecuteTime": {
          "end_time": "2022-02-18T23:21:56.045999Z",
          "start_time": "2022-02-18T23:21:56.032986Z"
        },
        "id": "HXPT3aGUkxCQ",
        "outputId": "b3206f14-6d49-438c-db3a-3c45a43a3241"
      },
      "outputs": [
        {
          "data": {
            "text/plain": [
              "{'dt__criterion': 'entropy', 'dt__max_depth': 5, 'dt__splitter': 'random'}"
            ]
          },
          "execution_count": 82,
          "metadata": {},
          "output_type": "execute_result"
        }
      ],
      "source": [
        "grid_dt.best_params_"
      ]
    },
    {
      "cell_type": "code",
      "execution_count": null,
      "metadata": {
        "ExecuteTime": {
          "end_time": "2022-02-18T23:22:34.239357Z",
          "start_time": "2022-02-18T23:22:34.227341Z"
        },
        "id": "t5iRmzVekxCQ"
      },
      "outputs": [],
      "source": [
        "from sklearn.metrics import confusion_matrix, classification_report, ConfusionMatrixDisplay"
      ]
    },
    {
      "cell_type": "code",
      "execution_count": null,
      "metadata": {
        "ExecuteTime": {
          "end_time": "2022-02-18T23:22:37.368638Z",
          "start_time": "2022-02-18T23:22:36.425363Z"
        },
        "id": "2p_oSO8gkxCQ",
        "outputId": "d50ccb45-0772-48d1-ee62-94fccb71acaf"
      },
      "outputs": [
        {
          "name": "stdout",
          "output_type": "stream",
          "text": [
            "\n",
            "Métricas de avaliação de treino:\n",
            "[[157  83]\n",
            " [114 446]]\n"
          ]
        },
        {
          "data": {
            "image/png": "[encoded data removed]",
            "text/plain": [
              "<Figure size 432x288 with 2 Axes>"
            ]
          },
          "metadata": {
            "needs_background": "light"
          },
          "output_type": "display_data"
        },
        {
          "name": "stdout",
          "output_type": "stream",
          "text": [
            "              precision    recall  f1-score   support\n",
            "\n",
            "         bad       0.58      0.65      0.61       240\n",
            "        good       0.84      0.80      0.82       560\n",
            "\n",
            "    accuracy                           0.75       800\n",
            "   macro avg       0.71      0.73      0.72       800\n",
            "weighted avg       0.76      0.75      0.76       800\n",
            "\n",
            "\n",
            "Métricas de avaliação de teste:\n",
            "[[ 37  23]\n",
            " [ 37 103]]\n"
          ]
        },
        {
          "data": {
            "image/png": "[encoded data removed]",
            "text/plain": [
              "<Figure size 432x288 with 2 Axes>"
            ]
          },
          "metadata": {
            "needs_background": "light"
          },
          "output_type": "display_data"
        },
        {
          "name": "stdout",
          "output_type": "stream",
          "text": [
            "              precision    recall  f1-score   support\n",
            "\n",
            "         bad       0.50      0.62      0.55        60\n",
            "        good       0.82      0.74      0.77       140\n",
            "\n",
            "    accuracy                           0.70       200\n",
            "   macro avg       0.66      0.68      0.66       200\n",
            "weighted avg       0.72      0.70      0.71       200\n",
            "\n"
          ]
        }
      ],
      "source": [
        "# ============================================\n",
        "\n",
        "print(\"\\nMétricas de avaliação de treino:\")\n",
        "\n",
        "y_pred_train = grid_dt.predict(X_train)\n",
        "\n",
        "print(confusion_matrix(y_train, y_pred_train))\n",
        "\n",
        "ConfusionMatrixDisplay.from_predictions(y_train, y_pred_train)\n",
        "plt.show()\n",
        "\n",
        "print(classification_report(y_train, y_pred_train))\n",
        "\n",
        "# ============================================\n",
        "\n",
        "print(\"\\nMétricas de avaliação de teste:\")\n",
        "\n",
        "y_pred_test = grid_dt.predict(X_test)\n",
        "\n",
        "print(confusion_matrix(y_test, y_pred_test))\n",
        "\n",
        "ConfusionMatrixDisplay.from_predictions(y_test, y_pred_test)\n",
        "plt.show()\n",
        "\n",
        "print(classification_report(y_test, y_pred_test))"
      ]
    },
    {
      "cell_type": "markdown",
      "metadata": {
        "id": "BE_B4JoekxCR"
      },
      "source": [
        "_________"
      ]
    },
    {
      "cell_type": "markdown",
      "metadata": {
        "id": "6ldb33cqkxCR"
      },
      "source": [
        "Uma última coisa: vamos generalizar ainda mais a pipeline!!\n",
        "\n",
        "Pras features não-numéricas, já sabemos que podemos fazer duas codificações diferentes para numerizá-las (onehot e ordinal).\n",
        "\n",
        "Até o momento, usamos uma abordagem ou a outra. Mas, por que não usar **ambas**?\n",
        "\n",
        "O ColumnTransformer permite que façamos isso também!! :D"
      ]
    },
    {
      "cell_type": "markdown",
      "metadata": {
        "id": "75QqZZdfkxCR"
      },
      "source": [
        "Lembrem-se que sempre utilizamo sum codificação ordinal, estamos **adicionando um viés ordinal**, que pode ser desejado ou indesejado, dependendo da feature a ser codificada!\n",
        "\n",
        "Por isso, é importante analisar as features categóricas separadamente, e processar as colunas separadamente!"
      ]
    },
    {
      "cell_type": "code",
      "execution_count": null,
      "metadata": {
        "ExecuteTime": {
          "end_time": "2022-02-18T23:27:28.308664Z",
          "start_time": "2022-02-18T23:27:28.292663Z"
        },
        "id": "XXGsJosZkxCR",
        "outputId": "2be29e1b-8f4c-4ebd-a471-b687efdd16b4"
      },
      "outputs": [
        {
          "data": {
            "text/plain": [
              "['Sex', 'Housing', 'Saving accounts', 'Checking account', 'Purpose']"
            ]
          },
          "execution_count": 85,
          "metadata": {},
          "output_type": "execute_result"
        }
      ],
      "source": [
        "X_train.select_dtypes(exclude=np.number).columns.tolist()"
      ]
    },
    {
      "cell_type": "code",
      "execution_count": null,
      "metadata": {
        "ExecuteTime": {
          "end_time": "2022-02-18T23:28:27.767337Z",
          "start_time": "2022-02-18T23:28:27.753343Z"
        },
        "id": "AvaZRrYckxCR",
        "outputId": "1d5359db-1a61-4e1f-acde-b9376f7d93a6"
      },
      "outputs": [
        {
          "data": {
            "text/plain": [
              "car                    267\n",
              "radio/TV               225\n",
              "furniture/equipment    150\n",
              "business                78\n",
              "education               44\n",
              "repairs                 20\n",
              "domestic appliances      8\n",
              "vacation/others          8\n",
              "Name: Purpose, dtype: int64"
            ]
          },
          "execution_count": 86,
          "metadata": {},
          "output_type": "execute_result"
        }
      ],
      "source": [
        "X_train[\"Purpose\"].value_counts()"
      ]
    },
    {
      "cell_type": "code",
      "execution_count": null,
      "metadata": {
        "ExecuteTime": {
          "end_time": "2022-02-18T23:36:28.572679Z",
          "start_time": "2022-02-18T23:36:07.412038Z"
        },
        "id": "URZ-hoiOkxCS",
        "outputId": "8ca6c593-16cd-4fbd-e8de-83c72d7a8f23"
      },
      "outputs": [
        {
          "name": "stdout",
          "output_type": "stream",
          "text": [
            "Fitting 5 folds for each of 72 candidates, totalling 360 fits\n",
            "[CV 1/5; 1/72] START dt__criterion=gini, dt__max_depth=2, dt__splitter=best, pre_processador__transf_cat_oh__input_cat_oh__strategy=constant\n",
            "[CV 1/5; 1/72] END dt__criterion=gini, dt__max_depth=2, dt__splitter=best, pre_processador__transf_cat_oh__input_cat_oh__strategy=constant;, score=0.659 total time=   0.0s\n",
            "[CV 2/5; 1/72] START dt__criterion=gini, dt__max_depth=2, dt__splitter=best, pre_processador__transf_cat_oh__input_cat_oh__strategy=constant\n",
            "[CV 2/5; 1/72] END dt__criterion=gini, dt__max_depth=2, dt__splitter=best, pre_processador__transf_cat_oh__input_cat_oh__strategy=constant;, score=0.674 total time=   0.0s\n",
            "[CV 3/5; 1/72] START dt__criterion=gini, dt__max_depth=2, dt__splitter=best, pre_processador__transf_cat_oh__input_cat_oh__strategy=constant\n",
            "[CV 3/5; 1/72] END dt__criterion=gini, dt__max_depth=2, dt__splitter=best, pre_processador__transf_cat_oh__input_cat_oh__strategy=constant;, score=0.647 total time=   0.0s\n",
            "[CV 4/5; 1/72] START dt__criterion=gini, dt__max_depth=2, dt__splitter=best, pre_processador__transf_cat_oh__input_cat_oh__strategy=constant\n",
            "[CV 4/5; 1/72] END dt__criterion=gini, dt__max_depth=2, dt__splitter=best, pre_processador__transf_cat_oh__input_cat_oh__strategy=constant;, score=0.701 total time=   0.0s\n",
            "[CV 5/5; 1/72] START dt__criterion=gini, dt__max_depth=2, dt__splitter=best, pre_processador__transf_cat_oh__input_cat_oh__strategy=constant\n",
            "[CV 5/5; 1/72] END dt__criterion=gini, dt__max_depth=2, dt__splitter=best, pre_processador__transf_cat_oh__input_cat_oh__strategy=constant;, score=0.576 total time=   0.0s\n",
            "[CV 1/5; 2/72] START dt__criterion=gini, dt__max_depth=2, dt__splitter=best, pre_processador__transf_cat_oh__input_cat_oh__strategy=most_frequent\n",
            "[CV 1/5; 2/72] END dt__criterion=gini, dt__max_depth=2, dt__splitter=best, pre_processador__transf_cat_oh__input_cat_oh__strategy=most_frequent;, score=0.659 total time=   0.0s\n",
            "[CV 2/5; 2/72] START dt__criterion=gini, dt__max_depth=2, dt__splitter=best, pre_processador__transf_cat_oh__input_cat_oh__strategy=most_frequent\n",
            "[CV 2/5; 2/72] END dt__criterion=gini, dt__max_depth=2, dt__splitter=best, pre_processador__transf_cat_oh__input_cat_oh__strategy=most_frequent;, score=0.674 total time=   0.0s\n",
            "[CV 3/5; 2/72] START dt__criterion=gini, dt__max_depth=2, dt__splitter=best, pre_processador__transf_cat_oh__input_cat_oh__strategy=most_frequent\n",
            "[CV 3/5; 2/72] END dt__criterion=gini, dt__max_depth=2, dt__splitter=best, pre_processador__transf_cat_oh__input_cat_oh__strategy=most_frequent;, score=0.647 total time=   0.0s\n",
            "[CV 4/5; 2/72] START dt__criterion=gini, dt__max_depth=2, dt__splitter=best, pre_processador__transf_cat_oh__input_cat_oh__strategy=most_frequent\n",
            "[CV 4/5; 2/72] END dt__criterion=gini, dt__max_depth=2, dt__splitter=best, pre_processador__transf_cat_oh__input_cat_oh__strategy=most_frequent;, score=0.701 total time=   0.0s\n",
            "[CV 5/5; 2/72] START dt__criterion=gini, dt__max_depth=2, dt__splitter=best, pre_processador__transf_cat_oh__input_cat_oh__strategy=most_frequent\n",
            "[CV 5/5; 2/72] END dt__criterion=gini, dt__max_depth=2, dt__splitter=best, pre_processador__transf_cat_oh__input_cat_oh__strategy=most_frequent;, score=0.576 total time=   0.0s\n",
            "[CV 1/5; 3/72] START dt__criterion=gini, dt__max_depth=2, dt__splitter=random, pre_processador__transf_cat_oh__input_cat_oh__strategy=constant\n",
            "[CV 1/5; 3/72] END dt__criterion=gini, dt__max_depth=2, dt__splitter=random, pre_processador__transf_cat_oh__input_cat_oh__strategy=constant;, score=0.588 total time=   0.0s\n",
            "[CV 2/5; 3/72] START dt__criterion=gini, dt__max_depth=2, dt__splitter=random, pre_processador__transf_cat_oh__input_cat_oh__strategy=constant\n",
            "[CV 2/5; 3/72] END dt__criterion=gini, dt__max_depth=2, dt__splitter=random, pre_processador__transf_cat_oh__input_cat_oh__strategy=constant;, score=0.666 total time=   0.0s\n",
            "[CV 3/5; 3/72] START dt__criterion=gini, dt__max_depth=2, dt__splitter=random, pre_processador__transf_cat_oh__input_cat_oh__strategy=constant\n",
            "[CV 3/5; 3/72] END dt__criterion=gini, dt__max_depth=2, dt__splitter=random, pre_processador__transf_cat_oh__input_cat_oh__strategy=constant;, score=0.619 total time=   0.0s\n",
            "[CV 4/5; 3/72] START dt__criterion=gini, dt__max_depth=2, dt__splitter=random, pre_processador__transf_cat_oh__input_cat_oh__strategy=constant\n",
            "[CV 4/5; 3/72] END dt__criterion=gini, dt__max_depth=2, dt__splitter=random, pre_processador__transf_cat_oh__input_cat_oh__strategy=constant;, score=0.675 total time=   0.0s\n",
            "[CV 5/5; 3/72] START dt__criterion=gini, dt__max_depth=2, dt__splitter=random, pre_processador__transf_cat_oh__input_cat_oh__strategy=constant\n",
            "[CV 5/5; 3/72] END dt__criterion=gini, dt__max_depth=2, dt__splitter=random, pre_processador__transf_cat_oh__input_cat_oh__strategy=constant;, score=0.614 total time=   0.0s\n",
            "[CV 1/5; 4/72] START dt__criterion=gini, dt__max_depth=2, dt__splitter=random, pre_processador__transf_cat_oh__input_cat_oh__strategy=most_frequent\n",
            "[CV 1/5; 4/72] END dt__criterion=gini, dt__max_depth=2, dt__splitter=random, pre_processador__transf_cat_oh__input_cat_oh__strategy=most_frequent;, score=0.588 total time=   0.0s\n",
            "[CV 2/5; 4/72] START dt__criterion=gini, dt__max_depth=2, dt__splitter=random, pre_processador__transf_cat_oh__input_cat_oh__strategy=most_frequent\n",
            "[CV 2/5; 4/72] END dt__criterion=gini, dt__max_depth=2, dt__splitter=random, pre_processador__transf_cat_oh__input_cat_oh__strategy=most_frequent;, score=0.666 total time=   0.0s\n",
            "[CV 3/5; 4/72] START dt__criterion=gini, dt__max_depth=2, dt__splitter=random, pre_processador__transf_cat_oh__input_cat_oh__strategy=most_frequent\n",
            "[CV 3/5; 4/72] END dt__criterion=gini, dt__max_depth=2, dt__splitter=random, pre_processador__transf_cat_oh__input_cat_oh__strategy=most_frequent;, score=0.619 total time=   0.0s\n",
            "[CV 4/5; 4/72] START dt__criterion=gini, dt__max_depth=2, dt__splitter=random, pre_processador__transf_cat_oh__input_cat_oh__strategy=most_frequent\n",
            "[CV 4/5; 4/72] END dt__criterion=gini, dt__max_depth=2, dt__splitter=random, pre_processador__transf_cat_oh__input_cat_oh__strategy=most_frequent;, score=0.675 total time=   0.0s\n",
            "[CV 5/5; 4/72] START dt__criterion=gini, dt__max_depth=2, dt__splitter=random, pre_processador__transf_cat_oh__input_cat_oh__strategy=most_frequent\n",
            "[CV 5/5; 4/72] END dt__criterion=gini, dt__max_depth=2, dt__splitter=random, pre_processador__transf_cat_oh__input_cat_oh__strategy=most_frequent;, score=0.614 total time=   0.0s\n",
            "[CV 1/5; 5/72] START dt__criterion=gini, dt__max_depth=3, dt__splitter=best, pre_processador__transf_cat_oh__input_cat_oh__strategy=constant\n",
            "[CV 1/5; 5/72] END dt__criterion=gini, dt__max_depth=3, dt__splitter=best, pre_processador__transf_cat_oh__input_cat_oh__strategy=constant;, score=0.697 total time=   0.0s\n",
            "[CV 2/5; 5/72] START dt__criterion=gini, dt__max_depth=3, dt__splitter=best, pre_processador__transf_cat_oh__input_cat_oh__strategy=constant\n",
            "[CV 2/5; 5/72] END dt__criterion=gini, dt__max_depth=3, dt__splitter=best, pre_processador__transf_cat_oh__input_cat_oh__strategy=constant;, score=0.674 total time=   0.0s\n",
            "[CV 3/5; 5/72] START dt__criterion=gini, dt__max_depth=3, dt__splitter=best, pre_processador__transf_cat_oh__input_cat_oh__strategy=constant\n",
            "[CV 3/5; 5/72] END dt__criterion=gini, dt__max_depth=3, dt__splitter=best, pre_processador__transf_cat_oh__input_cat_oh__strategy=constant;, score=0.646 total time=   0.0s\n",
            "[CV 4/5; 5/72] START dt__criterion=gini, dt__max_depth=3, dt__splitter=best, pre_processador__transf_cat_oh__input_cat_oh__strategy=constant\n",
            "[CV 4/5; 5/72] END dt__criterion=gini, dt__max_depth=3, dt__splitter=best, pre_processador__transf_cat_oh__input_cat_oh__strategy=constant;, score=0.686 total time=   0.1s\n",
            "[CV 5/5; 5/72] START dt__criterion=gini, dt__max_depth=3, dt__splitter=best, pre_processador__transf_cat_oh__input_cat_oh__strategy=constant\n",
            "[CV 5/5; 5/72] END dt__criterion=gini, dt__max_depth=3, dt__splitter=best, pre_processador__transf_cat_oh__input_cat_oh__strategy=constant;, score=0.686 total time=   0.0s\n",
            "[CV 1/5; 6/72] START dt__criterion=gini, dt__max_depth=3, dt__splitter=best, pre_processador__transf_cat_oh__input_cat_oh__strategy=most_frequent\n",
            "[CV 1/5; 6/72] END dt__criterion=gini, dt__max_depth=3, dt__splitter=best, pre_processador__transf_cat_oh__input_cat_oh__strategy=most_frequent;, score=0.697 total time=   0.0s\n",
            "[CV 2/5; 6/72] START dt__criterion=gini, dt__max_depth=3, dt__splitter=best, pre_processador__transf_cat_oh__input_cat_oh__strategy=most_frequent\n",
            "[CV 2/5; 6/72] END dt__criterion=gini, dt__max_depth=3, dt__splitter=best, pre_processador__transf_cat_oh__input_cat_oh__strategy=most_frequent;, score=0.674 total time=   0.0s\n",
            "[CV 3/5; 6/72] START dt__criterion=gini, dt__max_depth=3, dt__splitter=best, pre_processador__transf_cat_oh__input_cat_oh__strategy=most_frequent\n",
            "[CV 3/5; 6/72] END dt__criterion=gini, dt__max_depth=3, dt__splitter=best, pre_processador__transf_cat_oh__input_cat_oh__strategy=most_frequent;, score=0.646 total time=   0.0s\n",
            "[CV 4/5; 6/72] START dt__criterion=gini, dt__max_depth=3, dt__splitter=best, pre_processador__transf_cat_oh__input_cat_oh__strategy=most_frequent\n"
          ]
        },
        {
          "name": "stdout",
          "output_type": "stream",
          "text": [
            "[CV 4/5; 6/72] END dt__criterion=gini, dt__max_depth=3, dt__splitter=best, pre_processador__transf_cat_oh__input_cat_oh__strategy=most_frequent;, score=0.686 total time=   0.0s\n",
            "[CV 5/5; 6/72] START dt__criterion=gini, dt__max_depth=3, dt__splitter=best, pre_processador__transf_cat_oh__input_cat_oh__strategy=most_frequent\n",
            "[CV 5/5; 6/72] END dt__criterion=gini, dt__max_depth=3, dt__splitter=best, pre_processador__transf_cat_oh__input_cat_oh__strategy=most_frequent;, score=0.686 total time=   0.0s\n",
            "[CV 1/5; 7/72] START dt__criterion=gini, dt__max_depth=3, dt__splitter=random, pre_processador__transf_cat_oh__input_cat_oh__strategy=constant\n",
            "[CV 1/5; 7/72] END dt__criterion=gini, dt__max_depth=3, dt__splitter=random, pre_processador__transf_cat_oh__input_cat_oh__strategy=constant;, score=0.671 total time=   0.0s\n",
            "[CV 2/5; 7/72] START dt__criterion=gini, dt__max_depth=3, dt__splitter=random, pre_processador__transf_cat_oh__input_cat_oh__strategy=constant\n",
            "[CV 2/5; 7/72] END dt__criterion=gini, dt__max_depth=3, dt__splitter=random, pre_processador__transf_cat_oh__input_cat_oh__strategy=constant;, score=0.646 total time=   0.0s\n",
            "[CV 3/5; 7/72] START dt__criterion=gini, dt__max_depth=3, dt__splitter=random, pre_processador__transf_cat_oh__input_cat_oh__strategy=constant\n",
            "[CV 3/5; 7/72] END dt__criterion=gini, dt__max_depth=3, dt__splitter=random, pre_processador__transf_cat_oh__input_cat_oh__strategy=constant;, score=0.628 total time=   0.0s\n",
            "[CV 4/5; 7/72] START dt__criterion=gini, dt__max_depth=3, dt__splitter=random, pre_processador__transf_cat_oh__input_cat_oh__strategy=constant\n",
            "[CV 4/5; 7/72] END dt__criterion=gini, dt__max_depth=3, dt__splitter=random, pre_processador__transf_cat_oh__input_cat_oh__strategy=constant;, score=0.662 total time=   0.0s\n",
            "[CV 5/5; 7/72] START dt__criterion=gini, dt__max_depth=3, dt__splitter=random, pre_processador__transf_cat_oh__input_cat_oh__strategy=constant\n",
            "[CV 5/5; 7/72] END dt__criterion=gini, dt__max_depth=3, dt__splitter=random, pre_processador__transf_cat_oh__input_cat_oh__strategy=constant;, score=0.600 total time=   0.0s\n",
            "[CV 1/5; 8/72] START dt__criterion=gini, dt__max_depth=3, dt__splitter=random, pre_processador__transf_cat_oh__input_cat_oh__strategy=most_frequent\n",
            "[CV 1/5; 8/72] END dt__criterion=gini, dt__max_depth=3, dt__splitter=random, pre_processador__transf_cat_oh__input_cat_oh__strategy=most_frequent;, score=0.671 total time=   0.0s\n",
            "[CV 2/5; 8/72] START dt__criterion=gini, dt__max_depth=3, dt__splitter=random, pre_processador__transf_cat_oh__input_cat_oh__strategy=most_frequent\n",
            "[CV 2/5; 8/72] END dt__criterion=gini, dt__max_depth=3, dt__splitter=random, pre_processador__transf_cat_oh__input_cat_oh__strategy=most_frequent;, score=0.646 total time=   0.0s\n",
            "[CV 3/5; 8/72] START dt__criterion=gini, dt__max_depth=3, dt__splitter=random, pre_processador__transf_cat_oh__input_cat_oh__strategy=most_frequent\n",
            "[CV 3/5; 8/72] END dt__criterion=gini, dt__max_depth=3, dt__splitter=random, pre_processador__transf_cat_oh__input_cat_oh__strategy=most_frequent;, score=0.628 total time=   0.0s\n",
            "[CV 4/5; 8/72] START dt__criterion=gini, dt__max_depth=3, dt__splitter=random, pre_processador__transf_cat_oh__input_cat_oh__strategy=most_frequent\n",
            "[CV 4/5; 8/72] END dt__criterion=gini, dt__max_depth=3, dt__splitter=random, pre_processador__transf_cat_oh__input_cat_oh__strategy=most_frequent;, score=0.662 total time=   0.0s\n",
            "[CV 5/5; 8/72] START dt__criterion=gini, dt__max_depth=3, dt__splitter=random, pre_processador__transf_cat_oh__input_cat_oh__strategy=most_frequent\n",
            "[CV 5/5; 8/72] END dt__criterion=gini, dt__max_depth=3, dt__splitter=random, pre_processador__transf_cat_oh__input_cat_oh__strategy=most_frequent;, score=0.600 total time=   0.0s\n",
            "[CV 1/5; 9/72] START dt__criterion=gini, dt__max_depth=4, dt__splitter=best, pre_processador__transf_cat_oh__input_cat_oh__strategy=constant\n",
            "[CV 1/5; 9/72] END dt__criterion=gini, dt__max_depth=4, dt__splitter=best, pre_processador__transf_cat_oh__input_cat_oh__strategy=constant;, score=0.669 total time=   0.0s\n",
            "[CV 2/5; 9/72] START dt__criterion=gini, dt__max_depth=4, dt__splitter=best, pre_processador__transf_cat_oh__input_cat_oh__strategy=constant\n",
            "[CV 2/5; 9/72] END dt__criterion=gini, dt__max_depth=4, dt__splitter=best, pre_processador__transf_cat_oh__input_cat_oh__strategy=constant;, score=0.723 total time=   0.0s\n",
            "[CV 3/5; 9/72] START dt__criterion=gini, dt__max_depth=4, dt__splitter=best, pre_processador__transf_cat_oh__input_cat_oh__strategy=constant\n",
            "[CV 3/5; 9/72] END dt__criterion=gini, dt__max_depth=4, dt__splitter=best, pre_processador__transf_cat_oh__input_cat_oh__strategy=constant;, score=0.666 total time=   0.0s\n",
            "[CV 4/5; 9/72] START dt__criterion=gini, dt__max_depth=4, dt__splitter=best, pre_processador__transf_cat_oh__input_cat_oh__strategy=constant\n",
            "[CV 4/5; 9/72] END dt__criterion=gini, dt__max_depth=4, dt__splitter=best, pre_processador__transf_cat_oh__input_cat_oh__strategy=constant;, score=0.701 total time=   0.0s\n",
            "[CV 5/5; 9/72] START dt__criterion=gini, dt__max_depth=4, dt__splitter=best, pre_processador__transf_cat_oh__input_cat_oh__strategy=constant\n",
            "[CV 5/5; 9/72] END dt__criterion=gini, dt__max_depth=4, dt__splitter=best, pre_processador__transf_cat_oh__input_cat_oh__strategy=constant;, score=0.702 total time=   0.0s\n",
            "[CV 1/5; 10/72] START dt__criterion=gini, dt__max_depth=4, dt__splitter=best, pre_processador__transf_cat_oh__input_cat_oh__strategy=most_frequent\n",
            "[CV 1/5; 10/72] END dt__criterion=gini, dt__max_depth=4, dt__splitter=best, pre_processador__transf_cat_oh__input_cat_oh__strategy=most_frequent;, score=0.669 total time=   0.0s\n",
            "[CV 2/5; 10/72] START dt__criterion=gini, dt__max_depth=4, dt__splitter=best, pre_processador__transf_cat_oh__input_cat_oh__strategy=most_frequent\n",
            "[CV 2/5; 10/72] END dt__criterion=gini, dt__max_depth=4, dt__splitter=best, pre_processador__transf_cat_oh__input_cat_oh__strategy=most_frequent;, score=0.723 total time=   0.0s\n",
            "[CV 3/5; 10/72] START dt__criterion=gini, dt__max_depth=4, dt__splitter=best, pre_processador__transf_cat_oh__input_cat_oh__strategy=most_frequent\n",
            "[CV 3/5; 10/72] END dt__criterion=gini, dt__max_depth=4, dt__splitter=best, pre_processador__transf_cat_oh__input_cat_oh__strategy=most_frequent;, score=0.666 total time=   0.0s\n",
            "[CV 4/5; 10/72] START dt__criterion=gini, dt__max_depth=4, dt__splitter=best, pre_processador__transf_cat_oh__input_cat_oh__strategy=most_frequent\n",
            "[CV 4/5; 10/72] END dt__criterion=gini, dt__max_depth=4, dt__splitter=best, pre_processador__transf_cat_oh__input_cat_oh__strategy=most_frequent;, score=0.701 total time=   0.0s\n",
            "[CV 5/5; 10/72] START dt__criterion=gini, dt__max_depth=4, dt__splitter=best, pre_processador__transf_cat_oh__input_cat_oh__strategy=most_frequent\n",
            "[CV 5/5; 10/72] END dt__criterion=gini, dt__max_depth=4, dt__splitter=best, pre_processador__transf_cat_oh__input_cat_oh__strategy=most_frequent;, score=0.702 total time=   0.0s\n",
            "[CV 1/5; 11/72] START dt__criterion=gini, dt__max_depth=4, dt__splitter=random, pre_processador__transf_cat_oh__input_cat_oh__strategy=constant\n",
            "[CV 1/5; 11/72] END dt__criterion=gini, dt__max_depth=4, dt__splitter=random, pre_processador__transf_cat_oh__input_cat_oh__strategy=constant;, score=0.693 total time=   0.0s\n",
            "[CV 2/5; 11/72] START dt__criterion=gini, dt__max_depth=4, dt__splitter=random, pre_processador__transf_cat_oh__input_cat_oh__strategy=constant\n",
            "[CV 2/5; 11/72] END dt__criterion=gini, dt__max_depth=4, dt__splitter=random, pre_processador__transf_cat_oh__input_cat_oh__strategy=constant;, score=0.703 total time=   0.0s\n",
            "[CV 3/5; 11/72] START dt__criterion=gini, dt__max_depth=4, dt__splitter=random, pre_processador__transf_cat_oh__input_cat_oh__strategy=constant\n",
            "[CV 3/5; 11/72] END dt__criterion=gini, dt__max_depth=4, dt__splitter=random, pre_processador__transf_cat_oh__input_cat_oh__strategy=constant;, score=0.603 total time=   0.0s\n",
            "[CV 4/5; 11/72] START dt__criterion=gini, dt__max_depth=4, dt__splitter=random, pre_processador__transf_cat_oh__input_cat_oh__strategy=constant\n",
            "[CV 4/5; 11/72] END dt__criterion=gini, dt__max_depth=4, dt__splitter=random, pre_processador__transf_cat_oh__input_cat_oh__strategy=constant;, score=0.659 total time=   0.0s\n",
            "[CV 5/5; 11/72] START dt__criterion=gini, dt__max_depth=4, dt__splitter=random, pre_processador__transf_cat_oh__input_cat_oh__strategy=constant\n",
            "[CV 5/5; 11/72] END dt__criterion=gini, dt__max_depth=4, dt__splitter=random, pre_processador__transf_cat_oh__input_cat_oh__strategy=constant;, score=0.664 total time=   0.0s\n",
            "[CV 1/5; 12/72] START dt__criterion=gini, dt__max_depth=4, dt__splitter=random, pre_processador__transf_cat_oh__input_cat_oh__strategy=most_frequent\n",
            "[CV 1/5; 12/72] END dt__criterion=gini, dt__max_depth=4, dt__splitter=random, pre_processador__transf_cat_oh__input_cat_oh__strategy=most_frequent;, score=0.693 total time=   0.0s\n",
            "[CV 2/5; 12/72] START dt__criterion=gini, dt__max_depth=4, dt__splitter=random, pre_processador__transf_cat_oh__input_cat_oh__strategy=most_frequent\n"
          ]
        },
        {
          "name": "stdout",
          "output_type": "stream",
          "text": [
            "[CV 2/5; 12/72] END dt__criterion=gini, dt__max_depth=4, dt__splitter=random, pre_processador__transf_cat_oh__input_cat_oh__strategy=most_frequent;, score=0.703 total time=   0.0s\n",
            "[CV 3/5; 12/72] START dt__criterion=gini, dt__max_depth=4, dt__splitter=random, pre_processador__transf_cat_oh__input_cat_oh__strategy=most_frequent\n",
            "[CV 3/5; 12/72] END dt__criterion=gini, dt__max_depth=4, dt__splitter=random, pre_processador__transf_cat_oh__input_cat_oh__strategy=most_frequent;, score=0.603 total time=   0.0s\n",
            "[CV 4/5; 12/72] START dt__criterion=gini, dt__max_depth=4, dt__splitter=random, pre_processador__transf_cat_oh__input_cat_oh__strategy=most_frequent\n",
            "[CV 4/5; 12/72] END dt__criterion=gini, dt__max_depth=4, dt__splitter=random, pre_processador__transf_cat_oh__input_cat_oh__strategy=most_frequent;, score=0.659 total time=   0.0s\n",
            "[CV 5/5; 12/72] START dt__criterion=gini, dt__max_depth=4, dt__splitter=random, pre_processador__transf_cat_oh__input_cat_oh__strategy=most_frequent\n",
            "[CV 5/5; 12/72] END dt__criterion=gini, dt__max_depth=4, dt__splitter=random, pre_processador__transf_cat_oh__input_cat_oh__strategy=most_frequent;, score=0.664 total time=   0.0s\n",
            "[CV 1/5; 13/72] START dt__criterion=gini, dt__max_depth=5, dt__splitter=best, pre_processador__transf_cat_oh__input_cat_oh__strategy=constant\n",
            "[CV 1/5; 13/72] END dt__criterion=gini, dt__max_depth=5, dt__splitter=best, pre_processador__transf_cat_oh__input_cat_oh__strategy=constant;, score=0.663 total time=   0.0s\n",
            "[CV 2/5; 13/72] START dt__criterion=gini, dt__max_depth=5, dt__splitter=best, pre_processador__transf_cat_oh__input_cat_oh__strategy=constant\n",
            "[CV 2/5; 13/72] END dt__criterion=gini, dt__max_depth=5, dt__splitter=best, pre_processador__transf_cat_oh__input_cat_oh__strategy=constant;, score=0.702 total time=   0.0s\n",
            "[CV 3/5; 13/72] START dt__criterion=gini, dt__max_depth=5, dt__splitter=best, pre_processador__transf_cat_oh__input_cat_oh__strategy=constant\n",
            "[CV 3/5; 13/72] END dt__criterion=gini, dt__max_depth=5, dt__splitter=best, pre_processador__transf_cat_oh__input_cat_oh__strategy=constant;, score=0.629 total time=   0.0s\n",
            "[CV 4/5; 13/72] START dt__criterion=gini, dt__max_depth=5, dt__splitter=best, pre_processador__transf_cat_oh__input_cat_oh__strategy=constant\n",
            "[CV 4/5; 13/72] END dt__criterion=gini, dt__max_depth=5, dt__splitter=best, pre_processador__transf_cat_oh__input_cat_oh__strategy=constant;, score=0.669 total time=   0.0s\n",
            "[CV 5/5; 13/72] START dt__criterion=gini, dt__max_depth=5, dt__splitter=best, pre_processador__transf_cat_oh__input_cat_oh__strategy=constant\n",
            "[CV 5/5; 13/72] END dt__criterion=gini, dt__max_depth=5, dt__splitter=best, pre_processador__transf_cat_oh__input_cat_oh__strategy=constant;, score=0.695 total time=   0.0s\n",
            "[CV 1/5; 14/72] START dt__criterion=gini, dt__max_depth=5, dt__splitter=best, pre_processador__transf_cat_oh__input_cat_oh__strategy=most_frequent\n",
            "[CV 1/5; 14/72] END dt__criterion=gini, dt__max_depth=5, dt__splitter=best, pre_processador__transf_cat_oh__input_cat_oh__strategy=most_frequent;, score=0.663 total time=   0.0s\n",
            "[CV 2/5; 14/72] START dt__criterion=gini, dt__max_depth=5, dt__splitter=best, pre_processador__transf_cat_oh__input_cat_oh__strategy=most_frequent\n",
            "[CV 2/5; 14/72] END dt__criterion=gini, dt__max_depth=5, dt__splitter=best, pre_processador__transf_cat_oh__input_cat_oh__strategy=most_frequent;, score=0.702 total time=   0.0s\n",
            "[CV 3/5; 14/72] START dt__criterion=gini, dt__max_depth=5, dt__splitter=best, pre_processador__transf_cat_oh__input_cat_oh__strategy=most_frequent\n",
            "[CV 3/5; 14/72] END dt__criterion=gini, dt__max_depth=5, dt__splitter=best, pre_processador__transf_cat_oh__input_cat_oh__strategy=most_frequent;, score=0.629 total time=   0.0s\n",
            "[CV 4/5; 14/72] START dt__criterion=gini, dt__max_depth=5, dt__splitter=best, pre_processador__transf_cat_oh__input_cat_oh__strategy=most_frequent\n",
            "[CV 4/5; 14/72] END dt__criterion=gini, dt__max_depth=5, dt__splitter=best, pre_processador__transf_cat_oh__input_cat_oh__strategy=most_frequent;, score=0.669 total time=   0.0s\n",
            "[CV 5/5; 14/72] START dt__criterion=gini, dt__max_depth=5, dt__splitter=best, pre_processador__transf_cat_oh__input_cat_oh__strategy=most_frequent\n",
            "[CV 5/5; 14/72] END dt__criterion=gini, dt__max_depth=5, dt__splitter=best, pre_processador__transf_cat_oh__input_cat_oh__strategy=most_frequent;, score=0.695 total time=   0.0s\n",
            "[CV 1/5; 15/72] START dt__criterion=gini, dt__max_depth=5, dt__splitter=random, pre_processador__transf_cat_oh__input_cat_oh__strategy=constant\n",
            "[CV 1/5; 15/72] END dt__criterion=gini, dt__max_depth=5, dt__splitter=random, pre_processador__transf_cat_oh__input_cat_oh__strategy=constant;, score=0.641 total time=   0.0s\n",
            "[CV 2/5; 15/72] START dt__criterion=gini, dt__max_depth=5, dt__splitter=random, pre_processador__transf_cat_oh__input_cat_oh__strategy=constant\n",
            "[CV 2/5; 15/72] END dt__criterion=gini, dt__max_depth=5, dt__splitter=random, pre_processador__transf_cat_oh__input_cat_oh__strategy=constant;, score=0.726 total time=   0.0s\n",
            "[CV 3/5; 15/72] START dt__criterion=gini, dt__max_depth=5, dt__splitter=random, pre_processador__transf_cat_oh__input_cat_oh__strategy=constant\n",
            "[CV 3/5; 15/72] END dt__criterion=gini, dt__max_depth=5, dt__splitter=random, pre_processador__transf_cat_oh__input_cat_oh__strategy=constant;, score=0.629 total time=   0.0s\n",
            "[CV 4/5; 15/72] START dt__criterion=gini, dt__max_depth=5, dt__splitter=random, pre_processador__transf_cat_oh__input_cat_oh__strategy=constant\n",
            "[CV 4/5; 15/72] END dt__criterion=gini, dt__max_depth=5, dt__splitter=random, pre_processador__transf_cat_oh__input_cat_oh__strategy=constant;, score=0.696 total time=   0.0s\n",
            "[CV 5/5; 15/72] START dt__criterion=gini, dt__max_depth=5, dt__splitter=random, pre_processador__transf_cat_oh__input_cat_oh__strategy=constant\n",
            "[CV 5/5; 15/72] END dt__criterion=gini, dt__max_depth=5, dt__splitter=random, pre_processador__transf_cat_oh__input_cat_oh__strategy=constant;, score=0.670 total time=   0.0s\n",
            "[CV 1/5; 16/72] START dt__criterion=gini, dt__max_depth=5, dt__splitter=random, pre_processador__transf_cat_oh__input_cat_oh__strategy=most_frequent\n",
            "[CV 1/5; 16/72] END dt__criterion=gini, dt__max_depth=5, dt__splitter=random, pre_processador__transf_cat_oh__input_cat_oh__strategy=most_frequent;, score=0.641 total time=   0.0s\n",
            "[CV 2/5; 16/72] START dt__criterion=gini, dt__max_depth=5, dt__splitter=random, pre_processador__transf_cat_oh__input_cat_oh__strategy=most_frequent\n",
            "[CV 2/5; 16/72] END dt__criterion=gini, dt__max_depth=5, dt__splitter=random, pre_processador__transf_cat_oh__input_cat_oh__strategy=most_frequent;, score=0.726 total time=   0.0s\n",
            "[CV 3/5; 16/72] START dt__criterion=gini, dt__max_depth=5, dt__splitter=random, pre_processador__transf_cat_oh__input_cat_oh__strategy=most_frequent\n",
            "[CV 3/5; 16/72] END dt__criterion=gini, dt__max_depth=5, dt__splitter=random, pre_processador__transf_cat_oh__input_cat_oh__strategy=most_frequent;, score=0.629 total time=   0.0s\n",
            "[CV 4/5; 16/72] START dt__criterion=gini, dt__max_depth=5, dt__splitter=random, pre_processador__transf_cat_oh__input_cat_oh__strategy=most_frequent\n",
            "[CV 4/5; 16/72] END dt__criterion=gini, dt__max_depth=5, dt__splitter=random, pre_processador__transf_cat_oh__input_cat_oh__strategy=most_frequent;, score=0.696 total time=   0.0s\n",
            "[CV 5/5; 16/72] START dt__criterion=gini, dt__max_depth=5, dt__splitter=random, pre_processador__transf_cat_oh__input_cat_oh__strategy=most_frequent\n",
            "[CV 5/5; 16/72] END dt__criterion=gini, dt__max_depth=5, dt__splitter=random, pre_processador__transf_cat_oh__input_cat_oh__strategy=most_frequent;, score=0.670 total time=   0.0s\n",
            "[CV 1/5; 17/72] START dt__criterion=gini, dt__max_depth=6, dt__splitter=best, pre_processador__transf_cat_oh__input_cat_oh__strategy=constant\n",
            "[CV 1/5; 17/72] END dt__criterion=gini, dt__max_depth=6, dt__splitter=best, pre_processador__transf_cat_oh__input_cat_oh__strategy=constant;, score=0.651 total time=   0.0s\n",
            "[CV 2/5; 17/72] START dt__criterion=gini, dt__max_depth=6, dt__splitter=best, pre_processador__transf_cat_oh__input_cat_oh__strategy=constant\n",
            "[CV 2/5; 17/72] END dt__criterion=gini, dt__max_depth=6, dt__splitter=best, pre_processador__transf_cat_oh__input_cat_oh__strategy=constant;, score=0.693 total time=   0.0s\n",
            "[CV 3/5; 17/72] START dt__criterion=gini, dt__max_depth=6, dt__splitter=best, pre_processador__transf_cat_oh__input_cat_oh__strategy=constant\n",
            "[CV 3/5; 17/72] END dt__criterion=gini, dt__max_depth=6, dt__splitter=best, pre_processador__transf_cat_oh__input_cat_oh__strategy=constant;, score=0.630 total time=   0.0s\n",
            "[CV 4/5; 17/72] START dt__criterion=gini, dt__max_depth=6, dt__splitter=best, pre_processador__transf_cat_oh__input_cat_oh__strategy=constant\n",
            "[CV 4/5; 17/72] END dt__criterion=gini, dt__max_depth=6, dt__splitter=best, pre_processador__transf_cat_oh__input_cat_oh__strategy=constant;, score=0.668 total time=   0.0s\n",
            "[CV 5/5; 17/72] START dt__criterion=gini, dt__max_depth=6, dt__splitter=best, pre_processador__transf_cat_oh__input_cat_oh__strategy=constant\n",
            "[CV 5/5; 17/72] END dt__criterion=gini, dt__max_depth=6, dt__splitter=best, pre_processador__transf_cat_oh__input_cat_oh__strategy=constant;, score=0.655 total time=   0.0s\n",
            "[CV 1/5; 18/72] START dt__criterion=gini, dt__max_depth=6, dt__splitter=best, pre_processador__transf_cat_oh__input_cat_oh__strategy=most_frequent\n",
            "[CV 1/5; 18/72] END dt__criterion=gini, dt__max_depth=6, dt__splitter=best, pre_processador__transf_cat_oh__input_cat_oh__strategy=most_frequent;, score=0.651 total time=   0.0s\n"
          ]
        },
        {
          "name": "stdout",
          "output_type": "stream",
          "text": [
            "[CV 2/5; 18/72] START dt__criterion=gini, dt__max_depth=6, dt__splitter=best, pre_processador__transf_cat_oh__input_cat_oh__strategy=most_frequent\n",
            "[CV 2/5; 18/72] END dt__criterion=gini, dt__max_depth=6, dt__splitter=best, pre_processador__transf_cat_oh__input_cat_oh__strategy=most_frequent;, score=0.693 total time=   0.0s\n",
            "[CV 3/5; 18/72] START dt__criterion=gini, dt__max_depth=6, dt__splitter=best, pre_processador__transf_cat_oh__input_cat_oh__strategy=most_frequent\n",
            "[CV 3/5; 18/72] END dt__criterion=gini, dt__max_depth=6, dt__splitter=best, pre_processador__transf_cat_oh__input_cat_oh__strategy=most_frequent;, score=0.630 total time=   0.0s\n",
            "[CV 4/5; 18/72] START dt__criterion=gini, dt__max_depth=6, dt__splitter=best, pre_processador__transf_cat_oh__input_cat_oh__strategy=most_frequent\n",
            "[CV 4/5; 18/72] END dt__criterion=gini, dt__max_depth=6, dt__splitter=best, pre_processador__transf_cat_oh__input_cat_oh__strategy=most_frequent;, score=0.668 total time=   0.0s\n",
            "[CV 5/5; 18/72] START dt__criterion=gini, dt__max_depth=6, dt__splitter=best, pre_processador__transf_cat_oh__input_cat_oh__strategy=most_frequent\n",
            "[CV 5/5; 18/72] END dt__criterion=gini, dt__max_depth=6, dt__splitter=best, pre_processador__transf_cat_oh__input_cat_oh__strategy=most_frequent;, score=0.655 total time=   0.0s\n",
            "[CV 1/5; 19/72] START dt__criterion=gini, dt__max_depth=6, dt__splitter=random, pre_processador__transf_cat_oh__input_cat_oh__strategy=constant\n",
            "[CV 1/5; 19/72] END dt__criterion=gini, dt__max_depth=6, dt__splitter=random, pre_processador__transf_cat_oh__input_cat_oh__strategy=constant;, score=0.657 total time=   0.0s\n",
            "[CV 2/5; 19/72] START dt__criterion=gini, dt__max_depth=6, dt__splitter=random, pre_processador__transf_cat_oh__input_cat_oh__strategy=constant\n",
            "[CV 2/5; 19/72] END dt__criterion=gini, dt__max_depth=6, dt__splitter=random, pre_processador__transf_cat_oh__input_cat_oh__strategy=constant;, score=0.744 total time=   0.0s\n",
            "[CV 3/5; 19/72] START dt__criterion=gini, dt__max_depth=6, dt__splitter=random, pre_processador__transf_cat_oh__input_cat_oh__strategy=constant\n",
            "[CV 3/5; 19/72] END dt__criterion=gini, dt__max_depth=6, dt__splitter=random, pre_processador__transf_cat_oh__input_cat_oh__strategy=constant;, score=0.630 total time=   0.0s\n",
            "[CV 4/5; 19/72] START dt__criterion=gini, dt__max_depth=6, dt__splitter=random, pre_processador__transf_cat_oh__input_cat_oh__strategy=constant\n",
            "[CV 4/5; 19/72] END dt__criterion=gini, dt__max_depth=6, dt__splitter=random, pre_processador__transf_cat_oh__input_cat_oh__strategy=constant;, score=0.722 total time=   0.0s\n",
            "[CV 5/5; 19/72] START dt__criterion=gini, dt__max_depth=6, dt__splitter=random, pre_processador__transf_cat_oh__input_cat_oh__strategy=constant\n",
            "[CV 5/5; 19/72] END dt__criterion=gini, dt__max_depth=6, dt__splitter=random, pre_processador__transf_cat_oh__input_cat_oh__strategy=constant;, score=0.652 total time=   0.0s\n",
            "[CV 1/5; 20/72] START dt__criterion=gini, dt__max_depth=6, dt__splitter=random, pre_processador__transf_cat_oh__input_cat_oh__strategy=most_frequent\n",
            "[CV 1/5; 20/72] END dt__criterion=gini, dt__max_depth=6, dt__splitter=random, pre_processador__transf_cat_oh__input_cat_oh__strategy=most_frequent;, score=0.657 total time=   0.0s\n",
            "[CV 2/5; 20/72] START dt__criterion=gini, dt__max_depth=6, dt__splitter=random, pre_processador__transf_cat_oh__input_cat_oh__strategy=most_frequent\n",
            "[CV 2/5; 20/72] END dt__criterion=gini, dt__max_depth=6, dt__splitter=random, pre_processador__transf_cat_oh__input_cat_oh__strategy=most_frequent;, score=0.744 total time=   0.0s\n",
            "[CV 3/5; 20/72] START dt__criterion=gini, dt__max_depth=6, dt__splitter=random, pre_processador__transf_cat_oh__input_cat_oh__strategy=most_frequent\n",
            "[CV 3/5; 20/72] END dt__criterion=gini, dt__max_depth=6, dt__splitter=random, pre_processador__transf_cat_oh__input_cat_oh__strategy=most_frequent;, score=0.630 total time=   0.0s\n",
            "[CV 4/5; 20/72] START dt__criterion=gini, dt__max_depth=6, dt__splitter=random, pre_processador__transf_cat_oh__input_cat_oh__strategy=most_frequent\n",
            "[CV 4/5; 20/72] END dt__criterion=gini, dt__max_depth=6, dt__splitter=random, pre_processador__transf_cat_oh__input_cat_oh__strategy=most_frequent;, score=0.722 total time=   0.0s\n",
            "[CV 5/5; 20/72] START dt__criterion=gini, dt__max_depth=6, dt__splitter=random, pre_processador__transf_cat_oh__input_cat_oh__strategy=most_frequent\n",
            "[CV 5/5; 20/72] END dt__criterion=gini, dt__max_depth=6, dt__splitter=random, pre_processador__transf_cat_oh__input_cat_oh__strategy=most_frequent;, score=0.652 total time=   0.0s\n",
            "[CV 1/5; 21/72] START dt__criterion=gini, dt__max_depth=7, dt__splitter=best, pre_processador__transf_cat_oh__input_cat_oh__strategy=constant\n",
            "[CV 1/5; 21/72] END dt__criterion=gini, dt__max_depth=7, dt__splitter=best, pre_processador__transf_cat_oh__input_cat_oh__strategy=constant;, score=0.681 total time=   0.0s\n",
            "[CV 2/5; 21/72] START dt__criterion=gini, dt__max_depth=7, dt__splitter=best, pre_processador__transf_cat_oh__input_cat_oh__strategy=constant\n",
            "[CV 2/5; 21/72] END dt__criterion=gini, dt__max_depth=7, dt__splitter=best, pre_processador__transf_cat_oh__input_cat_oh__strategy=constant;, score=0.735 total time=   0.0s\n",
            "[CV 3/5; 21/72] START dt__criterion=gini, dt__max_depth=7, dt__splitter=best, pre_processador__transf_cat_oh__input_cat_oh__strategy=constant\n",
            "[CV 3/5; 21/72] END dt__criterion=gini, dt__max_depth=7, dt__splitter=best, pre_processador__transf_cat_oh__input_cat_oh__strategy=constant;, score=0.607 total time=   0.0s\n",
            "[CV 4/5; 21/72] START dt__criterion=gini, dt__max_depth=7, dt__splitter=best, pre_processador__transf_cat_oh__input_cat_oh__strategy=constant\n",
            "[CV 4/5; 21/72] END dt__criterion=gini, dt__max_depth=7, dt__splitter=best, pre_processador__transf_cat_oh__input_cat_oh__strategy=constant;, score=0.678 total time=   0.0s\n",
            "[CV 5/5; 21/72] START dt__criterion=gini, dt__max_depth=7, dt__splitter=best, pre_processador__transf_cat_oh__input_cat_oh__strategy=constant\n",
            "[CV 5/5; 21/72] END dt__criterion=gini, dt__max_depth=7, dt__splitter=best, pre_processador__transf_cat_oh__input_cat_oh__strategy=constant;, score=0.638 total time=   0.0s\n",
            "[CV 1/5; 22/72] START dt__criterion=gini, dt__max_depth=7, dt__splitter=best, pre_processador__transf_cat_oh__input_cat_oh__strategy=most_frequent\n",
            "[CV 1/5; 22/72] END dt__criterion=gini, dt__max_depth=7, dt__splitter=best, pre_processador__transf_cat_oh__input_cat_oh__strategy=most_frequent;, score=0.681 total time=   0.0s\n",
            "[CV 2/5; 22/72] START dt__criterion=gini, dt__max_depth=7, dt__splitter=best, pre_processador__transf_cat_oh__input_cat_oh__strategy=most_frequent\n",
            "[CV 2/5; 22/72] END dt__criterion=gini, dt__max_depth=7, dt__splitter=best, pre_processador__transf_cat_oh__input_cat_oh__strategy=most_frequent;, score=0.735 total time=   0.0s\n",
            "[CV 3/5; 22/72] START dt__criterion=gini, dt__max_depth=7, dt__splitter=best, pre_processador__transf_cat_oh__input_cat_oh__strategy=most_frequent\n",
            "[CV 3/5; 22/72] END dt__criterion=gini, dt__max_depth=7, dt__splitter=best, pre_processador__transf_cat_oh__input_cat_oh__strategy=most_frequent;, score=0.607 total time=   0.0s\n",
            "[CV 4/5; 22/72] START dt__criterion=gini, dt__max_depth=7, dt__splitter=best, pre_processador__transf_cat_oh__input_cat_oh__strategy=most_frequent\n",
            "[CV 4/5; 22/72] END dt__criterion=gini, dt__max_depth=7, dt__splitter=best, pre_processador__transf_cat_oh__input_cat_oh__strategy=most_frequent;, score=0.678 total time=   0.0s\n",
            "[CV 5/5; 22/72] START dt__criterion=gini, dt__max_depth=7, dt__splitter=best, pre_processador__transf_cat_oh__input_cat_oh__strategy=most_frequent\n",
            "[CV 5/5; 22/72] END dt__criterion=gini, dt__max_depth=7, dt__splitter=best, pre_processador__transf_cat_oh__input_cat_oh__strategy=most_frequent;, score=0.638 total time=   0.0s\n",
            "[CV 1/5; 23/72] START dt__criterion=gini, dt__max_depth=7, dt__splitter=random, pre_processador__transf_cat_oh__input_cat_oh__strategy=constant\n",
            "[CV 1/5; 23/72] END dt__criterion=gini, dt__max_depth=7, dt__splitter=random, pre_processador__transf_cat_oh__input_cat_oh__strategy=constant;, score=0.697 total time=   0.0s\n",
            "[CV 2/5; 23/72] START dt__criterion=gini, dt__max_depth=7, dt__splitter=random, pre_processador__transf_cat_oh__input_cat_oh__strategy=constant\n",
            "[CV 2/5; 23/72] END dt__criterion=gini, dt__max_depth=7, dt__splitter=random, pre_processador__transf_cat_oh__input_cat_oh__strategy=constant;, score=0.721 total time=   0.0s\n",
            "[CV 3/5; 23/72] START dt__criterion=gini, dt__max_depth=7, dt__splitter=random, pre_processador__transf_cat_oh__input_cat_oh__strategy=constant\n"
          ]
        },
        {
          "name": "stdout",
          "output_type": "stream",
          "text": [
            "[CV 3/5; 23/72] END dt__criterion=gini, dt__max_depth=7, dt__splitter=random, pre_processador__transf_cat_oh__input_cat_oh__strategy=constant;, score=0.587 total time=   0.0s\n",
            "[CV 4/5; 23/72] START dt__criterion=gini, dt__max_depth=7, dt__splitter=random, pre_processador__transf_cat_oh__input_cat_oh__strategy=constant\n",
            "[CV 4/5; 23/72] END dt__criterion=gini, dt__max_depth=7, dt__splitter=random, pre_processador__transf_cat_oh__input_cat_oh__strategy=constant;, score=0.711 total time=   0.0s\n",
            "[CV 5/5; 23/72] START dt__criterion=gini, dt__max_depth=7, dt__splitter=random, pre_processador__transf_cat_oh__input_cat_oh__strategy=constant\n",
            "[CV 5/5; 23/72] END dt__criterion=gini, dt__max_depth=7, dt__splitter=random, pre_processador__transf_cat_oh__input_cat_oh__strategy=constant;, score=0.636 total time=   0.0s\n",
            "[CV 1/5; 24/72] START dt__criterion=gini, dt__max_depth=7, dt__splitter=random, pre_processador__transf_cat_oh__input_cat_oh__strategy=most_frequent\n",
            "[CV 1/5; 24/72] END dt__criterion=gini, dt__max_depth=7, dt__splitter=random, pre_processador__transf_cat_oh__input_cat_oh__strategy=most_frequent;, score=0.697 total time=   0.0s\n",
            "[CV 2/5; 24/72] START dt__criterion=gini, dt__max_depth=7, dt__splitter=random, pre_processador__transf_cat_oh__input_cat_oh__strategy=most_frequent\n",
            "[CV 2/5; 24/72] END dt__criterion=gini, dt__max_depth=7, dt__splitter=random, pre_processador__transf_cat_oh__input_cat_oh__strategy=most_frequent;, score=0.721 total time=   0.0s\n",
            "[CV 3/5; 24/72] START dt__criterion=gini, dt__max_depth=7, dt__splitter=random, pre_processador__transf_cat_oh__input_cat_oh__strategy=most_frequent\n",
            "[CV 3/5; 24/72] END dt__criterion=gini, dt__max_depth=7, dt__splitter=random, pre_processador__transf_cat_oh__input_cat_oh__strategy=most_frequent;, score=0.587 total time=   0.0s\n",
            "[CV 4/5; 24/72] START dt__criterion=gini, dt__max_depth=7, dt__splitter=random, pre_processador__transf_cat_oh__input_cat_oh__strategy=most_frequent\n",
            "[CV 4/5; 24/72] END dt__criterion=gini, dt__max_depth=7, dt__splitter=random, pre_processador__transf_cat_oh__input_cat_oh__strategy=most_frequent;, score=0.711 total time=   0.0s\n",
            "[CV 5/5; 24/72] START dt__criterion=gini, dt__max_depth=7, dt__splitter=random, pre_processador__transf_cat_oh__input_cat_oh__strategy=most_frequent\n",
            "[CV 5/5; 24/72] END dt__criterion=gini, dt__max_depth=7, dt__splitter=random, pre_processador__transf_cat_oh__input_cat_oh__strategy=most_frequent;, score=0.636 total time=   0.0s\n",
            "[CV 1/5; 25/72] START dt__criterion=gini, dt__max_depth=8, dt__splitter=best, pre_processador__transf_cat_oh__input_cat_oh__strategy=constant\n",
            "[CV 1/5; 25/72] END dt__criterion=gini, dt__max_depth=8, dt__splitter=best, pre_processador__transf_cat_oh__input_cat_oh__strategy=constant;, score=0.669 total time=   0.0s\n",
            "[CV 2/5; 25/72] START dt__criterion=gini, dt__max_depth=8, dt__splitter=best, pre_processador__transf_cat_oh__input_cat_oh__strategy=constant\n",
            "[CV 2/5; 25/72] END dt__criterion=gini, dt__max_depth=8, dt__splitter=best, pre_processador__transf_cat_oh__input_cat_oh__strategy=constant;, score=0.725 total time=   0.0s\n",
            "[CV 3/5; 25/72] START dt__criterion=gini, dt__max_depth=8, dt__splitter=best, pre_processador__transf_cat_oh__input_cat_oh__strategy=constant\n",
            "[CV 3/5; 25/72] END dt__criterion=gini, dt__max_depth=8, dt__splitter=best, pre_processador__transf_cat_oh__input_cat_oh__strategy=constant;, score=0.637 total time=   0.0s\n",
            "[CV 4/5; 25/72] START dt__criterion=gini, dt__max_depth=8, dt__splitter=best, pre_processador__transf_cat_oh__input_cat_oh__strategy=constant\n",
            "[CV 4/5; 25/72] END dt__criterion=gini, dt__max_depth=8, dt__splitter=best, pre_processador__transf_cat_oh__input_cat_oh__strategy=constant;, score=0.671 total time=   0.0s\n",
            "[CV 5/5; 25/72] START dt__criterion=gini, dt__max_depth=8, dt__splitter=best, pre_processador__transf_cat_oh__input_cat_oh__strategy=constant\n",
            "[CV 5/5; 25/72] END dt__criterion=gini, dt__max_depth=8, dt__splitter=best, pre_processador__transf_cat_oh__input_cat_oh__strategy=constant;, score=0.648 total time=   0.0s\n",
            "[CV 1/5; 26/72] START dt__criterion=gini, dt__max_depth=8, dt__splitter=best, pre_processador__transf_cat_oh__input_cat_oh__strategy=most_frequent\n",
            "[CV 1/5; 26/72] END dt__criterion=gini, dt__max_depth=8, dt__splitter=best, pre_processador__transf_cat_oh__input_cat_oh__strategy=most_frequent;, score=0.669 total time=   0.0s\n",
            "[CV 2/5; 26/72] START dt__criterion=gini, dt__max_depth=8, dt__splitter=best, pre_processador__transf_cat_oh__input_cat_oh__strategy=most_frequent\n",
            "[CV 2/5; 26/72] END dt__criterion=gini, dt__max_depth=8, dt__splitter=best, pre_processador__transf_cat_oh__input_cat_oh__strategy=most_frequent;, score=0.725 total time=   0.0s\n",
            "[CV 3/5; 26/72] START dt__criterion=gini, dt__max_depth=8, dt__splitter=best, pre_processador__transf_cat_oh__input_cat_oh__strategy=most_frequent\n",
            "[CV 3/5; 26/72] END dt__criterion=gini, dt__max_depth=8, dt__splitter=best, pre_processador__transf_cat_oh__input_cat_oh__strategy=most_frequent;, score=0.637 total time=   0.0s\n",
            "[CV 4/5; 26/72] START dt__criterion=gini, dt__max_depth=8, dt__splitter=best, pre_processador__transf_cat_oh__input_cat_oh__strategy=most_frequent\n",
            "[CV 4/5; 26/72] END dt__criterion=gini, dt__max_depth=8, dt__splitter=best, pre_processador__transf_cat_oh__input_cat_oh__strategy=most_frequent;, score=0.671 total time=   0.0s\n",
            "[CV 5/5; 26/72] START dt__criterion=gini, dt__max_depth=8, dt__splitter=best, pre_processador__transf_cat_oh__input_cat_oh__strategy=most_frequent\n",
            "[CV 5/5; 26/72] END dt__criterion=gini, dt__max_depth=8, dt__splitter=best, pre_processador__transf_cat_oh__input_cat_oh__strategy=most_frequent;, score=0.648 total time=   0.0s\n",
            "[CV 1/5; 27/72] START dt__criterion=gini, dt__max_depth=8, dt__splitter=random, pre_processador__transf_cat_oh__input_cat_oh__strategy=constant\n",
            "[CV 1/5; 27/72] END dt__criterion=gini, dt__max_depth=8, dt__splitter=random, pre_processador__transf_cat_oh__input_cat_oh__strategy=constant;, score=0.656 total time=   0.0s\n",
            "[CV 2/5; 27/72] START dt__criterion=gini, dt__max_depth=8, dt__splitter=random, pre_processador__transf_cat_oh__input_cat_oh__strategy=constant\n",
            "[CV 2/5; 27/72] END dt__criterion=gini, dt__max_depth=8, dt__splitter=random, pre_processador__transf_cat_oh__input_cat_oh__strategy=constant;, score=0.771 total time=   0.0s\n",
            "[CV 3/5; 27/72] START dt__criterion=gini, dt__max_depth=8, dt__splitter=random, pre_processador__transf_cat_oh__input_cat_oh__strategy=constant\n",
            "[CV 3/5; 27/72] END dt__criterion=gini, dt__max_depth=8, dt__splitter=random, pre_processador__transf_cat_oh__input_cat_oh__strategy=constant;, score=0.612 total time=   0.0s\n",
            "[CV 4/5; 27/72] START dt__criterion=gini, dt__max_depth=8, dt__splitter=random, pre_processador__transf_cat_oh__input_cat_oh__strategy=constant\n",
            "[CV 4/5; 27/72] END dt__criterion=gini, dt__max_depth=8, dt__splitter=random, pre_processador__transf_cat_oh__input_cat_oh__strategy=constant;, score=0.700 total time=   0.0s\n",
            "[CV 5/5; 27/72] START dt__criterion=gini, dt__max_depth=8, dt__splitter=random, pre_processador__transf_cat_oh__input_cat_oh__strategy=constant\n",
            "[CV 5/5; 27/72] END dt__criterion=gini, dt__max_depth=8, dt__splitter=random, pre_processador__transf_cat_oh__input_cat_oh__strategy=constant;, score=0.651 total time=   0.0s\n",
            "[CV 1/5; 28/72] START dt__criterion=gini, dt__max_depth=8, dt__splitter=random, pre_processador__transf_cat_oh__input_cat_oh__strategy=most_frequent\n",
            "[CV 1/5; 28/72] END dt__criterion=gini, dt__max_depth=8, dt__splitter=random, pre_processador__transf_cat_oh__input_cat_oh__strategy=most_frequent;, score=0.656 total time=   0.0s\n",
            "[CV 2/5; 28/72] START dt__criterion=gini, dt__max_depth=8, dt__splitter=random, pre_processador__transf_cat_oh__input_cat_oh__strategy=most_frequent\n",
            "[CV 2/5; 28/72] END dt__criterion=gini, dt__max_depth=8, dt__splitter=random, pre_processador__transf_cat_oh__input_cat_oh__strategy=most_frequent;, score=0.771 total time=   0.0s\n",
            "[CV 3/5; 28/72] START dt__criterion=gini, dt__max_depth=8, dt__splitter=random, pre_processador__transf_cat_oh__input_cat_oh__strategy=most_frequent\n",
            "[CV 3/5; 28/72] END dt__criterion=gini, dt__max_depth=8, dt__splitter=random, pre_processador__transf_cat_oh__input_cat_oh__strategy=most_frequent;, score=0.612 total time=   0.0s\n",
            "[CV 4/5; 28/72] START dt__criterion=gini, dt__max_depth=8, dt__splitter=random, pre_processador__transf_cat_oh__input_cat_oh__strategy=most_frequent\n",
            "[CV 4/5; 28/72] END dt__criterion=gini, dt__max_depth=8, dt__splitter=random, pre_processador__transf_cat_oh__input_cat_oh__strategy=most_frequent;, score=0.700 total time=   0.0s\n",
            "[CV 5/5; 28/72] START dt__criterion=gini, dt__max_depth=8, dt__splitter=random, pre_processador__transf_cat_oh__input_cat_oh__strategy=most_frequent\n",
            "[CV 5/5; 28/72] END dt__criterion=gini, dt__max_depth=8, dt__splitter=random, pre_processador__transf_cat_oh__input_cat_oh__strategy=most_frequent;, score=0.651 total time=   0.0s\n",
            "[CV 1/5; 29/72] START dt__criterion=gini, dt__max_depth=9, dt__splitter=best, pre_processador__transf_cat_oh__input_cat_oh__strategy=constant\n",
            "[CV 1/5; 29/72] END dt__criterion=gini, dt__max_depth=9, dt__splitter=best, pre_processador__transf_cat_oh__input_cat_oh__strategy=constant;, score=0.680 total time=   0.0s\n",
            "[CV 2/5; 29/72] START dt__criterion=gini, dt__max_depth=9, dt__splitter=best, pre_processador__transf_cat_oh__input_cat_oh__strategy=constant\n"
          ]
        },
        {
          "name": "stdout",
          "output_type": "stream",
          "text": [
            "[CV 2/5; 29/72] END dt__criterion=gini, dt__max_depth=9, dt__splitter=best, pre_processador__transf_cat_oh__input_cat_oh__strategy=constant;, score=0.730 total time=   0.0s\n",
            "[CV 3/5; 29/72] START dt__criterion=gini, dt__max_depth=9, dt__splitter=best, pre_processador__transf_cat_oh__input_cat_oh__strategy=constant\n",
            "[CV 3/5; 29/72] END dt__criterion=gini, dt__max_depth=9, dt__splitter=best, pre_processador__transf_cat_oh__input_cat_oh__strategy=constant;, score=0.637 total time=   0.0s\n",
            "[CV 4/5; 29/72] START dt__criterion=gini, dt__max_depth=9, dt__splitter=best, pre_processador__transf_cat_oh__input_cat_oh__strategy=constant\n",
            "[CV 4/5; 29/72] END dt__criterion=gini, dt__max_depth=9, dt__splitter=best, pre_processador__transf_cat_oh__input_cat_oh__strategy=constant;, score=0.697 total time=   0.0s\n",
            "[CV 5/5; 29/72] START dt__criterion=gini, dt__max_depth=9, dt__splitter=best, pre_processador__transf_cat_oh__input_cat_oh__strategy=constant\n",
            "[CV 5/5; 29/72] END dt__criterion=gini, dt__max_depth=9, dt__splitter=best, pre_processador__transf_cat_oh__input_cat_oh__strategy=constant;, score=0.658 total time=   0.0s\n",
            "[CV 1/5; 30/72] START dt__criterion=gini, dt__max_depth=9, dt__splitter=best, pre_processador__transf_cat_oh__input_cat_oh__strategy=most_frequent\n",
            "[CV 1/5; 30/72] END dt__criterion=gini, dt__max_depth=9, dt__splitter=best, pre_processador__transf_cat_oh__input_cat_oh__strategy=most_frequent;, score=0.680 total time=   0.0s\n",
            "[CV 2/5; 30/72] START dt__criterion=gini, dt__max_depth=9, dt__splitter=best, pre_processador__transf_cat_oh__input_cat_oh__strategy=most_frequent\n",
            "[CV 2/5; 30/72] END dt__criterion=gini, dt__max_depth=9, dt__splitter=best, pre_processador__transf_cat_oh__input_cat_oh__strategy=most_frequent;, score=0.730 total time=   0.0s\n",
            "[CV 3/5; 30/72] START dt__criterion=gini, dt__max_depth=9, dt__splitter=best, pre_processador__transf_cat_oh__input_cat_oh__strategy=most_frequent\n",
            "[CV 3/5; 30/72] END dt__criterion=gini, dt__max_depth=9, dt__splitter=best, pre_processador__transf_cat_oh__input_cat_oh__strategy=most_frequent;, score=0.637 total time=   0.0s\n",
            "[CV 4/5; 30/72] START dt__criterion=gini, dt__max_depth=9, dt__splitter=best, pre_processador__transf_cat_oh__input_cat_oh__strategy=most_frequent\n",
            "[CV 4/5; 30/72] END dt__criterion=gini, dt__max_depth=9, dt__splitter=best, pre_processador__transf_cat_oh__input_cat_oh__strategy=most_frequent;, score=0.697 total time=   0.0s\n",
            "[CV 5/5; 30/72] START dt__criterion=gini, dt__max_depth=9, dt__splitter=best, pre_processador__transf_cat_oh__input_cat_oh__strategy=most_frequent\n",
            "[CV 5/5; 30/72] END dt__criterion=gini, dt__max_depth=9, dt__splitter=best, pre_processador__transf_cat_oh__input_cat_oh__strategy=most_frequent;, score=0.658 total time=   0.0s\n",
            "[CV 1/5; 31/72] START dt__criterion=gini, dt__max_depth=9, dt__splitter=random, pre_processador__transf_cat_oh__input_cat_oh__strategy=constant\n",
            "[CV 1/5; 31/72] END dt__criterion=gini, dt__max_depth=9, dt__splitter=random, pre_processador__transf_cat_oh__input_cat_oh__strategy=constant;, score=0.719 total time=   0.0s\n",
            "[CV 2/5; 31/72] START dt__criterion=gini, dt__max_depth=9, dt__splitter=random, pre_processador__transf_cat_oh__input_cat_oh__strategy=constant\n",
            "[CV 2/5; 31/72] END dt__criterion=gini, dt__max_depth=9, dt__splitter=random, pre_processador__transf_cat_oh__input_cat_oh__strategy=constant;, score=0.725 total time=   0.0s\n",
            "[CV 3/5; 31/72] START dt__criterion=gini, dt__max_depth=9, dt__splitter=random, pre_processador__transf_cat_oh__input_cat_oh__strategy=constant\n",
            "[CV 3/5; 31/72] END dt__criterion=gini, dt__max_depth=9, dt__splitter=random, pre_processador__transf_cat_oh__input_cat_oh__strategy=constant;, score=0.635 total time=   0.0s\n",
            "[CV 4/5; 31/72] START dt__criterion=gini, dt__max_depth=9, dt__splitter=random, pre_processador__transf_cat_oh__input_cat_oh__strategy=constant\n",
            "[CV 4/5; 31/72] END dt__criterion=gini, dt__max_depth=9, dt__splitter=random, pre_processador__transf_cat_oh__input_cat_oh__strategy=constant;, score=0.694 total time=   0.0s\n",
            "[CV 5/5; 31/72] START dt__criterion=gini, dt__max_depth=9, dt__splitter=random, pre_processador__transf_cat_oh__input_cat_oh__strategy=constant\n",
            "[CV 5/5; 31/72] END dt__criterion=gini, dt__max_depth=9, dt__splitter=random, pre_processador__transf_cat_oh__input_cat_oh__strategy=constant;, score=0.652 total time=   0.0s\n",
            "[CV 1/5; 32/72] START dt__criterion=gini, dt__max_depth=9, dt__splitter=random, pre_processador__transf_cat_oh__input_cat_oh__strategy=most_frequent\n",
            "[CV 1/5; 32/72] END dt__criterion=gini, dt__max_depth=9, dt__splitter=random, pre_processador__transf_cat_oh__input_cat_oh__strategy=most_frequent;, score=0.719 total time=   0.0s\n",
            "[CV 2/5; 32/72] START dt__criterion=gini, dt__max_depth=9, dt__splitter=random, pre_processador__transf_cat_oh__input_cat_oh__strategy=most_frequent\n",
            "[CV 2/5; 32/72] END dt__criterion=gini, dt__max_depth=9, dt__splitter=random, pre_processador__transf_cat_oh__input_cat_oh__strategy=most_frequent;, score=0.725 total time=   0.0s\n",
            "[CV 3/5; 32/72] START dt__criterion=gini, dt__max_depth=9, dt__splitter=random, pre_processador__transf_cat_oh__input_cat_oh__strategy=most_frequent\n",
            "[CV 3/5; 32/72] END dt__criterion=gini, dt__max_depth=9, dt__splitter=random, pre_processador__transf_cat_oh__input_cat_oh__strategy=most_frequent;, score=0.635 total time=   0.0s\n",
            "[CV 4/5; 32/72] START dt__criterion=gini, dt__max_depth=9, dt__splitter=random, pre_processador__transf_cat_oh__input_cat_oh__strategy=most_frequent\n",
            "[CV 4/5; 32/72] END dt__criterion=gini, dt__max_depth=9, dt__splitter=random, pre_processador__transf_cat_oh__input_cat_oh__strategy=most_frequent;, score=0.694 total time=   0.0s\n",
            "[CV 5/5; 32/72] START dt__criterion=gini, dt__max_depth=9, dt__splitter=random, pre_processador__transf_cat_oh__input_cat_oh__strategy=most_frequent\n",
            "[CV 5/5; 32/72] END dt__criterion=gini, dt__max_depth=9, dt__splitter=random, pre_processador__transf_cat_oh__input_cat_oh__strategy=most_frequent;, score=0.652 total time=   0.0s\n",
            "[CV 1/5; 33/72] START dt__criterion=gini, dt__max_depth=10, dt__splitter=best, pre_processador__transf_cat_oh__input_cat_oh__strategy=constant\n",
            "[CV 1/5; 33/72] END dt__criterion=gini, dt__max_depth=10, dt__splitter=best, pre_processador__transf_cat_oh__input_cat_oh__strategy=constant;, score=0.663 total time=   0.0s\n",
            "[CV 2/5; 33/72] START dt__criterion=gini, dt__max_depth=10, dt__splitter=best, pre_processador__transf_cat_oh__input_cat_oh__strategy=constant\n",
            "[CV 2/5; 33/72] END dt__criterion=gini, dt__max_depth=10, dt__splitter=best, pre_processador__transf_cat_oh__input_cat_oh__strategy=constant;, score=0.711 total time=   0.1s\n",
            "[CV 3/5; 33/72] START dt__criterion=gini, dt__max_depth=10, dt__splitter=best, pre_processador__transf_cat_oh__input_cat_oh__strategy=constant\n",
            "[CV 3/5; 33/72] END dt__criterion=gini, dt__max_depth=10, dt__splitter=best, pre_processador__transf_cat_oh__input_cat_oh__strategy=constant;, score=0.650 total time=   0.0s\n",
            "[CV 4/5; 33/72] START dt__criterion=gini, dt__max_depth=10, dt__splitter=best, pre_processador__transf_cat_oh__input_cat_oh__strategy=constant\n",
            "[CV 4/5; 33/72] END dt__criterion=gini, dt__max_depth=10, dt__splitter=best, pre_processador__transf_cat_oh__input_cat_oh__strategy=constant;, score=0.678 total time=   0.0s\n",
            "[CV 5/5; 33/72] START dt__criterion=gini, dt__max_depth=10, dt__splitter=best, pre_processador__transf_cat_oh__input_cat_oh__strategy=constant\n",
            "[CV 5/5; 33/72] END dt__criterion=gini, dt__max_depth=10, dt__splitter=best, pre_processador__transf_cat_oh__input_cat_oh__strategy=constant;, score=0.659 total time=   0.1s\n",
            "[CV 1/5; 34/72] START dt__criterion=gini, dt__max_depth=10, dt__splitter=best, pre_processador__transf_cat_oh__input_cat_oh__strategy=most_frequent\n",
            "[CV 1/5; 34/72] END dt__criterion=gini, dt__max_depth=10, dt__splitter=best, pre_processador__transf_cat_oh__input_cat_oh__strategy=most_frequent;, score=0.663 total time=   0.0s\n",
            "[CV 2/5; 34/72] START dt__criterion=gini, dt__max_depth=10, dt__splitter=best, pre_processador__transf_cat_oh__input_cat_oh__strategy=most_frequent\n",
            "[CV 2/5; 34/72] END dt__criterion=gini, dt__max_depth=10, dt__splitter=best, pre_processador__transf_cat_oh__input_cat_oh__strategy=most_frequent;, score=0.711 total time=   0.0s\n",
            "[CV 3/5; 34/72] START dt__criterion=gini, dt__max_depth=10, dt__splitter=best, pre_processador__transf_cat_oh__input_cat_oh__strategy=most_frequent\n",
            "[CV 3/5; 34/72] END dt__criterion=gini, dt__max_depth=10, dt__splitter=best, pre_processador__transf_cat_oh__input_cat_oh__strategy=most_frequent;, score=0.650 total time=   0.0s\n",
            "[CV 4/5; 34/72] START dt__criterion=gini, dt__max_depth=10, dt__splitter=best, pre_processador__transf_cat_oh__input_cat_oh__strategy=most_frequent\n"
          ]
        },
        {
          "name": "stdout",
          "output_type": "stream",
          "text": [
            "[CV 4/5; 34/72] END dt__criterion=gini, dt__max_depth=10, dt__splitter=best, pre_processador__transf_cat_oh__input_cat_oh__strategy=most_frequent;, score=0.678 total time=   0.0s\n",
            "[CV 5/5; 34/72] START dt__criterion=gini, dt__max_depth=10, dt__splitter=best, pre_processador__transf_cat_oh__input_cat_oh__strategy=most_frequent\n",
            "[CV 5/5; 34/72] END dt__criterion=gini, dt__max_depth=10, dt__splitter=best, pre_processador__transf_cat_oh__input_cat_oh__strategy=most_frequent;, score=0.659 total time=   0.0s\n",
            "[CV 1/5; 35/72] START dt__criterion=gini, dt__max_depth=10, dt__splitter=random, pre_processador__transf_cat_oh__input_cat_oh__strategy=constant\n",
            "[CV 1/5; 35/72] END dt__criterion=gini, dt__max_depth=10, dt__splitter=random, pre_processador__transf_cat_oh__input_cat_oh__strategy=constant;, score=0.672 total time=   0.0s\n",
            "[CV 2/5; 35/72] START dt__criterion=gini, dt__max_depth=10, dt__splitter=random, pre_processador__transf_cat_oh__input_cat_oh__strategy=constant\n",
            "[CV 2/5; 35/72] END dt__criterion=gini, dt__max_depth=10, dt__splitter=random, pre_processador__transf_cat_oh__input_cat_oh__strategy=constant;, score=0.710 total time=   0.0s\n",
            "[CV 3/5; 35/72] START dt__criterion=gini, dt__max_depth=10, dt__splitter=random, pre_processador__transf_cat_oh__input_cat_oh__strategy=constant\n",
            "[CV 3/5; 35/72] END dt__criterion=gini, dt__max_depth=10, dt__splitter=random, pre_processador__transf_cat_oh__input_cat_oh__strategy=constant;, score=0.620 total time=   0.0s\n",
            "[CV 4/5; 35/72] START dt__criterion=gini, dt__max_depth=10, dt__splitter=random, pre_processador__transf_cat_oh__input_cat_oh__strategy=constant\n",
            "[CV 4/5; 35/72] END dt__criterion=gini, dt__max_depth=10, dt__splitter=random, pre_processador__transf_cat_oh__input_cat_oh__strategy=constant;, score=0.729 total time=   0.0s\n",
            "[CV 5/5; 35/72] START dt__criterion=gini, dt__max_depth=10, dt__splitter=random, pre_processador__transf_cat_oh__input_cat_oh__strategy=constant\n",
            "[CV 5/5; 35/72] END dt__criterion=gini, dt__max_depth=10, dt__splitter=random, pre_processador__transf_cat_oh__input_cat_oh__strategy=constant;, score=0.671 total time=   0.0s\n",
            "[CV 1/5; 36/72] START dt__criterion=gini, dt__max_depth=10, dt__splitter=random, pre_processador__transf_cat_oh__input_cat_oh__strategy=most_frequent\n",
            "[CV 1/5; 36/72] END dt__criterion=gini, dt__max_depth=10, dt__splitter=random, pre_processador__transf_cat_oh__input_cat_oh__strategy=most_frequent;, score=0.672 total time=   0.1s\n",
            "[CV 2/5; 36/72] START dt__criterion=gini, dt__max_depth=10, dt__splitter=random, pre_processador__transf_cat_oh__input_cat_oh__strategy=most_frequent\n",
            "[CV 2/5; 36/72] END dt__criterion=gini, dt__max_depth=10, dt__splitter=random, pre_processador__transf_cat_oh__input_cat_oh__strategy=most_frequent;, score=0.710 total time=   0.0s\n",
            "[CV 3/5; 36/72] START dt__criterion=gini, dt__max_depth=10, dt__splitter=random, pre_processador__transf_cat_oh__input_cat_oh__strategy=most_frequent\n",
            "[CV 3/5; 36/72] END dt__criterion=gini, dt__max_depth=10, dt__splitter=random, pre_processador__transf_cat_oh__input_cat_oh__strategy=most_frequent;, score=0.620 total time=   0.0s\n",
            "[CV 4/5; 36/72] START dt__criterion=gini, dt__max_depth=10, dt__splitter=random, pre_processador__transf_cat_oh__input_cat_oh__strategy=most_frequent\n",
            "[CV 4/5; 36/72] END dt__criterion=gini, dt__max_depth=10, dt__splitter=random, pre_processador__transf_cat_oh__input_cat_oh__strategy=most_frequent;, score=0.729 total time=   0.0s\n",
            "[CV 5/5; 36/72] START dt__criterion=gini, dt__max_depth=10, dt__splitter=random, pre_processador__transf_cat_oh__input_cat_oh__strategy=most_frequent\n",
            "[CV 5/5; 36/72] END dt__criterion=gini, dt__max_depth=10, dt__splitter=random, pre_processador__transf_cat_oh__input_cat_oh__strategy=most_frequent;, score=0.671 total time=   0.0s\n",
            "[CV 1/5; 37/72] START dt__criterion=entropy, dt__max_depth=2, dt__splitter=best, pre_processador__transf_cat_oh__input_cat_oh__strategy=constant\n",
            "[CV 1/5; 37/72] END dt__criterion=entropy, dt__max_depth=2, dt__splitter=best, pre_processador__transf_cat_oh__input_cat_oh__strategy=constant;, score=0.659 total time=   0.0s\n",
            "[CV 2/5; 37/72] START dt__criterion=entropy, dt__max_depth=2, dt__splitter=best, pre_processador__transf_cat_oh__input_cat_oh__strategy=constant\n",
            "[CV 2/5; 37/72] END dt__criterion=entropy, dt__max_depth=2, dt__splitter=best, pre_processador__transf_cat_oh__input_cat_oh__strategy=constant;, score=0.688 total time=   0.0s\n",
            "[CV 3/5; 37/72] START dt__criterion=entropy, dt__max_depth=2, dt__splitter=best, pre_processador__transf_cat_oh__input_cat_oh__strategy=constant\n",
            "[CV 3/5; 37/72] END dt__criterion=entropy, dt__max_depth=2, dt__splitter=best, pre_processador__transf_cat_oh__input_cat_oh__strategy=constant;, score=0.647 total time=   0.0s\n",
            "[CV 4/5; 37/72] START dt__criterion=entropy, dt__max_depth=2, dt__splitter=best, pre_processador__transf_cat_oh__input_cat_oh__strategy=constant\n",
            "[CV 4/5; 37/72] END dt__criterion=entropy, dt__max_depth=2, dt__splitter=best, pre_processador__transf_cat_oh__input_cat_oh__strategy=constant;, score=0.576 total time=   0.0s\n",
            "[CV 5/5; 37/72] START dt__criterion=entropy, dt__max_depth=2, dt__splitter=best, pre_processador__transf_cat_oh__input_cat_oh__strategy=constant\n",
            "[CV 5/5; 37/72] END dt__criterion=entropy, dt__max_depth=2, dt__splitter=best, pre_processador__transf_cat_oh__input_cat_oh__strategy=constant;, score=0.576 total time=   0.0s\n",
            "[CV 1/5; 38/72] START dt__criterion=entropy, dt__max_depth=2, dt__splitter=best, pre_processador__transf_cat_oh__input_cat_oh__strategy=most_frequent\n",
            "[CV 1/5; 38/72] END dt__criterion=entropy, dt__max_depth=2, dt__splitter=best, pre_processador__transf_cat_oh__input_cat_oh__strategy=most_frequent;, score=0.659 total time=   0.0s\n",
            "[CV 2/5; 38/72] START dt__criterion=entropy, dt__max_depth=2, dt__splitter=best, pre_processador__transf_cat_oh__input_cat_oh__strategy=most_frequent\n",
            "[CV 2/5; 38/72] END dt__criterion=entropy, dt__max_depth=2, dt__splitter=best, pre_processador__transf_cat_oh__input_cat_oh__strategy=most_frequent;, score=0.688 total time=   0.0s\n",
            "[CV 3/5; 38/72] START dt__criterion=entropy, dt__max_depth=2, dt__splitter=best, pre_processador__transf_cat_oh__input_cat_oh__strategy=most_frequent\n",
            "[CV 3/5; 38/72] END dt__criterion=entropy, dt__max_depth=2, dt__splitter=best, pre_processador__transf_cat_oh__input_cat_oh__strategy=most_frequent;, score=0.647 total time=   0.0s\n",
            "[CV 4/5; 38/72] START dt__criterion=entropy, dt__max_depth=2, dt__splitter=best, pre_processador__transf_cat_oh__input_cat_oh__strategy=most_frequent\n",
            "[CV 4/5; 38/72] END dt__criterion=entropy, dt__max_depth=2, dt__splitter=best, pre_processador__transf_cat_oh__input_cat_oh__strategy=most_frequent;, score=0.576 total time=   0.0s\n",
            "[CV 5/5; 38/72] START dt__criterion=entropy, dt__max_depth=2, dt__splitter=best, pre_processador__transf_cat_oh__input_cat_oh__strategy=most_frequent\n",
            "[CV 5/5; 38/72] END dt__criterion=entropy, dt__max_depth=2, dt__splitter=best, pre_processador__transf_cat_oh__input_cat_oh__strategy=most_frequent;, score=0.576 total time=   0.0s\n",
            "[CV 1/5; 39/72] START dt__criterion=entropy, dt__max_depth=2, dt__splitter=random, pre_processador__transf_cat_oh__input_cat_oh__strategy=constant\n",
            "[CV 1/5; 39/72] END dt__criterion=entropy, dt__max_depth=2, dt__splitter=random, pre_processador__transf_cat_oh__input_cat_oh__strategy=constant;, score=0.588 total time=   0.0s\n",
            "[CV 2/5; 39/72] START dt__criterion=entropy, dt__max_depth=2, dt__splitter=random, pre_processador__transf_cat_oh__input_cat_oh__strategy=constant\n",
            "[CV 2/5; 39/72] END dt__criterion=entropy, dt__max_depth=2, dt__splitter=random, pre_processador__transf_cat_oh__input_cat_oh__strategy=constant;, score=0.666 total time=   0.0s\n",
            "[CV 3/5; 39/72] START dt__criterion=entropy, dt__max_depth=2, dt__splitter=random, pre_processador__transf_cat_oh__input_cat_oh__strategy=constant\n",
            "[CV 3/5; 39/72] END dt__criterion=entropy, dt__max_depth=2, dt__splitter=random, pre_processador__transf_cat_oh__input_cat_oh__strategy=constant;, score=0.619 total time=   0.0s\n",
            "[CV 4/5; 39/72] START dt__criterion=entropy, dt__max_depth=2, dt__splitter=random, pre_processador__transf_cat_oh__input_cat_oh__strategy=constant\n",
            "[CV 4/5; 39/72] END dt__criterion=entropy, dt__max_depth=2, dt__splitter=random, pre_processador__transf_cat_oh__input_cat_oh__strategy=constant;, score=0.675 total time=   0.0s\n",
            "[CV 5/5; 39/72] START dt__criterion=entropy, dt__max_depth=2, dt__splitter=random, pre_processador__transf_cat_oh__input_cat_oh__strategy=constant\n"
          ]
        },
        {
          "name": "stdout",
          "output_type": "stream",
          "text": [
            "[CV 5/5; 39/72] END dt__criterion=entropy, dt__max_depth=2, dt__splitter=random, pre_processador__transf_cat_oh__input_cat_oh__strategy=constant;, score=0.614 total time=   0.1s\n",
            "[CV 1/5; 40/72] START dt__criterion=entropy, dt__max_depth=2, dt__splitter=random, pre_processador__transf_cat_oh__input_cat_oh__strategy=most_frequent\n",
            "[CV 1/5; 40/72] END dt__criterion=entropy, dt__max_depth=2, dt__splitter=random, pre_processador__transf_cat_oh__input_cat_oh__strategy=most_frequent;, score=0.588 total time=   0.0s\n",
            "[CV 2/5; 40/72] START dt__criterion=entropy, dt__max_depth=2, dt__splitter=random, pre_processador__transf_cat_oh__input_cat_oh__strategy=most_frequent\n",
            "[CV 2/5; 40/72] END dt__criterion=entropy, dt__max_depth=2, dt__splitter=random, pre_processador__transf_cat_oh__input_cat_oh__strategy=most_frequent;, score=0.666 total time=   0.0s\n",
            "[CV 3/5; 40/72] START dt__criterion=entropy, dt__max_depth=2, dt__splitter=random, pre_processador__transf_cat_oh__input_cat_oh__strategy=most_frequent\n",
            "[CV 3/5; 40/72] END dt__criterion=entropy, dt__max_depth=2, dt__splitter=random, pre_processador__transf_cat_oh__input_cat_oh__strategy=most_frequent;, score=0.619 total time=   0.0s\n",
            "[CV 4/5; 40/72] START dt__criterion=entropy, dt__max_depth=2, dt__splitter=random, pre_processador__transf_cat_oh__input_cat_oh__strategy=most_frequent\n",
            "[CV 4/5; 40/72] END dt__criterion=entropy, dt__max_depth=2, dt__splitter=random, pre_processador__transf_cat_oh__input_cat_oh__strategy=most_frequent;, score=0.675 total time=   0.0s\n",
            "[CV 5/5; 40/72] START dt__criterion=entropy, dt__max_depth=2, dt__splitter=random, pre_processador__transf_cat_oh__input_cat_oh__strategy=most_frequent\n",
            "[CV 5/5; 40/72] END dt__criterion=entropy, dt__max_depth=2, dt__splitter=random, pre_processador__transf_cat_oh__input_cat_oh__strategy=most_frequent;, score=0.614 total time=   0.0s\n",
            "[CV 1/5; 41/72] START dt__criterion=entropy, dt__max_depth=3, dt__splitter=best, pre_processador__transf_cat_oh__input_cat_oh__strategy=constant\n",
            "[CV 1/5; 41/72] END dt__criterion=entropy, dt__max_depth=3, dt__splitter=best, pre_processador__transf_cat_oh__input_cat_oh__strategy=constant;, score=0.697 total time=   0.0s\n",
            "[CV 2/5; 41/72] START dt__criterion=entropy, dt__max_depth=3, dt__splitter=best, pre_processador__transf_cat_oh__input_cat_oh__strategy=constant\n",
            "[CV 2/5; 41/72] END dt__criterion=entropy, dt__max_depth=3, dt__splitter=best, pre_processador__transf_cat_oh__input_cat_oh__strategy=constant;, score=0.683 total time=   0.0s\n",
            "[CV 3/5; 41/72] START dt__criterion=entropy, dt__max_depth=3, dt__splitter=best, pre_processador__transf_cat_oh__input_cat_oh__strategy=constant\n",
            "[CV 3/5; 41/72] END dt__criterion=entropy, dt__max_depth=3, dt__splitter=best, pre_processador__transf_cat_oh__input_cat_oh__strategy=constant;, score=0.660 total time=   0.0s\n",
            "[CV 4/5; 41/72] START dt__criterion=entropy, dt__max_depth=3, dt__splitter=best, pre_processador__transf_cat_oh__input_cat_oh__strategy=constant\n",
            "[CV 4/5; 41/72] END dt__criterion=entropy, dt__max_depth=3, dt__splitter=best, pre_processador__transf_cat_oh__input_cat_oh__strategy=constant;, score=0.727 total time=   0.0s\n",
            "[CV 5/5; 41/72] START dt__criterion=entropy, dt__max_depth=3, dt__splitter=best, pre_processador__transf_cat_oh__input_cat_oh__strategy=constant\n",
            "[CV 5/5; 41/72] END dt__criterion=entropy, dt__max_depth=3, dt__splitter=best, pre_processador__transf_cat_oh__input_cat_oh__strategy=constant;, score=0.698 total time=   0.0s\n",
            "[CV 1/5; 42/72] START dt__criterion=entropy, dt__max_depth=3, dt__splitter=best, pre_processador__transf_cat_oh__input_cat_oh__strategy=most_frequent\n",
            "[CV 1/5; 42/72] END dt__criterion=entropy, dt__max_depth=3, dt__splitter=best, pre_processador__transf_cat_oh__input_cat_oh__strategy=most_frequent;, score=0.697 total time=   0.0s\n",
            "[CV 2/5; 42/72] START dt__criterion=entropy, dt__max_depth=3, dt__splitter=best, pre_processador__transf_cat_oh__input_cat_oh__strategy=most_frequent\n",
            "[CV 2/5; 42/72] END dt__criterion=entropy, dt__max_depth=3, dt__splitter=best, pre_processador__transf_cat_oh__input_cat_oh__strategy=most_frequent;, score=0.683 total time=   0.0s\n",
            "[CV 3/5; 42/72] START dt__criterion=entropy, dt__max_depth=3, dt__splitter=best, pre_processador__transf_cat_oh__input_cat_oh__strategy=most_frequent\n",
            "[CV 3/5; 42/72] END dt__criterion=entropy, dt__max_depth=3, dt__splitter=best, pre_processador__transf_cat_oh__input_cat_oh__strategy=most_frequent;, score=0.660 total time=   0.0s\n",
            "[CV 4/5; 42/72] START dt__criterion=entropy, dt__max_depth=3, dt__splitter=best, pre_processador__transf_cat_oh__input_cat_oh__strategy=most_frequent\n",
            "[CV 4/5; 42/72] END dt__criterion=entropy, dt__max_depth=3, dt__splitter=best, pre_processador__transf_cat_oh__input_cat_oh__strategy=most_frequent;, score=0.727 total time=   0.0s\n",
            "[CV 5/5; 42/72] START dt__criterion=entropy, dt__max_depth=3, dt__splitter=best, pre_processador__transf_cat_oh__input_cat_oh__strategy=most_frequent\n",
            "[CV 5/5; 42/72] END dt__criterion=entropy, dt__max_depth=3, dt__splitter=best, pre_processador__transf_cat_oh__input_cat_oh__strategy=most_frequent;, score=0.698 total time=   0.0s\n",
            "[CV 1/5; 43/72] START dt__criterion=entropy, dt__max_depth=3, dt__splitter=random, pre_processador__transf_cat_oh__input_cat_oh__strategy=constant\n",
            "[CV 1/5; 43/72] END dt__criterion=entropy, dt__max_depth=3, dt__splitter=random, pre_processador__transf_cat_oh__input_cat_oh__strategy=constant;, score=0.671 total time=   0.0s\n",
            "[CV 2/5; 43/72] START dt__criterion=entropy, dt__max_depth=3, dt__splitter=random, pre_processador__transf_cat_oh__input_cat_oh__strategy=constant\n",
            "[CV 2/5; 43/72] END dt__criterion=entropy, dt__max_depth=3, dt__splitter=random, pre_processador__transf_cat_oh__input_cat_oh__strategy=constant;, score=0.646 total time=   0.0s\n",
            "[CV 3/5; 43/72] START dt__criterion=entropy, dt__max_depth=3, dt__splitter=random, pre_processador__transf_cat_oh__input_cat_oh__strategy=constant\n",
            "[CV 3/5; 43/72] END dt__criterion=entropy, dt__max_depth=3, dt__splitter=random, pre_processador__transf_cat_oh__input_cat_oh__strategy=constant;, score=0.628 total time=   0.0s\n",
            "[CV 4/5; 43/72] START dt__criterion=entropy, dt__max_depth=3, dt__splitter=random, pre_processador__transf_cat_oh__input_cat_oh__strategy=constant\n",
            "[CV 4/5; 43/72] END dt__criterion=entropy, dt__max_depth=3, dt__splitter=random, pre_processador__transf_cat_oh__input_cat_oh__strategy=constant;, score=0.675 total time=   0.0s\n",
            "[CV 5/5; 43/72] START dt__criterion=entropy, dt__max_depth=3, dt__splitter=random, pre_processador__transf_cat_oh__input_cat_oh__strategy=constant\n",
            "[CV 5/5; 43/72] END dt__criterion=entropy, dt__max_depth=3, dt__splitter=random, pre_processador__transf_cat_oh__input_cat_oh__strategy=constant;, score=0.600 total time=   0.0s\n",
            "[CV 1/5; 44/72] START dt__criterion=entropy, dt__max_depth=3, dt__splitter=random, pre_processador__transf_cat_oh__input_cat_oh__strategy=most_frequent\n",
            "[CV 1/5; 44/72] END dt__criterion=entropy, dt__max_depth=3, dt__splitter=random, pre_processador__transf_cat_oh__input_cat_oh__strategy=most_frequent;, score=0.671 total time=   0.0s\n",
            "[CV 2/5; 44/72] START dt__criterion=entropy, dt__max_depth=3, dt__splitter=random, pre_processador__transf_cat_oh__input_cat_oh__strategy=most_frequent\n",
            "[CV 2/5; 44/72] END dt__criterion=entropy, dt__max_depth=3, dt__splitter=random, pre_processador__transf_cat_oh__input_cat_oh__strategy=most_frequent;, score=0.646 total time=   0.0s\n",
            "[CV 3/5; 44/72] START dt__criterion=entropy, dt__max_depth=3, dt__splitter=random, pre_processador__transf_cat_oh__input_cat_oh__strategy=most_frequent\n",
            "[CV 3/5; 44/72] END dt__criterion=entropy, dt__max_depth=3, dt__splitter=random, pre_processador__transf_cat_oh__input_cat_oh__strategy=most_frequent;, score=0.628 total time=   0.1s\n",
            "[CV 4/5; 44/72] START dt__criterion=entropy, dt__max_depth=3, dt__splitter=random, pre_processador__transf_cat_oh__input_cat_oh__strategy=most_frequent\n",
            "[CV 4/5; 44/72] END dt__criterion=entropy, dt__max_depth=3, dt__splitter=random, pre_processador__transf_cat_oh__input_cat_oh__strategy=most_frequent;, score=0.675 total time=   0.0s\n",
            "[CV 5/5; 44/72] START dt__criterion=entropy, dt__max_depth=3, dt__splitter=random, pre_processador__transf_cat_oh__input_cat_oh__strategy=most_frequent\n",
            "[CV 5/5; 44/72] END dt__criterion=entropy, dt__max_depth=3, dt__splitter=random, pre_processador__transf_cat_oh__input_cat_oh__strategy=most_frequent;, score=0.600 total time=   0.0s\n"
          ]
        },
        {
          "name": "stdout",
          "output_type": "stream",
          "text": [
            "[CV 1/5; 45/72] START dt__criterion=entropy, dt__max_depth=4, dt__splitter=best, pre_processador__transf_cat_oh__input_cat_oh__strategy=constant\n",
            "[CV 1/5; 45/72] END dt__criterion=entropy, dt__max_depth=4, dt__splitter=best, pre_processador__transf_cat_oh__input_cat_oh__strategy=constant;, score=0.674 total time=   0.0s\n",
            "[CV 2/5; 45/72] START dt__criterion=entropy, dt__max_depth=4, dt__splitter=best, pre_processador__transf_cat_oh__input_cat_oh__strategy=constant\n",
            "[CV 2/5; 45/72] END dt__criterion=entropy, dt__max_depth=4, dt__splitter=best, pre_processador__transf_cat_oh__input_cat_oh__strategy=constant;, score=0.674 total time=   0.0s\n",
            "[CV 3/5; 45/72] START dt__criterion=entropy, dt__max_depth=4, dt__splitter=best, pre_processador__transf_cat_oh__input_cat_oh__strategy=constant\n",
            "[CV 3/5; 45/72] END dt__criterion=entropy, dt__max_depth=4, dt__splitter=best, pre_processador__transf_cat_oh__input_cat_oh__strategy=constant;, score=0.679 total time=   0.0s\n",
            "[CV 4/5; 45/72] START dt__criterion=entropy, dt__max_depth=4, dt__splitter=best, pre_processador__transf_cat_oh__input_cat_oh__strategy=constant\n",
            "[CV 4/5; 45/72] END dt__criterion=entropy, dt__max_depth=4, dt__splitter=best, pre_processador__transf_cat_oh__input_cat_oh__strategy=constant;, score=0.616 total time=   0.0s\n",
            "[CV 5/5; 45/72] START dt__criterion=entropy, dt__max_depth=4, dt__splitter=best, pre_processador__transf_cat_oh__input_cat_oh__strategy=constant\n",
            "[CV 5/5; 45/72] END dt__criterion=entropy, dt__max_depth=4, dt__splitter=best, pre_processador__transf_cat_oh__input_cat_oh__strategy=constant;, score=0.690 total time=   0.0s\n",
            "[CV 1/5; 46/72] START dt__criterion=entropy, dt__max_depth=4, dt__splitter=best, pre_processador__transf_cat_oh__input_cat_oh__strategy=most_frequent\n",
            "[CV 1/5; 46/72] END dt__criterion=entropy, dt__max_depth=4, dt__splitter=best, pre_processador__transf_cat_oh__input_cat_oh__strategy=most_frequent;, score=0.674 total time=   0.0s\n",
            "[CV 2/5; 46/72] START dt__criterion=entropy, dt__max_depth=4, dt__splitter=best, pre_processador__transf_cat_oh__input_cat_oh__strategy=most_frequent\n",
            "[CV 2/5; 46/72] END dt__criterion=entropy, dt__max_depth=4, dt__splitter=best, pre_processador__transf_cat_oh__input_cat_oh__strategy=most_frequent;, score=0.674 total time=   0.0s\n",
            "[CV 3/5; 46/72] START dt__criterion=entropy, dt__max_depth=4, dt__splitter=best, pre_processador__transf_cat_oh__input_cat_oh__strategy=most_frequent\n",
            "[CV 3/5; 46/72] END dt__criterion=entropy, dt__max_depth=4, dt__splitter=best, pre_processador__transf_cat_oh__input_cat_oh__strategy=most_frequent;, score=0.679 total time=   0.0s\n",
            "[CV 4/5; 46/72] START dt__criterion=entropy, dt__max_depth=4, dt__splitter=best, pre_processador__transf_cat_oh__input_cat_oh__strategy=most_frequent\n",
            "[CV 4/5; 46/72] END dt__criterion=entropy, dt__max_depth=4, dt__splitter=best, pre_processador__transf_cat_oh__input_cat_oh__strategy=most_frequent;, score=0.616 total time=   0.0s\n",
            "[CV 5/5; 46/72] START dt__criterion=entropy, dt__max_depth=4, dt__splitter=best, pre_processador__transf_cat_oh__input_cat_oh__strategy=most_frequent\n",
            "[CV 5/5; 46/72] END dt__criterion=entropy, dt__max_depth=4, dt__splitter=best, pre_processador__transf_cat_oh__input_cat_oh__strategy=most_frequent;, score=0.690 total time=   0.0s\n",
            "[CV 1/5; 47/72] START dt__criterion=entropy, dt__max_depth=4, dt__splitter=random, pre_processador__transf_cat_oh__input_cat_oh__strategy=constant\n",
            "[CV 1/5; 47/72] END dt__criterion=entropy, dt__max_depth=4, dt__splitter=random, pre_processador__transf_cat_oh__input_cat_oh__strategy=constant;, score=0.693 total time=   0.0s\n",
            "[CV 2/5; 47/72] START dt__criterion=entropy, dt__max_depth=4, dt__splitter=random, pre_processador__transf_cat_oh__input_cat_oh__strategy=constant\n",
            "[CV 2/5; 47/72] END dt__criterion=entropy, dt__max_depth=4, dt__splitter=random, pre_processador__transf_cat_oh__input_cat_oh__strategy=constant;, score=0.688 total time=   0.0s\n",
            "[CV 3/5; 47/72] START dt__criterion=entropy, dt__max_depth=4, dt__splitter=random, pre_processador__transf_cat_oh__input_cat_oh__strategy=constant\n",
            "[CV 3/5; 47/72] END dt__criterion=entropy, dt__max_depth=4, dt__splitter=random, pre_processador__transf_cat_oh__input_cat_oh__strategy=constant;, score=0.603 total time=   0.0s\n",
            "[CV 4/5; 47/72] START dt__criterion=entropy, dt__max_depth=4, dt__splitter=random, pre_processador__transf_cat_oh__input_cat_oh__strategy=constant\n",
            "[CV 4/5; 47/72] END dt__criterion=entropy, dt__max_depth=4, dt__splitter=random, pre_processador__transf_cat_oh__input_cat_oh__strategy=constant;, score=0.659 total time=   0.0s\n",
            "[CV 5/5; 47/72] START dt__criterion=entropy, dt__max_depth=4, dt__splitter=random, pre_processador__transf_cat_oh__input_cat_oh__strategy=constant\n",
            "[CV 5/5; 47/72] END dt__criterion=entropy, dt__max_depth=4, dt__splitter=random, pre_processador__transf_cat_oh__input_cat_oh__strategy=constant;, score=0.669 total time=   0.0s\n",
            "[CV 1/5; 48/72] START dt__criterion=entropy, dt__max_depth=4, dt__splitter=random, pre_processador__transf_cat_oh__input_cat_oh__strategy=most_frequent\n",
            "[CV 1/5; 48/72] END dt__criterion=entropy, dt__max_depth=4, dt__splitter=random, pre_processador__transf_cat_oh__input_cat_oh__strategy=most_frequent;, score=0.693 total time=   0.0s\n",
            "[CV 2/5; 48/72] START dt__criterion=entropy, dt__max_depth=4, dt__splitter=random, pre_processador__transf_cat_oh__input_cat_oh__strategy=most_frequent\n",
            "[CV 2/5; 48/72] END dt__criterion=entropy, dt__max_depth=4, dt__splitter=random, pre_processador__transf_cat_oh__input_cat_oh__strategy=most_frequent;, score=0.688 total time=   0.0s\n",
            "[CV 3/5; 48/72] START dt__criterion=entropy, dt__max_depth=4, dt__splitter=random, pre_processador__transf_cat_oh__input_cat_oh__strategy=most_frequent\n",
            "[CV 3/5; 48/72] END dt__criterion=entropy, dt__max_depth=4, dt__splitter=random, pre_processador__transf_cat_oh__input_cat_oh__strategy=most_frequent;, score=0.603 total time=   0.0s\n",
            "[CV 4/5; 48/72] START dt__criterion=entropy, dt__max_depth=4, dt__splitter=random, pre_processador__transf_cat_oh__input_cat_oh__strategy=most_frequent\n",
            "[CV 4/5; 48/72] END dt__criterion=entropy, dt__max_depth=4, dt__splitter=random, pre_processador__transf_cat_oh__input_cat_oh__strategy=most_frequent;, score=0.659 total time=   0.0s\n",
            "[CV 5/5; 48/72] START dt__criterion=entropy, dt__max_depth=4, dt__splitter=random, pre_processador__transf_cat_oh__input_cat_oh__strategy=most_frequent\n",
            "[CV 5/5; 48/72] END dt__criterion=entropy, dt__max_depth=4, dt__splitter=random, pre_processador__transf_cat_oh__input_cat_oh__strategy=most_frequent;, score=0.669 total time=   0.0s\n",
            "[CV 1/5; 49/72] START dt__criterion=entropy, dt__max_depth=5, dt__splitter=best, pre_processador__transf_cat_oh__input_cat_oh__strategy=constant\n",
            "[CV 1/5; 49/72] END dt__criterion=entropy, dt__max_depth=5, dt__splitter=best, pre_processador__transf_cat_oh__input_cat_oh__strategy=constant;, score=0.663 total time=   0.0s\n",
            "[CV 2/5; 49/72] START dt__criterion=entropy, dt__max_depth=5, dt__splitter=best, pre_processador__transf_cat_oh__input_cat_oh__strategy=constant\n",
            "[CV 2/5; 49/72] END dt__criterion=entropy, dt__max_depth=5, dt__splitter=best, pre_processador__transf_cat_oh__input_cat_oh__strategy=constant;, score=0.716 total time=   0.0s\n",
            "[CV 3/5; 49/72] START dt__criterion=entropy, dt__max_depth=5, dt__splitter=best, pre_processador__transf_cat_oh__input_cat_oh__strategy=constant\n",
            "[CV 3/5; 49/72] END dt__criterion=entropy, dt__max_depth=5, dt__splitter=best, pre_processador__transf_cat_oh__input_cat_oh__strategy=constant;, score=0.637 total time=   0.0s\n",
            "[CV 4/5; 49/72] START dt__criterion=entropy, dt__max_depth=5, dt__splitter=best, pre_processador__transf_cat_oh__input_cat_oh__strategy=constant\n",
            "[CV 4/5; 49/72] END dt__criterion=entropy, dt__max_depth=5, dt__splitter=best, pre_processador__transf_cat_oh__input_cat_oh__strategy=constant;, score=0.730 total time=   0.0s\n",
            "[CV 5/5; 49/72] START dt__criterion=entropy, dt__max_depth=5, dt__splitter=best, pre_processador__transf_cat_oh__input_cat_oh__strategy=constant\n",
            "[CV 5/5; 49/72] END dt__criterion=entropy, dt__max_depth=5, dt__splitter=best, pre_processador__transf_cat_oh__input_cat_oh__strategy=constant;, score=0.683 total time=   0.0s\n",
            "[CV 1/5; 50/72] START dt__criterion=entropy, dt__max_depth=5, dt__splitter=best, pre_processador__transf_cat_oh__input_cat_oh__strategy=most_frequent\n",
            "[CV 1/5; 50/72] END dt__criterion=entropy, dt__max_depth=5, dt__splitter=best, pre_processador__transf_cat_oh__input_cat_oh__strategy=most_frequent;, score=0.663 total time=   0.0s\n",
            "[CV 2/5; 50/72] START dt__criterion=entropy, dt__max_depth=5, dt__splitter=best, pre_processador__transf_cat_oh__input_cat_oh__strategy=most_frequent\n",
            "[CV 2/5; 50/72] END dt__criterion=entropy, dt__max_depth=5, dt__splitter=best, pre_processador__transf_cat_oh__input_cat_oh__strategy=most_frequent;, score=0.716 total time=   0.0s\n",
            "[CV 3/5; 50/72] START dt__criterion=entropy, dt__max_depth=5, dt__splitter=best, pre_processador__transf_cat_oh__input_cat_oh__strategy=most_frequent\n"
          ]
        },
        {
          "name": "stdout",
          "output_type": "stream",
          "text": [
            "[CV 3/5; 50/72] END dt__criterion=entropy, dt__max_depth=5, dt__splitter=best, pre_processador__transf_cat_oh__input_cat_oh__strategy=most_frequent;, score=0.637 total time=   0.0s\n",
            "[CV 4/5; 50/72] START dt__criterion=entropy, dt__max_depth=5, dt__splitter=best, pre_processador__transf_cat_oh__input_cat_oh__strategy=most_frequent\n",
            "[CV 4/5; 50/72] END dt__criterion=entropy, dt__max_depth=5, dt__splitter=best, pre_processador__transf_cat_oh__input_cat_oh__strategy=most_frequent;, score=0.730 total time=   0.0s\n",
            "[CV 5/5; 50/72] START dt__criterion=entropy, dt__max_depth=5, dt__splitter=best, pre_processador__transf_cat_oh__input_cat_oh__strategy=most_frequent\n",
            "[CV 5/5; 50/72] END dt__criterion=entropy, dt__max_depth=5, dt__splitter=best, pre_processador__transf_cat_oh__input_cat_oh__strategy=most_frequent;, score=0.683 total time=   0.0s\n",
            "[CV 1/5; 51/72] START dt__criterion=entropy, dt__max_depth=5, dt__splitter=random, pre_processador__transf_cat_oh__input_cat_oh__strategy=constant\n",
            "[CV 1/5; 51/72] END dt__criterion=entropy, dt__max_depth=5, dt__splitter=random, pre_processador__transf_cat_oh__input_cat_oh__strategy=constant;, score=0.646 total time=   0.0s\n",
            "[CV 2/5; 51/72] START dt__criterion=entropy, dt__max_depth=5, dt__splitter=random, pre_processador__transf_cat_oh__input_cat_oh__strategy=constant\n",
            "[CV 2/5; 51/72] END dt__criterion=entropy, dt__max_depth=5, dt__splitter=random, pre_processador__transf_cat_oh__input_cat_oh__strategy=constant;, score=0.726 total time=   0.0s\n",
            "[CV 3/5; 51/72] START dt__criterion=entropy, dt__max_depth=5, dt__splitter=random, pre_processador__transf_cat_oh__input_cat_oh__strategy=constant\n",
            "[CV 3/5; 51/72] END dt__criterion=entropy, dt__max_depth=5, dt__splitter=random, pre_processador__transf_cat_oh__input_cat_oh__strategy=constant;, score=0.664 total time=   0.0s\n",
            "[CV 4/5; 51/72] START dt__criterion=entropy, dt__max_depth=5, dt__splitter=random, pre_processador__transf_cat_oh__input_cat_oh__strategy=constant\n",
            "[CV 4/5; 51/72] END dt__criterion=entropy, dt__max_depth=5, dt__splitter=random, pre_processador__transf_cat_oh__input_cat_oh__strategy=constant;, score=0.702 total time=   0.0s\n",
            "[CV 5/5; 51/72] START dt__criterion=entropy, dt__max_depth=5, dt__splitter=random, pre_processador__transf_cat_oh__input_cat_oh__strategy=constant\n",
            "[CV 5/5; 51/72] END dt__criterion=entropy, dt__max_depth=5, dt__splitter=random, pre_processador__transf_cat_oh__input_cat_oh__strategy=constant;, score=0.683 total time=   0.0s\n",
            "[CV 1/5; 52/72] START dt__criterion=entropy, dt__max_depth=5, dt__splitter=random, pre_processador__transf_cat_oh__input_cat_oh__strategy=most_frequent\n",
            "[CV 1/5; 52/72] END dt__criterion=entropy, dt__max_depth=5, dt__splitter=random, pre_processador__transf_cat_oh__input_cat_oh__strategy=most_frequent;, score=0.646 total time=   0.0s\n",
            "[CV 2/5; 52/72] START dt__criterion=entropy, dt__max_depth=5, dt__splitter=random, pre_processador__transf_cat_oh__input_cat_oh__strategy=most_frequent\n",
            "[CV 2/5; 52/72] END dt__criterion=entropy, dt__max_depth=5, dt__splitter=random, pre_processador__transf_cat_oh__input_cat_oh__strategy=most_frequent;, score=0.726 total time=   0.0s\n",
            "[CV 3/5; 52/72] START dt__criterion=entropy, dt__max_depth=5, dt__splitter=random, pre_processador__transf_cat_oh__input_cat_oh__strategy=most_frequent\n",
            "[CV 3/5; 52/72] END dt__criterion=entropy, dt__max_depth=5, dt__splitter=random, pre_processador__transf_cat_oh__input_cat_oh__strategy=most_frequent;, score=0.664 total time=   0.0s\n",
            "[CV 4/5; 52/72] START dt__criterion=entropy, dt__max_depth=5, dt__splitter=random, pre_processador__transf_cat_oh__input_cat_oh__strategy=most_frequent\n",
            "[CV 4/5; 52/72] END dt__criterion=entropy, dt__max_depth=5, dt__splitter=random, pre_processador__transf_cat_oh__input_cat_oh__strategy=most_frequent;, score=0.702 total time=   0.0s\n",
            "[CV 5/5; 52/72] START dt__criterion=entropy, dt__max_depth=5, dt__splitter=random, pre_processador__transf_cat_oh__input_cat_oh__strategy=most_frequent\n",
            "[CV 5/5; 52/72] END dt__criterion=entropy, dt__max_depth=5, dt__splitter=random, pre_processador__transf_cat_oh__input_cat_oh__strategy=most_frequent;, score=0.683 total time=   0.0s\n",
            "[CV 1/5; 53/72] START dt__criterion=entropy, dt__max_depth=6, dt__splitter=best, pre_processador__transf_cat_oh__input_cat_oh__strategy=constant\n",
            "[CV 1/5; 53/72] END dt__criterion=entropy, dt__max_depth=6, dt__splitter=best, pre_processador__transf_cat_oh__input_cat_oh__strategy=constant;, score=0.628 total time=   0.0s\n",
            "[CV 2/5; 53/72] START dt__criterion=entropy, dt__max_depth=6, dt__splitter=best, pre_processador__transf_cat_oh__input_cat_oh__strategy=constant\n",
            "[CV 2/5; 53/72] END dt__criterion=entropy, dt__max_depth=6, dt__splitter=best, pre_processador__transf_cat_oh__input_cat_oh__strategy=constant;, score=0.727 total time=   0.0s\n",
            "[CV 3/5; 53/72] START dt__criterion=entropy, dt__max_depth=6, dt__splitter=best, pre_processador__transf_cat_oh__input_cat_oh__strategy=constant\n",
            "[CV 3/5; 53/72] END dt__criterion=entropy, dt__max_depth=6, dt__splitter=best, pre_processador__transf_cat_oh__input_cat_oh__strategy=constant;, score=0.635 total time=   0.0s\n",
            "[CV 4/5; 53/72] START dt__criterion=entropy, dt__max_depth=6, dt__splitter=best, pre_processador__transf_cat_oh__input_cat_oh__strategy=constant\n",
            "[CV 4/5; 53/72] END dt__criterion=entropy, dt__max_depth=6, dt__splitter=best, pre_processador__transf_cat_oh__input_cat_oh__strategy=constant;, score=0.612 total time=   0.0s\n",
            "[CV 5/5; 53/72] START dt__criterion=entropy, dt__max_depth=6, dt__splitter=best, pre_processador__transf_cat_oh__input_cat_oh__strategy=constant\n",
            "[CV 5/5; 53/72] END dt__criterion=entropy, dt__max_depth=6, dt__splitter=best, pre_processador__transf_cat_oh__input_cat_oh__strategy=constant;, score=0.623 total time=   0.0s\n",
            "[CV 1/5; 54/72] START dt__criterion=entropy, dt__max_depth=6, dt__splitter=best, pre_processador__transf_cat_oh__input_cat_oh__strategy=most_frequent\n",
            "[CV 1/5; 54/72] END dt__criterion=entropy, dt__max_depth=6, dt__splitter=best, pre_processador__transf_cat_oh__input_cat_oh__strategy=most_frequent;, score=0.628 total time=   0.0s\n",
            "[CV 2/5; 54/72] START dt__criterion=entropy, dt__max_depth=6, dt__splitter=best, pre_processador__transf_cat_oh__input_cat_oh__strategy=most_frequent\n",
            "[CV 2/5; 54/72] END dt__criterion=entropy, dt__max_depth=6, dt__splitter=best, pre_processador__transf_cat_oh__input_cat_oh__strategy=most_frequent;, score=0.727 total time=   0.0s\n",
            "[CV 3/5; 54/72] START dt__criterion=entropy, dt__max_depth=6, dt__splitter=best, pre_processador__transf_cat_oh__input_cat_oh__strategy=most_frequent\n",
            "[CV 3/5; 54/72] END dt__criterion=entropy, dt__max_depth=6, dt__splitter=best, pre_processador__transf_cat_oh__input_cat_oh__strategy=most_frequent;, score=0.635 total time=   0.0s\n",
            "[CV 4/5; 54/72] START dt__criterion=entropy, dt__max_depth=6, dt__splitter=best, pre_processador__transf_cat_oh__input_cat_oh__strategy=most_frequent\n",
            "[CV 4/5; 54/72] END dt__criterion=entropy, dt__max_depth=6, dt__splitter=best, pre_processador__transf_cat_oh__input_cat_oh__strategy=most_frequent;, score=0.612 total time=   0.0s\n",
            "[CV 5/5; 54/72] START dt__criterion=entropy, dt__max_depth=6, dt__splitter=best, pre_processador__transf_cat_oh__input_cat_oh__strategy=most_frequent\n",
            "[CV 5/5; 54/72] END dt__criterion=entropy, dt__max_depth=6, dt__splitter=best, pre_processador__transf_cat_oh__input_cat_oh__strategy=most_frequent;, score=0.623 total time=   0.0s\n",
            "[CV 1/5; 55/72] START dt__criterion=entropy, dt__max_depth=6, dt__splitter=random, pre_processador__transf_cat_oh__input_cat_oh__strategy=constant\n",
            "[CV 1/5; 55/72] END dt__criterion=entropy, dt__max_depth=6, dt__splitter=random, pre_processador__transf_cat_oh__input_cat_oh__strategy=constant;, score=0.667 total time=   0.0s\n",
            "[CV 2/5; 55/72] START dt__criterion=entropy, dt__max_depth=6, dt__splitter=random, pre_processador__transf_cat_oh__input_cat_oh__strategy=constant\n",
            "[CV 2/5; 55/72] END dt__criterion=entropy, dt__max_depth=6, dt__splitter=random, pre_processador__transf_cat_oh__input_cat_oh__strategy=constant;, score=0.747 total time=   0.0s\n",
            "[CV 3/5; 55/72] START dt__criterion=entropy, dt__max_depth=6, dt__splitter=random, pre_processador__transf_cat_oh__input_cat_oh__strategy=constant\n",
            "[CV 3/5; 55/72] END dt__criterion=entropy, dt__max_depth=6, dt__splitter=random, pre_processador__transf_cat_oh__input_cat_oh__strategy=constant;, score=0.627 total time=   0.0s\n",
            "[CV 4/5; 55/72] START dt__criterion=entropy, dt__max_depth=6, dt__splitter=random, pre_processador__transf_cat_oh__input_cat_oh__strategy=constant\n"
          ]
        },
        {
          "name": "stdout",
          "output_type": "stream",
          "text": [
            "[CV 4/5; 55/72] END dt__criterion=entropy, dt__max_depth=6, dt__splitter=random, pre_processador__transf_cat_oh__input_cat_oh__strategy=constant;, score=0.702 total time=   0.0s\n",
            "[CV 5/5; 55/72] START dt__criterion=entropy, dt__max_depth=6, dt__splitter=random, pre_processador__transf_cat_oh__input_cat_oh__strategy=constant\n",
            "[CV 5/5; 55/72] END dt__criterion=entropy, dt__max_depth=6, dt__splitter=random, pre_processador__transf_cat_oh__input_cat_oh__strategy=constant;, score=0.733 total time=   0.0s\n",
            "[CV 1/5; 56/72] START dt__criterion=entropy, dt__max_depth=6, dt__splitter=random, pre_processador__transf_cat_oh__input_cat_oh__strategy=most_frequent\n",
            "[CV 1/5; 56/72] END dt__criterion=entropy, dt__max_depth=6, dt__splitter=random, pre_processador__transf_cat_oh__input_cat_oh__strategy=most_frequent;, score=0.667 total time=   0.0s\n",
            "[CV 2/5; 56/72] START dt__criterion=entropy, dt__max_depth=6, dt__splitter=random, pre_processador__transf_cat_oh__input_cat_oh__strategy=most_frequent\n",
            "[CV 2/5; 56/72] END dt__criterion=entropy, dt__max_depth=6, dt__splitter=random, pre_processador__transf_cat_oh__input_cat_oh__strategy=most_frequent;, score=0.747 total time=   0.0s\n",
            "[CV 3/5; 56/72] START dt__criterion=entropy, dt__max_depth=6, dt__splitter=random, pre_processador__transf_cat_oh__input_cat_oh__strategy=most_frequent\n",
            "[CV 3/5; 56/72] END dt__criterion=entropy, dt__max_depth=6, dt__splitter=random, pre_processador__transf_cat_oh__input_cat_oh__strategy=most_frequent;, score=0.627 total time=   0.0s\n",
            "[CV 4/5; 56/72] START dt__criterion=entropy, dt__max_depth=6, dt__splitter=random, pre_processador__transf_cat_oh__input_cat_oh__strategy=most_frequent\n",
            "[CV 4/5; 56/72] END dt__criterion=entropy, dt__max_depth=6, dt__splitter=random, pre_processador__transf_cat_oh__input_cat_oh__strategy=most_frequent;, score=0.702 total time=   0.0s\n",
            "[CV 5/5; 56/72] START dt__criterion=entropy, dt__max_depth=6, dt__splitter=random, pre_processador__transf_cat_oh__input_cat_oh__strategy=most_frequent\n",
            "[CV 5/5; 56/72] END dt__criterion=entropy, dt__max_depth=6, dt__splitter=random, pre_processador__transf_cat_oh__input_cat_oh__strategy=most_frequent;, score=0.733 total time=   0.0s\n",
            "[CV 1/5; 57/72] START dt__criterion=entropy, dt__max_depth=7, dt__splitter=best, pre_processador__transf_cat_oh__input_cat_oh__strategy=constant\n",
            "[CV 1/5; 57/72] END dt__criterion=entropy, dt__max_depth=7, dt__splitter=best, pre_processador__transf_cat_oh__input_cat_oh__strategy=constant;, score=0.673 total time=   0.0s\n",
            "[CV 2/5; 57/72] START dt__criterion=entropy, dt__max_depth=7, dt__splitter=best, pre_processador__transf_cat_oh__input_cat_oh__strategy=constant\n",
            "[CV 2/5; 57/72] END dt__criterion=entropy, dt__max_depth=7, dt__splitter=best, pre_processador__transf_cat_oh__input_cat_oh__strategy=constant;, score=0.728 total time=   0.0s\n",
            "[CV 3/5; 57/72] START dt__criterion=entropy, dt__max_depth=7, dt__splitter=best, pre_processador__transf_cat_oh__input_cat_oh__strategy=constant\n",
            "[CV 3/5; 57/72] END dt__criterion=entropy, dt__max_depth=7, dt__splitter=best, pre_processador__transf_cat_oh__input_cat_oh__strategy=constant;, score=0.583 total time=   0.0s\n",
            "[CV 4/5; 57/72] START dt__criterion=entropy, dt__max_depth=7, dt__splitter=best, pre_processador__transf_cat_oh__input_cat_oh__strategy=constant\n",
            "[CV 4/5; 57/72] END dt__criterion=entropy, dt__max_depth=7, dt__splitter=best, pre_processador__transf_cat_oh__input_cat_oh__strategy=constant;, score=0.638 total time=   0.0s\n",
            "[CV 5/5; 57/72] START dt__criterion=entropy, dt__max_depth=7, dt__splitter=best, pre_processador__transf_cat_oh__input_cat_oh__strategy=constant\n",
            "[CV 5/5; 57/72] END dt__criterion=entropy, dt__max_depth=7, dt__splitter=best, pre_processador__transf_cat_oh__input_cat_oh__strategy=constant;, score=0.653 total time=   0.0s\n",
            "[CV 1/5; 58/72] START dt__criterion=entropy, dt__max_depth=7, dt__splitter=best, pre_processador__transf_cat_oh__input_cat_oh__strategy=most_frequent\n",
            "[CV 1/5; 58/72] END dt__criterion=entropy, dt__max_depth=7, dt__splitter=best, pre_processador__transf_cat_oh__input_cat_oh__strategy=most_frequent;, score=0.673 total time=   0.0s\n",
            "[CV 2/5; 58/72] START dt__criterion=entropy, dt__max_depth=7, dt__splitter=best, pre_processador__transf_cat_oh__input_cat_oh__strategy=most_frequent\n",
            "[CV 2/5; 58/72] END dt__criterion=entropy, dt__max_depth=7, dt__splitter=best, pre_processador__transf_cat_oh__input_cat_oh__strategy=most_frequent;, score=0.728 total time=   0.0s\n",
            "[CV 3/5; 58/72] START dt__criterion=entropy, dt__max_depth=7, dt__splitter=best, pre_processador__transf_cat_oh__input_cat_oh__strategy=most_frequent\n",
            "[CV 3/5; 58/72] END dt__criterion=entropy, dt__max_depth=7, dt__splitter=best, pre_processador__transf_cat_oh__input_cat_oh__strategy=most_frequent;, score=0.583 total time=   0.2s\n",
            "[CV 4/5; 58/72] START dt__criterion=entropy, dt__max_depth=7, dt__splitter=best, pre_processador__transf_cat_oh__input_cat_oh__strategy=most_frequent\n",
            "[CV 4/5; 58/72] END dt__criterion=entropy, dt__max_depth=7, dt__splitter=best, pre_processador__transf_cat_oh__input_cat_oh__strategy=most_frequent;, score=0.638 total time=   0.0s\n",
            "[CV 5/5; 58/72] START dt__criterion=entropy, dt__max_depth=7, dt__splitter=best, pre_processador__transf_cat_oh__input_cat_oh__strategy=most_frequent\n",
            "[CV 5/5; 58/72] END dt__criterion=entropy, dt__max_depth=7, dt__splitter=best, pre_processador__transf_cat_oh__input_cat_oh__strategy=most_frequent;, score=0.653 total time=   0.0s\n",
            "[CV 1/5; 59/72] START dt__criterion=entropy, dt__max_depth=7, dt__splitter=random, pre_processador__transf_cat_oh__input_cat_oh__strategy=constant\n",
            "[CV 1/5; 59/72] END dt__criterion=entropy, dt__max_depth=7, dt__splitter=random, pre_processador__transf_cat_oh__input_cat_oh__strategy=constant;, score=0.691 total time=   0.0s\n",
            "[CV 2/5; 59/72] START dt__criterion=entropy, dt__max_depth=7, dt__splitter=random, pre_processador__transf_cat_oh__input_cat_oh__strategy=constant\n",
            "[CV 2/5; 59/72] END dt__criterion=entropy, dt__max_depth=7, dt__splitter=random, pre_processador__transf_cat_oh__input_cat_oh__strategy=constant;, score=0.740 total time=   0.0s\n",
            "[CV 3/5; 59/72] START dt__criterion=entropy, dt__max_depth=7, dt__splitter=random, pre_processador__transf_cat_oh__input_cat_oh__strategy=constant\n",
            "[CV 3/5; 59/72] END dt__criterion=entropy, dt__max_depth=7, dt__splitter=random, pre_processador__transf_cat_oh__input_cat_oh__strategy=constant;, score=0.639 total time=   0.0s\n",
            "[CV 4/5; 59/72] START dt__criterion=entropy, dt__max_depth=7, dt__splitter=random, pre_processador__transf_cat_oh__input_cat_oh__strategy=constant\n",
            "[CV 4/5; 59/72] END dt__criterion=entropy, dt__max_depth=7, dt__splitter=random, pre_processador__transf_cat_oh__input_cat_oh__strategy=constant;, score=0.689 total time=   0.1s\n",
            "[CV 5/5; 59/72] START dt__criterion=entropy, dt__max_depth=7, dt__splitter=random, pre_processador__transf_cat_oh__input_cat_oh__strategy=constant\n",
            "[CV 5/5; 59/72] END dt__criterion=entropy, dt__max_depth=7, dt__splitter=random, pre_processador__transf_cat_oh__input_cat_oh__strategy=constant;, score=0.646 total time=   0.0s\n",
            "[CV 1/5; 60/72] START dt__criterion=entropy, dt__max_depth=7, dt__splitter=random, pre_processador__transf_cat_oh__input_cat_oh__strategy=most_frequent\n",
            "[CV 1/5; 60/72] END dt__criterion=entropy, dt__max_depth=7, dt__splitter=random, pre_processador__transf_cat_oh__input_cat_oh__strategy=most_frequent;, score=0.691 total time=   0.0s\n",
            "[CV 2/5; 60/72] START dt__criterion=entropy, dt__max_depth=7, dt__splitter=random, pre_processador__transf_cat_oh__input_cat_oh__strategy=most_frequent\n",
            "[CV 2/5; 60/72] END dt__criterion=entropy, dt__max_depth=7, dt__splitter=random, pre_processador__transf_cat_oh__input_cat_oh__strategy=most_frequent;, score=0.740 total time=   0.0s\n",
            "[CV 3/5; 60/72] START dt__criterion=entropy, dt__max_depth=7, dt__splitter=random, pre_processador__transf_cat_oh__input_cat_oh__strategy=most_frequent\n",
            "[CV 3/5; 60/72] END dt__criterion=entropy, dt__max_depth=7, dt__splitter=random, pre_processador__transf_cat_oh__input_cat_oh__strategy=most_frequent;, score=0.639 total time=   0.0s\n",
            "[CV 4/5; 60/72] START dt__criterion=entropy, dt__max_depth=7, dt__splitter=random, pre_processador__transf_cat_oh__input_cat_oh__strategy=most_frequent\n"
          ]
        },
        {
          "name": "stdout",
          "output_type": "stream",
          "text": [
            "[CV 4/5; 60/72] END dt__criterion=entropy, dt__max_depth=7, dt__splitter=random, pre_processador__transf_cat_oh__input_cat_oh__strategy=most_frequent;, score=0.689 total time=   0.0s\n",
            "[CV 5/5; 60/72] START dt__criterion=entropy, dt__max_depth=7, dt__splitter=random, pre_processador__transf_cat_oh__input_cat_oh__strategy=most_frequent\n",
            "[CV 5/5; 60/72] END dt__criterion=entropy, dt__max_depth=7, dt__splitter=random, pre_processador__transf_cat_oh__input_cat_oh__strategy=most_frequent;, score=0.646 total time=   0.0s\n",
            "[CV 1/5; 61/72] START dt__criterion=entropy, dt__max_depth=8, dt__splitter=best, pre_processador__transf_cat_oh__input_cat_oh__strategy=constant\n",
            "[CV 1/5; 61/72] END dt__criterion=entropy, dt__max_depth=8, dt__splitter=best, pre_processador__transf_cat_oh__input_cat_oh__strategy=constant;, score=0.656 total time=   0.0s\n",
            "[CV 2/5; 61/72] START dt__criterion=entropy, dt__max_depth=8, dt__splitter=best, pre_processador__transf_cat_oh__input_cat_oh__strategy=constant\n",
            "[CV 2/5; 61/72] END dt__criterion=entropy, dt__max_depth=8, dt__splitter=best, pre_processador__transf_cat_oh__input_cat_oh__strategy=constant;, score=0.747 total time=   0.0s\n",
            "[CV 3/5; 61/72] START dt__criterion=entropy, dt__max_depth=8, dt__splitter=best, pre_processador__transf_cat_oh__input_cat_oh__strategy=constant\n",
            "[CV 3/5; 61/72] END dt__criterion=entropy, dt__max_depth=8, dt__splitter=best, pre_processador__transf_cat_oh__input_cat_oh__strategy=constant;, score=0.601 total time=   0.0s\n",
            "[CV 4/5; 61/72] START dt__criterion=entropy, dt__max_depth=8, dt__splitter=best, pre_processador__transf_cat_oh__input_cat_oh__strategy=constant\n",
            "[CV 4/5; 61/72] END dt__criterion=entropy, dt__max_depth=8, dt__splitter=best, pre_processador__transf_cat_oh__input_cat_oh__strategy=constant;, score=0.635 total time=   0.0s\n",
            "[CV 5/5; 61/72] START dt__criterion=entropy, dt__max_depth=8, dt__splitter=best, pre_processador__transf_cat_oh__input_cat_oh__strategy=constant\n",
            "[CV 5/5; 61/72] END dt__criterion=entropy, dt__max_depth=8, dt__splitter=best, pre_processador__transf_cat_oh__input_cat_oh__strategy=constant;, score=0.635 total time=   0.0s\n",
            "[CV 1/5; 62/72] START dt__criterion=entropy, dt__max_depth=8, dt__splitter=best, pre_processador__transf_cat_oh__input_cat_oh__strategy=most_frequent\n",
            "[CV 1/5; 62/72] END dt__criterion=entropy, dt__max_depth=8, dt__splitter=best, pre_processador__transf_cat_oh__input_cat_oh__strategy=most_frequent;, score=0.656 total time=   0.0s\n",
            "[CV 2/5; 62/72] START dt__criterion=entropy, dt__max_depth=8, dt__splitter=best, pre_processador__transf_cat_oh__input_cat_oh__strategy=most_frequent\n",
            "[CV 2/5; 62/72] END dt__criterion=entropy, dt__max_depth=8, dt__splitter=best, pre_processador__transf_cat_oh__input_cat_oh__strategy=most_frequent;, score=0.747 total time=   0.0s\n",
            "[CV 3/5; 62/72] START dt__criterion=entropy, dt__max_depth=8, dt__splitter=best, pre_processador__transf_cat_oh__input_cat_oh__strategy=most_frequent\n",
            "[CV 3/5; 62/72] END dt__criterion=entropy, dt__max_depth=8, dt__splitter=best, pre_processador__transf_cat_oh__input_cat_oh__strategy=most_frequent;, score=0.601 total time=   0.0s\n",
            "[CV 4/5; 62/72] START dt__criterion=entropy, dt__max_depth=8, dt__splitter=best, pre_processador__transf_cat_oh__input_cat_oh__strategy=most_frequent\n",
            "[CV 4/5; 62/72] END dt__criterion=entropy, dt__max_depth=8, dt__splitter=best, pre_processador__transf_cat_oh__input_cat_oh__strategy=most_frequent;, score=0.635 total time=   0.0s\n",
            "[CV 5/5; 62/72] START dt__criterion=entropy, dt__max_depth=8, dt__splitter=best, pre_processador__transf_cat_oh__input_cat_oh__strategy=most_frequent\n",
            "[CV 5/5; 62/72] END dt__criterion=entropy, dt__max_depth=8, dt__splitter=best, pre_processador__transf_cat_oh__input_cat_oh__strategy=most_frequent;, score=0.635 total time=   0.0s\n",
            "[CV 1/5; 63/72] START dt__criterion=entropy, dt__max_depth=8, dt__splitter=random, pre_processador__transf_cat_oh__input_cat_oh__strategy=constant\n",
            "[CV 1/5; 63/72] END dt__criterion=entropy, dt__max_depth=8, dt__splitter=random, pre_processador__transf_cat_oh__input_cat_oh__strategy=constant;, score=0.656 total time=   0.0s\n",
            "[CV 2/5; 63/72] START dt__criterion=entropy, dt__max_depth=8, dt__splitter=random, pre_processador__transf_cat_oh__input_cat_oh__strategy=constant\n",
            "[CV 2/5; 63/72] END dt__criterion=entropy, dt__max_depth=8, dt__splitter=random, pre_processador__transf_cat_oh__input_cat_oh__strategy=constant;, score=0.728 total time=   0.0s\n",
            "[CV 3/5; 63/72] START dt__criterion=entropy, dt__max_depth=8, dt__splitter=random, pre_processador__transf_cat_oh__input_cat_oh__strategy=constant\n",
            "[CV 3/5; 63/72] END dt__criterion=entropy, dt__max_depth=8, dt__splitter=random, pre_processador__transf_cat_oh__input_cat_oh__strategy=constant;, score=0.636 total time=   0.0s\n",
            "[CV 4/5; 63/72] START dt__criterion=entropy, dt__max_depth=8, dt__splitter=random, pre_processador__transf_cat_oh__input_cat_oh__strategy=constant\n",
            "[CV 4/5; 63/72] END dt__criterion=entropy, dt__max_depth=8, dt__splitter=random, pre_processador__transf_cat_oh__input_cat_oh__strategy=constant;, score=0.683 total time=   0.0s\n",
            "[CV 5/5; 63/72] START dt__criterion=entropy, dt__max_depth=8, dt__splitter=random, pre_processador__transf_cat_oh__input_cat_oh__strategy=constant\n",
            "[CV 5/5; 63/72] END dt__criterion=entropy, dt__max_depth=8, dt__splitter=random, pre_processador__transf_cat_oh__input_cat_oh__strategy=constant;, score=0.674 total time=   0.0s\n",
            "[CV 1/5; 64/72] START dt__criterion=entropy, dt__max_depth=8, dt__splitter=random, pre_processador__transf_cat_oh__input_cat_oh__strategy=most_frequent\n",
            "[CV 1/5; 64/72] END dt__criterion=entropy, dt__max_depth=8, dt__splitter=random, pre_processador__transf_cat_oh__input_cat_oh__strategy=most_frequent;, score=0.656 total time=   0.0s\n",
            "[CV 2/5; 64/72] START dt__criterion=entropy, dt__max_depth=8, dt__splitter=random, pre_processador__transf_cat_oh__input_cat_oh__strategy=most_frequent\n",
            "[CV 2/5; 64/72] END dt__criterion=entropy, dt__max_depth=8, dt__splitter=random, pre_processador__transf_cat_oh__input_cat_oh__strategy=most_frequent;, score=0.728 total time=   0.0s\n",
            "[CV 3/5; 64/72] START dt__criterion=entropy, dt__max_depth=8, dt__splitter=random, pre_processador__transf_cat_oh__input_cat_oh__strategy=most_frequent\n",
            "[CV 3/5; 64/72] END dt__criterion=entropy, dt__max_depth=8, dt__splitter=random, pre_processador__transf_cat_oh__input_cat_oh__strategy=most_frequent;, score=0.636 total time=   0.0s\n",
            "[CV 4/5; 64/72] START dt__criterion=entropy, dt__max_depth=8, dt__splitter=random, pre_processador__transf_cat_oh__input_cat_oh__strategy=most_frequent\n",
            "[CV 4/5; 64/72] END dt__criterion=entropy, dt__max_depth=8, dt__splitter=random, pre_processador__transf_cat_oh__input_cat_oh__strategy=most_frequent;, score=0.683 total time=   0.0s\n",
            "[CV 5/5; 64/72] START dt__criterion=entropy, dt__max_depth=8, dt__splitter=random, pre_processador__transf_cat_oh__input_cat_oh__strategy=most_frequent\n",
            "[CV 5/5; 64/72] END dt__criterion=entropy, dt__max_depth=8, dt__splitter=random, pre_processador__transf_cat_oh__input_cat_oh__strategy=most_frequent;, score=0.674 total time=   0.0s\n",
            "[CV 1/5; 65/72] START dt__criterion=entropy, dt__max_depth=9, dt__splitter=best, pre_processador__transf_cat_oh__input_cat_oh__strategy=constant\n",
            "[CV 1/5; 65/72] END dt__criterion=entropy, dt__max_depth=9, dt__splitter=best, pre_processador__transf_cat_oh__input_cat_oh__strategy=constant;, score=0.640 total time=   0.0s\n",
            "[CV 2/5; 65/72] START dt__criterion=entropy, dt__max_depth=9, dt__splitter=best, pre_processador__transf_cat_oh__input_cat_oh__strategy=constant\n",
            "[CV 2/5; 65/72] END dt__criterion=entropy, dt__max_depth=9, dt__splitter=best, pre_processador__transf_cat_oh__input_cat_oh__strategy=constant;, score=0.713 total time=   0.0s\n",
            "[CV 3/5; 65/72] START dt__criterion=entropy, dt__max_depth=9, dt__splitter=best, pre_processador__transf_cat_oh__input_cat_oh__strategy=constant\n",
            "[CV 3/5; 65/72] END dt__criterion=entropy, dt__max_depth=9, dt__splitter=best, pre_processador__transf_cat_oh__input_cat_oh__strategy=constant;, score=0.599 total time=   0.0s\n",
            "[CV 4/5; 65/72] START dt__criterion=entropy, dt__max_depth=9, dt__splitter=best, pre_processador__transf_cat_oh__input_cat_oh__strategy=constant\n",
            "[CV 4/5; 65/72] END dt__criterion=entropy, dt__max_depth=9, dt__splitter=best, pre_processador__transf_cat_oh__input_cat_oh__strategy=constant;, score=0.730 total time=   0.0s\n",
            "[CV 5/5; 65/72] START dt__criterion=entropy, dt__max_depth=9, dt__splitter=best, pre_processador__transf_cat_oh__input_cat_oh__strategy=constant\n",
            "[CV 5/5; 65/72] END dt__criterion=entropy, dt__max_depth=9, dt__splitter=best, pre_processador__transf_cat_oh__input_cat_oh__strategy=constant;, score=0.662 total time=   0.0s\n",
            "[CV 1/5; 66/72] START dt__criterion=entropy, dt__max_depth=9, dt__splitter=best, pre_processador__transf_cat_oh__input_cat_oh__strategy=most_frequent\n"
          ]
        },
        {
          "name": "stdout",
          "output_type": "stream",
          "text": [
            "[CV 1/5; 66/72] END dt__criterion=entropy, dt__max_depth=9, dt__splitter=best, pre_processador__transf_cat_oh__input_cat_oh__strategy=most_frequent;, score=0.640 total time=   0.0s\n",
            "[CV 2/5; 66/72] START dt__criterion=entropy, dt__max_depth=9, dt__splitter=best, pre_processador__transf_cat_oh__input_cat_oh__strategy=most_frequent\n",
            "[CV 2/5; 66/72] END dt__criterion=entropy, dt__max_depth=9, dt__splitter=best, pre_processador__transf_cat_oh__input_cat_oh__strategy=most_frequent;, score=0.713 total time=   0.0s\n",
            "[CV 3/5; 66/72] START dt__criterion=entropy, dt__max_depth=9, dt__splitter=best, pre_processador__transf_cat_oh__input_cat_oh__strategy=most_frequent\n",
            "[CV 3/5; 66/72] END dt__criterion=entropy, dt__max_depth=9, dt__splitter=best, pre_processador__transf_cat_oh__input_cat_oh__strategy=most_frequent;, score=0.599 total time=   0.0s\n",
            "[CV 4/5; 66/72] START dt__criterion=entropy, dt__max_depth=9, dt__splitter=best, pre_processador__transf_cat_oh__input_cat_oh__strategy=most_frequent\n",
            "[CV 4/5; 66/72] END dt__criterion=entropy, dt__max_depth=9, dt__splitter=best, pre_processador__transf_cat_oh__input_cat_oh__strategy=most_frequent;, score=0.730 total time=   0.0s\n",
            "[CV 5/5; 66/72] START dt__criterion=entropy, dt__max_depth=9, dt__splitter=best, pre_processador__transf_cat_oh__input_cat_oh__strategy=most_frequent\n",
            "[CV 5/5; 66/72] END dt__criterion=entropy, dt__max_depth=9, dt__splitter=best, pre_processador__transf_cat_oh__input_cat_oh__strategy=most_frequent;, score=0.662 total time=   0.0s\n",
            "[CV 1/5; 67/72] START dt__criterion=entropy, dt__max_depth=9, dt__splitter=random, pre_processador__transf_cat_oh__input_cat_oh__strategy=constant\n",
            "[CV 1/5; 67/72] END dt__criterion=entropy, dt__max_depth=9, dt__splitter=random, pre_processador__transf_cat_oh__input_cat_oh__strategy=constant;, score=0.676 total time=   0.0s\n",
            "[CV 2/5; 67/72] START dt__criterion=entropy, dt__max_depth=9, dt__splitter=random, pre_processador__transf_cat_oh__input_cat_oh__strategy=constant\n",
            "[CV 2/5; 67/72] END dt__criterion=entropy, dt__max_depth=9, dt__splitter=random, pre_processador__transf_cat_oh__input_cat_oh__strategy=constant;, score=0.717 total time=   0.0s\n",
            "[CV 3/5; 67/72] START dt__criterion=entropy, dt__max_depth=9, dt__splitter=random, pre_processador__transf_cat_oh__input_cat_oh__strategy=constant\n",
            "[CV 3/5; 67/72] END dt__criterion=entropy, dt__max_depth=9, dt__splitter=random, pre_processador__transf_cat_oh__input_cat_oh__strategy=constant;, score=0.616 total time=   0.0s\n",
            "[CV 4/5; 67/72] START dt__criterion=entropy, dt__max_depth=9, dt__splitter=random, pre_processador__transf_cat_oh__input_cat_oh__strategy=constant\n",
            "[CV 4/5; 67/72] END dt__criterion=entropy, dt__max_depth=9, dt__splitter=random, pre_processador__transf_cat_oh__input_cat_oh__strategy=constant;, score=0.690 total time=   0.0s\n",
            "[CV 5/5; 67/72] START dt__criterion=entropy, dt__max_depth=9, dt__splitter=random, pre_processador__transf_cat_oh__input_cat_oh__strategy=constant\n",
            "[CV 5/5; 67/72] END dt__criterion=entropy, dt__max_depth=9, dt__splitter=random, pre_processador__transf_cat_oh__input_cat_oh__strategy=constant;, score=0.633 total time=   0.0s\n",
            "[CV 1/5; 68/72] START dt__criterion=entropy, dt__max_depth=9, dt__splitter=random, pre_processador__transf_cat_oh__input_cat_oh__strategy=most_frequent\n",
            "[CV 1/5; 68/72] END dt__criterion=entropy, dt__max_depth=9, dt__splitter=random, pre_processador__transf_cat_oh__input_cat_oh__strategy=most_frequent;, score=0.676 total time=   0.0s\n",
            "[CV 2/5; 68/72] START dt__criterion=entropy, dt__max_depth=9, dt__splitter=random, pre_processador__transf_cat_oh__input_cat_oh__strategy=most_frequent\n",
            "[CV 2/5; 68/72] END dt__criterion=entropy, dt__max_depth=9, dt__splitter=random, pre_processador__transf_cat_oh__input_cat_oh__strategy=most_frequent;, score=0.717 total time=   0.0s\n",
            "[CV 3/5; 68/72] START dt__criterion=entropy, dt__max_depth=9, dt__splitter=random, pre_processador__transf_cat_oh__input_cat_oh__strategy=most_frequent\n",
            "[CV 3/5; 68/72] END dt__criterion=entropy, dt__max_depth=9, dt__splitter=random, pre_processador__transf_cat_oh__input_cat_oh__strategy=most_frequent;, score=0.616 total time=   0.0s\n",
            "[CV 4/5; 68/72] START dt__criterion=entropy, dt__max_depth=9, dt__splitter=random, pre_processador__transf_cat_oh__input_cat_oh__strategy=most_frequent\n",
            "[CV 4/5; 68/72] END dt__criterion=entropy, dt__max_depth=9, dt__splitter=random, pre_processador__transf_cat_oh__input_cat_oh__strategy=most_frequent;, score=0.690 total time=   0.0s\n",
            "[CV 5/5; 68/72] START dt__criterion=entropy, dt__max_depth=9, dt__splitter=random, pre_processador__transf_cat_oh__input_cat_oh__strategy=most_frequent\n",
            "[CV 5/5; 68/72] END dt__criterion=entropy, dt__max_depth=9, dt__splitter=random, pre_processador__transf_cat_oh__input_cat_oh__strategy=most_frequent;, score=0.633 total time=   0.0s\n",
            "[CV 1/5; 69/72] START dt__criterion=entropy, dt__max_depth=10, dt__splitter=best, pre_processador__transf_cat_oh__input_cat_oh__strategy=constant\n",
            "[CV 1/5; 69/72] END dt__criterion=entropy, dt__max_depth=10, dt__splitter=best, pre_processador__transf_cat_oh__input_cat_oh__strategy=constant;, score=0.645 total time=   0.0s\n",
            "[CV 2/5; 69/72] START dt__criterion=entropy, dt__max_depth=10, dt__splitter=best, pre_processador__transf_cat_oh__input_cat_oh__strategy=constant\n",
            "[CV 2/5; 69/72] END dt__criterion=entropy, dt__max_depth=10, dt__splitter=best, pre_processador__transf_cat_oh__input_cat_oh__strategy=constant;, score=0.711 total time=   0.0s\n",
            "[CV 3/5; 69/72] START dt__criterion=entropy, dt__max_depth=10, dt__splitter=best, pre_processador__transf_cat_oh__input_cat_oh__strategy=constant\n",
            "[CV 3/5; 69/72] END dt__criterion=entropy, dt__max_depth=10, dt__splitter=best, pre_processador__transf_cat_oh__input_cat_oh__strategy=constant;, score=0.613 total time=   0.0s\n",
            "[CV 4/5; 69/72] START dt__criterion=entropy, dt__max_depth=10, dt__splitter=best, pre_processador__transf_cat_oh__input_cat_oh__strategy=constant\n",
            "[CV 4/5; 69/72] END dt__criterion=entropy, dt__max_depth=10, dt__splitter=best, pre_processador__transf_cat_oh__input_cat_oh__strategy=constant;, score=0.639 total time=   0.0s\n",
            "[CV 5/5; 69/72] START dt__criterion=entropy, dt__max_depth=10, dt__splitter=best, pre_processador__transf_cat_oh__input_cat_oh__strategy=constant\n",
            "[CV 5/5; 69/72] END dt__criterion=entropy, dt__max_depth=10, dt__splitter=best, pre_processador__transf_cat_oh__input_cat_oh__strategy=constant;, score=0.695 total time=   0.0s\n",
            "[CV 1/5; 70/72] START dt__criterion=entropy, dt__max_depth=10, dt__splitter=best, pre_processador__transf_cat_oh__input_cat_oh__strategy=most_frequent\n",
            "[CV 1/5; 70/72] END dt__criterion=entropy, dt__max_depth=10, dt__splitter=best, pre_processador__transf_cat_oh__input_cat_oh__strategy=most_frequent;, score=0.645 total time=   0.0s\n",
            "[CV 2/5; 70/72] START dt__criterion=entropy, dt__max_depth=10, dt__splitter=best, pre_processador__transf_cat_oh__input_cat_oh__strategy=most_frequent\n",
            "[CV 2/5; 70/72] END dt__criterion=entropy, dt__max_depth=10, dt__splitter=best, pre_processador__transf_cat_oh__input_cat_oh__strategy=most_frequent;, score=0.711 total time=   0.0s\n",
            "[CV 3/5; 70/72] START dt__criterion=entropy, dt__max_depth=10, dt__splitter=best, pre_processador__transf_cat_oh__input_cat_oh__strategy=most_frequent\n",
            "[CV 3/5; 70/72] END dt__criterion=entropy, dt__max_depth=10, dt__splitter=best, pre_processador__transf_cat_oh__input_cat_oh__strategy=most_frequent;, score=0.613 total time=   0.0s\n",
            "[CV 4/5; 70/72] START dt__criterion=entropy, dt__max_depth=10, dt__splitter=best, pre_processador__transf_cat_oh__input_cat_oh__strategy=most_frequent\n",
            "[CV 4/5; 70/72] END dt__criterion=entropy, dt__max_depth=10, dt__splitter=best, pre_processador__transf_cat_oh__input_cat_oh__strategy=most_frequent;, score=0.639 total time=   0.0s\n",
            "[CV 5/5; 70/72] START dt__criterion=entropy, dt__max_depth=10, dt__splitter=best, pre_processador__transf_cat_oh__input_cat_oh__strategy=most_frequent\n",
            "[CV 5/5; 70/72] END dt__criterion=entropy, dt__max_depth=10, dt__splitter=best, pre_processador__transf_cat_oh__input_cat_oh__strategy=most_frequent;, score=0.695 total time=   0.0s\n",
            "[CV 1/5; 71/72] START dt__criterion=entropy, dt__max_depth=10, dt__splitter=random, pre_processador__transf_cat_oh__input_cat_oh__strategy=constant\n",
            "[CV 1/5; 71/72] END dt__criterion=entropy, dt__max_depth=10, dt__splitter=random, pre_processador__transf_cat_oh__input_cat_oh__strategy=constant;, score=0.672 total time=   0.0s\n",
            "[CV 2/5; 71/72] START dt__criterion=entropy, dt__max_depth=10, dt__splitter=random, pre_processador__transf_cat_oh__input_cat_oh__strategy=constant\n",
            "[CV 2/5; 71/72] END dt__criterion=entropy, dt__max_depth=10, dt__splitter=random, pre_processador__transf_cat_oh__input_cat_oh__strategy=constant;, score=0.683 total time=   0.0s\n",
            "[CV 3/5; 71/72] START dt__criterion=entropy, dt__max_depth=10, dt__splitter=random, pre_processador__transf_cat_oh__input_cat_oh__strategy=constant\n"
          ]
        },
        {
          "name": "stdout",
          "output_type": "stream",
          "text": [
            "[CV 3/5; 71/72] END dt__criterion=entropy, dt__max_depth=10, dt__splitter=random, pre_processador__transf_cat_oh__input_cat_oh__strategy=constant;, score=0.657 total time=   0.0s\n",
            "[CV 4/5; 71/72] START dt__criterion=entropy, dt__max_depth=10, dt__splitter=random, pre_processador__transf_cat_oh__input_cat_oh__strategy=constant\n",
            "[CV 4/5; 71/72] END dt__criterion=entropy, dt__max_depth=10, dt__splitter=random, pre_processador__transf_cat_oh__input_cat_oh__strategy=constant;, score=0.707 total time=   0.0s\n",
            "[CV 5/5; 71/72] START dt__criterion=entropy, dt__max_depth=10, dt__splitter=random, pre_processador__transf_cat_oh__input_cat_oh__strategy=constant\n",
            "[CV 5/5; 71/72] END dt__criterion=entropy, dt__max_depth=10, dt__splitter=random, pre_processador__transf_cat_oh__input_cat_oh__strategy=constant;, score=0.648 total time=   0.0s\n",
            "[CV 1/5; 72/72] START dt__criterion=entropy, dt__max_depth=10, dt__splitter=random, pre_processador__transf_cat_oh__input_cat_oh__strategy=most_frequent\n",
            "[CV 1/5; 72/72] END dt__criterion=entropy, dt__max_depth=10, dt__splitter=random, pre_processador__transf_cat_oh__input_cat_oh__strategy=most_frequent;, score=0.672 total time=   0.0s\n",
            "[CV 2/5; 72/72] START dt__criterion=entropy, dt__max_depth=10, dt__splitter=random, pre_processador__transf_cat_oh__input_cat_oh__strategy=most_frequent\n",
            "[CV 2/5; 72/72] END dt__criterion=entropy, dt__max_depth=10, dt__splitter=random, pre_processador__transf_cat_oh__input_cat_oh__strategy=most_frequent;, score=0.683 total time=   0.0s\n",
            "[CV 3/5; 72/72] START dt__criterion=entropy, dt__max_depth=10, dt__splitter=random, pre_processador__transf_cat_oh__input_cat_oh__strategy=most_frequent\n",
            "[CV 3/5; 72/72] END dt__criterion=entropy, dt__max_depth=10, dt__splitter=random, pre_processador__transf_cat_oh__input_cat_oh__strategy=most_frequent;, score=0.657 total time=   0.1s\n",
            "[CV 4/5; 72/72] START dt__criterion=entropy, dt__max_depth=10, dt__splitter=random, pre_processador__transf_cat_oh__input_cat_oh__strategy=most_frequent\n",
            "[CV 4/5; 72/72] END dt__criterion=entropy, dt__max_depth=10, dt__splitter=random, pre_processador__transf_cat_oh__input_cat_oh__strategy=most_frequent;, score=0.707 total time=   0.0s\n",
            "[CV 5/5; 72/72] START dt__criterion=entropy, dt__max_depth=10, dt__splitter=random, pre_processador__transf_cat_oh__input_cat_oh__strategy=most_frequent\n",
            "[CV 5/5; 72/72] END dt__criterion=entropy, dt__max_depth=10, dt__splitter=random, pre_processador__transf_cat_oh__input_cat_oh__strategy=most_frequent;, score=0.648 total time=   0.0s\n"
          ]
        },
        {
          "data": {
            "text/plain": [
              "GridSearchCV(cv=StratifiedKFold(n_splits=5, random_state=42, shuffle=True),\n",
              "             estimator=Pipeline(steps=[('pre_processador',\n",
              "                                        ColumnTransformer(transformers=[('transf_num',\n",
              "                                                                         Pipeline(steps=[('input_num',\n",
              "                                                                                          SimpleImputer()),\n",
              "                                                                                         ('std',\n",
              "                                                                                          StandardScaler())]),\n",
              "                                                                         ['Age',\n",
              "                                                                          'Job',\n",
              "                                                                          'Credit '\n",
              "                                                                          'amount',\n",
              "                                                                          'Duration']),\n",
              "                                                                        ('transf_cat_oh',\n",
              "                                                                         Pipeline(steps=[('input_cat_oh',\n",
              "                                                                                          SimpleImputer(fill_va...\n",
              "                                                                                          OrdinalEncoder())]),\n",
              "                                                                         ['Housing',\n",
              "                                                                          'Saving '\n",
              "                                                                          'accounts',\n",
              "                                                                          'Checking '\n",
              "                                                                          'account'])])),\n",
              "                                       ('dt',\n",
              "                                        DecisionTreeClassifier(random_state=42))]),\n",
              "             param_grid={'dt__criterion': ['gini', 'entropy'],\n",
              "                         'dt__max_depth': range(2, 11),\n",
              "                         'dt__splitter': ['best', 'random'],\n",
              "                         'pre_processador__transf_cat_oh__input_cat_oh__strategy': ['constant',\n",
              "                                                                                    'most_frequent']},\n",
              "             scoring='f1_weighted', verbose=10)"
            ]
          },
          "execution_count": 89,
          "metadata": {},
          "output_type": "execute_result"
        }
      ],
      "source": [
        "# ==========================================================\n",
        "# o que eu vou fazer com as features numéricas\n",
        "\n",
        "pipe_features_num = Pipeline([(\"input_num\", SimpleImputer(strategy=\"mean\")),\n",
        "                              (\"std\", StandardScaler())])\n",
        "\n",
        "features_num = X_train.select_dtypes(include=np.number).columns.tolist()\n",
        "\n",
        "# ==========================================================\n",
        "\n",
        "pipe_features_oh = Pipeline([(\"input_cat_oh\", SimpleImputer(fill_value=\"unknown\")),\n",
        "                             (\"onehot\", OneHotEncoder())])\n",
        "\n",
        "features_oh = ['Sex', 'Purpose']\n",
        "\n",
        "# ==========================================================\n",
        "\n",
        "pipe_features_oe = Pipeline([(\"input_cat_oe\", SimpleImputer(strategy=\"constant\", fill_value=\"unknown\")),\n",
        "                             (\"ordinal\", OrdinalEncoder())])\n",
        "\n",
        "features_oe = ['Housing', 'Saving accounts', 'Checking account']\n",
        "\n",
        "# ==========================================================\n",
        "\n",
        "pre_processador = ColumnTransformer([(\"transf_num\", pipe_features_num, features_num),\n",
        "                                     (\"transf_cat_oh\", pipe_features_oh, features_oh),\n",
        "                                     (\"transf_cat_oe\", pipe_features_oe, features_oe)])\n",
        "\n",
        "# pipeline final\n",
        "pipe = Pipeline([(\"pre_processador\", pre_processador),\n",
        "                 (\"dt\", DecisionTreeClassifier(random_state=42))])\n",
        "\n",
        "# ============================================\n",
        "\n",
        "params_grid_dt = {\"pre_processador__transf_cat_oh__input_cat_oh__strategy\": [\"constant\", \"most_frequent\"], \n",
        "                  \"dt__criterion\" : [\"gini\", \"entropy\"],\n",
        "                  \"dt__splitter\" : [\"best\", \"random\"],\n",
        "                  \"dt__max_depth\" : range(2, 11)} \n",
        "\n",
        "splitter = StratifiedKFold(n_splits=5, shuffle=True, random_state=42)\n",
        "\n",
        "grid_dt = GridSearchCV(estimator=pipe,\n",
        "                       param_grid=params_grid_dt,\n",
        "                       scoring=\"f1_weighted\",\n",
        "                       cv=splitter,\n",
        "                       verbose=10)\n",
        "\n",
        "grid_dt.fit(X_train, y_train)"
      ]
    },
    {
      "cell_type": "code",
      "execution_count": null,
      "metadata": {
        "ExecuteTime": {
          "end_time": "2022-02-18T23:37:52.537630Z",
          "start_time": "2022-02-18T23:37:52.526626Z"
        },
        "id": "Ordz4ZK3kxCS",
        "outputId": "b41b6b57-bdd1-4384-882c-7a2cf51ee293"
      },
      "outputs": [
        {
          "data": {
            "text/plain": [
              "{'dt__criterion': 'entropy',\n",
              " 'dt__max_depth': 6,\n",
              " 'dt__splitter': 'random',\n",
              " 'pre_processador__transf_cat_oh__input_cat_oh__strategy': 'constant'}"
            ]
          },
          "execution_count": 90,
          "metadata": {},
          "output_type": "execute_result"
        }
      ],
      "source": [
        "grid_dt.best_params_"
      ]
    },
    {
      "cell_type": "code",
      "execution_count": null,
      "metadata": {
        "ExecuteTime": {
          "end_time": "2022-02-18T23:38:27.134846Z",
          "start_time": "2022-02-18T23:38:26.492212Z"
        },
        "id": "giK7dclZkxCS",
        "outputId": "09c36aa5-5d1e-40d1-b1dd-bdcbd7a3b39d"
      },
      "outputs": [
        {
          "name": "stdout",
          "output_type": "stream",
          "text": [
            "\n",
            "Métricas de avaliação de treino:\n",
            "[[ 86 154]\n",
            " [ 18 542]]\n"
          ]
        },
        {
          "data": {
            "image/png": "[encoded data removed]",
            "text/plain": [
              "<Figure size 432x288 with 2 Axes>"
            ]
          },
          "metadata": {
            "needs_background": "light"
          },
          "output_type": "display_data"
        },
        {
          "name": "stdout",
          "output_type": "stream",
          "text": [
            "              precision    recall  f1-score   support\n",
            "\n",
            "         bad       0.83      0.36      0.50       240\n",
            "        good       0.78      0.97      0.86       560\n",
            "\n",
            "    accuracy                           0.79       800\n",
            "   macro avg       0.80      0.66      0.68       800\n",
            "weighted avg       0.79      0.79      0.75       800\n",
            "\n",
            "\n",
            "Métricas de avaliação de teste:\n",
            "[[ 14  46]\n",
            " [ 14 126]]\n"
          ]
        },
        {
          "data": {
            "image/png": "[encoded data removed]",
            "text/plain": [
              "<Figure size 432x288 with 2 Axes>"
            ]
          },
          "metadata": {
            "needs_background": "light"
          },
          "output_type": "display_data"
        },
        {
          "name": "stdout",
          "output_type": "stream",
          "text": [
            "              precision    recall  f1-score   support\n",
            "\n",
            "         bad       0.50      0.23      0.32        60\n",
            "        good       0.73      0.90      0.81       140\n",
            "\n",
            "    accuracy                           0.70       200\n",
            "   macro avg       0.62      0.57      0.56       200\n",
            "weighted avg       0.66      0.70      0.66       200\n",
            "\n"
          ]
        }
      ],
      "source": [
        "# ============================================\n",
        "\n",
        "print(\"\\nMétricas de avaliação de treino:\")\n",
        "\n",
        "y_pred_train = grid_dt.predict(X_train)\n",
        "\n",
        "print(confusion_matrix(y_train, y_pred_train))\n",
        "\n",
        "ConfusionMatrixDisplay.from_predictions(y_train, y_pred_train)\n",
        "plt.show()\n",
        "\n",
        "print(classification_report(y_train, y_pred_train))\n",
        "\n",
        "# ============================================\n",
        "\n",
        "print(\"\\nMétricas de avaliação de teste:\")\n",
        "\n",
        "y_pred_test = grid_dt.predict(X_test)\n",
        "\n",
        "print(confusion_matrix(y_test, y_pred_test))\n",
        "\n",
        "ConfusionMatrixDisplay.from_predictions(y_test, y_pred_test)\n",
        "plt.show()\n",
        "\n",
        "print(classification_report(y_test, y_pred_test))"
      ]
    },
    {
      "cell_type": "markdown",
      "metadata": {
        "id": "j2nPi7pOkxCS"
      },
      "source": [
        "__________"
      ]
    },
    {
      "cell_type": "markdown",
      "metadata": {
        "id": "B4zQNn8rkxCS"
      },
      "source": [
        "Agora sim, ganhamos um poder enorme! \n",
        "\n",
        "Com o pipeline mais genérico que acabamos de conhecer, agora somos capazes de criar modelos que se utilizam de toda a informação disponível, e de maneiras diferentes! Muito legal, não é mesmo? "
      ]
    },
    {
      "cell_type": "markdown",
      "metadata": {
        "id": "fSPyj0BckxCS"
      },
      "source": [
        "Aproveite estas novas ferramentas incríveis que estão à sua disposição! Explore suas aplicações, e pratique muito!"
      ]
    }
  ],
  "metadata": {
    "kernelspec": {
      "display_name": "Python 3",
      "language": "python",
      "name": "python3"
    },
    "language_info": {
      "codemirror_mode": {
        "name": "ipython",
        "version": 3
      },
      "file_extension": ".py",
      "mimetype": "text/x-python",
      "name": "python",
      "nbconvert_exporter": "python",
      "pygments_lexer": "ipython3",
      "version": "3.8.3"
    },
    "colab": {
      "provenance": [],
      "include_colab_link": true
    }
  },
  "nbformat": 4,
  "nbformat_minor": 0
}