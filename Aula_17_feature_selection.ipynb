{
  "cells": [
    {
      "cell_type": "markdown",
      "metadata": {
        "id": "view-in-github",
        "colab_type": "text"
      },
      "source": [
        "<a href=\"https://colab.research.google.com/github/rodrigoviannini/Machine-Learning/blob/main/Aula_17_feature_selection.ipynb\" target=\"_parent\"><img src=\"https://colab.research.google.com/assets/colab-badge.svg\" alt=\"Open In Colab\"/></a>"
      ]
    },
    {
      "cell_type": "markdown",
      "metadata": {
        "id": "oWSh7sw3mzGN"
      },
      "source": [
        "# Aula 17 - feature selection\n",
        "\n",
        "Na aula de hoje, vamos explorar os seguintes tópicos em Python:\n",
        "\n",
        "- 1) Introdução\n",
        "- 2) Lasso\n",
        "- 3) Feature importance com árvores\n",
        "- 4) RFE\n"
      ]
    },
    {
      "cell_type": "code",
      "execution_count": null,
      "metadata": {
        "ExecuteTime": {
          "end_time": "2022-03-11T22:18:45.719993Z",
          "start_time": "2022-03-11T22:18:35.104865Z"
        },
        "id": "uCdCPEeBmzGP"
      },
      "outputs": [],
      "source": [
        "import numpy  as np\n",
        "import pandas as pd \n",
        "\n",
        "import matplotlib.pyplot as plt\n",
        "import seaborn as sns\n",
        "\n",
        "from sklearn.model_selection import train_test_split"
      ]
    },
    {
      "cell_type": "code",
      "execution_count": null,
      "metadata": {
        "ExecuteTime": {
          "end_time": "2022-03-11T22:18:45.751977Z",
          "start_time": "2022-03-11T22:18:45.725992Z"
        },
        "id": "A-vEocVjmzGP"
      },
      "outputs": [],
      "source": [
        "from sklearn.metrics import confusion_matrix, classification_report, ConfusionMatrixDisplay\n",
        "\n",
        "def metricas_classificacao(estimator, X_train, X_test, y_train, y_test):\n",
        "    \n",
        "    # ============================================\n",
        "\n",
        "    print(\"\\nMétricas de avaliação de treino:\")\n",
        "\n",
        "    y_pred_train = estimator.predict(X_train)\n",
        "\n",
        "    print(confusion_matrix(y_train, y_pred_train))\n",
        "\n",
        "    ConfusionMatrixDisplay.from_predictions(y_train, y_pred_train)\n",
        "    plt.show()\n",
        "\n",
        "    print(classification_report(y_train, y_pred_train))\n",
        "\n",
        "    # ============================================\n",
        "\n",
        "    print(\"\\nMétricas de avaliação de teste:\")\n",
        "\n",
        "    y_pred_test = estimator.predict(X_test)\n",
        "\n",
        "    print(confusion_matrix(y_test, y_pred_test))\n",
        "\n",
        "    ConfusionMatrixDisplay.from_predictions(y_test, y_pred_test)\n",
        "    plt.show()\n",
        "\n",
        "    print(classification_report(y_test, y_pred_test))"
      ]
    },
    {
      "cell_type": "markdown",
      "metadata": {
        "id": "hSpOL65AmzGQ"
      },
      "source": [
        "____\n",
        "____\n",
        "_____"
      ]
    },
    {
      "cell_type": "markdown",
      "metadata": {
        "id": "YuJspp4FmzGQ"
      },
      "source": [
        "## 1) Introdução\n",
        "\n",
        "O processo de **feature selection** (**seleção de atributos**) consiste na escolha, com base em alguns critérios, de um **subconjunto do conjunto original** de features de um dado problema, que proporcionem um modelo com performance comparável ao modelo treinado com todas as features. \n",
        "\n",
        "<img src=https://miro.medium.com/max/694/0*D_jQ5yBsvCZjEYIW width=400>\n",
        "\n",
        "O resultado do processo de feature selection é uma **redução na dimensionalidade** do espaço de features do problema (mas aqui, diferente do PCA, trabalhamos no espaço de features originais!)\n",
        "\n",
        "Assim, o processo remove features redundantes ou irrelevantes. \n",
        "\n",
        "Dentre as vantagens do procedimento, podemos destacar:\n",
        "\n",
        "- Maior eficiência no treinamento (afinal, reduzimos a quantidade de informação a ser processada);\n",
        "- Eliminação de redundâncias (como multicolinearidade, por exemplo, que pode ser problemática para alguns estimadores);\n",
        "- Um modelo mais enxuto, com menos features, é, em geral, mais facilmente interpretável;\n",
        "- Ao reduzirmos o número de features, a complexidade da hipótese é reduzida, o que pode favorecer a generalização;\n",
        "\n",
        "O princípio da [navalha de Occam](https://pt.wikipedia.org/wiki/Navalha_de_Ockham) é relevante no contexto de feature selection em projetos de machine learning. Sugiro [este post](https://machinelearningmastery.com/ensemble-learning-and-occams-razor/#:~:text=Occam's%20razor%20suggests%20that%20in,narrow%20and%20not%20generalize%20well.) para uma discussão deste princípio como uma heurística para a construção de modelos. Para uma discussão mais profunda, sugiro [este paper](https://www.aaai.org/Papers/KDD/1998/KDD98-006.pdf).\n",
        "\n"
      ]
    },
    {
      "cell_type": "markdown",
      "metadata": {
        "id": "OrlKwsAymzGQ"
      },
      "source": [
        "Na aula de hoje, veremos alguns procedimentos de feature selection. Vamos começar!"
      ]
    },
    {
      "cell_type": "markdown",
      "metadata": {
        "id": "MDjqFMaVmzGR"
      },
      "source": [
        "______________"
      ]
    },
    {
      "cell_type": "markdown",
      "metadata": {
        "id": "OxP8Q30WmzGR"
      },
      "source": [
        "## 2) LASSO\n",
        "\n",
        "Já conhecemos um método capaz de realizar feature selection: a **regularização L1 (LASSO)**.\n",
        "\n",
        "Diferente da regularização L2, quando utilizamos regularização L1 é possível zerar alguns dos parâmetros do modelo:\n",
        "\n",
        "<img src=https://ugc.futurelearn.com/uploads/assets/2b/fe/2bfe399e-503e-4eae-9138-a3d7da738713.png width=800>\n",
        "\n",
        "Embora ambas as modalidades de regularização tenha, sido introduzidas com o intuito de simplificar o espaço de hipóteses, o LASSO faz isso de maneira explítica, efetivamente possibilitando a realização de feature selection!"
      ]
    },
    {
      "cell_type": "markdown",
      "metadata": {
        "id": "8FshjI_emzGR"
      },
      "source": [
        "No entanto, há um problema: são poucos os métodos que têm o LASSO incorporado (ex.: regressão linear, logística, XGBoost).\n",
        "\n",
        "Assim, se quisermos realizar feature selection utilizando outros estimadores, precisamos de técnicas mais genéricas, que é o que veremos a seguir.\n",
        "\n",
        "Para utilizarmos o L1, uma abordagem possível é:\n",
        "\n",
        "- **treinar inicialmente um modelo com LASSO**; \n",
        "- identificar quais features **ainda estão presentes no modelo** (isto é, com `coef_` não nulo);\n",
        "- utilizar estas features apenas para treinar o estimador desejado.\n",
        "\n",
        "Embora esta seja uma possibilidade, veremos, a seguir, que há técnicas que possibilitam este procedimento, de maneira mais geral!"
      ]
    },
    {
      "cell_type": "markdown",
      "metadata": {
        "id": "5ot9eED1mzGR"
      },
      "source": [
        "______________"
      ]
    },
    {
      "cell_type": "markdown",
      "metadata": {
        "id": "gehVfba9mzGR"
      },
      "source": [
        "## 3) Feature importance com árvores\n",
        "\n",
        "Além de estimadores poderosos, podemos utilizar árvores para fazer feature selection! \n",
        "\n",
        "Há duas formas comuns de utilizarmos árvores para a determinação da importância de features. Vamos conhecer cada uma na prática, utilizando um dataset familiar!"
      ]
    },
    {
      "cell_type": "code",
      "execution_count": null,
      "metadata": {
        "ExecuteTime": {
          "end_time": "2022-03-11T22:18:46.032374Z",
          "start_time": "2022-03-11T22:18:45.758974Z"
        },
        "id": "ccimr-j9mzGR"
      },
      "outputs": [],
      "source": [
        "df_bc = pd.read_csv(\"../datasets/breast_cancer.csv\")\n",
        "\n",
        "X = df_bc.drop(columns=[\"id\", \"diagnosis\"])\n",
        "y = df_bc[\"diagnosis\"]\n",
        "\n",
        "X_train, X_test, y_train, y_test = train_test_split(X, y, test_size=0.2, \n",
        "                                                    random_state=42, stratify=y)"
      ]
    },
    {
      "cell_type": "markdown",
      "metadata": {
        "id": "wLBYk_eNmzGS"
      },
      "source": [
        "### `.feature_importances_`, com base em decréscimo de impureza (MDI)\n",
        "\n",
        "Neste caso, o score de importância de cada uma das features é calculado com base na **média e desvio padrão da diminuição de impureza que cada feature proporciona na árvore (ou em cada árvore, no caso de ensembles)**.\n",
        "\n",
        "O método é conhecido como **mean decrease in impurity** (MDI).\n",
        "\n",
        "Este método é rápido, no entanto, o valor é fortemente enviesado para features que têm alta cardinalidade (features numéricas, ou features categóricas com muitos níveis).\n",
        "\n",
        "Neste caso, é melhor utilizar o método de permutation feature importance. Para uma comparação detalhada entre os dois métodos, [veja esta página](https://scikit-learn.org/stable/auto_examples/inspection/plot_permutation_importance.html#sphx-glr-auto-examples-inspection-plot-permutation-importance-py)."
      ]
    },
    {
      "cell_type": "code",
      "execution_count": null,
      "metadata": {
        "ExecuteTime": {
          "end_time": "2022-03-11T22:18:46.925369Z",
          "start_time": "2022-03-11T22:18:46.035377Z"
        },
        "id": "qLHXGAmlmzGS"
      },
      "outputs": [],
      "source": [
        "from sklearn.tree import DecisionTreeClassifier\n",
        "\n",
        "dt = DecisionTreeClassifier().fit(X_train, y_train)"
      ]
    },
    {
      "cell_type": "code",
      "execution_count": null,
      "metadata": {
        "ExecuteTime": {
          "end_time": "2022-03-11T22:18:46.955530Z",
          "start_time": "2022-03-11T22:18:46.927526Z"
        },
        "id": "gFeBe9BwmzGS",
        "outputId": "8e552c66-3d41-40b5-c8d5-5b65a580e3d8"
      },
      "outputs": [
        {
          "data": {
            "text/plain": [
              "array(['radius_mean', 'texture_mean', 'perimeter_mean', 'area_mean',\n",
              "       'smoothness_mean', 'compactness_mean', 'concavity_mean',\n",
              "       'concave points_mean', 'symmetry_mean', 'fractal_dimension_mean',\n",
              "       'radius_se', 'texture_se', 'perimeter_se', 'area_se',\n",
              "       'smoothness_se', 'compactness_se', 'concavity_se',\n",
              "       'concave points_se', 'symmetry_se', 'fractal_dimension_se',\n",
              "       'radius_worst', 'texture_worst', 'perimeter_worst', 'area_worst',\n",
              "       'smoothness_worst', 'compactness_worst', 'concavity_worst',\n",
              "       'concave points_worst', 'symmetry_worst',\n",
              "       'fractal_dimension_worst'], dtype=object)"
            ]
          },
          "execution_count": 5,
          "metadata": {},
          "output_type": "execute_result"
        }
      ],
      "source": [
        "dt.feature_names_in_"
      ]
    },
    {
      "cell_type": "code",
      "execution_count": null,
      "metadata": {
        "ExecuteTime": {
          "end_time": "2022-03-11T22:18:47.048005Z",
          "start_time": "2022-03-11T22:18:46.958508Z"
        },
        "id": "HbXtdUTqmzGT",
        "outputId": "66e17328-3ccb-43e2-a7f1-7854f5c7f37e"
      },
      "outputs": [
        {
          "data": {
            "text/plain": [
              "array([0.        , 0.03787113, 0.        , 0.02245225, 0.01126935,\n",
              "       0.        , 0.        , 0.        , 0.        , 0.        ,\n",
              "       0.        , 0.        , 0.02310217, 0.020234  , 0.        ,\n",
              "       0.        , 0.        , 0.        , 0.        , 0.        ,\n",
              "       0.        , 0.01002327, 0.73442676, 0.01560649, 0.04083276,\n",
              "       0.        , 0.00306561, 0.0811162 , 0.        , 0.        ])"
            ]
          },
          "execution_count": 6,
          "metadata": {},
          "output_type": "execute_result"
        }
      ],
      "source": [
        "dt.feature_importances_"
      ]
    },
    {
      "cell_type": "code",
      "execution_count": null,
      "metadata": {
        "ExecuteTime": {
          "end_time": "2022-03-11T22:18:47.170664Z",
          "start_time": "2022-03-11T22:18:47.052004Z"
        },
        "id": "LMdI-ZkkmzGT"
      },
      "outputs": [],
      "source": [
        "feature_importances_dt = pd.Series(dt.feature_importances_, index=dt.feature_names_in_).sort_values(ascending=False)"
      ]
    },
    {
      "cell_type": "code",
      "execution_count": null,
      "metadata": {
        "ExecuteTime": {
          "end_time": "2022-03-11T22:18:47.276749Z",
          "start_time": "2022-03-11T22:18:47.175664Z"
        },
        "scrolled": true,
        "id": "a7kYyKdcmzGT",
        "outputId": "6a35eefe-27cb-49dd-e830-ccd7e405e6e2"
      },
      "outputs": [
        {
          "data": {
            "text/plain": [
              "perimeter_worst            0.734427\n",
              "concave points_worst       0.081116\n",
              "smoothness_worst           0.040833\n",
              "texture_mean               0.037871\n",
              "perimeter_se               0.023102\n",
              "area_mean                  0.022452\n",
              "area_se                    0.020234\n",
              "area_worst                 0.015606\n",
              "smoothness_mean            0.011269\n",
              "texture_worst              0.010023\n",
              "concavity_worst            0.003066\n",
              "radius_worst               0.000000\n",
              "radius_mean                0.000000\n",
              "symmetry_se                0.000000\n",
              "compactness_worst          0.000000\n",
              "symmetry_worst             0.000000\n",
              "fractal_dimension_se       0.000000\n",
              "compactness_se             0.000000\n",
              "concave points_se          0.000000\n",
              "concavity_se               0.000000\n",
              "smoothness_se              0.000000\n",
              "texture_se                 0.000000\n",
              "radius_se                  0.000000\n",
              "fractal_dimension_mean     0.000000\n",
              "symmetry_mean              0.000000\n",
              "concave points_mean        0.000000\n",
              "concavity_mean             0.000000\n",
              "compactness_mean           0.000000\n",
              "perimeter_mean             0.000000\n",
              "fractal_dimension_worst    0.000000\n",
              "dtype: float64"
            ]
          },
          "execution_count": 8,
          "metadata": {},
          "output_type": "execute_result"
        }
      ],
      "source": [
        "feature_importances_dt"
      ]
    },
    {
      "cell_type": "code",
      "execution_count": null,
      "metadata": {
        "ExecuteTime": {
          "end_time": "2022-03-11T22:18:48.040855Z",
          "start_time": "2022-03-11T22:18:47.281747Z"
        },
        "id": "WmHh5VZCmzGT",
        "outputId": "2192ac93-457a-4e96-92a2-07bdfa0a23b6"
      },
      "outputs": [
        {
          "data": {
            "image/png": "[encoded data removed]",
            "text/plain": [
              "<Figure size 864x504 with 1 Axes>"
            ]
          },
          "metadata": {
            "needs_background": "light"
          },
          "output_type": "display_data"
        }
      ],
      "source": [
        "plt.figure(figsize=(12, 7))\n",
        "\n",
        "plt.title(\"Feature importances using MDI\")\n",
        "\n",
        "plt.barh(feature_importances_dt.index, feature_importances_dt.values)\n",
        "\n",
        "plt.xlabel(\"Mean decrease in impurity\")\n",
        "\n",
        "plt.show()"
      ]
    },
    {
      "cell_type": "code",
      "execution_count": null,
      "metadata": {
        "ExecuteTime": {
          "end_time": "2022-03-11T22:18:48.056845Z",
          "start_time": "2022-03-11T22:18:48.046852Z"
        },
        "id": "pCAfVukBmzGT"
      },
      "outputs": [],
      "source": [
        "# n pratica, essas são as features que usamos pra treinar o modelo \"pra valer\"\n",
        "\n",
        "top10_dt = feature_importances_dt[:10].index"
      ]
    },
    {
      "cell_type": "markdown",
      "metadata": {
        "id": "_0mO8ZCWmzGT"
      },
      "source": [
        "Os resultados não são tão legais com uma única árvore. O método fica mais robusto se utilizarmos um ensemble:"
      ]
    },
    {
      "cell_type": "code",
      "execution_count": null,
      "metadata": {
        "ExecuteTime": {
          "end_time": "2022-03-11T22:18:51.657887Z",
          "start_time": "2022-03-11T22:18:48.060844Z"
        },
        "id": "37FuPVlImzGT"
      },
      "outputs": [],
      "source": [
        "from sklearn.ensemble import RandomForestClassifier\n",
        "\n",
        "rf = RandomForestClassifier(n_estimators=1000,\n",
        "                            random_state=42).fit(X_train, y_train)"
      ]
    },
    {
      "cell_type": "code",
      "execution_count": null,
      "metadata": {
        "ExecuteTime": {
          "end_time": "2022-03-11T22:18:51.750173Z",
          "start_time": "2022-03-11T22:18:51.660221Z"
        },
        "id": "7-c6GM2cmzGU",
        "outputId": "6c5e202f-f883-4fc8-c0fb-cd0b2f307884"
      },
      "outputs": [
        {
          "data": {
            "text/plain": [
              "array([0.0534713 , 0.01431477, 0.05209523, 0.04698601, 0.00664372,\n",
              "       0.01508028, 0.04830772, 0.08456224, 0.00444487, 0.00348198,\n",
              "       0.01316529, 0.0044573 , 0.01124926, 0.03270024, 0.00390753,\n",
              "       0.00511705, 0.00640746, 0.00444686, 0.00360683, 0.0064335 ,\n",
              "       0.11128865, 0.01732051, 0.12808803, 0.12573206, 0.01283202,\n",
              "       0.01498351, 0.03222754, 0.11578857, 0.01458551, 0.00627416])"
            ]
          },
          "execution_count": 12,
          "metadata": {},
          "output_type": "execute_result"
        }
      ],
      "source": [
        "np.mean([tree.feature_importances_ for tree in rf.estimators_], axis=0)"
      ]
    },
    {
      "cell_type": "code",
      "execution_count": null,
      "metadata": {
        "ExecuteTime": {
          "end_time": "2022-03-11T22:18:52.051999Z",
          "start_time": "2022-03-11T22:18:51.755169Z"
        },
        "id": "cZgxk3NgmzGU",
        "outputId": "ebd4a36b-45e3-4a68-cad1-b9ff90b3b680"
      },
      "outputs": [
        {
          "data": {
            "text/plain": [
              "array([0.0534713 , 0.01431477, 0.05209523, 0.04698601, 0.00664372,\n",
              "       0.01508028, 0.04830772, 0.08456224, 0.00444487, 0.00348198,\n",
              "       0.01316529, 0.0044573 , 0.01124926, 0.03270024, 0.00390753,\n",
              "       0.00511705, 0.00640746, 0.00444686, 0.00360683, 0.0064335 ,\n",
              "       0.11128865, 0.01732051, 0.12808803, 0.12573206, 0.01283202,\n",
              "       0.01498351, 0.03222754, 0.11578857, 0.01458551, 0.00627416])"
            ]
          },
          "execution_count": 13,
          "metadata": {},
          "output_type": "execute_result"
        }
      ],
      "source": [
        "rf.feature_importances_"
      ]
    },
    {
      "cell_type": "code",
      "execution_count": null,
      "metadata": {
        "ExecuteTime": {
          "end_time": "2022-03-11T22:18:52.144958Z",
          "start_time": "2022-03-11T22:18:52.057994Z"
        },
        "id": "WJiaF_JpmzGU"
      },
      "outputs": [],
      "source": [
        "std_fis_rf = np.std([tree.feature_importances_ for tree in rf.estimators_], axis=0)"
      ]
    },
    {
      "cell_type": "code",
      "execution_count": null,
      "metadata": {
        "ExecuteTime": {
          "end_time": "2022-03-11T22:18:52.223798Z",
          "start_time": "2022-03-11T22:18:52.146942Z"
        },
        "id": "vfmYxNukmzGU",
        "outputId": "725e841b-78e6-45e3-c2d2-b10fecff9209"
      },
      "outputs": [
        {
          "data": {
            "text/plain": [
              "array([0.15868514, 0.02107007, 0.15881249, 0.14552804, 0.01250426,\n",
              "       0.05928361, 0.14086902, 0.19821626, 0.0099455 , 0.00838902,\n",
              "       0.05262851, 0.00918089, 0.04676482, 0.10641154, 0.00825516,\n",
              "       0.01245206, 0.02069869, 0.01626946, 0.00773664, 0.01214363,\n",
              "       0.23530556, 0.02507813, 0.25550461, 0.24791682, 0.02286022,\n",
              "       0.04094111, 0.091316  , 0.22574563, 0.02865232, 0.01400309])"
            ]
          },
          "execution_count": 15,
          "metadata": {},
          "output_type": "execute_result"
        }
      ],
      "source": [
        "std_fis_rf"
      ]
    },
    {
      "cell_type": "code",
      "execution_count": null,
      "metadata": {
        "ExecuteTime": {
          "end_time": "2022-03-11T22:18:52.475678Z",
          "start_time": "2022-03-11T22:18:52.227797Z"
        },
        "scrolled": true,
        "id": "_A16F5bbmzGU",
        "outputId": "5ad9ae4d-dd3c-41cc-c7dc-8cb426c993b1"
      },
      "outputs": [
        {
          "data": {
            "text/plain": [
              "perimeter_worst            0.128088\n",
              "area_worst                 0.125732\n",
              "concave points_worst       0.115789\n",
              "radius_worst               0.111289\n",
              "concave points_mean        0.084562\n",
              "radius_mean                0.053471\n",
              "perimeter_mean             0.052095\n",
              "concavity_mean             0.048308\n",
              "area_mean                  0.046986\n",
              "area_se                    0.032700\n",
              "concavity_worst            0.032228\n",
              "texture_worst              0.017321\n",
              "compactness_mean           0.015080\n",
              "compactness_worst          0.014984\n",
              "symmetry_worst             0.014586\n",
              "texture_mean               0.014315\n",
              "radius_se                  0.013165\n",
              "smoothness_worst           0.012832\n",
              "perimeter_se               0.011249\n",
              "smoothness_mean            0.006644\n",
              "fractal_dimension_se       0.006434\n",
              "concavity_se               0.006407\n",
              "fractal_dimension_worst    0.006274\n",
              "compactness_se             0.005117\n",
              "texture_se                 0.004457\n",
              "concave points_se          0.004447\n",
              "symmetry_mean              0.004445\n",
              "smoothness_se              0.003908\n",
              "symmetry_se                0.003607\n",
              "fractal_dimension_mean     0.003482\n",
              "dtype: float64"
            ]
          },
          "execution_count": 16,
          "metadata": {},
          "output_type": "execute_result"
        }
      ],
      "source": [
        "feature_importances_rf = pd.Series(rf.feature_importances_, index=rf.feature_names_in_).sort_values(ascending=False)\n",
        "\n",
        "feature_importances_rf"
      ]
    },
    {
      "cell_type": "code",
      "execution_count": null,
      "metadata": {
        "ExecuteTime": {
          "end_time": "2022-03-11T22:18:53.026387Z",
          "start_time": "2022-03-11T22:18:52.478676Z"
        },
        "id": "KDoP4zrMmzGU",
        "outputId": "cdec6659-fd3d-4bdb-ac8e-460067c07a98"
      },
      "outputs": [
        {
          "data": {
            "image/png": "[encoded data removed]",
            "text/plain": [
              "<Figure size 864x504 with 1 Axes>"
            ]
          },
          "metadata": {
            "needs_background": "light"
          },
          "output_type": "display_data"
        }
      ],
      "source": [
        "plt.figure(figsize=(12, 7))\n",
        "\n",
        "plt.title(\"Feature importances using MDI\")\n",
        "\n",
        "plt.barh(feature_importances_rf.index, feature_importances_rf.values)\n",
        "\n",
        "plt.xlabel(\"Mean decrease in impurity\")\n",
        "\n",
        "plt.show()"
      ]
    },
    {
      "cell_type": "markdown",
      "metadata": {
        "id": "_4xPu_OOmzGV"
      },
      "source": [
        "Vamos dar uma olhada na variação..."
      ]
    },
    {
      "cell_type": "code",
      "execution_count": null,
      "metadata": {
        "ExecuteTime": {
          "end_time": "2022-03-11T22:18:53.636502Z",
          "start_time": "2022-03-11T22:18:53.028384Z"
        },
        "id": "fZqaqvUHmzGV",
        "outputId": "70bb939f-fcb1-48db-afc4-9f98a6f3fc14"
      },
      "outputs": [
        {
          "data": {
            "image/png": "[encoded data removed]",
            "text/plain": [
              "<Figure size 864x504 with 1 Axes>"
            ]
          },
          "metadata": {
            "needs_background": "light"
          },
          "output_type": "display_data"
        }
      ],
      "source": [
        "plt.figure(figsize=(12, 7))\n",
        "\n",
        "plt.title(\"Feature importances using MDI\")\n",
        "\n",
        "# aqui, mesmo plot, mas com as barras de erro (desvio padrão que calculamos acima)\n",
        "plt.barh(feature_importances_rf.index, feature_importances_rf.values, xerr=std_fis_rf)\n",
        "\n",
        "plt.xlabel(\"Mean decrease in impurity\")\n",
        "\n",
        "plt.show()"
      ]
    },
    {
      "cell_type": "code",
      "execution_count": null,
      "metadata": {
        "ExecuteTime": {
          "end_time": "2022-03-11T22:18:53.652493Z",
          "start_time": "2022-03-11T22:18:53.641500Z"
        },
        "id": "jBgJSATimzGV",
        "outputId": "e048d2fe-a1d2-40f1-dbb6-2314982f9642"
      },
      "outputs": [
        {
          "data": {
            "text/plain": [
              "Index(['perimeter_worst', 'concave points_worst', 'smoothness_worst',\n",
              "       'texture_mean', 'perimeter_se', 'area_mean', 'area_se', 'area_worst',\n",
              "       'smoothness_mean', 'texture_worst'],\n",
              "      dtype='object')"
            ]
          },
          "execution_count": 19,
          "metadata": {},
          "output_type": "execute_result"
        }
      ],
      "source": [
        "top10_dt"
      ]
    },
    {
      "cell_type": "code",
      "execution_count": null,
      "metadata": {
        "ExecuteTime": {
          "end_time": "2022-03-11T22:18:53.747439Z",
          "start_time": "2022-03-11T22:18:53.658494Z"
        },
        "id": "v2o2HztTmzGV",
        "outputId": "79388529-b345-4b3c-f7b9-653392beedd4"
      },
      "outputs": [
        {
          "data": {
            "text/plain": [
              "Index(['perimeter_worst', 'area_worst', 'concave points_worst', 'radius_worst',\n",
              "       'concave points_mean', 'radius_mean', 'perimeter_mean',\n",
              "       'concavity_mean', 'area_mean', 'area_se'],\n",
              "      dtype='object')"
            ]
          },
          "execution_count": 20,
          "metadata": {},
          "output_type": "execute_result"
        }
      ],
      "source": [
        "top10_rf_fi = feature_importances_rf[:10].index\n",
        "\n",
        "top10_rf_fi"
      ]
    },
    {
      "cell_type": "code",
      "execution_count": null,
      "metadata": {
        "ExecuteTime": {
          "end_time": "2022-03-11T22:18:53.856532Z",
          "start_time": "2022-03-11T22:18:53.751437Z"
        },
        "id": "Xo0wtmw7mzGV",
        "outputId": "1f40ce64-7fea-4089-ce8a-09ba3e431f0b"
      },
      "outputs": [
        {
          "data": {
            "text/plain": [
              "['smoothness_worst',\n",
              " 'texture_mean',\n",
              " 'perimeter_se',\n",
              " 'smoothness_mean',\n",
              " 'texture_worst']"
            ]
          },
          "execution_count": 21,
          "metadata": {},
          "output_type": "execute_result"
        }
      ],
      "source": [
        "[x for x in top10_dt if x not in top10_rf_fi]"
      ]
    },
    {
      "cell_type": "code",
      "execution_count": null,
      "metadata": {
        "ExecuteTime": {
          "end_time": "2022-03-11T22:18:53.951499Z",
          "start_time": "2022-03-11T22:18:53.859531Z"
        },
        "id": "N_2xO184mzGV",
        "outputId": "004cd539-da0b-44da-e42a-8fb6be4293e4"
      },
      "outputs": [
        {
          "data": {
            "text/plain": [
              "['radius_worst',\n",
              " 'concave points_mean',\n",
              " 'radius_mean',\n",
              " 'perimeter_mean',\n",
              " 'concavity_mean']"
            ]
          },
          "execution_count": 22,
          "metadata": {},
          "output_type": "execute_result"
        }
      ],
      "source": [
        "[x for x in top10_rf_fi if x not in top10_dt]"
      ]
    },
    {
      "cell_type": "code",
      "execution_count": null,
      "metadata": {
        "ExecuteTime": {
          "end_time": "2022-03-11T22:18:54.060170Z",
          "start_time": "2022-03-11T22:18:53.958488Z"
        },
        "id": "Y5eMuNNTmzGV",
        "outputId": "9de4e631-2f8f-4d7c-daaf-0bd576249916"
      },
      "outputs": [
        {
          "data": {
            "text/plain": [
              "['perimeter_worst',\n",
              " 'area_worst',\n",
              " 'concave points_worst',\n",
              " 'area_mean',\n",
              " 'area_se']"
            ]
          },
          "execution_count": 23,
          "metadata": {},
          "output_type": "execute_result"
        }
      ],
      "source": [
        "[x for x in top10_rf_fi if x in top10_dt]"
      ]
    },
    {
      "cell_type": "markdown",
      "metadata": {
        "id": "mEIRrLLfmzGW"
      },
      "source": [
        "A variação é enorme! O que pode ter acontecido?\n",
        "\n",
        "Isso se deve justamente ao viés indesejado que é introduzido pelo MDI. Para corrigir isso, vamos introduzir um novo método!"
      ]
    },
    {
      "cell_type": "markdown",
      "metadata": {
        "id": "D1XOJWbGmzGW"
      },
      "source": [
        "### `permutation_importance()`, com base em permutação de features\n",
        "\n",
        "Neste método, utilizamos a função `sklearn.inspection.permutation_importance()`, que vai criar permutações das features, mantendo um registro de um score, e como ele é afetado quando uma ou outra feature é eliminada.\n",
        "\n",
        "Por realizar diversas permutações, este método é mais custoso, mas tem a vantagem de eliminar o viés que features de alta cardinalidade carregam com o método baseado em impureza.\n",
        "\n",
        "Para maiores detalhes sobre o método, [clique aqui!](https://scikit-learn.org/stable/modules/permutation_importance.html#permutation-importance)\n",
        "\n",
        "> Observação: embora tenhamos ilustrado a importância de permutação com a árvore de decisão, na realidade este é um método que pode ser usado com qualquer estimador!"
      ]
    },
    {
      "cell_type": "markdown",
      "metadata": {
        "id": "mvB_kG9UmzGW"
      },
      "source": [
        "A função que vamos utilizar [está aqui!](https://scikit-learn.org/stable/modules/generated/sklearn.inspection.permutation_importance.html)"
      ]
    },
    {
      "cell_type": "code",
      "execution_count": null,
      "metadata": {
        "ExecuteTime": {
          "end_time": "2022-03-11T22:18:54.184542Z",
          "start_time": "2022-03-11T22:18:54.065169Z"
        },
        "id": "RuLINpwXmzGW"
      },
      "outputs": [],
      "source": [
        "dt = DecisionTreeClassifier().fit(X_train, y_train)"
      ]
    },
    {
      "cell_type": "code",
      "execution_count": null,
      "metadata": {
        "ExecuteTime": {
          "end_time": "2022-03-11T22:19:02.771114Z",
          "start_time": "2022-03-11T22:18:54.187540Z"
        },
        "id": "KOwBmbnqmzGW"
      },
      "outputs": [],
      "source": [
        "from sklearn.inspection import permutation_importance\n",
        "\n",
        "result_perm = permutation_importance(dt, X_train, y_train, n_repeats=20, random_state=42, n_jobs=-1)"
      ]
    },
    {
      "cell_type": "code",
      "execution_count": null,
      "metadata": {
        "ExecuteTime": {
          "end_time": "2022-03-11T22:19:02.802094Z",
          "start_time": "2022-03-11T22:19:02.777109Z"
        },
        "id": "LZPTsIq8mzGW",
        "outputId": "c9ad287d-f75a-4866-976a-6418693db78a"
      },
      "outputs": [
        {
          "data": {
            "text/plain": [
              "array([0.        , 0.03      , 0.        , 0.12      , 0.        ,\n",
              "       0.00175824, 0.        , 0.        , 0.00615385, 0.00175824,\n",
              "       0.        , 0.        , 0.00527473, 0.05241758, 0.        ,\n",
              "       0.        , 0.        , 0.        , 0.        , 0.        ,\n",
              "       0.        , 0.01692308, 0.06340659, 0.02538462, 0.03956044,\n",
              "       0.        , 0.01241758, 0.07428571, 0.        , 0.        ])"
            ]
          },
          "execution_count": 26,
          "metadata": {},
          "output_type": "execute_result"
        }
      ],
      "source": [
        "result_perm.importances_mean"
      ]
    },
    {
      "cell_type": "code",
      "execution_count": null,
      "metadata": {
        "ExecuteTime": {
          "end_time": "2022-03-11T22:19:02.971995Z",
          "start_time": "2022-03-11T22:19:02.815086Z"
        },
        "id": "vKFINe8BmzGW",
        "outputId": "1781c1c9-d5f2-4e6d-9f3d-3f72c556e389"
      },
      "outputs": [
        {
          "data": {
            "text/plain": [
              "array([0.        , 0.0052137 , 0.        , 0.01214572, 0.        ,\n",
              "       0.00164468, 0.        , 0.        , 0.00246703, 0.00149062,\n",
              "       0.        , 0.        , 0.00175824, 0.00645552, 0.        ,\n",
              "       0.        , 0.        , 0.        , 0.        , 0.        ,\n",
              "       0.        , 0.00476979, 0.00981104, 0.00493772, 0.00666626,\n",
              "       0.        , 0.00312946, 0.01130534, 0.        , 0.        ])"
            ]
          },
          "execution_count": 27,
          "metadata": {},
          "output_type": "execute_result"
        }
      ],
      "source": [
        "result_perm.importances_std"
      ]
    },
    {
      "cell_type": "code",
      "execution_count": null,
      "metadata": {
        "ExecuteTime": {
          "end_time": "2022-03-11T22:19:03.252918Z",
          "start_time": "2022-03-11T22:19:02.976994Z"
        },
        "scrolled": true,
        "id": "6iQNPkVGmzGW",
        "outputId": "06433b9d-dd78-4bca-c8e4-510e511e43ee"
      },
      "outputs": [
        {
          "data": {
            "text/html": [
              "<div>\n",
              "<style scoped>\n",
              "    .dataframe tbody tr th:only-of-type {\n",
              "        vertical-align: middle;\n",
              "    }\n",
              "\n",
              "    .dataframe tbody tr th {\n",
              "        vertical-align: top;\n",
              "    }\n",
              "\n",
              "    .dataframe thead th {\n",
              "        text-align: right;\n",
              "    }\n",
              "</style>\n",
              "<table border=\"1\" class=\"dataframe\">\n",
              "  <thead>\n",
              "    <tr style=\"text-align: right;\">\n",
              "      <th></th>\n",
              "      <th>importance</th>\n",
              "      <th>std</th>\n",
              "    </tr>\n",
              "  </thead>\n",
              "  <tbody>\n",
              "    <tr>\n",
              "      <th>area_mean</th>\n",
              "      <td>0.120000</td>\n",
              "      <td>0.012146</td>\n",
              "    </tr>\n",
              "    <tr>\n",
              "      <th>concave points_worst</th>\n",
              "      <td>0.074286</td>\n",
              "      <td>0.011305</td>\n",
              "    </tr>\n",
              "    <tr>\n",
              "      <th>perimeter_worst</th>\n",
              "      <td>0.063407</td>\n",
              "      <td>0.009811</td>\n",
              "    </tr>\n",
              "    <tr>\n",
              "      <th>area_se</th>\n",
              "      <td>0.052418</td>\n",
              "      <td>0.006456</td>\n",
              "    </tr>\n",
              "    <tr>\n",
              "      <th>smoothness_worst</th>\n",
              "      <td>0.039560</td>\n",
              "      <td>0.006666</td>\n",
              "    </tr>\n",
              "    <tr>\n",
              "      <th>texture_mean</th>\n",
              "      <td>0.030000</td>\n",
              "      <td>0.005214</td>\n",
              "    </tr>\n",
              "    <tr>\n",
              "      <th>area_worst</th>\n",
              "      <td>0.025385</td>\n",
              "      <td>0.004938</td>\n",
              "    </tr>\n",
              "    <tr>\n",
              "      <th>texture_worst</th>\n",
              "      <td>0.016923</td>\n",
              "      <td>0.004770</td>\n",
              "    </tr>\n",
              "    <tr>\n",
              "      <th>concavity_worst</th>\n",
              "      <td>0.012418</td>\n",
              "      <td>0.003129</td>\n",
              "    </tr>\n",
              "    <tr>\n",
              "      <th>symmetry_mean</th>\n",
              "      <td>0.006154</td>\n",
              "      <td>0.002467</td>\n",
              "    </tr>\n",
              "    <tr>\n",
              "      <th>perimeter_se</th>\n",
              "      <td>0.005275</td>\n",
              "      <td>0.001758</td>\n",
              "    </tr>\n",
              "    <tr>\n",
              "      <th>fractal_dimension_mean</th>\n",
              "      <td>0.001758</td>\n",
              "      <td>0.001491</td>\n",
              "    </tr>\n",
              "    <tr>\n",
              "      <th>compactness_mean</th>\n",
              "      <td>0.001758</td>\n",
              "      <td>0.001645</td>\n",
              "    </tr>\n",
              "    <tr>\n",
              "      <th>radius_mean</th>\n",
              "      <td>0.000000</td>\n",
              "      <td>0.000000</td>\n",
              "    </tr>\n",
              "    <tr>\n",
              "      <th>fractal_dimension_se</th>\n",
              "      <td>0.000000</td>\n",
              "      <td>0.000000</td>\n",
              "    </tr>\n",
              "    <tr>\n",
              "      <th>compactness_worst</th>\n",
              "      <td>0.000000</td>\n",
              "      <td>0.000000</td>\n",
              "    </tr>\n",
              "    <tr>\n",
              "      <th>symmetry_worst</th>\n",
              "      <td>0.000000</td>\n",
              "      <td>0.000000</td>\n",
              "    </tr>\n",
              "    <tr>\n",
              "      <th>radius_worst</th>\n",
              "      <td>0.000000</td>\n",
              "      <td>0.000000</td>\n",
              "    </tr>\n",
              "    <tr>\n",
              "      <th>compactness_se</th>\n",
              "      <td>0.000000</td>\n",
              "      <td>0.000000</td>\n",
              "    </tr>\n",
              "    <tr>\n",
              "      <th>symmetry_se</th>\n",
              "      <td>0.000000</td>\n",
              "      <td>0.000000</td>\n",
              "    </tr>\n",
              "    <tr>\n",
              "      <th>concave points_se</th>\n",
              "      <td>0.000000</td>\n",
              "      <td>0.000000</td>\n",
              "    </tr>\n",
              "    <tr>\n",
              "      <th>concavity_se</th>\n",
              "      <td>0.000000</td>\n",
              "      <td>0.000000</td>\n",
              "    </tr>\n",
              "    <tr>\n",
              "      <th>smoothness_se</th>\n",
              "      <td>0.000000</td>\n",
              "      <td>0.000000</td>\n",
              "    </tr>\n",
              "    <tr>\n",
              "      <th>texture_se</th>\n",
              "      <td>0.000000</td>\n",
              "      <td>0.000000</td>\n",
              "    </tr>\n",
              "    <tr>\n",
              "      <th>radius_se</th>\n",
              "      <td>0.000000</td>\n",
              "      <td>0.000000</td>\n",
              "    </tr>\n",
              "    <tr>\n",
              "      <th>concave points_mean</th>\n",
              "      <td>0.000000</td>\n",
              "      <td>0.000000</td>\n",
              "    </tr>\n",
              "    <tr>\n",
              "      <th>concavity_mean</th>\n",
              "      <td>0.000000</td>\n",
              "      <td>0.000000</td>\n",
              "    </tr>\n",
              "    <tr>\n",
              "      <th>smoothness_mean</th>\n",
              "      <td>0.000000</td>\n",
              "      <td>0.000000</td>\n",
              "    </tr>\n",
              "    <tr>\n",
              "      <th>perimeter_mean</th>\n",
              "      <td>0.000000</td>\n",
              "      <td>0.000000</td>\n",
              "    </tr>\n",
              "    <tr>\n",
              "      <th>fractal_dimension_worst</th>\n",
              "      <td>0.000000</td>\n",
              "      <td>0.000000</td>\n",
              "    </tr>\n",
              "  </tbody>\n",
              "</table>\n",
              "</div>"
            ],
            "text/plain": [
              "                         importance       std\n",
              "area_mean                  0.120000  0.012146\n",
              "concave points_worst       0.074286  0.011305\n",
              "perimeter_worst            0.063407  0.009811\n",
              "area_se                    0.052418  0.006456\n",
              "smoothness_worst           0.039560  0.006666\n",
              "texture_mean               0.030000  0.005214\n",
              "area_worst                 0.025385  0.004938\n",
              "texture_worst              0.016923  0.004770\n",
              "concavity_worst            0.012418  0.003129\n",
              "symmetry_mean              0.006154  0.002467\n",
              "perimeter_se               0.005275  0.001758\n",
              "fractal_dimension_mean     0.001758  0.001491\n",
              "compactness_mean           0.001758  0.001645\n",
              "radius_mean                0.000000  0.000000\n",
              "fractal_dimension_se       0.000000  0.000000\n",
              "compactness_worst          0.000000  0.000000\n",
              "symmetry_worst             0.000000  0.000000\n",
              "radius_worst               0.000000  0.000000\n",
              "compactness_se             0.000000  0.000000\n",
              "symmetry_se                0.000000  0.000000\n",
              "concave points_se          0.000000  0.000000\n",
              "concavity_se               0.000000  0.000000\n",
              "smoothness_se              0.000000  0.000000\n",
              "texture_se                 0.000000  0.000000\n",
              "radius_se                  0.000000  0.000000\n",
              "concave points_mean        0.000000  0.000000\n",
              "concavity_mean             0.000000  0.000000\n",
              "smoothness_mean            0.000000  0.000000\n",
              "perimeter_mean             0.000000  0.000000\n",
              "fractal_dimension_worst    0.000000  0.000000"
            ]
          },
          "execution_count": 28,
          "metadata": {},
          "output_type": "execute_result"
        }
      ],
      "source": [
        "data = {\"importance\": result_perm.importances_mean,\n",
        "        \"std\" : result_perm.importances_std}\n",
        "\n",
        "df_fi_perm = pd.DataFrame(data, index=dt.feature_names_in_).sort_values(\"importance\", ascending=False)\n",
        "\n",
        "df_fi_perm"
      ]
    },
    {
      "cell_type": "code",
      "execution_count": null,
      "metadata": {
        "ExecuteTime": {
          "end_time": "2022-03-11T22:19:03.847510Z",
          "start_time": "2022-03-11T22:19:03.256915Z"
        },
        "id": "vnJVFvm1mzGW",
        "outputId": "d2506679-d1fd-4f5a-d484-2b0abb523245"
      },
      "outputs": [
        {
          "data": {
            "image/png": "[encoded data removed]",
            "text/plain": [
              "<Figure size 864x504 with 1 Axes>"
            ]
          },
          "metadata": {
            "needs_background": "light"
          },
          "output_type": "display_data"
        }
      ],
      "source": [
        "plt.figure(figsize=(12, 7))\n",
        "\n",
        "plt.title(\"Feature importances using permutation importance\")\n",
        "\n",
        "plt.barh(df_fi_perm.index, df_fi_perm[\"importance\"], xerr=df_fi_perm[\"std\"])\n",
        "\n",
        "plt.xlabel(\"score\")\n",
        "\n",
        "plt.show()"
      ]
    },
    {
      "cell_type": "code",
      "execution_count": null,
      "metadata": {
        "ExecuteTime": {
          "end_time": "2022-03-11T22:19:03.865508Z",
          "start_time": "2022-03-11T22:19:03.851508Z"
        },
        "id": "bfzcHUdpmzGW",
        "outputId": "ac69bf88-dc5c-4cc5-f4b2-c4b93b45255d"
      },
      "outputs": [
        {
          "data": {
            "text/plain": [
              "Index(['perimeter_worst', 'concave points_worst', 'smoothness_worst',\n",
              "       'texture_mean', 'perimeter_se', 'area_mean', 'area_se', 'area_worst',\n",
              "       'smoothness_mean', 'texture_worst'],\n",
              "      dtype='object')"
            ]
          },
          "execution_count": 30,
          "metadata": {},
          "output_type": "execute_result"
        }
      ],
      "source": [
        "top10_dt"
      ]
    },
    {
      "cell_type": "code",
      "execution_count": null,
      "metadata": {
        "ExecuteTime": {
          "end_time": "2022-03-11T22:19:03.957446Z",
          "start_time": "2022-03-11T22:19:03.877494Z"
        },
        "id": "VbxHwWY4mzGX",
        "outputId": "7f4426a2-220b-4aea-9122-7b463b0a5685"
      },
      "outputs": [
        {
          "data": {
            "text/plain": [
              "Index(['perimeter_worst', 'area_worst', 'concave points_worst', 'radius_worst',\n",
              "       'concave points_mean', 'radius_mean', 'perimeter_mean',\n",
              "       'concavity_mean', 'area_mean', 'area_se'],\n",
              "      dtype='object')"
            ]
          },
          "execution_count": 31,
          "metadata": {},
          "output_type": "execute_result"
        }
      ],
      "source": [
        "top10_rf_fi"
      ]
    },
    {
      "cell_type": "code",
      "execution_count": null,
      "metadata": {
        "ExecuteTime": {
          "end_time": "2022-03-11T22:19:04.052996Z",
          "start_time": "2022-03-11T22:19:03.960446Z"
        },
        "id": "F0RMEAE4mzGX"
      },
      "outputs": [],
      "source": [
        "top10_perm = df_fi_perm[:10].index"
      ]
    },
    {
      "cell_type": "code",
      "execution_count": null,
      "metadata": {
        "ExecuteTime": {
          "end_time": "2022-03-11T22:19:04.161040Z",
          "start_time": "2022-03-11T22:19:04.055995Z"
        },
        "id": "JaYPndXgmzGX",
        "outputId": "e6ff0636-3b28-4594-df6f-3ec9eae3f506"
      },
      "outputs": [
        {
          "data": {
            "text/plain": [
              "['concavity_worst', 'symmetry_mean']"
            ]
          },
          "execution_count": 33,
          "metadata": {},
          "output_type": "execute_result"
        }
      ],
      "source": [
        "[x for x in top10_perm if x not in top10_dt]"
      ]
    },
    {
      "cell_type": "code",
      "execution_count": null,
      "metadata": {
        "ExecuteTime": {
          "end_time": "2022-03-11T22:19:04.270999Z",
          "start_time": "2022-03-11T22:19:04.170040Z"
        },
        "id": "A6MVsx-nmzGX",
        "outputId": "a97abf7c-2b36-4b6a-f5cc-2fbe65bac8f9"
      },
      "outputs": [
        {
          "data": {
            "text/plain": [
              "['smoothness_worst',\n",
              " 'texture_mean',\n",
              " 'texture_worst',\n",
              " 'concavity_worst',\n",
              " 'symmetry_mean']"
            ]
          },
          "execution_count": 34,
          "metadata": {},
          "output_type": "execute_result"
        }
      ],
      "source": [
        "[x for x in top10_perm if x not in top10_rf_fi]"
      ]
    },
    {
      "cell_type": "markdown",
      "metadata": {
        "id": "f_zHvsxImzGX"
      },
      "source": [
        "A partir daqui, o próximo passo seria treinar um modelo normalmente (pipeline, gridsearch, etc.), mas apenas com essas features selecionadas (idealmente, uma combinação dessas heurísticas)."
      ]
    },
    {
      "cell_type": "markdown",
      "metadata": {
        "id": "jnZzU07imzGX"
      },
      "source": [
        "______________"
      ]
    },
    {
      "cell_type": "markdown",
      "metadata": {
        "id": "Q34sJQxamzGX"
      },
      "source": [
        "## 4) RFE\n",
        "\n",
        "Conheceremos agora o método **Recursive Feature Elimination** (RFE).\n",
        "\n",
        "O RFE é um método que se utiliza de um estimador capaz de atribuir um score de **importância** a cada uma das features.\n",
        "\n",
        "> Por exemplo, podemos olhar para os coeficientes de um modelo linear (`coef_`), ou então, para os scores de importância de features (`feature_importances_`).\n",
        "\n",
        "O método então considera recursivamente **subconjuntos cada vez menores de features**, da seguinte maneira:\n",
        "\n",
        "- O estimador é treinado inicialmente com todas as features;\n",
        "- A importância de cada uma das features é calculada;\n",
        "- As features menos importantes são retiradas do conjunto de features;\n",
        "- O processo recomeça, até que o número  desejado de features seja alcançado."
      ]
    },
    {
      "cell_type": "markdown",
      "metadata": {
        "id": "Rb-FhUoPmzGX"
      },
      "source": [
        "Sendo assim, temos dois hiperparâmetros importantes na classe [RFE](https://scikit-learn.org/stable/modules/generated/sklearn.feature_selection.RFE.html):\n",
        "\n",
        "- `estimator`: o estimador que irá disponibilizar os scores de importância de features;\n",
        "- `n_features_to_select`: a quantidade de features que o subconjunto final terá.\n",
        "\n",
        "Na prática, podemos utilizar um gridsearch para otimizar estes dois hiperparâmetros, ou então utilizar a classe [RFECV](https://scikit-learn.org/stable/modules/generated/sklearn.feature_selection.RFECV.html), que determina o melhor númeo de features automaticamente.\n",
        "\n",
        "Vamos ver o método na prática!"
      ]
    },
    {
      "cell_type": "code",
      "execution_count": null,
      "metadata": {
        "ExecuteTime": {
          "end_time": "2022-03-11T22:25:13.156721Z",
          "start_time": "2022-03-11T22:25:12.752801Z"
        },
        "id": "DBkVaY58mzGX"
      },
      "outputs": [],
      "source": [
        "from sklearn.feature_selection import RFE\n",
        "\n",
        "rfe = RFE(estimator=DecisionTreeClassifier(), n_features_to_select=10).fit(X_train, y_train)"
      ]
    },
    {
      "cell_type": "code",
      "execution_count": null,
      "metadata": {
        "ExecuteTime": {
          "end_time": "2022-03-11T22:25:13.204673Z",
          "start_time": "2022-03-11T22:25:13.170694Z"
        },
        "id": "L3nGqTGDmzGX",
        "outputId": "b7571e80-d059-4d4a-d950-2f2fee8f3424"
      },
      "outputs": [
        {
          "data": {
            "text/plain": [
              "Index(['radius_mean', 'texture_mean', 'perimeter_mean', 'area_mean',\n",
              "       'smoothness_mean', 'compactness_mean', 'concavity_mean',\n",
              "       'concave points_mean', 'symmetry_mean', 'fractal_dimension_mean',\n",
              "       'radius_se', 'texture_se', 'perimeter_se', 'area_se', 'smoothness_se',\n",
              "       'compactness_se', 'concavity_se', 'concave points_se', 'symmetry_se',\n",
              "       'fractal_dimension_se', 'radius_worst', 'texture_worst',\n",
              "       'perimeter_worst', 'area_worst', 'smoothness_worst',\n",
              "       'compactness_worst', 'concavity_worst', 'concave points_worst',\n",
              "       'symmetry_worst', 'fractal_dimension_worst'],\n",
              "      dtype='object')"
            ]
          },
          "execution_count": 36,
          "metadata": {},
          "output_type": "execute_result"
        }
      ],
      "source": [
        "X_train.columns"
      ]
    },
    {
      "cell_type": "code",
      "execution_count": null,
      "metadata": {
        "ExecuteTime": {
          "end_time": "2022-03-11T22:25:13.487434Z",
          "start_time": "2022-03-11T22:25:13.467443Z"
        },
        "id": "QlnK3zkdmzGY",
        "outputId": "2fbb472c-2886-48c1-b08a-a85fbff35f19"
      },
      "outputs": [
        {
          "data": {
            "text/plain": [
              "array([False,  True, False,  True, False, False, False, False, False,\n",
              "       False, False, False, False,  True, False, False, False, False,\n",
              "       False, False, False,  True,  True,  True,  True,  True,  True,\n",
              "        True, False, False])"
            ]
          },
          "execution_count": 37,
          "metadata": {},
          "output_type": "execute_result"
        }
      ],
      "source": [
        "rfe.support_"
      ]
    },
    {
      "cell_type": "code",
      "execution_count": null,
      "metadata": {
        "ExecuteTime": {
          "end_time": "2022-03-11T22:25:19.796371Z",
          "start_time": "2022-03-11T22:25:19.790374Z"
        },
        "id": "Q-UbSFw-mzGY"
      },
      "outputs": [],
      "source": [
        "top10_rfe = X_train.columns[rfe.support_]"
      ]
    },
    {
      "cell_type": "code",
      "execution_count": null,
      "metadata": {
        "ExecuteTime": {
          "end_time": "2022-03-11T22:25:20.094430Z",
          "start_time": "2022-03-11T22:25:20.081437Z"
        },
        "id": "5099MFklmzGY",
        "outputId": "82cb3cc1-47d9-47e7-c3f1-f5103efeab04"
      },
      "outputs": [
        {
          "data": {
            "text/plain": [
              "Index(['texture_mean', 'area_mean', 'area_se', 'texture_worst',\n",
              "       'perimeter_worst', 'area_worst', 'smoothness_worst',\n",
              "       'compactness_worst', 'concavity_worst', 'concave points_worst'],\n",
              "      dtype='object')"
            ]
          },
          "execution_count": 40,
          "metadata": {},
          "output_type": "execute_result"
        }
      ],
      "source": [
        "top10_rfe"
      ]
    },
    {
      "cell_type": "code",
      "execution_count": null,
      "metadata": {
        "ExecuteTime": {
          "end_time": "2022-03-11T22:27:59.854142Z",
          "start_time": "2022-03-11T22:27:59.847144Z"
        },
        "id": "j0YoplfimzGY",
        "outputId": "a5002e03-37fe-462a-a068-c9aaca188a6f"
      },
      "outputs": [
        {
          "data": {
            "text/plain": [
              "Index(['perimeter_worst', 'concave points_worst', 'smoothness_worst',\n",
              "       'texture_mean', 'perimeter_se', 'area_mean', 'area_se', 'area_worst',\n",
              "       'smoothness_mean', 'texture_worst'],\n",
              "      dtype='object')"
            ]
          },
          "execution_count": 41,
          "metadata": {},
          "output_type": "execute_result"
        }
      ],
      "source": [
        "top10_dt"
      ]
    },
    {
      "cell_type": "code",
      "execution_count": null,
      "metadata": {
        "ExecuteTime": {
          "end_time": "2022-03-11T22:29:02.840637Z",
          "start_time": "2022-03-11T22:29:02.825644Z"
        },
        "id": "kpbBpKSlmzGY",
        "outputId": "249b8cc9-b5b0-4712-e337-9019213a1ca8"
      },
      "outputs": [
        {
          "data": {
            "text/plain": [
              "['compactness_worst', 'concavity_worst']"
            ]
          },
          "execution_count": 42,
          "metadata": {},
          "output_type": "execute_result"
        }
      ],
      "source": [
        "[features for features in top10_rfe if features not in top10_dt]"
      ]
    },
    {
      "cell_type": "code",
      "execution_count": null,
      "metadata": {
        "ExecuteTime": {
          "end_time": "2022-03-11T22:29:30.171483Z",
          "start_time": "2022-03-11T22:29:30.159490Z"
        },
        "id": "XETVz7zomzGY",
        "outputId": "e1273b38-6bb1-4f83-d581-95ea49f40e7c"
      },
      "outputs": [
        {
          "data": {
            "text/plain": [
              "['perimeter_se', 'smoothness_mean']"
            ]
          },
          "execution_count": 43,
          "metadata": {},
          "output_type": "execute_result"
        }
      ],
      "source": [
        "[features for features in top10_dt if features not in top10_rfe]"
      ]
    },
    {
      "cell_type": "code",
      "execution_count": null,
      "metadata": {
        "ExecuteTime": {
          "end_time": "2022-03-11T22:29:51.239453Z",
          "start_time": "2022-03-11T22:29:51.224464Z"
        },
        "id": "Ykp_Q2lcmzGY",
        "outputId": "aa1e19d4-c2e1-401b-fb93-cdd3611ad88a"
      },
      "outputs": [
        {
          "data": {
            "text/plain": [
              "['perimeter_worst',\n",
              " 'concave points_worst',\n",
              " 'smoothness_worst',\n",
              " 'texture_mean',\n",
              " 'area_mean',\n",
              " 'area_se',\n",
              " 'area_worst',\n",
              " 'texture_worst']"
            ]
          },
          "execution_count": 44,
          "metadata": {},
          "output_type": "execute_result"
        }
      ],
      "source": [
        "[features for features in top10_dt if features in top10_rfe]"
      ]
    },
    {
      "cell_type": "markdown",
      "metadata": {
        "id": "YD5h66FomzGY"
      },
      "source": [
        "Vamos ver como funciona o [RFECV](https://scikit-learn.org/stable/modules/generated/sklearn.feature_selection.RFECV.html):"
      ]
    },
    {
      "cell_type": "code",
      "execution_count": null,
      "metadata": {
        "ExecuteTime": {
          "end_time": "2022-03-11T22:35:10.780784Z",
          "start_time": "2022-03-11T22:35:09.602376Z"
        },
        "id": "FP-kV61PmzGY"
      },
      "outputs": [],
      "source": [
        "from sklearn.feature_selection import RFECV\n",
        "from sklearn.model_selection import StratifiedKFold\n",
        "\n",
        "splitter = StratifiedKFold(n_splits=5)\n",
        "\n",
        "rfecv = RFECV(estimator=DecisionTreeClassifier(),\n",
        "              scoring=\"f1_weighted\",\n",
        "              cv=splitter).fit(X_train, y_train)"
      ]
    },
    {
      "cell_type": "code",
      "execution_count": null,
      "metadata": {
        "ExecuteTime": {
          "end_time": "2022-03-11T22:35:59.485218Z",
          "start_time": "2022-03-11T22:35:59.432247Z"
        },
        "scrolled": true,
        "id": "esakYP-YmzGY",
        "outputId": "cbb0023a-65cf-48ea-e9d4-7275670d21ab"
      },
      "outputs": [
        {
          "data": {
            "text/html": [
              "<div>\n",
              "<style scoped>\n",
              "    .dataframe tbody tr th:only-of-type {\n",
              "        vertical-align: middle;\n",
              "    }\n",
              "\n",
              "    .dataframe tbody tr th {\n",
              "        vertical-align: top;\n",
              "    }\n",
              "\n",
              "    .dataframe thead th {\n",
              "        text-align: right;\n",
              "    }\n",
              "</style>\n",
              "<table border=\"1\" class=\"dataframe\">\n",
              "  <thead>\n",
              "    <tr style=\"text-align: right;\">\n",
              "      <th></th>\n",
              "      <th>mean_test_score</th>\n",
              "      <th>std_test_score</th>\n",
              "      <th>split0_test_score</th>\n",
              "      <th>split1_test_score</th>\n",
              "      <th>split2_test_score</th>\n",
              "      <th>split3_test_score</th>\n",
              "      <th>split4_test_score</th>\n",
              "    </tr>\n",
              "  </thead>\n",
              "  <tbody>\n",
              "    <tr>\n",
              "      <th>0</th>\n",
              "      <td>0.892527</td>\n",
              "      <td>0.023074</td>\n",
              "      <td>0.911514</td>\n",
              "      <td>0.890699</td>\n",
              "      <td>0.880041</td>\n",
              "      <td>0.922837</td>\n",
              "      <td>0.857546</td>\n",
              "    </tr>\n",
              "    <tr>\n",
              "      <th>1</th>\n",
              "      <td>0.916098</td>\n",
              "      <td>0.042499</td>\n",
              "      <td>0.966930</td>\n",
              "      <td>0.956279</td>\n",
              "      <td>0.865048</td>\n",
              "      <td>0.922837</td>\n",
              "      <td>0.869397</td>\n",
              "    </tr>\n",
              "    <tr>\n",
              "      <th>2</th>\n",
              "      <td>0.944880</td>\n",
              "      <td>0.018448</td>\n",
              "      <td>0.966930</td>\n",
              "      <td>0.966930</td>\n",
              "      <td>0.933635</td>\n",
              "      <td>0.934066</td>\n",
              "      <td>0.922837</td>\n",
              "    </tr>\n",
              "    <tr>\n",
              "      <th>3</th>\n",
              "      <td>0.945044</td>\n",
              "      <td>0.023132</td>\n",
              "      <td>0.956044</td>\n",
              "      <td>0.967126</td>\n",
              "      <td>0.922837</td>\n",
              "      <td>0.967126</td>\n",
              "      <td>0.912088</td>\n",
              "    </tr>\n",
              "    <tr>\n",
              "      <th>4</th>\n",
              "      <td>0.945109</td>\n",
              "      <td>0.037365</td>\n",
              "      <td>0.967126</td>\n",
              "      <td>0.956279</td>\n",
              "      <td>0.933635</td>\n",
              "      <td>0.989042</td>\n",
              "      <td>0.879462</td>\n",
              "    </tr>\n",
              "    <tr>\n",
              "      <th>5</th>\n",
              "      <td>0.929774</td>\n",
              "      <td>0.035598</td>\n",
              "      <td>0.956044</td>\n",
              "      <td>0.967126</td>\n",
              "      <td>0.910831</td>\n",
              "      <td>0.945473</td>\n",
              "      <td>0.869397</td>\n",
              "    </tr>\n",
              "    <tr>\n",
              "      <th>6</th>\n",
              "      <td>0.931983</td>\n",
              "      <td>0.037454</td>\n",
              "      <td>0.966930</td>\n",
              "      <td>0.945473</td>\n",
              "      <td>0.910831</td>\n",
              "      <td>0.967284</td>\n",
              "      <td>0.869397</td>\n",
              "    </tr>\n",
              "    <tr>\n",
              "      <th>7</th>\n",
              "      <td>0.936331</td>\n",
              "      <td>0.040533</td>\n",
              "      <td>0.978022</td>\n",
              "      <td>0.967126</td>\n",
              "      <td>0.910831</td>\n",
              "      <td>0.956279</td>\n",
              "      <td>0.869397</td>\n",
              "    </tr>\n",
              "    <tr>\n",
              "      <th>8</th>\n",
              "      <td>0.938374</td>\n",
              "      <td>0.037043</td>\n",
              "      <td>0.978022</td>\n",
              "      <td>0.966930</td>\n",
              "      <td>0.910831</td>\n",
              "      <td>0.956044</td>\n",
              "      <td>0.880041</td>\n",
              "    </tr>\n",
              "    <tr>\n",
              "      <th>9</th>\n",
              "      <td>0.922889</td>\n",
              "      <td>0.032620</td>\n",
              "      <td>0.955757</td>\n",
              "      <td>0.956044</td>\n",
              "      <td>0.888538</td>\n",
              "      <td>0.934066</td>\n",
              "      <td>0.880041</td>\n",
              "    </tr>\n",
              "    <tr>\n",
              "      <th>10</th>\n",
              "      <td>0.931895</td>\n",
              "      <td>0.031321</td>\n",
              "      <td>0.956044</td>\n",
              "      <td>0.956279</td>\n",
              "      <td>0.910831</td>\n",
              "      <td>0.956279</td>\n",
              "      <td>0.880041</td>\n",
              "    </tr>\n",
              "    <tr>\n",
              "      <th>11</th>\n",
              "      <td>0.934173</td>\n",
              "      <td>0.038050</td>\n",
              "      <td>0.967126</td>\n",
              "      <td>0.945473</td>\n",
              "      <td>0.900085</td>\n",
              "      <td>0.978140</td>\n",
              "      <td>0.880041</td>\n",
              "    </tr>\n",
              "    <tr>\n",
              "      <th>12</th>\n",
              "      <td>0.925332</td>\n",
              "      <td>0.029735</td>\n",
              "      <td>0.923294</td>\n",
              "      <td>0.945210</td>\n",
              "      <td>0.910831</td>\n",
              "      <td>0.967284</td>\n",
              "      <td>0.880041</td>\n",
              "    </tr>\n",
              "    <tr>\n",
              "      <th>13</th>\n",
              "      <td>0.936383</td>\n",
              "      <td>0.043448</td>\n",
              "      <td>0.978022</td>\n",
              "      <td>0.967126</td>\n",
              "      <td>0.900085</td>\n",
              "      <td>0.967284</td>\n",
              "      <td>0.869397</td>\n",
              "    </tr>\n",
              "    <tr>\n",
              "      <th>14</th>\n",
              "      <td>0.925357</td>\n",
              "      <td>0.034910</td>\n",
              "      <td>0.956044</td>\n",
              "      <td>0.967126</td>\n",
              "      <td>0.910831</td>\n",
              "      <td>0.923947</td>\n",
              "      <td>0.868838</td>\n",
              "    </tr>\n",
              "    <tr>\n",
              "      <th>15</th>\n",
              "      <td>0.931724</td>\n",
              "      <td>0.030354</td>\n",
              "      <td>0.933123</td>\n",
              "      <td>0.956044</td>\n",
              "      <td>0.922288</td>\n",
              "      <td>0.967126</td>\n",
              "      <td>0.880041</td>\n",
              "    </tr>\n",
              "    <tr>\n",
              "      <th>16</th>\n",
              "      <td>0.925300</td>\n",
              "      <td>0.024456</td>\n",
              "      <td>0.945210</td>\n",
              "      <td>0.945473</td>\n",
              "      <td>0.922288</td>\n",
              "      <td>0.934066</td>\n",
              "      <td>0.879462</td>\n",
              "    </tr>\n",
              "    <tr>\n",
              "      <th>17</th>\n",
              "      <td>0.927438</td>\n",
              "      <td>0.029802</td>\n",
              "      <td>0.944491</td>\n",
              "      <td>0.967126</td>\n",
              "      <td>0.910831</td>\n",
              "      <td>0.934699</td>\n",
              "      <td>0.880041</td>\n",
              "    </tr>\n",
              "    <tr>\n",
              "      <th>18</th>\n",
              "      <td>0.923210</td>\n",
              "      <td>0.033147</td>\n",
              "      <td>0.901852</td>\n",
              "      <td>0.956044</td>\n",
              "      <td>0.910831</td>\n",
              "      <td>0.967284</td>\n",
              "      <td>0.880041</td>\n",
              "    </tr>\n",
              "    <tr>\n",
              "      <th>19</th>\n",
              "      <td>0.931785</td>\n",
              "      <td>0.028217</td>\n",
              "      <td>0.934066</td>\n",
              "      <td>0.956044</td>\n",
              "      <td>0.910831</td>\n",
              "      <td>0.967284</td>\n",
              "      <td>0.890699</td>\n",
              "    </tr>\n",
              "    <tr>\n",
              "      <th>20</th>\n",
              "      <td>0.929456</td>\n",
              "      <td>0.037883</td>\n",
              "      <td>0.922837</td>\n",
              "      <td>0.978022</td>\n",
              "      <td>0.899252</td>\n",
              "      <td>0.967126</td>\n",
              "      <td>0.880041</td>\n",
              "    </tr>\n",
              "    <tr>\n",
              "      <th>21</th>\n",
              "      <td>0.929479</td>\n",
              "      <td>0.039785</td>\n",
              "      <td>0.944884</td>\n",
              "      <td>0.956279</td>\n",
              "      <td>0.899252</td>\n",
              "      <td>0.978140</td>\n",
              "      <td>0.868838</td>\n",
              "    </tr>\n",
              "    <tr>\n",
              "      <th>22</th>\n",
              "      <td>0.921054</td>\n",
              "      <td>0.029561</td>\n",
              "      <td>0.934066</td>\n",
              "      <td>0.956279</td>\n",
              "      <td>0.910831</td>\n",
              "      <td>0.934699</td>\n",
              "      <td>0.869397</td>\n",
              "    </tr>\n",
              "    <tr>\n",
              "      <th>23</th>\n",
              "      <td>0.931794</td>\n",
              "      <td>0.026453</td>\n",
              "      <td>0.944884</td>\n",
              "      <td>0.956279</td>\n",
              "      <td>0.910831</td>\n",
              "      <td>0.956279</td>\n",
              "      <td>0.890699</td>\n",
              "    </tr>\n",
              "    <tr>\n",
              "      <th>24</th>\n",
              "      <td>0.929698</td>\n",
              "      <td>0.024791</td>\n",
              "      <td>0.945210</td>\n",
              "      <td>0.956279</td>\n",
              "      <td>0.910831</td>\n",
              "      <td>0.945473</td>\n",
              "      <td>0.890699</td>\n",
              "    </tr>\n",
              "    <tr>\n",
              "      <th>25</th>\n",
              "      <td>0.918947</td>\n",
              "      <td>0.031878</td>\n",
              "      <td>0.955757</td>\n",
              "      <td>0.956279</td>\n",
              "      <td>0.911514</td>\n",
              "      <td>0.880488</td>\n",
              "      <td>0.890699</td>\n",
              "    </tr>\n",
              "    <tr>\n",
              "      <th>26</th>\n",
              "      <td>0.931815</td>\n",
              "      <td>0.027337</td>\n",
              "      <td>0.945210</td>\n",
              "      <td>0.945210</td>\n",
              "      <td>0.910831</td>\n",
              "      <td>0.967126</td>\n",
              "      <td>0.890699</td>\n",
              "    </tr>\n",
              "    <tr>\n",
              "      <th>27</th>\n",
              "      <td>0.920948</td>\n",
              "      <td>0.028646</td>\n",
              "      <td>0.944884</td>\n",
              "      <td>0.934419</td>\n",
              "      <td>0.910831</td>\n",
              "      <td>0.945210</td>\n",
              "      <td>0.869397</td>\n",
              "    </tr>\n",
              "    <tr>\n",
              "      <th>28</th>\n",
              "      <td>0.940495</td>\n",
              "      <td>0.033059</td>\n",
              "      <td>0.966695</td>\n",
              "      <td>0.967126</td>\n",
              "      <td>0.910831</td>\n",
              "      <td>0.967126</td>\n",
              "      <td>0.890699</td>\n",
              "    </tr>\n",
              "    <tr>\n",
              "      <th>29</th>\n",
              "      <td>0.918847</td>\n",
              "      <td>0.028864</td>\n",
              "      <td>0.934066</td>\n",
              "      <td>0.956279</td>\n",
              "      <td>0.910831</td>\n",
              "      <td>0.923663</td>\n",
              "      <td>0.869397</td>\n",
              "    </tr>\n",
              "  </tbody>\n",
              "</table>\n",
              "</div>"
            ],
            "text/plain": [
              "    mean_test_score  std_test_score  split0_test_score  split1_test_score  \\\n",
              "0          0.892527        0.023074           0.911514           0.890699   \n",
              "1          0.916098        0.042499           0.966930           0.956279   \n",
              "2          0.944880        0.018448           0.966930           0.966930   \n",
              "3          0.945044        0.023132           0.956044           0.967126   \n",
              "4          0.945109        0.037365           0.967126           0.956279   \n",
              "5          0.929774        0.035598           0.956044           0.967126   \n",
              "6          0.931983        0.037454           0.966930           0.945473   \n",
              "7          0.936331        0.040533           0.978022           0.967126   \n",
              "8          0.938374        0.037043           0.978022           0.966930   \n",
              "9          0.922889        0.032620           0.955757           0.956044   \n",
              "10         0.931895        0.031321           0.956044           0.956279   \n",
              "11         0.934173        0.038050           0.967126           0.945473   \n",
              "12         0.925332        0.029735           0.923294           0.945210   \n",
              "13         0.936383        0.043448           0.978022           0.967126   \n",
              "14         0.925357        0.034910           0.956044           0.967126   \n",
              "15         0.931724        0.030354           0.933123           0.956044   \n",
              "16         0.925300        0.024456           0.945210           0.945473   \n",
              "17         0.927438        0.029802           0.944491           0.967126   \n",
              "18         0.923210        0.033147           0.901852           0.956044   \n",
              "19         0.931785        0.028217           0.934066           0.956044   \n",
              "20         0.929456        0.037883           0.922837           0.978022   \n",
              "21         0.929479        0.039785           0.944884           0.956279   \n",
              "22         0.921054        0.029561           0.934066           0.956279   \n",
              "23         0.931794        0.026453           0.944884           0.956279   \n",
              "24         0.929698        0.024791           0.945210           0.956279   \n",
              "25         0.918947        0.031878           0.955757           0.956279   \n",
              "26         0.931815        0.027337           0.945210           0.945210   \n",
              "27         0.920948        0.028646           0.944884           0.934419   \n",
              "28         0.940495        0.033059           0.966695           0.967126   \n",
              "29         0.918847        0.028864           0.934066           0.956279   \n",
              "\n",
              "    split2_test_score  split3_test_score  split4_test_score  \n",
              "0            0.880041           0.922837           0.857546  \n",
              "1            0.865048           0.922837           0.869397  \n",
              "2            0.933635           0.934066           0.922837  \n",
              "3            0.922837           0.967126           0.912088  \n",
              "4            0.933635           0.989042           0.879462  \n",
              "5            0.910831           0.945473           0.869397  \n",
              "6            0.910831           0.967284           0.869397  \n",
              "7            0.910831           0.956279           0.869397  \n",
              "8            0.910831           0.956044           0.880041  \n",
              "9            0.888538           0.934066           0.880041  \n",
              "10           0.910831           0.956279           0.880041  \n",
              "11           0.900085           0.978140           0.880041  \n",
              "12           0.910831           0.967284           0.880041  \n",
              "13           0.900085           0.967284           0.869397  \n",
              "14           0.910831           0.923947           0.868838  \n",
              "15           0.922288           0.967126           0.880041  \n",
              "16           0.922288           0.934066           0.879462  \n",
              "17           0.910831           0.934699           0.880041  \n",
              "18           0.910831           0.967284           0.880041  \n",
              "19           0.910831           0.967284           0.890699  \n",
              "20           0.899252           0.967126           0.880041  \n",
              "21           0.899252           0.978140           0.868838  \n",
              "22           0.910831           0.934699           0.869397  \n",
              "23           0.910831           0.956279           0.890699  \n",
              "24           0.910831           0.945473           0.890699  \n",
              "25           0.911514           0.880488           0.890699  \n",
              "26           0.910831           0.967126           0.890699  \n",
              "27           0.910831           0.945210           0.869397  \n",
              "28           0.910831           0.967126           0.890699  \n",
              "29           0.910831           0.923663           0.869397  "
            ]
          },
          "execution_count": 50,
          "metadata": {},
          "output_type": "execute_result"
        }
      ],
      "source": [
        "pd.DataFrame(rfecv.cv_results_)"
      ]
    },
    {
      "cell_type": "code",
      "execution_count": null,
      "metadata": {
        "ExecuteTime": {
          "end_time": "2022-03-11T22:36:29.480197Z",
          "start_time": "2022-03-11T22:36:29.460207Z"
        },
        "id": "aXMWmMxxmzGZ",
        "outputId": "b3ce5473-e4b9-4529-e1f9-3f7eab28d1e8"
      },
      "outputs": [
        {
          "data": {
            "text/plain": [
              "5"
            ]
          },
          "execution_count": 51,
          "metadata": {},
          "output_type": "execute_result"
        }
      ],
      "source": [
        "rfecv.n_features_"
      ]
    },
    {
      "cell_type": "code",
      "execution_count": null,
      "metadata": {
        "ExecuteTime": {
          "end_time": "2022-03-11T22:36:48.738492Z",
          "start_time": "2022-03-11T22:36:48.718507Z"
        },
        "id": "aDY2j5-mmzGZ",
        "outputId": "40070142-c000-4a37-8a5a-ec9d0d54ff17"
      },
      "outputs": [
        {
          "data": {
            "text/plain": [
              "array([False,  True, False, False, False, False, False, False, False,\n",
              "       False, False, False, False, False, False, False, False, False,\n",
              "       False, False, False, False,  True,  True,  True, False, False,\n",
              "        True, False, False])"
            ]
          },
          "execution_count": 52,
          "metadata": {},
          "output_type": "execute_result"
        }
      ],
      "source": [
        "rfecv.support_"
      ]
    },
    {
      "cell_type": "code",
      "execution_count": null,
      "metadata": {
        "ExecuteTime": {
          "end_time": "2022-03-11T22:37:03.494887Z",
          "start_time": "2022-03-11T22:37:03.478891Z"
        },
        "id": "sgo3cOIfmzGZ",
        "outputId": "33da5a35-cc66-48e6-f077-1bed4bb7d720"
      },
      "outputs": [
        {
          "data": {
            "text/plain": [
              "Index(['texture_mean', 'perimeter_worst', 'area_worst', 'smoothness_worst',\n",
              "       'concave points_worst'],\n",
              "      dtype='object')"
            ]
          },
          "execution_count": 54,
          "metadata": {},
          "output_type": "execute_result"
        }
      ],
      "source": [
        "X_train.columns[rfecv.support_]"
      ]
    },
    {
      "cell_type": "code",
      "execution_count": null,
      "metadata": {
        "ExecuteTime": {
          "end_time": "2022-03-11T22:39:18.002902Z",
          "start_time": "2022-03-11T22:39:17.788024Z"
        },
        "id": "PUmK15mPmzGZ",
        "outputId": "10f82f9e-9807-4ee0-89f6-eb0e46c70d11"
      },
      "outputs": [
        {
          "data": {
            "image/png": "[encoded data removed]",
            "text/plain": [
              "<Figure size 432x288 with 1 Axes>"
            ]
          },
          "metadata": {
            "needs_background": "light"
          },
          "output_type": "display_data"
        }
      ],
      "source": [
        "plt.plot(range(len(scores)), scores);"
      ]
    },
    {
      "cell_type": "markdown",
      "metadata": {
        "id": "5JbaQrxamzGZ"
      },
      "source": [
        "Na prática, podemos incluir o RFE como um passo da Pipeline, e otimizar seus parâmetros com o grid search!"
      ]
    },
    {
      "cell_type": "code",
      "execution_count": null,
      "metadata": {
        "ExecuteTime": {
          "end_time": "2022-03-11T22:45:50.528916Z",
          "start_time": "2022-03-11T22:45:50.493936Z"
        },
        "id": "VHq1EqKimzGZ"
      },
      "outputs": [],
      "source": [
        "from sklearn.pipeline import Pipeline\n",
        "from sklearn.model_selection import GridSearchCV"
      ]
    },
    {
      "cell_type": "code",
      "execution_count": null,
      "metadata": {
        "ExecuteTime": {
          "end_time": "2022-03-11T22:45:50.918837Z",
          "start_time": "2022-03-11T22:45:50.913844Z"
        },
        "id": "1CrV31dxmzGZ"
      },
      "outputs": [],
      "source": [
        "from sklearn.model_selection import StratifiedKFold"
      ]
    },
    {
      "cell_type": "code",
      "execution_count": null,
      "metadata": {
        "ExecuteTime": {
          "end_time": "2022-03-10T01:09:17.336189Z",
          "start_time": "2022-03-10T01:07:56.122167Z"
        },
        "id": "nd8nh-HpmzGZ",
        "outputId": "08df1c2f-210d-4502-cfb6-a9599916d98b"
      },
      "outputs": [
        {
          "name": "stdout",
          "output_type": "stream",
          "text": [
            "Fitting 5 folds for each of 60 candidates, totalling 300 fits\n"
          ]
        },
        {
          "data": {
            "text/plain": [
              "GridSearchCV(cv=StratifiedKFold(n_splits=5, random_state=42, shuffle=True),\n",
              "             estimator=Pipeline(steps=[('rfe',\n",
              "                                        RFE(estimator=DecisionTreeClassifier(random_state=42))),\n",
              "                                       ('ab',\n",
              "                                        AdaBoostClassifier(base_estimator=DecisionTreeClassifier(max_depth=1,\n",
              "                                                                                                 max_features='sqrt',\n",
              "                                                                                                 random_state=42),\n",
              "                                                           random_state=42))]),\n",
              "             n_jobs=-1,\n",
              "             param_grid={'ab__n_estimators': [100, 150],\n",
              "                         'rfe__n_features_to_select': range(1, 31)},\n",
              "             scoring='f1_weighted', verbose=10)"
            ]
          },
          "execution_count": 107,
          "metadata": {},
          "output_type": "execute_result"
        }
      ],
      "source": [
        "from sklearn.ensemble import AdaBoostClassifier\n",
        "\n",
        "pipe = Pipeline([(\"rfe\", RFE(estimator=DecisionTreeClassifier(random_state=42))),\n",
        "                 (\"ab\", AdaBoostClassifier(base_estimator=DecisionTreeClassifier(max_depth=1,\n",
        "                                                                                 criterion=\"gini\",\n",
        "                                                                                 max_features=\"sqrt\",\n",
        "                                                                                 random_state=42),\n",
        "                                           random_state=42))])\n",
        "\n",
        "param_grid_ab = {\"rfe__n_features_to_select\" : range(1, X_train.shape[1]+1),\n",
        "                 \"ab__n_estimators\" : [100, 150]}\n",
        "\n",
        "splitter = StratifiedKFold(n_splits=5, shuffle=True, random_state=42)\n",
        "\n",
        "grid_ab = GridSearchCV(pipe, param_grid_ab, scoring=\"f1_weighted\", cv=splitter, verbose=10, n_jobs=-1)\n",
        "\n",
        "grid_ab.fit(X_train, y_train)"
      ]
    },
    {
      "cell_type": "code",
      "execution_count": null,
      "metadata": {
        "ExecuteTime": {
          "end_time": "2022-03-10T01:09:36.708956Z",
          "start_time": "2022-03-10T01:09:36.701961Z"
        },
        "id": "3aalcqb7mzGZ",
        "outputId": "1adf65b8-b9a8-4a51-dad1-47fde592a3f0"
      },
      "outputs": [
        {
          "data": {
            "text/plain": [
              "{'ab__n_estimators': 150, 'rfe__n_features_to_select': 28}"
            ]
          },
          "execution_count": 108,
          "metadata": {},
          "output_type": "execute_result"
        }
      ],
      "source": [
        "grid_ab.best_params_"
      ]
    },
    {
      "cell_type": "code",
      "execution_count": null,
      "metadata": {
        "ExecuteTime": {
          "end_time": "2022-03-10T01:10:03.346735Z",
          "start_time": "2022-03-10T01:10:02.403565Z"
        },
        "scrolled": true,
        "id": "vx5VuU2TmzGa",
        "outputId": "db778943-23fd-4e09-fd5e-06f7646f9945"
      },
      "outputs": [
        {
          "name": "stdout",
          "output_type": "stream",
          "text": [
            "\n",
            "Métricas de avaliação de treino:\n",
            "[[285   0]\n",
            " [  0 170]]\n"
          ]
        },
        {
          "data": {
            "image/png": "[encoded data removed]",
            "text/plain": [
              "<Figure size 432x288 with 2 Axes>"
            ]
          },
          "metadata": {
            "needs_background": "light"
          },
          "output_type": "display_data"
        },
        {
          "name": "stdout",
          "output_type": "stream",
          "text": [
            "              precision    recall  f1-score   support\n",
            "\n",
            "           B       1.00      1.00      1.00       285\n",
            "           M       1.00      1.00      1.00       170\n",
            "\n",
            "    accuracy                           1.00       455\n",
            "   macro avg       1.00      1.00      1.00       455\n",
            "weighted avg       1.00      1.00      1.00       455\n",
            "\n",
            "\n",
            "Métricas de avaliação de teste:\n",
            "[[72  0]\n",
            " [ 3 39]]\n"
          ]
        },
        {
          "data": {
            "image/png": "[encoded data removed]",
            "text/plain": [
              "<Figure size 432x288 with 2 Axes>"
            ]
          },
          "metadata": {
            "needs_background": "light"
          },
          "output_type": "display_data"
        },
        {
          "name": "stdout",
          "output_type": "stream",
          "text": [
            "              precision    recall  f1-score   support\n",
            "\n",
            "           B       0.96      1.00      0.98        72\n",
            "           M       1.00      0.93      0.96        42\n",
            "\n",
            "    accuracy                           0.97       114\n",
            "   macro avg       0.98      0.96      0.97       114\n",
            "weighted avg       0.97      0.97      0.97       114\n",
            "\n"
          ]
        }
      ],
      "source": [
        "metricas_classificacao(grid_ab, X_train, X_test, y_train, y_test)"
      ]
    },
    {
      "cell_type": "markdown",
      "metadata": {
        "id": "bAHiBJE_mzGa"
      },
      "source": [
        "Vamos rodar o modelo completo, só pra ver se o modelo com menos 2 features é melhor"
      ]
    },
    {
      "cell_type": "code",
      "execution_count": null,
      "metadata": {
        "ExecuteTime": {
          "end_time": "2022-03-11T22:46:09.822022Z",
          "start_time": "2022-03-11T22:45:54.151861Z"
        },
        "scrolled": true,
        "id": "IH6w8LOvmzGa",
        "outputId": "bba0b769-f2f1-436d-e717-97831ec4f250"
      },
      "outputs": [
        {
          "name": "stdout",
          "output_type": "stream",
          "text": [
            "Fitting 5 folds for each of 2 candidates, totalling 10 fits\n",
            "\n",
            "Métricas de avaliação de treino:\n",
            "[[285   0]\n",
            " [  0 170]]\n"
          ]
        },
        {
          "data": {
            "image/png": "[encoded data removed]",
            "text/plain": [
              "<Figure size 432x288 with 2 Axes>"
            ]
          },
          "metadata": {
            "needs_background": "light"
          },
          "output_type": "display_data"
        },
        {
          "name": "stdout",
          "output_type": "stream",
          "text": [
            "              precision    recall  f1-score   support\n",
            "\n",
            "           B       1.00      1.00      1.00       285\n",
            "           M       1.00      1.00      1.00       170\n",
            "\n",
            "    accuracy                           1.00       455\n",
            "   macro avg       1.00      1.00      1.00       455\n",
            "weighted avg       1.00      1.00      1.00       455\n",
            "\n",
            "\n",
            "Métricas de avaliação de teste:\n",
            "[[72  0]\n",
            " [ 4 38]]\n"
          ]
        },
        {
          "data": {
            "image/png": "[encoded data removed]",
            "text/plain": [
              "<Figure size 432x288 with 2 Axes>"
            ]
          },
          "metadata": {
            "needs_background": "light"
          },
          "output_type": "display_data"
        },
        {
          "name": "stdout",
          "output_type": "stream",
          "text": [
            "              precision    recall  f1-score   support\n",
            "\n",
            "           B       0.95      1.00      0.97        72\n",
            "           M       1.00      0.90      0.95        42\n",
            "\n",
            "    accuracy                           0.96       114\n",
            "   macro avg       0.97      0.95      0.96       114\n",
            "weighted avg       0.97      0.96      0.96       114\n",
            "\n"
          ]
        }
      ],
      "source": [
        "from sklearn.ensemble import AdaBoostClassifier\n",
        "\n",
        "pipe = Pipeline([(\"ab\", AdaBoostClassifier(base_estimator=DecisionTreeClassifier(max_depth=1,\n",
        "                                                                                 criterion=\"gini\",\n",
        "                                                                                 max_features=\"sqrt\",\n",
        "                                                                                 random_state=42),\n",
        "                                           random_state=42))])\n",
        "\n",
        "param_grid_ab = {\"ab__n_estimators\" : [100, 150]}\n",
        "\n",
        "splitter = StratifiedKFold(n_splits=5, shuffle=True, random_state=42)\n",
        "\n",
        "grid_ab = GridSearchCV(pipe, param_grid_ab, scoring=\"f1_weighted\", cv=splitter, verbose=10, n_jobs=-1)\n",
        "\n",
        "grid_ab.fit(X_train, y_train)\n",
        "\n",
        "metricas_classificacao(grid_ab, X_train, X_test, y_train, y_test)"
      ]
    },
    {
      "cell_type": "markdown",
      "metadata": {
        "id": "iQXLR7pBmzGa"
      },
      "source": [
        "Vamos mudar o estimador do RFE - usamos a regressão logística com o LASSO!\n",
        "\n",
        "Ou seja, estamos usando os `.coef_` pra atribuir a importância das features"
      ]
    },
    {
      "cell_type": "code",
      "execution_count": null,
      "metadata": {
        "ExecuteTime": {
          "end_time": "2022-03-11T22:50:21.312308Z",
          "start_time": "2022-03-11T22:48:54.897642Z"
        },
        "id": "iNoh9gaLmzGa",
        "outputId": "09be3163-27ec-4c37-fdc0-a47aad2f3478"
      },
      "outputs": [
        {
          "name": "stdout",
          "output_type": "stream",
          "text": [
            "Fitting 5 folds for each of 60 candidates, totalling 300 fits\n"
          ]
        },
        {
          "data": {
            "text/plain": [
              "GridSearchCV(cv=StratifiedKFold(n_splits=5, random_state=42, shuffle=True),\n",
              "             estimator=Pipeline(steps=[('ss', StandardScaler()),\n",
              "                                       ('rfe',\n",
              "                                        RFE(estimator=LogisticRegression(penalty='l1',\n",
              "                                                                         random_state=42,\n",
              "                                                                         solver='liblinear'))),\n",
              "                                       ('ab',\n",
              "                                        AdaBoostClassifier(base_estimator=DecisionTreeClassifier(max_depth=1,\n",
              "                                                                                                 max_features='sqrt',\n",
              "                                                                                                 random_state=42),\n",
              "                                                           n_estimators=150,\n",
              "                                                           random_state=42))]),\n",
              "             n_jobs=-1,\n",
              "             param_grid={'rfe__estimator__C': [0.001, 0.01],\n",
              "                         'rfe__n_features_to_select': range(1, 31)},\n",
              "             scoring='f1_weighted', verbose=10)"
            ]
          },
          "execution_count": 65,
          "metadata": {},
          "output_type": "execute_result"
        }
      ],
      "source": [
        "from sklearn.preprocessing import StandardScaler\n",
        "from sklearn.linear_model import LogisticRegression\n",
        "\n",
        "pipe = Pipeline([(\"ss\", StandardScaler()),\n",
        "                 (\"rfe\", RFE(estimator=LogisticRegression(random_state=42,\n",
        "                                                          penalty=\"l1\",\n",
        "                                                          solver=\"liblinear\"))),\n",
        "                 (\"ab\", AdaBoostClassifier(base_estimator=DecisionTreeClassifier(max_depth=1,\n",
        "                                                                                 criterion=\"gini\",\n",
        "                                                                                 max_features=\"sqrt\",\n",
        "                                                                                 random_state=42),\n",
        "                                           n_estimators=150,\n",
        "                                           random_state=42))])\n",
        "\n",
        "param_grid_ab = {\"rfe__estimator__C\" : [0.001, 0.01],\n",
        "                 \"rfe__n_features_to_select\" : range(1, X_train.shape[1]+1)}\n",
        "\n",
        "splitter = StratifiedKFold(n_splits=5, shuffle=True, random_state=42)\n",
        "\n",
        "grid_ab = GridSearchCV(pipe, param_grid_ab, scoring=\"f1_weighted\", cv=splitter, verbose=10, n_jobs=-1)\n",
        "\n",
        "grid_ab.fit(X_train, y_train)"
      ]
    },
    {
      "cell_type": "code",
      "execution_count": null,
      "metadata": {
        "ExecuteTime": {
          "end_time": "2022-03-11T22:50:21.346285Z",
          "start_time": "2022-03-11T22:50:21.316303Z"
        },
        "id": "ufP-z0nZmzGa",
        "outputId": "bc850172-62f3-416a-fdb6-d4556b78ad6e"
      },
      "outputs": [
        {
          "data": {
            "text/plain": [
              "{'rfe__estimator__C': 0.001, 'rfe__n_features_to_select': 28}"
            ]
          },
          "execution_count": 66,
          "metadata": {},
          "output_type": "execute_result"
        }
      ],
      "source": [
        "grid_ab.best_params_"
      ]
    },
    {
      "cell_type": "code",
      "execution_count": null,
      "metadata": {
        "ExecuteTime": {
          "end_time": "2022-03-11T22:50:22.338928Z",
          "start_time": "2022-03-11T22:50:21.351286Z"
        },
        "scrolled": true,
        "id": "Ge4nEvFHmzGa",
        "outputId": "3d337b39-ff8e-48a1-c208-4e7faae30de7"
      },
      "outputs": [
        {
          "name": "stdout",
          "output_type": "stream",
          "text": [
            "\n",
            "Métricas de avaliação de treino:\n",
            "[[285   0]\n",
            " [  0 170]]\n"
          ]
        },
        {
          "data": {
            "image/png": "[encoded data removed]",
            "text/plain": [
              "<Figure size 432x288 with 2 Axes>"
            ]
          },
          "metadata": {
            "needs_background": "light"
          },
          "output_type": "display_data"
        },
        {
          "name": "stdout",
          "output_type": "stream",
          "text": [
            "              precision    recall  f1-score   support\n",
            "\n",
            "           B       1.00      1.00      1.00       285\n",
            "           M       1.00      1.00      1.00       170\n",
            "\n",
            "    accuracy                           1.00       455\n",
            "   macro avg       1.00      1.00      1.00       455\n",
            "weighted avg       1.00      1.00      1.00       455\n",
            "\n",
            "\n",
            "Métricas de avaliação de teste:\n",
            "[[72  0]\n",
            " [ 5 37]]\n"
          ]
        },
        {
          "data": {
            "image/png": "[encoded data removed]",
            "text/plain": [
              "<Figure size 432x288 with 2 Axes>"
            ]
          },
          "metadata": {
            "needs_background": "light"
          },
          "output_type": "display_data"
        },
        {
          "name": "stdout",
          "output_type": "stream",
          "text": [
            "              precision    recall  f1-score   support\n",
            "\n",
            "           B       0.94      1.00      0.97        72\n",
            "           M       1.00      0.88      0.94        42\n",
            "\n",
            "    accuracy                           0.96       114\n",
            "   macro avg       0.97      0.94      0.95       114\n",
            "weighted avg       0.96      0.96      0.96       114\n",
            "\n"
          ]
        }
      ],
      "source": [
        "metricas_classificacao(grid_ab, X_train, X_test, y_train, y_test)"
      ]
    },
    {
      "cell_type": "markdown",
      "metadata": {
        "id": "ske9GKiXmzGa"
      },
      "source": [
        "_____________\n",
        "\n",
        "Uma versão mais \"enxuta\" (tem mais variáveis auxilares pros objetos) do código com o grid search"
      ]
    },
    {
      "cell_type": "code",
      "execution_count": null,
      "metadata": {
        "id": "N-KTNZ1MmzGa"
      },
      "outputs": [],
      "source": [
        "from sklearn.preprocessing import StandardScaler\n",
        "from sklearn.linear_model import LogisticRegression\n",
        "\n",
        "rfe_estimator = LogisticRegression(random_state=42,penalty=\"l1\",solver=\"liblinear\")\n",
        "rfe_obj = RFE(estimator=rfe_estimator)\n",
        "\n",
        "ab_base_estimator = DecisionTreeClassifier(max_depth=1, criterion=\"gini\", max_features=\"sqrt\", random_state=42)\n",
        "ab_obj = AdaBoostClassifier(base_estimator=ab_base_estimator, n_estimators=150, random_state=42)\n",
        "\n",
        "pipe = Pipeline([(\"ss\", StandardScaler()),\n",
        "                 (\"rfe\", rfe_obj),\n",
        "                 (\"ab\", ab_obj)])\n",
        "\n",
        "param_grid_ab = {\"rfe__estimator__C\" : [0.001, 0.01],\n",
        "                 \"rfe__n_features_to_select\" : range(1, X_train.shape[1]+1)}\n",
        "\n",
        "splitter = StratifiedKFold(n_splits=5, shuffle=True, random_state=42)\n",
        "\n",
        "grid_ab = GridSearchCV(pipe, param_grid_ab, scoring=\"f1_weighted\", cv=splitter, verbose=10, n_jobs=-1)\n",
        "\n",
        "grid_ab.fit(X_train, y_train)"
      ]
    }
  ],
  "metadata": {
    "kernelspec": {
      "display_name": "Python 3",
      "language": "python",
      "name": "python3"
    },
    "language_info": {
      "codemirror_mode": {
        "name": "ipython",
        "version": 3
      },
      "file_extension": ".py",
      "mimetype": "text/x-python",
      "name": "python",
      "nbconvert_exporter": "python",
      "pygments_lexer": "ipython3",
      "version": "3.8.3"
    },
    "colab": {
      "provenance": [],
      "include_colab_link": true
    }
  },
  "nbformat": 4,
  "nbformat_minor": 0
}