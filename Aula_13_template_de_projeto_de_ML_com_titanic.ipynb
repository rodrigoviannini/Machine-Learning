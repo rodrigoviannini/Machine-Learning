{
  "cells": [
    {
      "cell_type": "markdown",
      "metadata": {
        "id": "view-in-github",
        "colab_type": "text"
      },
      "source": [
        "<a href=\"https://colab.research.google.com/github/rodrigoviannini/Machine-Learning/blob/main/Aula_13_template_de_projeto_de_ML_com_titanic.ipynb\" target=\"_parent\"><img src=\"https://colab.research.google.com/assets/colab-badge.svg\" alt=\"Open In Colab\"/></a>"
      ]
    },
    {
      "cell_type": "markdown",
      "metadata": {
        "id": "XJD7-ANblxmP"
      },
      "source": [
        "# Aula 13 - template de projeto de ML com titanic"
      ]
    },
    {
      "cell_type": "code",
      "execution_count": null,
      "metadata": {
        "ExecuteTime": {
          "end_time": "2022-03-18T22:12:56.833714Z",
          "start_time": "2022-03-18T22:12:56.736714Z"
        },
        "id": "EAWgiMZalxmR"
      },
      "outputs": [],
      "source": [
        "# recarregar automaticamente as alterações que fizermos no .py\n",
        "%load_ext autoreload\n",
        "%autoreload 2"
      ]
    },
    {
      "cell_type": "code",
      "execution_count": null,
      "metadata": {
        "ExecuteTime": {
          "end_time": "2022-03-18T22:13:03.508899Z",
          "start_time": "2022-03-18T22:12:57.821874Z"
        },
        "id": "MQpLVpJ2lxmS"
      },
      "outputs": [],
      "source": [
        "from titanic_utils import *"
      ]
    },
    {
      "cell_type": "markdown",
      "metadata": {
        "id": "moYsOPnClxmS"
      },
      "source": [
        "Base utilizada: titanic3, versão melhorada da base.\n",
        "\n",
        "Para mais informações, [veja aqui](https://www.openml.org/d/40945) ou então [aqui](https://rdrr.io/cran/PASWR/man/titanic3.html)."
      ]
    },
    {
      "cell_type": "markdown",
      "metadata": {
        "id": "Qi9Vifw5lxmS"
      },
      "source": [
        "____\n",
        "____\n",
        "____"
      ]
    },
    {
      "cell_type": "markdown",
      "metadata": {
        "id": "2VNM5g_-lxmS"
      },
      "source": [
        "### Analise a estrututura da base e representação dos NaNs"
      ]
    },
    {
      "cell_type": "code",
      "execution_count": null,
      "metadata": {
        "ExecuteTime": {
          "end_time": "2022-03-18T22:13:35.842997Z",
          "start_time": "2022-03-18T22:13:35.587343Z"
        },
        "id": "cmTUq3z7lxmS"
      },
      "outputs": [],
      "source": [
        "df = pd.read_csv(\"../datasets/titanic.csv\", na_values=\"?\")"
      ]
    },
    {
      "cell_type": "code",
      "execution_count": null,
      "metadata": {
        "ExecuteTime": {
          "end_time": "2022-03-18T22:13:36.236816Z",
          "start_time": "2022-03-18T22:13:35.924995Z"
        },
        "id": "5p4MH-IBlxmS",
        "outputId": "83f707ba-9703-48d5-c63e-19779d484b86"
      },
      "outputs": [
        {
          "name": "stdout",
          "output_type": "stream",
          "text": [
            "<class 'pandas.core.frame.DataFrame'>\n",
            "RangeIndex: 1309 entries, 0 to 1308\n",
            "Data columns (total 14 columns):\n",
            " #   Column     Non-Null Count  Dtype  \n",
            "---  ------     --------------  -----  \n",
            " 0   pclass     1309 non-null   int64  \n",
            " 1   survived   1309 non-null   int64  \n",
            " 2   name       1309 non-null   object \n",
            " 3   sex        1309 non-null   object \n",
            " 4   age        1046 non-null   float64\n",
            " 5   sibsp      1309 non-null   int64  \n",
            " 6   parch      1309 non-null   int64  \n",
            " 7   ticket     1309 non-null   object \n",
            " 8   fare       1308 non-null   float64\n",
            " 9   cabin      295 non-null    object \n",
            " 10  embarked   1307 non-null   object \n",
            " 11  boat       486 non-null    object \n",
            " 12  body       121 non-null    float64\n",
            " 13  home.dest  745 non-null    object \n",
            "dtypes: float64(3), int64(4), object(7)\n",
            "memory usage: 143.3+ KB\n"
          ]
        }
      ],
      "source": [
        "df.info()"
      ]
    },
    {
      "cell_type": "code",
      "execution_count": null,
      "metadata": {
        "ExecuteTime": {
          "end_time": "2022-03-18T22:13:36.549638Z",
          "start_time": "2022-03-18T22:13:36.282792Z"
        },
        "id": "Vn23DLqMlxmT",
        "outputId": "8844e848-28e5-4684-c99f-5a1d1f5b148f"
      },
      "outputs": [
        {
          "data": {
            "text/html": [
              "<div>\n",
              "<style scoped>\n",
              "    .dataframe tbody tr th:only-of-type {\n",
              "        vertical-align: middle;\n",
              "    }\n",
              "\n",
              "    .dataframe tbody tr th {\n",
              "        vertical-align: top;\n",
              "    }\n",
              "\n",
              "    .dataframe thead th {\n",
              "        text-align: right;\n",
              "    }\n",
              "</style>\n",
              "<table border=\"1\" class=\"dataframe\">\n",
              "  <thead>\n",
              "    <tr style=\"text-align: right;\">\n",
              "      <th></th>\n",
              "      <th>pclass</th>\n",
              "      <th>survived</th>\n",
              "      <th>name</th>\n",
              "      <th>sex</th>\n",
              "      <th>age</th>\n",
              "      <th>sibsp</th>\n",
              "      <th>parch</th>\n",
              "      <th>ticket</th>\n",
              "      <th>fare</th>\n",
              "      <th>cabin</th>\n",
              "      <th>embarked</th>\n",
              "      <th>boat</th>\n",
              "      <th>body</th>\n",
              "      <th>home.dest</th>\n",
              "    </tr>\n",
              "  </thead>\n",
              "  <tbody>\n",
              "    <tr>\n",
              "      <th>0</th>\n",
              "      <td>1</td>\n",
              "      <td>1</td>\n",
              "      <td>Allen, Miss. Elisabeth Walton</td>\n",
              "      <td>female</td>\n",
              "      <td>29.0000</td>\n",
              "      <td>0</td>\n",
              "      <td>0</td>\n",
              "      <td>24160</td>\n",
              "      <td>211.3375</td>\n",
              "      <td>B5</td>\n",
              "      <td>S</td>\n",
              "      <td>2</td>\n",
              "      <td>NaN</td>\n",
              "      <td>St Louis, MO</td>\n",
              "    </tr>\n",
              "    <tr>\n",
              "      <th>1</th>\n",
              "      <td>1</td>\n",
              "      <td>1</td>\n",
              "      <td>Allison, Master. Hudson Trevor</td>\n",
              "      <td>male</td>\n",
              "      <td>0.9167</td>\n",
              "      <td>1</td>\n",
              "      <td>2</td>\n",
              "      <td>113781</td>\n",
              "      <td>151.5500</td>\n",
              "      <td>C22 C26</td>\n",
              "      <td>S</td>\n",
              "      <td>11</td>\n",
              "      <td>NaN</td>\n",
              "      <td>Montreal, PQ / Chesterville, ON</td>\n",
              "    </tr>\n",
              "    <tr>\n",
              "      <th>2</th>\n",
              "      <td>1</td>\n",
              "      <td>0</td>\n",
              "      <td>Allison, Miss. Helen Loraine</td>\n",
              "      <td>female</td>\n",
              "      <td>2.0000</td>\n",
              "      <td>1</td>\n",
              "      <td>2</td>\n",
              "      <td>113781</td>\n",
              "      <td>151.5500</td>\n",
              "      <td>C22 C26</td>\n",
              "      <td>S</td>\n",
              "      <td>NaN</td>\n",
              "      <td>NaN</td>\n",
              "      <td>Montreal, PQ / Chesterville, ON</td>\n",
              "    </tr>\n",
              "    <tr>\n",
              "      <th>3</th>\n",
              "      <td>1</td>\n",
              "      <td>0</td>\n",
              "      <td>Allison, Mr. Hudson Joshua Creighton</td>\n",
              "      <td>male</td>\n",
              "      <td>30.0000</td>\n",
              "      <td>1</td>\n",
              "      <td>2</td>\n",
              "      <td>113781</td>\n",
              "      <td>151.5500</td>\n",
              "      <td>C22 C26</td>\n",
              "      <td>S</td>\n",
              "      <td>NaN</td>\n",
              "      <td>135.0</td>\n",
              "      <td>Montreal, PQ / Chesterville, ON</td>\n",
              "    </tr>\n",
              "    <tr>\n",
              "      <th>4</th>\n",
              "      <td>1</td>\n",
              "      <td>0</td>\n",
              "      <td>Allison, Mrs. Hudson J C (Bessie Waldo Daniels)</td>\n",
              "      <td>female</td>\n",
              "      <td>25.0000</td>\n",
              "      <td>1</td>\n",
              "      <td>2</td>\n",
              "      <td>113781</td>\n",
              "      <td>151.5500</td>\n",
              "      <td>C22 C26</td>\n",
              "      <td>S</td>\n",
              "      <td>NaN</td>\n",
              "      <td>NaN</td>\n",
              "      <td>Montreal, PQ / Chesterville, ON</td>\n",
              "    </tr>\n",
              "    <tr>\n",
              "      <th>...</th>\n",
              "      <td>...</td>\n",
              "      <td>...</td>\n",
              "      <td>...</td>\n",
              "      <td>...</td>\n",
              "      <td>...</td>\n",
              "      <td>...</td>\n",
              "      <td>...</td>\n",
              "      <td>...</td>\n",
              "      <td>...</td>\n",
              "      <td>...</td>\n",
              "      <td>...</td>\n",
              "      <td>...</td>\n",
              "      <td>...</td>\n",
              "      <td>...</td>\n",
              "    </tr>\n",
              "    <tr>\n",
              "      <th>1304</th>\n",
              "      <td>3</td>\n",
              "      <td>0</td>\n",
              "      <td>Zabour, Miss. Hileni</td>\n",
              "      <td>female</td>\n",
              "      <td>14.5000</td>\n",
              "      <td>1</td>\n",
              "      <td>0</td>\n",
              "      <td>2665</td>\n",
              "      <td>14.4542</td>\n",
              "      <td>NaN</td>\n",
              "      <td>C</td>\n",
              "      <td>NaN</td>\n",
              "      <td>328.0</td>\n",
              "      <td>NaN</td>\n",
              "    </tr>\n",
              "    <tr>\n",
              "      <th>1305</th>\n",
              "      <td>3</td>\n",
              "      <td>0</td>\n",
              "      <td>Zabour, Miss. Thamine</td>\n",
              "      <td>female</td>\n",
              "      <td>NaN</td>\n",
              "      <td>1</td>\n",
              "      <td>0</td>\n",
              "      <td>2665</td>\n",
              "      <td>14.4542</td>\n",
              "      <td>NaN</td>\n",
              "      <td>C</td>\n",
              "      <td>NaN</td>\n",
              "      <td>NaN</td>\n",
              "      <td>NaN</td>\n",
              "    </tr>\n",
              "    <tr>\n",
              "      <th>1306</th>\n",
              "      <td>3</td>\n",
              "      <td>0</td>\n",
              "      <td>Zakarian, Mr. Mapriededer</td>\n",
              "      <td>male</td>\n",
              "      <td>26.5000</td>\n",
              "      <td>0</td>\n",
              "      <td>0</td>\n",
              "      <td>2656</td>\n",
              "      <td>7.2250</td>\n",
              "      <td>NaN</td>\n",
              "      <td>C</td>\n",
              "      <td>NaN</td>\n",
              "      <td>304.0</td>\n",
              "      <td>NaN</td>\n",
              "    </tr>\n",
              "    <tr>\n",
              "      <th>1307</th>\n",
              "      <td>3</td>\n",
              "      <td>0</td>\n",
              "      <td>Zakarian, Mr. Ortin</td>\n",
              "      <td>male</td>\n",
              "      <td>27.0000</td>\n",
              "      <td>0</td>\n",
              "      <td>0</td>\n",
              "      <td>2670</td>\n",
              "      <td>7.2250</td>\n",
              "      <td>NaN</td>\n",
              "      <td>C</td>\n",
              "      <td>NaN</td>\n",
              "      <td>NaN</td>\n",
              "      <td>NaN</td>\n",
              "    </tr>\n",
              "    <tr>\n",
              "      <th>1308</th>\n",
              "      <td>3</td>\n",
              "      <td>0</td>\n",
              "      <td>Zimmerman, Mr. Leo</td>\n",
              "      <td>male</td>\n",
              "      <td>29.0000</td>\n",
              "      <td>0</td>\n",
              "      <td>0</td>\n",
              "      <td>315082</td>\n",
              "      <td>7.8750</td>\n",
              "      <td>NaN</td>\n",
              "      <td>S</td>\n",
              "      <td>NaN</td>\n",
              "      <td>NaN</td>\n",
              "      <td>NaN</td>\n",
              "    </tr>\n",
              "  </tbody>\n",
              "</table>\n",
              "<p>1309 rows × 14 columns</p>\n",
              "</div>"
            ],
            "text/plain": [
              "      pclass  survived                                             name  \\\n",
              "0          1         1                    Allen, Miss. Elisabeth Walton   \n",
              "1          1         1                   Allison, Master. Hudson Trevor   \n",
              "2          1         0                     Allison, Miss. Helen Loraine   \n",
              "3          1         0             Allison, Mr. Hudson Joshua Creighton   \n",
              "4          1         0  Allison, Mrs. Hudson J C (Bessie Waldo Daniels)   \n",
              "...      ...       ...                                              ...   \n",
              "1304       3         0                             Zabour, Miss. Hileni   \n",
              "1305       3         0                            Zabour, Miss. Thamine   \n",
              "1306       3         0                        Zakarian, Mr. Mapriededer   \n",
              "1307       3         0                              Zakarian, Mr. Ortin   \n",
              "1308       3         0                               Zimmerman, Mr. Leo   \n",
              "\n",
              "         sex      age  sibsp  parch  ticket      fare    cabin embarked boat  \\\n",
              "0     female  29.0000      0      0   24160  211.3375       B5        S    2   \n",
              "1       male   0.9167      1      2  113781  151.5500  C22 C26        S   11   \n",
              "2     female   2.0000      1      2  113781  151.5500  C22 C26        S  NaN   \n",
              "3       male  30.0000      1      2  113781  151.5500  C22 C26        S  NaN   \n",
              "4     female  25.0000      1      2  113781  151.5500  C22 C26        S  NaN   \n",
              "...      ...      ...    ...    ...     ...       ...      ...      ...  ...   \n",
              "1304  female  14.5000      1      0    2665   14.4542      NaN        C  NaN   \n",
              "1305  female      NaN      1      0    2665   14.4542      NaN        C  NaN   \n",
              "1306    male  26.5000      0      0    2656    7.2250      NaN        C  NaN   \n",
              "1307    male  27.0000      0      0    2670    7.2250      NaN        C  NaN   \n",
              "1308    male  29.0000      0      0  315082    7.8750      NaN        S  NaN   \n",
              "\n",
              "       body                        home.dest  \n",
              "0       NaN                     St Louis, MO  \n",
              "1       NaN  Montreal, PQ / Chesterville, ON  \n",
              "2       NaN  Montreal, PQ / Chesterville, ON  \n",
              "3     135.0  Montreal, PQ / Chesterville, ON  \n",
              "4       NaN  Montreal, PQ / Chesterville, ON  \n",
              "...     ...                              ...  \n",
              "1304  328.0                              NaN  \n",
              "1305    NaN                              NaN  \n",
              "1306  304.0                              NaN  \n",
              "1307    NaN                              NaN  \n",
              "1308    NaN                              NaN  \n",
              "\n",
              "[1309 rows x 14 columns]"
            ]
          },
          "execution_count": 5,
          "metadata": {},
          "output_type": "execute_result"
        }
      ],
      "source": [
        "df"
      ]
    },
    {
      "cell_type": "markdown",
      "metadata": {
        "id": "a7VKzHXAlxmT"
      },
      "source": [
        "__________"
      ]
    },
    {
      "cell_type": "markdown",
      "metadata": {
        "id": "vO5a3vS6lxmT"
      },
      "source": [
        "## EDA entraria aqui."
      ]
    },
    {
      "cell_type": "code",
      "execution_count": null,
      "metadata": {
        "ExecuteTime": {
          "end_time": "2022-03-18T22:23:04.001499Z",
          "start_time": "2022-03-18T22:23:03.768632Z"
        },
        "id": "31wLTWnplxmT",
        "outputId": "f55627c2-5dad-4456-b752-ff76d58b3633"
      },
      "outputs": [
        {
          "data": {
            "text/html": [
              "<div>\n",
              "<style scoped>\n",
              "    .dataframe tbody tr th:only-of-type {\n",
              "        vertical-align: middle;\n",
              "    }\n",
              "\n",
              "    .dataframe tbody tr th {\n",
              "        vertical-align: top;\n",
              "    }\n",
              "\n",
              "    .dataframe thead th {\n",
              "        text-align: right;\n",
              "    }\n",
              "</style>\n",
              "<table border=\"1\" class=\"dataframe\">\n",
              "  <thead>\n",
              "    <tr style=\"text-align: right;\">\n",
              "      <th></th>\n",
              "      <th>pclass</th>\n",
              "      <th>survived</th>\n",
              "      <th>name</th>\n",
              "      <th>sex</th>\n",
              "      <th>age</th>\n",
              "      <th>sibsp</th>\n",
              "      <th>parch</th>\n",
              "      <th>ticket</th>\n",
              "      <th>fare</th>\n",
              "      <th>cabin</th>\n",
              "      <th>embarked</th>\n",
              "      <th>boat</th>\n",
              "      <th>body</th>\n",
              "      <th>home.dest</th>\n",
              "    </tr>\n",
              "  </thead>\n",
              "  <tbody>\n",
              "    <tr>\n",
              "      <th>0</th>\n",
              "      <td>1</td>\n",
              "      <td>1</td>\n",
              "      <td>Allen, Miss. Elisabeth Walton</td>\n",
              "      <td>female</td>\n",
              "      <td>29.0000</td>\n",
              "      <td>0</td>\n",
              "      <td>0</td>\n",
              "      <td>24160</td>\n",
              "      <td>211.3375</td>\n",
              "      <td>B5</td>\n",
              "      <td>S</td>\n",
              "      <td>2</td>\n",
              "      <td>NaN</td>\n",
              "      <td>St Louis, MO</td>\n",
              "    </tr>\n",
              "    <tr>\n",
              "      <th>1</th>\n",
              "      <td>1</td>\n",
              "      <td>1</td>\n",
              "      <td>Allison, Master. Hudson Trevor</td>\n",
              "      <td>male</td>\n",
              "      <td>0.9167</td>\n",
              "      <td>1</td>\n",
              "      <td>2</td>\n",
              "      <td>113781</td>\n",
              "      <td>151.5500</td>\n",
              "      <td>C22 C26</td>\n",
              "      <td>S</td>\n",
              "      <td>11</td>\n",
              "      <td>NaN</td>\n",
              "      <td>Montreal, PQ / Chesterville, ON</td>\n",
              "    </tr>\n",
              "    <tr>\n",
              "      <th>2</th>\n",
              "      <td>1</td>\n",
              "      <td>0</td>\n",
              "      <td>Allison, Miss. Helen Loraine</td>\n",
              "      <td>female</td>\n",
              "      <td>2.0000</td>\n",
              "      <td>1</td>\n",
              "      <td>2</td>\n",
              "      <td>113781</td>\n",
              "      <td>151.5500</td>\n",
              "      <td>C22 C26</td>\n",
              "      <td>S</td>\n",
              "      <td>NaN</td>\n",
              "      <td>NaN</td>\n",
              "      <td>Montreal, PQ / Chesterville, ON</td>\n",
              "    </tr>\n",
              "    <tr>\n",
              "      <th>3</th>\n",
              "      <td>1</td>\n",
              "      <td>0</td>\n",
              "      <td>Allison, Mr. Hudson Joshua Creighton</td>\n",
              "      <td>male</td>\n",
              "      <td>30.0000</td>\n",
              "      <td>1</td>\n",
              "      <td>2</td>\n",
              "      <td>113781</td>\n",
              "      <td>151.5500</td>\n",
              "      <td>C22 C26</td>\n",
              "      <td>S</td>\n",
              "      <td>NaN</td>\n",
              "      <td>135.0</td>\n",
              "      <td>Montreal, PQ / Chesterville, ON</td>\n",
              "    </tr>\n",
              "    <tr>\n",
              "      <th>4</th>\n",
              "      <td>1</td>\n",
              "      <td>0</td>\n",
              "      <td>Allison, Mrs. Hudson J C (Bessie Waldo Daniels)</td>\n",
              "      <td>female</td>\n",
              "      <td>25.0000</td>\n",
              "      <td>1</td>\n",
              "      <td>2</td>\n",
              "      <td>113781</td>\n",
              "      <td>151.5500</td>\n",
              "      <td>C22 C26</td>\n",
              "      <td>S</td>\n",
              "      <td>NaN</td>\n",
              "      <td>NaN</td>\n",
              "      <td>Montreal, PQ / Chesterville, ON</td>\n",
              "    </tr>\n",
              "    <tr>\n",
              "      <th>...</th>\n",
              "      <td>...</td>\n",
              "      <td>...</td>\n",
              "      <td>...</td>\n",
              "      <td>...</td>\n",
              "      <td>...</td>\n",
              "      <td>...</td>\n",
              "      <td>...</td>\n",
              "      <td>...</td>\n",
              "      <td>...</td>\n",
              "      <td>...</td>\n",
              "      <td>...</td>\n",
              "      <td>...</td>\n",
              "      <td>...</td>\n",
              "      <td>...</td>\n",
              "    </tr>\n",
              "    <tr>\n",
              "      <th>1304</th>\n",
              "      <td>3</td>\n",
              "      <td>0</td>\n",
              "      <td>Zabour, Miss. Hileni</td>\n",
              "      <td>female</td>\n",
              "      <td>14.5000</td>\n",
              "      <td>1</td>\n",
              "      <td>0</td>\n",
              "      <td>2665</td>\n",
              "      <td>14.4542</td>\n",
              "      <td>NaN</td>\n",
              "      <td>C</td>\n",
              "      <td>NaN</td>\n",
              "      <td>328.0</td>\n",
              "      <td>NaN</td>\n",
              "    </tr>\n",
              "    <tr>\n",
              "      <th>1305</th>\n",
              "      <td>3</td>\n",
              "      <td>0</td>\n",
              "      <td>Zabour, Miss. Thamine</td>\n",
              "      <td>female</td>\n",
              "      <td>NaN</td>\n",
              "      <td>1</td>\n",
              "      <td>0</td>\n",
              "      <td>2665</td>\n",
              "      <td>14.4542</td>\n",
              "      <td>NaN</td>\n",
              "      <td>C</td>\n",
              "      <td>NaN</td>\n",
              "      <td>NaN</td>\n",
              "      <td>NaN</td>\n",
              "    </tr>\n",
              "    <tr>\n",
              "      <th>1306</th>\n",
              "      <td>3</td>\n",
              "      <td>0</td>\n",
              "      <td>Zakarian, Mr. Mapriededer</td>\n",
              "      <td>male</td>\n",
              "      <td>26.5000</td>\n",
              "      <td>0</td>\n",
              "      <td>0</td>\n",
              "      <td>2656</td>\n",
              "      <td>7.2250</td>\n",
              "      <td>NaN</td>\n",
              "      <td>C</td>\n",
              "      <td>NaN</td>\n",
              "      <td>304.0</td>\n",
              "      <td>NaN</td>\n",
              "    </tr>\n",
              "    <tr>\n",
              "      <th>1307</th>\n",
              "      <td>3</td>\n",
              "      <td>0</td>\n",
              "      <td>Zakarian, Mr. Ortin</td>\n",
              "      <td>male</td>\n",
              "      <td>27.0000</td>\n",
              "      <td>0</td>\n",
              "      <td>0</td>\n",
              "      <td>2670</td>\n",
              "      <td>7.2250</td>\n",
              "      <td>NaN</td>\n",
              "      <td>C</td>\n",
              "      <td>NaN</td>\n",
              "      <td>NaN</td>\n",
              "      <td>NaN</td>\n",
              "    </tr>\n",
              "    <tr>\n",
              "      <th>1308</th>\n",
              "      <td>3</td>\n",
              "      <td>0</td>\n",
              "      <td>Zimmerman, Mr. Leo</td>\n",
              "      <td>male</td>\n",
              "      <td>29.0000</td>\n",
              "      <td>0</td>\n",
              "      <td>0</td>\n",
              "      <td>315082</td>\n",
              "      <td>7.8750</td>\n",
              "      <td>NaN</td>\n",
              "      <td>S</td>\n",
              "      <td>NaN</td>\n",
              "      <td>NaN</td>\n",
              "      <td>NaN</td>\n",
              "    </tr>\n",
              "  </tbody>\n",
              "</table>\n",
              "<p>1309 rows × 14 columns</p>\n",
              "</div>"
            ],
            "text/plain": [
              "      pclass  survived                                             name  \\\n",
              "0          1         1                    Allen, Miss. Elisabeth Walton   \n",
              "1          1         1                   Allison, Master. Hudson Trevor   \n",
              "2          1         0                     Allison, Miss. Helen Loraine   \n",
              "3          1         0             Allison, Mr. Hudson Joshua Creighton   \n",
              "4          1         0  Allison, Mrs. Hudson J C (Bessie Waldo Daniels)   \n",
              "...      ...       ...                                              ...   \n",
              "1304       3         0                             Zabour, Miss. Hileni   \n",
              "1305       3         0                            Zabour, Miss. Thamine   \n",
              "1306       3         0                        Zakarian, Mr. Mapriededer   \n",
              "1307       3         0                              Zakarian, Mr. Ortin   \n",
              "1308       3         0                               Zimmerman, Mr. Leo   \n",
              "\n",
              "         sex      age  sibsp  parch  ticket      fare    cabin embarked boat  \\\n",
              "0     female  29.0000      0      0   24160  211.3375       B5        S    2   \n",
              "1       male   0.9167      1      2  113781  151.5500  C22 C26        S   11   \n",
              "2     female   2.0000      1      2  113781  151.5500  C22 C26        S  NaN   \n",
              "3       male  30.0000      1      2  113781  151.5500  C22 C26        S  NaN   \n",
              "4     female  25.0000      1      2  113781  151.5500  C22 C26        S  NaN   \n",
              "...      ...      ...    ...    ...     ...       ...      ...      ...  ...   \n",
              "1304  female  14.5000      1      0    2665   14.4542      NaN        C  NaN   \n",
              "1305  female      NaN      1      0    2665   14.4542      NaN        C  NaN   \n",
              "1306    male  26.5000      0      0    2656    7.2250      NaN        C  NaN   \n",
              "1307    male  27.0000      0      0    2670    7.2250      NaN        C  NaN   \n",
              "1308    male  29.0000      0      0  315082    7.8750      NaN        S  NaN   \n",
              "\n",
              "       body                        home.dest  \n",
              "0       NaN                     St Louis, MO  \n",
              "1       NaN  Montreal, PQ / Chesterville, ON  \n",
              "2       NaN  Montreal, PQ / Chesterville, ON  \n",
              "3     135.0  Montreal, PQ / Chesterville, ON  \n",
              "4       NaN  Montreal, PQ / Chesterville, ON  \n",
              "...     ...                              ...  \n",
              "1304  328.0                              NaN  \n",
              "1305    NaN                              NaN  \n",
              "1306  304.0                              NaN  \n",
              "1307    NaN                              NaN  \n",
              "1308    NaN                              NaN  \n",
              "\n",
              "[1309 rows x 14 columns]"
            ]
          },
          "execution_count": 11,
          "metadata": {},
          "output_type": "execute_result"
        }
      ],
      "source": [
        "df"
      ]
    },
    {
      "cell_type": "code",
      "execution_count": null,
      "metadata": {
        "ExecuteTime": {
          "end_time": "2022-03-18T22:25:28.968630Z",
          "start_time": "2022-03-18T22:25:28.788733Z"
        },
        "id": "q-bYSXjklxmU",
        "outputId": "838afc30-81c0-4312-d84e-5682ea2f60ca"
      },
      "outputs": [
        {
          "data": {
            "text/plain": [
              "1307"
            ]
          },
          "execution_count": 14,
          "metadata": {},
          "output_type": "execute_result"
        }
      ],
      "source": [
        "df[\"name\"].nunique()"
      ]
    },
    {
      "cell_type": "code",
      "execution_count": null,
      "metadata": {
        "ExecuteTime": {
          "end_time": "2022-03-18T22:25:30.690622Z",
          "start_time": "2022-03-18T22:25:30.508207Z"
        },
        "id": "vvALGbYjlxmU",
        "outputId": "adc5a16f-f174-4345-cb13-f41c342dfe80"
      },
      "outputs": [
        {
          "data": {
            "text/plain": [
              "369"
            ]
          },
          "execution_count": 15,
          "metadata": {},
          "output_type": "execute_result"
        }
      ],
      "source": [
        "df[\"home.dest\"].nunique()"
      ]
    },
    {
      "cell_type": "markdown",
      "metadata": {
        "ExecuteTime": {
          "end_time": "2022-03-18T16:26:36.858262Z",
          "start_time": "2022-03-18T16:26:36.711347Z"
        },
        "id": "w6cW3tM5lxmU"
      },
      "source": [
        "### Criação de features na EDA"
      ]
    },
    {
      "cell_type": "code",
      "execution_count": null,
      "metadata": {
        "ExecuteTime": {
          "end_time": "2022-03-18T22:28:26.831131Z",
          "start_time": "2022-03-18T22:28:26.668220Z"
        },
        "id": "Ozmn8K8blxmU",
        "outputId": "da809889-1fa0-4119-dece-fbfe3f839336"
      },
      "outputs": [
        {
          "data": {
            "text/plain": [
              "0                         Allen, Miss. Elisabeth Walton\n",
              "1                        Allison, Master. Hudson Trevor\n",
              "2                          Allison, Miss. Helen Loraine\n",
              "3                  Allison, Mr. Hudson Joshua Creighton\n",
              "4       Allison, Mrs. Hudson J C (Bessie Waldo Daniels)\n",
              "                             ...                       \n",
              "1304                               Zabour, Miss. Hileni\n",
              "1305                              Zabour, Miss. Thamine\n",
              "1306                          Zakarian, Mr. Mapriededer\n",
              "1307                                Zakarian, Mr. Ortin\n",
              "1308                                 Zimmerman, Mr. Leo\n",
              "Name: name, Length: 1309, dtype: object"
            ]
          },
          "execution_count": 20,
          "metadata": {},
          "output_type": "execute_result"
        }
      ],
      "source": [
        "df[\"name\"]"
      ]
    },
    {
      "cell_type": "code",
      "execution_count": null,
      "metadata": {
        "ExecuteTime": {
          "end_time": "2022-03-18T22:37:07.120616Z",
          "start_time": "2022-03-18T22:37:06.954447Z"
        },
        "id": "Uh4F1oaglxmU",
        "outputId": "d65ea455-3020-4d32-859e-8836902d7aa1"
      },
      "outputs": [
        {
          "data": {
            "text/plain": [
              "'Miss'"
            ]
          },
          "execution_count": 30,
          "metadata": {},
          "output_type": "execute_result"
        }
      ],
      "source": [
        "nome = \"Allen, Miss. Elisabeth Walton\"\n",
        "\n",
        "nome.split(\".\")[0].split(\", \")[-1]"
      ]
    },
    {
      "cell_type": "code",
      "execution_count": null,
      "metadata": {
        "ExecuteTime": {
          "end_time": "2022-03-18T22:37:54.129376Z",
          "start_time": "2022-03-18T22:37:53.954866Z"
        },
        "id": "7xepZ_r4lxmV",
        "outputId": "d817134c-3e6e-4e75-9ab5-c5a272179ebe"
      },
      "outputs": [
        {
          "data": {
            "text/plain": [
              "'Miss'"
            ]
          },
          "execution_count": 35,
          "metadata": {},
          "output_type": "execute_result"
        }
      ],
      "source": [
        "nome.split(\", \")[-1].split(\".\")[0]"
      ]
    },
    {
      "cell_type": "code",
      "execution_count": null,
      "metadata": {
        "ExecuteTime": {
          "end_time": "2022-03-18T22:30:00.791056Z",
          "start_time": "2022-03-18T22:30:00.479631Z"
        },
        "id": "-qjryAhMlxmV",
        "outputId": "015679c0-8fc3-4a79-c440-962b905bb510"
      },
      "outputs": [
        {
          "data": {
            "text/plain": [
              "0           Allen\n",
              "1         Allison\n",
              "2         Allison\n",
              "3         Allison\n",
              "4         Allison\n",
              "          ...    \n",
              "1304       Zabour\n",
              "1305       Zabour\n",
              "1306     Zakarian\n",
              "1307     Zakarian\n",
              "1308    Zimmerman\n",
              "Name: name, Length: 1309, dtype: object"
            ]
          },
          "execution_count": 23,
          "metadata": {},
          "output_type": "execute_result"
        }
      ],
      "source": [
        "df[\"name\"].apply(lambda x: x.split(\",\")[0])"
      ]
    },
    {
      "cell_type": "code",
      "execution_count": null,
      "metadata": {
        "ExecuteTime": {
          "end_time": "2022-03-18T22:38:47.390018Z",
          "start_time": "2022-03-18T22:38:47.187135Z"
        },
        "id": "vaLmUWDklxmV",
        "outputId": "411a7b8a-6c08-4276-e072-d8496a207447"
      },
      "outputs": [
        {
          "data": {
            "text/plain": [
              "875"
            ]
          },
          "execution_count": 36,
          "metadata": {},
          "output_type": "execute_result"
        }
      ],
      "source": [
        "df[\"name\"].apply(lambda x: x.split(\",\")[0]).nunique()"
      ]
    },
    {
      "cell_type": "code",
      "execution_count": null,
      "metadata": {
        "ExecuteTime": {
          "end_time": "2022-03-18T22:36:29.001386Z",
          "start_time": "2022-03-18T22:36:28.763524Z"
        },
        "id": "xug28cfPlxmV",
        "outputId": "34ec0da2-c7bc-4d8c-ce4d-cb2a7cd72003"
      },
      "outputs": [
        {
          "data": {
            "text/plain": [
              "0         Miss\n",
              "1       Master\n",
              "2         Miss\n",
              "3           Mr\n",
              "4          Mrs\n",
              "         ...  \n",
              "1304      Miss\n",
              "1305      Miss\n",
              "1306        Mr\n",
              "1307        Mr\n",
              "1308        Mr\n",
              "Name: name, Length: 1309, dtype: object"
            ]
          },
          "execution_count": 25,
          "metadata": {},
          "output_type": "execute_result"
        }
      ],
      "source": [
        "df[\"name\"].apply(lambda x: x.split(\", \")[1].split(\".\")[0])"
      ]
    },
    {
      "cell_type": "code",
      "execution_count": null,
      "metadata": {
        "ExecuteTime": {
          "end_time": "2022-03-18T22:39:10.844849Z",
          "start_time": "2022-03-18T22:39:10.676947Z"
        },
        "id": "eTNZcPyClxmV",
        "outputId": "d1d4417e-501f-49fe-d4f7-8678f3526d7e"
      },
      "outputs": [
        {
          "data": {
            "text/plain": [
              "18"
            ]
          },
          "execution_count": 37,
          "metadata": {},
          "output_type": "execute_result"
        }
      ],
      "source": [
        "df[\"name\"].apply(lambda x: x.split(\", \")[1].split(\".\")[0]).nunique()"
      ]
    },
    {
      "cell_type": "code",
      "execution_count": null,
      "metadata": {
        "ExecuteTime": {
          "end_time": "2022-03-18T22:39:26.813929Z",
          "start_time": "2022-03-18T22:39:26.573554Z"
        },
        "id": "aHuiMEOalxmV",
        "outputId": "7f339ac7-bf1f-4f0c-9cf8-e86251f719fd"
      },
      "outputs": [
        {
          "data": {
            "text/plain": [
              "Mr              757\n",
              "Miss            260\n",
              "Mrs             197\n",
              "Master           61\n",
              "Rev               8\n",
              "Dr                8\n",
              "Col               4\n",
              "Mlle              2\n",
              "Ms                2\n",
              "Major             2\n",
              "Capt              1\n",
              "Sir               1\n",
              "Dona              1\n",
              "Jonkheer          1\n",
              "the Countess      1\n",
              "Don               1\n",
              "Mme               1\n",
              "Lady              1\n",
              "Name: name, dtype: int64"
            ]
          },
          "execution_count": 39,
          "metadata": {},
          "output_type": "execute_result"
        }
      ],
      "source": [
        "df[\"name\"].apply(lambda x: x.split(\", \")[1].split(\".\")[0]).value_counts()"
      ]
    },
    {
      "cell_type": "code",
      "execution_count": null,
      "metadata": {
        "ExecuteTime": {
          "end_time": "2022-03-18T22:42:06.953909Z",
          "start_time": "2022-03-18T22:42:06.781009Z"
        },
        "id": "BNVDavR7lxmW",
        "outputId": "423f95f3-6af4-411b-b728-e9e6ecf03ab6"
      },
      "outputs": [
        {
          "data": {
            "text/html": [
              "<div>\n",
              "<style scoped>\n",
              "    .dataframe tbody tr th:only-of-type {\n",
              "        vertical-align: middle;\n",
              "    }\n",
              "\n",
              "    .dataframe tbody tr th {\n",
              "        vertical-align: top;\n",
              "    }\n",
              "\n",
              "    .dataframe thead th {\n",
              "        text-align: right;\n",
              "    }\n",
              "</style>\n",
              "<table border=\"1\" class=\"dataframe\">\n",
              "  <thead>\n",
              "    <tr style=\"text-align: right;\">\n",
              "      <th></th>\n",
              "      <th>sibsp</th>\n",
              "      <th>parch</th>\n",
              "    </tr>\n",
              "  </thead>\n",
              "  <tbody>\n",
              "    <tr>\n",
              "      <th>0</th>\n",
              "      <td>0</td>\n",
              "      <td>0</td>\n",
              "    </tr>\n",
              "    <tr>\n",
              "      <th>1</th>\n",
              "      <td>1</td>\n",
              "      <td>2</td>\n",
              "    </tr>\n",
              "    <tr>\n",
              "      <th>2</th>\n",
              "      <td>1</td>\n",
              "      <td>2</td>\n",
              "    </tr>\n",
              "    <tr>\n",
              "      <th>3</th>\n",
              "      <td>1</td>\n",
              "      <td>2</td>\n",
              "    </tr>\n",
              "    <tr>\n",
              "      <th>4</th>\n",
              "      <td>1</td>\n",
              "      <td>2</td>\n",
              "    </tr>\n",
              "    <tr>\n",
              "      <th>...</th>\n",
              "      <td>...</td>\n",
              "      <td>...</td>\n",
              "    </tr>\n",
              "    <tr>\n",
              "      <th>1304</th>\n",
              "      <td>1</td>\n",
              "      <td>0</td>\n",
              "    </tr>\n",
              "    <tr>\n",
              "      <th>1305</th>\n",
              "      <td>1</td>\n",
              "      <td>0</td>\n",
              "    </tr>\n",
              "    <tr>\n",
              "      <th>1306</th>\n",
              "      <td>0</td>\n",
              "      <td>0</td>\n",
              "    </tr>\n",
              "    <tr>\n",
              "      <th>1307</th>\n",
              "      <td>0</td>\n",
              "      <td>0</td>\n",
              "    </tr>\n",
              "    <tr>\n",
              "      <th>1308</th>\n",
              "      <td>0</td>\n",
              "      <td>0</td>\n",
              "    </tr>\n",
              "  </tbody>\n",
              "</table>\n",
              "<p>1309 rows × 2 columns</p>\n",
              "</div>"
            ],
            "text/plain": [
              "      sibsp  parch\n",
              "0         0      0\n",
              "1         1      2\n",
              "2         1      2\n",
              "3         1      2\n",
              "4         1      2\n",
              "...     ...    ...\n",
              "1304      1      0\n",
              "1305      1      0\n",
              "1306      0      0\n",
              "1307      0      0\n",
              "1308      0      0\n",
              "\n",
              "[1309 rows x 2 columns]"
            ]
          },
          "execution_count": 40,
          "metadata": {},
          "output_type": "execute_result"
        }
      ],
      "source": [
        "df[[\"sibsp\", \"parch\"]]"
      ]
    },
    {
      "cell_type": "code",
      "execution_count": null,
      "metadata": {
        "ExecuteTime": {
          "end_time": "2022-03-18T22:43:34.844369Z",
          "start_time": "2022-03-18T22:43:34.653478Z"
        },
        "id": "8doIW7_KlxmW",
        "outputId": "647ee0ad-3627-4f6c-cd31-fd6fe15338ac"
      },
      "outputs": [
        {
          "data": {
            "text/plain": [
              "0       0\n",
              "1       3\n",
              "2       3\n",
              "3       3\n",
              "4       3\n",
              "       ..\n",
              "1304    1\n",
              "1305    1\n",
              "1306    0\n",
              "1307    0\n",
              "1308    0\n",
              "Length: 1309, dtype: int64"
            ]
          },
          "execution_count": 41,
          "metadata": {},
          "output_type": "execute_result"
        }
      ],
      "source": [
        "df[[\"sibsp\", \"parch\"]].sum(axis=1)"
      ]
    },
    {
      "cell_type": "code",
      "execution_count": null,
      "metadata": {
        "ExecuteTime": {
          "end_time": "2022-03-18T22:44:46.352355Z",
          "start_time": "2022-03-18T22:44:46.145959Z"
        },
        "id": "xzlzBWnelxmW",
        "outputId": "fad0be3a-5624-4cfc-b9d5-baad97e77232"
      },
      "outputs": [
        {
          "data": {
            "text/plain": [
              "0       211.3375\n",
              "1       151.5500\n",
              "2       151.5500\n",
              "3       151.5500\n",
              "4       151.5500\n",
              "          ...   \n",
              "1304     14.4542\n",
              "1305     14.4542\n",
              "1306      7.2250\n",
              "1307      7.2250\n",
              "1308      7.8750\n",
              "Name: fare, Length: 1309, dtype: float64"
            ]
          },
          "execution_count": 42,
          "metadata": {},
          "output_type": "execute_result"
        }
      ],
      "source": [
        "df[\"fare\"]"
      ]
    },
    {
      "cell_type": "code",
      "execution_count": null,
      "metadata": {
        "ExecuteTime": {
          "end_time": "2022-03-18T22:44:55.751570Z",
          "start_time": "2022-03-18T22:44:55.594658Z"
        },
        "id": "0dURzPsulxmW",
        "outputId": "4b8c3606-b51b-4094-b276-91dc9257c34a"
      },
      "outputs": [
        {
          "data": {
            "text/plain": [
              "0       0.412503\n",
              "1       0.295806\n",
              "2       0.295806\n",
              "3       0.295806\n",
              "4       0.295806\n",
              "          ...   \n",
              "1304    0.028213\n",
              "1305    0.028213\n",
              "1306    0.014102\n",
              "1307    0.014102\n",
              "1308    0.015371\n",
              "Name: fare, Length: 1309, dtype: float64"
            ]
          },
          "execution_count": 43,
          "metadata": {},
          "output_type": "execute_result"
        }
      ],
      "source": [
        "df[\"fare\"]/df[\"fare\"].max()"
      ]
    },
    {
      "cell_type": "code",
      "execution_count": null,
      "metadata": {
        "ExecuteTime": {
          "end_time": "2022-03-18T22:48:35.333851Z",
          "start_time": "2022-03-18T22:48:35.108979Z"
        },
        "id": "nl90jr7tlxmW",
        "outputId": "3bda6c6c-b608-41e8-eca1-6faa3b0ba64d"
      },
      "outputs": [
        {
          "data": {
            "text/plain": [
              "0       29.0000\n",
              "1        0.9167\n",
              "2        2.0000\n",
              "3       30.0000\n",
              "4       25.0000\n",
              "         ...   \n",
              "1304    14.5000\n",
              "1305        NaN\n",
              "1306    26.5000\n",
              "1307    27.0000\n",
              "1308    29.0000\n",
              "Name: age, Length: 1309, dtype: float64"
            ]
          },
          "execution_count": 51,
          "metadata": {},
          "output_type": "execute_result"
        }
      ],
      "source": [
        "df[\"age\"]"
      ]
    },
    {
      "cell_type": "code",
      "execution_count": null,
      "metadata": {
        "ExecuteTime": {
          "end_time": "2022-03-18T22:47:58.899901Z",
          "start_time": "2022-03-18T22:47:58.668033Z"
        },
        "id": "m1et3f58lxmW",
        "outputId": "a59b53e6-3e89-4201-9191-9792d4cb0a5e"
      },
      "outputs": [
        {
          "data": {
            "text/plain": [
              "0       (18.0, 30.0]\n",
              "1        (0.0, 18.0]\n",
              "2        (0.0, 18.0]\n",
              "3       (18.0, 30.0]\n",
              "4       (18.0, 30.0]\n",
              "            ...     \n",
              "1304     (0.0, 18.0]\n",
              "1305             NaN\n",
              "1306    (18.0, 30.0]\n",
              "1307    (18.0, 30.0]\n",
              "1308    (18.0, 30.0]\n",
              "Name: age, Length: 1309, dtype: category\n",
              "Categories (4, interval[int64, right]): [(0, 18] < (18, 30] < (30, 60] < (60, 200]]"
            ]
          },
          "execution_count": 49,
          "metadata": {},
          "output_type": "execute_result"
        }
      ],
      "source": [
        "pd.cut(df[\"age\"], bins=(0, 18, 30, 60, 200), right=True)"
      ]
    },
    {
      "cell_type": "code",
      "execution_count": null,
      "metadata": {
        "ExecuteTime": {
          "end_time": "2022-03-18T22:47:59.303919Z",
          "start_time": "2022-03-18T22:47:59.050064Z"
        },
        "id": "masxSYzYlxmW",
        "outputId": "502e7857-dc05-4242-9fa6-d3b374b017ab"
      },
      "outputs": [
        {
          "data": {
            "text/plain": [
              "0       1\n",
              "1       0\n",
              "2       0\n",
              "3       1\n",
              "4       1\n",
              "       ..\n",
              "1304    0\n",
              "1305   -1\n",
              "1306    1\n",
              "1307    1\n",
              "1308    1\n",
              "Length: 1309, dtype: int8"
            ]
          },
          "execution_count": 50,
          "metadata": {},
          "output_type": "execute_result"
        }
      ],
      "source": [
        "pd.cut(df[\"age\"], bins=(0, 18, 30, 60, df[\"age\"].max()), right=True).cat.codes"
      ]
    },
    {
      "cell_type": "markdown",
      "metadata": {
        "id": "o1q4Nly8lxmX"
      },
      "source": [
        "__________"
      ]
    },
    {
      "cell_type": "markdown",
      "metadata": {
        "id": "v8Kd4yHDlxmX"
      },
      "source": [
        "# Agora, começa o ciclo de modelagem"
      ]
    },
    {
      "cell_type": "markdown",
      "metadata": {
        "id": "CDZkCO5klxmX"
      },
      "source": [
        "_________"
      ]
    },
    {
      "cell_type": "markdown",
      "metadata": {
        "id": "V6WVXjJylxmX"
      },
      "source": [
        "## Começamos com um baseline\n",
        "\n",
        "- Jogar fora NaNs e dados nulos, e treinar alguns classificadores simples"
      ]
    },
    {
      "cell_type": "code",
      "execution_count": null,
      "metadata": {
        "ExecuteTime": {
          "end_time": "2022-03-18T22:13:50.966836Z",
          "start_time": "2022-03-18T22:13:50.796903Z"
        },
        "id": "v6jOYkI3lxmX"
      },
      "outputs": [],
      "source": [
        "df_model_baseline = df.select_dtypes(include=np.number).dropna(axis=1)\n",
        "\n",
        "X = df_model_baseline.drop(columns=\"survived\")\n",
        "y = df_model_baseline[\"survived\"]\n",
        "\n",
        "X_train, X_test, y_train, y_test = train_test_split(X, y, test_size=0.33, random_state=42, stratify=y)\n",
        "\n",
        "dados_split = (X_train, X_test, y_train, y_test)"
      ]
    },
    {
      "cell_type": "code",
      "execution_count": null,
      "metadata": {
        "ExecuteTime": {
          "end_time": "2022-03-18T22:13:52.156223Z",
          "start_time": "2022-03-18T22:13:51.365676Z"
        },
        "scrolled": false,
        "id": "TcW24P_8lxmX",
        "outputId": "a012d322-5540-4acb-bfb8-ab7cf8b12cb9"
      },
      "outputs": [
        {
          "name": "stdout",
          "output_type": "stream",
          "text": [
            "\n",
            "Métricas de avaliação de treino:\n",
            "[[445  97]\n",
            " [185 150]]\n"
          ]
        },
        {
          "data": {
            "image/png": "[encoded data removed]",
            "text/plain": [
              "<Figure size 432x288 with 2 Axes>"
            ]
          },
          "metadata": {
            "needs_background": "light"
          },
          "output_type": "display_data"
        },
        {
          "name": "stdout",
          "output_type": "stream",
          "text": [
            "              precision    recall  f1-score   support\n",
            "\n",
            "           0       0.71      0.82      0.76       542\n",
            "           1       0.61      0.45      0.52       335\n",
            "\n",
            "    accuracy                           0.68       877\n",
            "   macro avg       0.66      0.63      0.64       877\n",
            "weighted avg       0.67      0.68      0.67       877\n",
            "\n",
            "\n",
            "Métricas de avaliação de teste:\n",
            "[[226  41]\n",
            " [ 90  75]]\n"
          ]
        },
        {
          "data": {
            "image/png": "[encoded data removed]",
            "text/plain": [
              "<Figure size 432x288 with 2 Axes>"
            ]
          },
          "metadata": {
            "needs_background": "light"
          },
          "output_type": "display_data"
        },
        {
          "name": "stdout",
          "output_type": "stream",
          "text": [
            "              precision    recall  f1-score   support\n",
            "\n",
            "           0       0.72      0.85      0.78       267\n",
            "           1       0.65      0.45      0.53       165\n",
            "\n",
            "    accuracy                           0.70       432\n",
            "   macro avg       0.68      0.65      0.65       432\n",
            "weighted avg       0.69      0.70      0.68       432\n",
            "\n"
          ]
        }
      ],
      "source": [
        "lr_baseline = LogisticRegression().fit(X_train, y_train)\n",
        "\n",
        "metricas_classificacao(lr_baseline, *dados_split)"
      ]
    },
    {
      "cell_type": "markdown",
      "metadata": {
        "id": "3fUWmEsLlxmX"
      },
      "source": [
        "__________"
      ]
    },
    {
      "cell_type": "markdown",
      "metadata": {
        "id": "GZAo6LgSlxmX"
      },
      "source": [
        "## Pipelines avançadas, e vários modelos, busca de hiperparâmetros\n"
      ]
    },
    {
      "cell_type": "markdown",
      "metadata": {
        "id": "0AmH8bqrlxmY"
      },
      "source": [
        "- primeiro, começamos só com as pipelines, pra identificar estimadores promissores, e ver se as pipelines generalizadas tão dando bons resultados, com hiperparâmetros default"
      ]
    },
    {
      "cell_type": "code",
      "execution_count": null,
      "metadata": {
        "ExecuteTime": {
          "end_time": "2022-03-18T22:14:39.943148Z",
          "start_time": "2022-03-18T22:14:39.733270Z"
        },
        "id": "aJcx5HhjlxmY"
      },
      "outputs": [],
      "source": [
        "drop = ['survived', 'name', 'ticket', 'cabin', 'boat', 'body', 'home.dest']\n",
        "\n",
        "X_train, X_test, y_train, y_test, pre_processador = pipe_pre_process_titanic(drop_not_features=drop,\n",
        "                                                                             col_target=\"survived\",\n",
        "                                                                             inputer_num_strategy=\"mean\",\n",
        "                                                                             encoding=\"onehot\")"
      ]
    },
    {
      "cell_type": "code",
      "execution_count": null,
      "metadata": {
        "ExecuteTime": {
          "end_time": "2022-03-18T22:14:45.663057Z",
          "start_time": "2022-03-18T22:14:40.723886Z"
        },
        "scrolled": true,
        "id": "l9I4Nq5MlxmY",
        "outputId": "aafa375b-474f-4473-c788-3cfdfca30c72"
      },
      "outputs": [
        {
          "name": "stdout",
          "output_type": "stream",
          "text": [
            "\n",
            "\n",
            "\n",
            "==================================================\n",
            "                    Pipe: SVC                     \n",
            "==================================================\n",
            "\n",
            "\n",
            "\n",
            "\n",
            "Métricas de avaliação de treino:\n",
            "[[564  83]\n",
            " [112 288]]\n"
          ]
        },
        {
          "data": {
            "image/png": "[encoded data removed]",
            "text/plain": [
              "<Figure size 432x288 with 2 Axes>"
            ]
          },
          "metadata": {
            "needs_background": "light"
          },
          "output_type": "display_data"
        },
        {
          "name": "stdout",
          "output_type": "stream",
          "text": [
            "              precision    recall  f1-score   support\n",
            "\n",
            "           0       0.83      0.87      0.85       647\n",
            "           1       0.78      0.72      0.75       400\n",
            "\n",
            "    accuracy                           0.81      1047\n",
            "   macro avg       0.81      0.80      0.80      1047\n",
            "weighted avg       0.81      0.81      0.81      1047\n",
            "\n",
            "\n",
            "Métricas de avaliação de teste:\n",
            "[[146  16]\n",
            " [ 26  74]]\n"
          ]
        },
        {
          "data": {
            "image/png": "[encoded data removed]",
            "text/plain": [
              "<Figure size 432x288 with 2 Axes>"
            ]
          },
          "metadata": {
            "needs_background": "light"
          },
          "output_type": "display_data"
        },
        {
          "name": "stdout",
          "output_type": "stream",
          "text": [
            "              precision    recall  f1-score   support\n",
            "\n",
            "           0       0.85      0.90      0.87       162\n",
            "           1       0.82      0.74      0.78       100\n",
            "\n",
            "    accuracy                           0.84       262\n",
            "   macro avg       0.84      0.82      0.83       262\n",
            "weighted avg       0.84      0.84      0.84       262\n",
            "\n",
            "\n",
            "\n",
            "\n",
            "==================================================\n",
            "             Pipe: Gradient boosting              \n",
            "==================================================\n",
            "\n",
            "\n",
            "\n",
            "\n",
            "Métricas de avaliação de treino:\n",
            "[[607  40]\n",
            " [105 295]]\n"
          ]
        },
        {
          "data": {
            "image/png": "[encoded data removed]",
            "text/plain": [
              "<Figure size 432x288 with 2 Axes>"
            ]
          },
          "metadata": {
            "needs_background": "light"
          },
          "output_type": "display_data"
        },
        {
          "name": "stdout",
          "output_type": "stream",
          "text": [
            "              precision    recall  f1-score   support\n",
            "\n",
            "           0       0.85      0.94      0.89       647\n",
            "           1       0.88      0.74      0.80       400\n",
            "\n",
            "    accuracy                           0.86      1047\n",
            "   macro avg       0.87      0.84      0.85      1047\n",
            "weighted avg       0.86      0.86      0.86      1047\n",
            "\n",
            "\n",
            "Métricas de avaliação de teste:\n",
            "[[144  18]\n",
            " [ 31  69]]\n"
          ]
        },
        {
          "data": {
            "image/png": "[encoded data removed]",
            "text/plain": [
              "<Figure size 432x288 with 2 Axes>"
            ]
          },
          "metadata": {
            "needs_background": "light"
          },
          "output_type": "display_data"
        },
        {
          "name": "stdout",
          "output_type": "stream",
          "text": [
            "              precision    recall  f1-score   support\n",
            "\n",
            "           0       0.82      0.89      0.85       162\n",
            "           1       0.79      0.69      0.74       100\n",
            "\n",
            "    accuracy                           0.81       262\n",
            "   macro avg       0.81      0.79      0.80       262\n",
            "weighted avg       0.81      0.81      0.81       262\n",
            "\n",
            "\n",
            "\n",
            "\n",
            "==================================================\n",
            "               Pipe: Random forest                \n",
            "==================================================\n",
            "\n",
            "\n",
            "\n",
            "\n",
            "Métricas de avaliação de treino:\n",
            "[[631  16]\n",
            " [ 16 384]]\n"
          ]
        },
        {
          "data": {
            "image/png": "[encoded data removed]",
            "text/plain": [
              "<Figure size 432x288 with 2 Axes>"
            ]
          },
          "metadata": {
            "needs_background": "light"
          },
          "output_type": "display_data"
        },
        {
          "name": "stdout",
          "output_type": "stream",
          "text": [
            "              precision    recall  f1-score   support\n",
            "\n",
            "           0       0.98      0.98      0.98       647\n",
            "           1       0.96      0.96      0.96       400\n",
            "\n",
            "    accuracy                           0.97      1047\n",
            "   macro avg       0.97      0.97      0.97      1047\n",
            "weighted avg       0.97      0.97      0.97      1047\n",
            "\n",
            "\n",
            "Métricas de avaliação de teste:\n",
            "[[133  29]\n",
            " [ 28  72]]\n"
          ]
        },
        {
          "data": {
            "image/png": "[encoded data removed]",
            "text/plain": [
              "<Figure size 432x288 with 2 Axes>"
            ]
          },
          "metadata": {
            "needs_background": "light"
          },
          "output_type": "display_data"
        },
        {
          "name": "stdout",
          "output_type": "stream",
          "text": [
            "              precision    recall  f1-score   support\n",
            "\n",
            "           0       0.83      0.82      0.82       162\n",
            "           1       0.71      0.72      0.72       100\n",
            "\n",
            "    accuracy                           0.78       262\n",
            "   macro avg       0.77      0.77      0.77       262\n",
            "weighted avg       0.78      0.78      0.78       262\n",
            "\n"
          ]
        }
      ],
      "source": [
        "pipe_svc = Pipeline([(\"pre_processador\", pre_processador),\n",
        "                     (\"svc\", SVC(random_state=42))])\n",
        "\n",
        "pipe_gb = Pipeline([(\"pre_processador\", pre_processador),\n",
        "                     (\"gb\", GradientBoostingClassifier(random_state=42))])\n",
        "\n",
        "pipe_rf = Pipeline([(\"pre_processador\", pre_processador),\n",
        "                     (\"rf\", RandomForestClassifier(random_state=42))])\n",
        "\n",
        "# ==================\n",
        "\n",
        "pipes_dict = {\"SVC\": pipe_svc, \"Gradient boosting\": pipe_gb, \"Random forest\": pipe_rf}\n",
        "\n",
        "\n",
        "for label, pipe in pipes_dict.items():\n",
        "    \n",
        "    print(\"\\n\\n\")\n",
        "    print(\"=\"*50)\n",
        "    print(f\"Pipe: {label}\".center(50))\n",
        "    print(\"=\"*50)\n",
        "    print(\"\\n\\n\")\n",
        "    \n",
        "    pipe.fit(X_train, y_train)\n",
        "\n",
        "    ########################################\n",
        "\n",
        "    dados_split = (X_train, X_test, y_train, y_test)\n",
        "\n",
        "    metricas_classificacao(pipe, *dados_split)\n",
        "    "
      ]
    },
    {
      "cell_type": "markdown",
      "metadata": {
        "id": "Z_1Md2UplxmY"
      },
      "source": [
        "- Agora sim, buscamos hiperparâmetros, com gridsearch, etc."
      ]
    },
    {
      "cell_type": "code",
      "execution_count": null,
      "metadata": {
        "ExecuteTime": {
          "end_time": "2022-03-18T22:23:03.766633Z",
          "start_time": "2022-03-18T22:15:23.351238Z"
        },
        "scrolled": true,
        "id": "fn_MaJdKlxmY",
        "outputId": "7e1441a2-bdcd-4507-c453-9e277384c35a"
      },
      "outputs": [
        {
          "name": "stdout",
          "output_type": "stream",
          "text": [
            "\n",
            "\n",
            "\n",
            "==================================================\n",
            "                    Pipe: SVC                     \n",
            "Params grid:\n",
            "\n",
            "('svc__C', array([1.e-04, 1.e-02, 1.e+00, 1.e+02, 1.e+04]))\n",
            "('svc__gamma', array([1.e-04, 1.e-02, 1.e+00, 1.e+02, 1.e+04]))\n",
            "==================================================\n",
            "\n",
            "\n",
            "\n",
            "Fitting 5 folds for each of 25 candidates, totalling 125 fits\n",
            "\n",
            "Best params:\n",
            "{'svc__C': 100.0, 'svc__gamma': 0.01}\n",
            "\n",
            "Métricas de avaliação de treino:\n",
            "[[565  82]\n",
            " [115 285]]\n"
          ]
        },
        {
          "data": {
            "image/png": "[encoded data removed]",
            "text/plain": [
              "<Figure size 432x288 with 2 Axes>"
            ]
          },
          "metadata": {
            "needs_background": "light"
          },
          "output_type": "display_data"
        },
        {
          "name": "stdout",
          "output_type": "stream",
          "text": [
            "              precision    recall  f1-score   support\n",
            "\n",
            "           0       0.83      0.87      0.85       647\n",
            "           1       0.78      0.71      0.74       400\n",
            "\n",
            "    accuracy                           0.81      1047\n",
            "   macro avg       0.80      0.79      0.80      1047\n",
            "weighted avg       0.81      0.81      0.81      1047\n",
            "\n",
            "\n",
            "Métricas de avaliação de teste:\n",
            "[[147  15]\n",
            " [ 26  74]]\n"
          ]
        },
        {
          "data": {
            "image/png": "[encoded data removed]",
            "text/plain": [
              "<Figure size 432x288 with 2 Axes>"
            ]
          },
          "metadata": {
            "needs_background": "light"
          },
          "output_type": "display_data"
        },
        {
          "name": "stdout",
          "output_type": "stream",
          "text": [
            "              precision    recall  f1-score   support\n",
            "\n",
            "           0       0.85      0.91      0.88       162\n",
            "           1       0.83      0.74      0.78       100\n",
            "\n",
            "    accuracy                           0.84       262\n",
            "   macro avg       0.84      0.82      0.83       262\n",
            "weighted avg       0.84      0.84      0.84       262\n",
            "\n",
            "\n",
            "\n",
            "\n",
            "==================================================\n",
            "             Pipe: Gradient boosting              \n",
            "Params grid:\n",
            "\n",
            "('gb__loss', ['deviance', 'exponential'])\n",
            "('gb__n_estimators', array([ 500,  600,  700,  800,  900, 1000]))\n",
            "('gb__max_depth', range(1, 5))\n",
            "==================================================\n",
            "\n",
            "\n",
            "\n",
            "Fitting 5 folds for each of 48 candidates, totalling 240 fits\n",
            "\n",
            "Best params:\n",
            "{'gb__loss': 'exponential', 'gb__max_depth': 2, 'gb__n_estimators': 600}\n",
            "\n",
            "Métricas de avaliação de treino:\n",
            "[[600  47]\n",
            " [ 90 310]]\n"
          ]
        },
        {
          "data": {
            "image/png": "[encoded data removed]",
            "text/plain": [
              "<Figure size 432x288 with 2 Axes>"
            ]
          },
          "metadata": {
            "needs_background": "light"
          },
          "output_type": "display_data"
        },
        {
          "name": "stdout",
          "output_type": "stream",
          "text": [
            "              precision    recall  f1-score   support\n",
            "\n",
            "           0       0.87      0.93      0.90       647\n",
            "           1       0.87      0.78      0.82       400\n",
            "\n",
            "    accuracy                           0.87      1047\n",
            "   macro avg       0.87      0.85      0.86      1047\n",
            "weighted avg       0.87      0.87      0.87      1047\n",
            "\n",
            "\n",
            "Métricas de avaliação de teste:\n",
            "[[145  17]\n",
            " [ 31  69]]\n"
          ]
        },
        {
          "data": {
            "image/png": "[encoded data removed]",
            "text/plain": [
              "<Figure size 432x288 with 2 Axes>"
            ]
          },
          "metadata": {
            "needs_background": "light"
          },
          "output_type": "display_data"
        },
        {
          "name": "stdout",
          "output_type": "stream",
          "text": [
            "              precision    recall  f1-score   support\n",
            "\n",
            "           0       0.82      0.90      0.86       162\n",
            "           1       0.80      0.69      0.74       100\n",
            "\n",
            "    accuracy                           0.82       262\n",
            "   macro avg       0.81      0.79      0.80       262\n",
            "weighted avg       0.82      0.82      0.81       262\n",
            "\n",
            "\n",
            "\n",
            "\n",
            "==================================================\n",
            "               Pipe: Random forest                \n",
            "Params grid:\n",
            "\n",
            "('rf__criterion', ['gini', 'entropy'])\n",
            "('rf__n_estimators', array([ 500,  600,  700,  800,  900, 1000]))\n",
            "('rf__max_depth', range(1, 5))\n",
            "==================================================\n",
            "\n",
            "\n",
            "\n",
            "Fitting 5 folds for each of 48 candidates, totalling 240 fits\n",
            "\n",
            "Best params:\n",
            "{'rf__criterion': 'entropy', 'rf__max_depth': 4, 'rf__n_estimators': 900}\n",
            "\n",
            "Métricas de avaliação de treino:\n",
            "[[567  80]\n",
            " [120 280]]\n"
          ]
        },
        {
          "data": {
            "image/png": "[encoded data removed]",
            "text/plain": [
              "<Figure size 432x288 with 2 Axes>"
            ]
          },
          "metadata": {
            "needs_background": "light"
          },
          "output_type": "display_data"
        },
        {
          "name": "stdout",
          "output_type": "stream",
          "text": [
            "              precision    recall  f1-score   support\n",
            "\n",
            "           0       0.83      0.88      0.85       647\n",
            "           1       0.78      0.70      0.74       400\n",
            "\n",
            "    accuracy                           0.81      1047\n",
            "   macro avg       0.80      0.79      0.79      1047\n",
            "weighted avg       0.81      0.81      0.81      1047\n",
            "\n",
            "\n",
            "Métricas de avaliação de teste:\n",
            "[[147  15]\n",
            " [ 27  73]]\n"
          ]
        },
        {
          "data": {
            "image/png": "[encoded data removed]",
            "text/plain": [
              "<Figure size 432x288 with 2 Axes>"
            ]
          },
          "metadata": {
            "needs_background": "light"
          },
          "output_type": "display_data"
        },
        {
          "name": "stdout",
          "output_type": "stream",
          "text": [
            "              precision    recall  f1-score   support\n",
            "\n",
            "           0       0.84      0.91      0.88       162\n",
            "           1       0.83      0.73      0.78       100\n",
            "\n",
            "    accuracy                           0.84       262\n",
            "   macro avg       0.84      0.82      0.83       262\n",
            "weighted avg       0.84      0.84      0.84       262\n",
            "\n"
          ]
        }
      ],
      "source": [
        "param_grid_svc = {\"svc__C\" : np.logspace(-4, 4, 5),\n",
        "                  \"svc__gamma\" : np.logspace(-4, 4, 5)}\n",
        "\n",
        "param_grid_gb = {\"gb__loss\" : [\"deviance\", \"exponential\"],\n",
        "                 \"gb__n_estimators\" : np.arange(5, 11)*100,\n",
        "                 \"gb__max_depth\" : range(1, 5)}\n",
        "\n",
        "param_grid_rf = {\"rf__criterion\" : [\"gini\", \"entropy\"],\n",
        "                 \"rf__n_estimators\" : np.arange(5, 11)*100,\n",
        "                 \"rf__max_depth\" : range(1, 5)}\n",
        "\n",
        "# ==================\n",
        "\n",
        "grids_dict = {\"SVC\": param_grid_svc, \"Gradient boosting\": param_grid_gb, \"Random forest\": param_grid_rf}\n",
        "\n",
        "# ==================\n",
        "\n",
        "splitter = StratifiedKFold(n_splits=5, shuffle=True, random_state=42)\n",
        "\n",
        "# ==================\n",
        "\n",
        "for (label, pipe), (_, grid) in zip(pipes_dict.items(), grids_dict.items()):\n",
        "    \n",
        "    print(\"\\n\\n\")\n",
        "    print(\"=\"*50)\n",
        "    print(f\"Pipe: {label}\".center(50))\n",
        "    print(\"Params grid:\\n\")\n",
        "    print(*grid.items(), sep=\"\\n\")\n",
        "    print(\"=\"*50)\n",
        "    print(\"\\n\\n\")\n",
        "    \n",
        "    grid = GridSearchCV(estimator=pipe,\n",
        "                        param_grid=grid,\n",
        "                        scoring=\"f1_weighted\",\n",
        "                        cv=splitter,\n",
        "                        verbose=10,\n",
        "                        n_jobs=-1)\n",
        "\n",
        "    grid.fit(X_train, y_train)\n",
        "    \n",
        "    print(f\"\\nBest params:\\n{grid.best_params_}\")\n",
        "    \n",
        "    ########################################\n",
        "\n",
        "    dados_split = (X_train, X_test, y_train, y_test)\n",
        "\n",
        "    metricas_classificacao(grid, *dados_split)"
      ]
    },
    {
      "cell_type": "markdown",
      "metadata": {
        "id": "eedRricFlxmZ"
      },
      "source": [
        "_____________"
      ]
    },
    {
      "cell_type": "markdown",
      "metadata": {
        "id": "fOJpgSDalxmZ"
      },
      "source": [
        "# Feature engineering na Pipeline"
      ]
    },
    {
      "cell_type": "code",
      "execution_count": null,
      "metadata": {
        "ExecuteTime": {
          "end_time": "2022-03-18T23:37:04.616908Z",
          "start_time": "2022-03-18T23:37:04.216505Z"
        },
        "id": "cvIuqcxXlxmZ"
      },
      "outputs": [],
      "source": [
        "X_train, X_test, y_train, y_test = read_tts_titanic(col_target=\"survived\")\n",
        "\n",
        "# ===================================\n",
        "\n",
        "cols_to_drop = ['name', 'ticket', 'cabin', 'boat', 'body', 'home.dest']\n",
        "\n",
        "pipe_pre = Pipeline([(\"create_surname\", FeaturesCreator()),\n",
        "                     (\"column_dropper\", ColumnDropper(cols_to_drop))])\n",
        "\n",
        "X_train, X_test, pre_processador = pipe_pre_process_titanic_with_pipe_pre(pipe_pre, X_train, X_test,\n",
        "                                                                          inputer_num_strategy=\"mean\",\n",
        "                                                                          encoding=\"onehot\",\n",
        "                                                                          scaler=\"ss\")"
      ]
    },
    {
      "cell_type": "code",
      "execution_count": null,
      "metadata": {
        "ExecuteTime": {
          "end_time": "2022-03-18T23:37:14.030261Z",
          "start_time": "2022-03-18T23:37:10.770129Z"
        },
        "scrolled": true,
        "id": "d-wzt8kClxmZ",
        "outputId": "c37b4005-a10b-491c-fc27-1f64244ebeec"
      },
      "outputs": [
        {
          "name": "stdout",
          "output_type": "stream",
          "text": [
            "\n",
            "\n",
            "\n",
            "==================================================\n",
            "                    Pipe: SVC                     \n",
            "==================================================\n",
            "\n",
            "\n",
            "\n",
            "\n",
            "Métricas de avaliação de treino:\n",
            "[[575  72]\n",
            " [112 288]]\n"
          ]
        },
        {
          "data": {
            "image/png": "[encoded data removed]",
            "text/plain": [
              "<Figure size 432x288 with 2 Axes>"
            ]
          },
          "metadata": {
            "needs_background": "light"
          },
          "output_type": "display_data"
        },
        {
          "name": "stdout",
          "output_type": "stream",
          "text": [
            "              precision    recall  f1-score   support\n",
            "\n",
            "           0       0.84      0.89      0.86       647\n",
            "           1       0.80      0.72      0.76       400\n",
            "\n",
            "    accuracy                           0.82      1047\n",
            "   macro avg       0.82      0.80      0.81      1047\n",
            "weighted avg       0.82      0.82      0.82      1047\n",
            "\n",
            "\n",
            "Métricas de avaliação de teste:\n",
            "[[145  17]\n",
            " [ 26  74]]\n"
          ]
        },
        {
          "data": {
            "image/png": "[encoded data removed]",
            "text/plain": [
              "<Figure size 432x288 with 2 Axes>"
            ]
          },
          "metadata": {
            "needs_background": "light"
          },
          "output_type": "display_data"
        },
        {
          "name": "stdout",
          "output_type": "stream",
          "text": [
            "              precision    recall  f1-score   support\n",
            "\n",
            "           0       0.85      0.90      0.87       162\n",
            "           1       0.81      0.74      0.77       100\n",
            "\n",
            "    accuracy                           0.84       262\n",
            "   macro avg       0.83      0.82      0.82       262\n",
            "weighted avg       0.83      0.84      0.83       262\n",
            "\n",
            "\n",
            "\n",
            "\n",
            "==================================================\n",
            "             Pipe: Gradient boosting              \n",
            "==================================================\n",
            "\n",
            "\n",
            "\n",
            "\n",
            "Métricas de avaliação de treino:\n",
            "[[603  44]\n",
            " [ 99 301]]\n"
          ]
        },
        {
          "data": {
            "image/png": "[encoded data removed]",
            "text/plain": [
              "<Figure size 432x288 with 2 Axes>"
            ]
          },
          "metadata": {
            "needs_background": "light"
          },
          "output_type": "display_data"
        },
        {
          "name": "stdout",
          "output_type": "stream",
          "text": [
            "              precision    recall  f1-score   support\n",
            "\n",
            "           0       0.86      0.93      0.89       647\n",
            "           1       0.87      0.75      0.81       400\n",
            "\n",
            "    accuracy                           0.86      1047\n",
            "   macro avg       0.87      0.84      0.85      1047\n",
            "weighted avg       0.86      0.86      0.86      1047\n",
            "\n",
            "\n",
            "Métricas de avaliação de teste:\n",
            "[[143  19]\n",
            " [ 31  69]]\n"
          ]
        },
        {
          "data": {
            "image/png": "[encoded data removed]",
            "text/plain": [
              "<Figure size 432x288 with 2 Axes>"
            ]
          },
          "metadata": {
            "needs_background": "light"
          },
          "output_type": "display_data"
        },
        {
          "name": "stdout",
          "output_type": "stream",
          "text": [
            "              precision    recall  f1-score   support\n",
            "\n",
            "           0       0.82      0.88      0.85       162\n",
            "           1       0.78      0.69      0.73       100\n",
            "\n",
            "    accuracy                           0.81       262\n",
            "   macro avg       0.80      0.79      0.79       262\n",
            "weighted avg       0.81      0.81      0.81       262\n",
            "\n",
            "\n",
            "\n",
            "\n",
            "==================================================\n",
            "               Pipe: Random forest                \n",
            "==================================================\n",
            "\n",
            "\n",
            "\n",
            "\n",
            "Métricas de avaliação de treino:\n",
            "[[635  12]\n",
            " [ 16 384]]\n"
          ]
        },
        {
          "data": {
            "image/png": "[encoded data removed]",
            "text/plain": [
              "<Figure size 432x288 with 2 Axes>"
            ]
          },
          "metadata": {
            "needs_background": "light"
          },
          "output_type": "display_data"
        },
        {
          "name": "stdout",
          "output_type": "stream",
          "text": [
            "              precision    recall  f1-score   support\n",
            "\n",
            "           0       0.98      0.98      0.98       647\n",
            "           1       0.97      0.96      0.96       400\n",
            "\n",
            "    accuracy                           0.97      1047\n",
            "   macro avg       0.97      0.97      0.97      1047\n",
            "weighted avg       0.97      0.97      0.97      1047\n",
            "\n",
            "\n",
            "Métricas de avaliação de teste:\n",
            "[[131  31]\n",
            " [ 28  72]]\n"
          ]
        },
        {
          "data": {
            "image/png": "[encoded data removed]",
            "text/plain": [
              "<Figure size 432x288 with 2 Axes>"
            ]
          },
          "metadata": {
            "needs_background": "light"
          },
          "output_type": "display_data"
        },
        {
          "name": "stdout",
          "output_type": "stream",
          "text": [
            "              precision    recall  f1-score   support\n",
            "\n",
            "           0       0.82      0.81      0.82       162\n",
            "           1       0.70      0.72      0.71       100\n",
            "\n",
            "    accuracy                           0.77       262\n",
            "   macro avg       0.76      0.76      0.76       262\n",
            "weighted avg       0.78      0.77      0.78       262\n",
            "\n"
          ]
        }
      ],
      "source": [
        "pipe_svc = Pipeline([(\"pre_processador\", pre_processador),\n",
        "                     (\"svc\", SVC(random_state=42))])\n",
        "\n",
        "pipe_gb = Pipeline([(\"pre_processador\", pre_processador),\n",
        "                     (\"gb\", GradientBoostingClassifier(random_state=42))])\n",
        "\n",
        "pipe_rf = Pipeline([(\"pre_processador\", pre_processador),\n",
        "                     (\"rf\", RandomForestClassifier(random_state=42))])\n",
        "\n",
        "# ==================\n",
        "\n",
        "pipes_dict = {\"SVC\": pipe_svc, \"Gradient boosting\": pipe_gb, \"Random forest\": pipe_rf}\n",
        "\n",
        "for label, pipe in pipes_dict.items():\n",
        "    \n",
        "    print(\"\\n\\n\")\n",
        "    print(\"=\"*50)\n",
        "    print(f\"Pipe: {label}\".center(50))\n",
        "    print(\"=\"*50)\n",
        "    print(\"\\n\\n\")\n",
        "    \n",
        "    pipe.fit(X_train, y_train)\n",
        "\n",
        "    ########################################\n",
        "\n",
        "    dados_split = (X_train, X_test, y_train, y_test)\n",
        "\n",
        "    metricas_classificacao(pipe, *dados_split)"
      ]
    },
    {
      "cell_type": "markdown",
      "metadata": {
        "id": "kwp-6ME2lxmZ"
      },
      "source": [
        "Fique à vontade pra rodar a grade completa, pra sentir qual foi a influência da feature engineering!"
      ]
    },
    {
      "cell_type": "markdown",
      "metadata": {
        "id": "nFC32p8IlxmZ"
      },
      "source": [
        "_________"
      ]
    },
    {
      "cell_type": "code",
      "execution_count": null,
      "metadata": {
        "ExecuteTime": {
          "end_time": "2022-03-18T23:58:33.468038Z",
          "start_time": "2022-03-18T23:58:33.228175Z"
        },
        "id": "tC040-BhlxmZ",
        "outputId": "9c88347b-2255-445f-d4f2-ab190b1f7ef0"
      },
      "outputs": [
        {
          "data": {
            "text/plain": [
              "1    0.981481\n",
              "0    0.018519\n",
              "Name: survived, dtype: float64"
            ]
          },
          "execution_count": 98,
          "metadata": {},
          "output_type": "execute_result"
        }
      ],
      "source": [
        "# observação: NÃO USE A FEATURE \"boat\"\n",
        "\n",
        "df[~df[\"boat\"].isnull()][\"survived\"].value_counts(normalize=True)"
      ]
    },
    {
      "cell_type": "markdown",
      "metadata": {
        "id": "XJtzgPYelxmZ"
      },
      "source": [
        "_________"
      ]
    },
    {
      "cell_type": "markdown",
      "metadata": {
        "id": "RoEia2Uwlxma"
      },
      "source": [
        "# Tratando o desbalanço de classes"
      ]
    },
    {
      "cell_type": "code",
      "execution_count": null,
      "metadata": {
        "ExecuteTime": {
          "end_time": "2022-03-18T23:42:02.930122Z",
          "start_time": "2022-03-18T23:42:02.722226Z"
        },
        "id": "_FBe883elxma",
        "outputId": "1c27702d-a94e-451f-f59e-cc8ad84b9235"
      },
      "outputs": [
        {
          "data": {
            "text/plain": [
              "0    647\n",
              "1    400\n",
              "Name: survived, dtype: int64"
            ]
          },
          "execution_count": 89,
          "metadata": {},
          "output_type": "execute_result"
        }
      ],
      "source": [
        "y_train.value_counts()"
      ]
    },
    {
      "cell_type": "code",
      "execution_count": null,
      "metadata": {
        "ExecuteTime": {
          "end_time": "2022-03-18T23:42:03.855921Z",
          "start_time": "2022-03-18T23:42:03.676203Z"
        },
        "id": "YQCwE9APlxma",
        "outputId": "56a6269e-183d-48cb-ec0d-ab0664661d5f"
      },
      "outputs": [
        {
          "data": {
            "text/plain": [
              "0    0.617956\n",
              "1    0.382044\n",
              "Name: survived, dtype: float64"
            ]
          },
          "execution_count": 90,
          "metadata": {},
          "output_type": "execute_result"
        }
      ],
      "source": [
        "y_train.value_counts(normalize=True)"
      ]
    },
    {
      "cell_type": "code",
      "execution_count": null,
      "metadata": {
        "ExecuteTime": {
          "end_time": "2022-03-18T23:42:05.148917Z",
          "start_time": "2022-03-18T23:42:04.848083Z"
        },
        "id": "NqMQxip7lxma",
        "outputId": "330ffeae-4652-49ee-c619-0bb00e413ace"
      },
      "outputs": [
        {
          "data": {
            "image/png": "[encoded data removed]",
            "text/plain": [
              "<Figure size 432x288 with 1 Axes>"
            ]
          },
          "metadata": {
            "needs_background": "light"
          },
          "output_type": "display_data"
        }
      ],
      "source": [
        "sns.countplot(x=y_train);"
      ]
    },
    {
      "cell_type": "markdown",
      "metadata": {
        "id": "UGwkHBEilxma"
      },
      "source": [
        "A principal ferramenta utilizada para o balanceamento de classes é o [imblearn](https://imbalanced-learn.org/stable/)\n",
        "\n",
        "`pip install imbalanced-learn`"
      ]
    },
    {
      "cell_type": "markdown",
      "metadata": {
        "id": "2dqLU42vlxma"
      },
      "source": [
        "A biblioteca permite que utilizemos duas estratégias de reamostragem para o balanceamento das classes: oversampling ou undersampling:\n",
        "\n",
        "<img src=https://miro.medium.com/max/725/1*7xf9e1EaoK5n05izIFBouA.png widht=600>"
      ]
    },
    {
      "cell_type": "markdown",
      "metadata": {
        "id": "7mzeWGCplxma"
      },
      "source": [
        "Recomendo muitíssimo a leitura do [User Guide](https://imbalanced-learn.org/stable/user_guide.html), onde as ferramentas de balanceamento são descritas em detalhes!"
      ]
    },
    {
      "cell_type": "markdown",
      "metadata": {
        "id": "qEagDjLIlxma"
      },
      "source": [
        "Em particular, veja aqui [maiores informações sobre oversampling;](https://imbalanced-learn.org/stable/over_sampling.html)\n",
        "\n",
        "E aqui [maiores informações sobre undersampling.](https://imbalanced-learn.org/stable/under_sampling.html)"
      ]
    },
    {
      "cell_type": "markdown",
      "metadata": {
        "id": "G8FnWwA6lxma"
      },
      "source": [
        "O imblearn tem [uma classe própria para o Pipeline](https://imbalanced-learn.org/stable/references/generated/imblearn.pipeline.Pipeline.html), que devemos usar sempre que quisermos fazer algum balanceamento!\n",
        "\n",
        "Na prática, essa é a única modificação que precisamos fazer!"
      ]
    },
    {
      "cell_type": "code",
      "execution_count": null,
      "metadata": {
        "ExecuteTime": {
          "end_time": "2022-03-19T00:09:29.839560Z",
          "start_time": "2022-03-19T00:09:29.658664Z"
        },
        "id": "SIjanPdelxma"
      },
      "outputs": [],
      "source": [
        "from imblearn.pipeline import Pipeline"
      ]
    },
    {
      "cell_type": "markdown",
      "metadata": {
        "id": "y8LCMw5plxmb"
      },
      "source": [
        "### Pipeline com undersample"
      ]
    },
    {
      "cell_type": "code",
      "execution_count": null,
      "metadata": {
        "ExecuteTime": {
          "end_time": "2022-03-19T00:10:22.558336Z",
          "start_time": "2022-03-19T00:10:22.303467Z"
        },
        "id": "mpzM6LSnlxmb"
      },
      "outputs": [],
      "source": [
        "from imblearn.under_sampling import RandomUnderSampler"
      ]
    },
    {
      "cell_type": "code",
      "execution_count": null,
      "metadata": {
        "ExecuteTime": {
          "end_time": "2022-03-19T00:11:54.636274Z",
          "start_time": "2022-03-19T00:11:49.921961Z"
        },
        "scrolled": true,
        "id": "2M7Tn0mOlxmb",
        "outputId": "085ccce4-0701-45b3-e599-953c8950b1eb"
      },
      "outputs": [
        {
          "name": "stdout",
          "output_type": "stream",
          "text": [
            "\n",
            "\n",
            "\n",
            "==================================================\n",
            "                    Pipe: SVC                     \n",
            "==================================================\n",
            "\n",
            "\n",
            "\n",
            "\n",
            "Métricas de avaliação de treino:\n",
            "[[559  88]\n",
            " [103 297]]\n"
          ]
        },
        {
          "data": {
            "image/png": "[encoded data removed]",
            "text/plain": [
              "<Figure size 432x288 with 2 Axes>"
            ]
          },
          "metadata": {
            "needs_background": "light"
          },
          "output_type": "display_data"
        },
        {
          "name": "stdout",
          "output_type": "stream",
          "text": [
            "              precision    recall  f1-score   support\n",
            "\n",
            "           0       0.84      0.86      0.85       647\n",
            "           1       0.77      0.74      0.76       400\n",
            "\n",
            "    accuracy                           0.82      1047\n",
            "   macro avg       0.81      0.80      0.81      1047\n",
            "weighted avg       0.82      0.82      0.82      1047\n",
            "\n",
            "\n",
            "Métricas de avaliação de teste:\n",
            "[[143  19]\n",
            " [ 22  78]]\n"
          ]
        },
        {
          "data": {
            "image/png": "[encoded data removed]",
            "text/plain": [
              "<Figure size 432x288 with 2 Axes>"
            ]
          },
          "metadata": {
            "needs_background": "light"
          },
          "output_type": "display_data"
        },
        {
          "name": "stdout",
          "output_type": "stream",
          "text": [
            "              precision    recall  f1-score   support\n",
            "\n",
            "           0       0.87      0.88      0.87       162\n",
            "           1       0.80      0.78      0.79       100\n",
            "\n",
            "    accuracy                           0.84       262\n",
            "   macro avg       0.84      0.83      0.83       262\n",
            "weighted avg       0.84      0.84      0.84       262\n",
            "\n",
            "\n",
            "\n",
            "\n",
            "==================================================\n",
            "             Pipe: Gradient boosting              \n",
            "==================================================\n",
            "\n",
            "\n",
            "\n",
            "\n",
            "Métricas de avaliação de treino:\n",
            "[[554  93]\n",
            " [ 75 325]]\n"
          ]
        },
        {
          "data": {
            "image/png": "[encoded data removed]",
            "text/plain": [
              "<Figure size 432x288 with 2 Axes>"
            ]
          },
          "metadata": {
            "needs_background": "light"
          },
          "output_type": "display_data"
        },
        {
          "name": "stdout",
          "output_type": "stream",
          "text": [
            "              precision    recall  f1-score   support\n",
            "\n",
            "           0       0.88      0.86      0.87       647\n",
            "           1       0.78      0.81      0.79       400\n",
            "\n",
            "    accuracy                           0.84      1047\n",
            "   macro avg       0.83      0.83      0.83      1047\n",
            "weighted avg       0.84      0.84      0.84      1047\n",
            "\n",
            "\n",
            "Métricas de avaliação de teste:\n",
            "[[135  27]\n",
            " [ 19  81]]\n"
          ]
        },
        {
          "data": {
            "image/png": "[encoded data removed]",
            "text/plain": [
              "<Figure size 432x288 with 2 Axes>"
            ]
          },
          "metadata": {
            "needs_background": "light"
          },
          "output_type": "display_data"
        },
        {
          "name": "stdout",
          "output_type": "stream",
          "text": [
            "              precision    recall  f1-score   support\n",
            "\n",
            "           0       0.88      0.83      0.85       162\n",
            "           1       0.75      0.81      0.78       100\n",
            "\n",
            "    accuracy                           0.82       262\n",
            "   macro avg       0.81      0.82      0.82       262\n",
            "weighted avg       0.83      0.82      0.83       262\n",
            "\n",
            "\n",
            "\n",
            "\n",
            "==================================================\n",
            "               Pipe: Random forest                \n",
            "==================================================\n",
            "\n",
            "\n",
            "\n",
            "\n",
            "Métricas de avaliação de treino:\n",
            "[[588  59]\n",
            " [ 12 388]]\n"
          ]
        },
        {
          "data": {
            "image/png": "[encoded data removed]",
            "text/plain": [
              "<Figure size 432x288 with 2 Axes>"
            ]
          },
          "metadata": {
            "needs_background": "light"
          },
          "output_type": "display_data"
        },
        {
          "name": "stdout",
          "output_type": "stream",
          "text": [
            "              precision    recall  f1-score   support\n",
            "\n",
            "           0       0.98      0.91      0.94       647\n",
            "           1       0.87      0.97      0.92       400\n",
            "\n",
            "    accuracy                           0.93      1047\n",
            "   macro avg       0.92      0.94      0.93      1047\n",
            "weighted avg       0.94      0.93      0.93      1047\n",
            "\n",
            "\n",
            "Métricas de avaliação de teste:\n",
            "[[123  39]\n",
            " [ 21  79]]\n"
          ]
        },
        {
          "data": {
            "image/png": "[encoded data removed]",
            "text/plain": [
              "<Figure size 432x288 with 2 Axes>"
            ]
          },
          "metadata": {
            "needs_background": "light"
          },
          "output_type": "display_data"
        },
        {
          "name": "stdout",
          "output_type": "stream",
          "text": [
            "              precision    recall  f1-score   support\n",
            "\n",
            "           0       0.85      0.76      0.80       162\n",
            "           1       0.67      0.79      0.72       100\n",
            "\n",
            "    accuracy                           0.77       262\n",
            "   macro avg       0.76      0.77      0.76       262\n",
            "weighted avg       0.78      0.77      0.77       262\n",
            "\n"
          ]
        }
      ],
      "source": [
        "pipe_svc = Pipeline([(\"pre_processador\", pre_processador),\n",
        "                     (\"under_samp\", RandomUnderSampler(random_state=42)),\n",
        "                     (\"svc\", SVC(random_state=42))])\n",
        "\n",
        "pipe_gb = Pipeline([(\"pre_processador\", pre_processador),\n",
        "                    (\"under_samp\", RandomUnderSampler(random_state=42)),\n",
        "                    (\"gb\", GradientBoostingClassifier(random_state=42))])\n",
        "\n",
        "pipe_rf = Pipeline([(\"pre_processador\", pre_processador),\n",
        "                    (\"under_samp\", RandomUnderSampler(random_state=42)),\n",
        "                    (\"rf\", RandomForestClassifier(random_state=42))])\n",
        "\n",
        "# pipe_svc = Pipeline([(\"under_samp\", RandomUnderSampler(random_state=42)),\n",
        "#                      (\"pre_processador\", pre_processador),\n",
        "#                      (\"svc\", SVC(random_state=42))])\n",
        "\n",
        "# pipe_gb = Pipeline([(\"under_samp\", RandomUnderSampler(random_state=42)),\n",
        "#                     (\"pre_processador\", pre_processador),\n",
        "#                     (\"gb\", GradientBoostingClassifier(random_state=42))])\n",
        "\n",
        "# pipe_rf = Pipeline([(\"under_samp\", RandomUnderSampler(random_state=42)),\n",
        "#                     (\"pre_processador\", pre_processador),\n",
        "#                     (\"rf\", RandomForestClassifier(random_state=42))])\n",
        "\n",
        "# ==================\n",
        "\n",
        "pipes_dict = {\"SVC\": pipe_svc, \"Gradient boosting\": pipe_gb, \"Random forest\": pipe_rf}\n",
        "\n",
        "for label, pipe in pipes_dict.items():\n",
        "    \n",
        "    print(\"\\n\\n\")\n",
        "    print(\"=\"*50)\n",
        "    print(f\"Pipe: {label}\".center(50))\n",
        "    print(\"=\"*50)\n",
        "    print(\"\\n\\n\")\n",
        "    \n",
        "    pipe.fit(X_train, y_train)\n",
        "\n",
        "    ########################################\n",
        "\n",
        "    dados_split = (X_train, X_test, y_train, y_test)\n",
        "\n",
        "    metricas_classificacao(pipe, *dados_split)"
      ]
    },
    {
      "cell_type": "markdown",
      "metadata": {
        "id": "4TOOQLsulxmb"
      },
      "source": [
        "### Pipeline com oversample"
      ]
    },
    {
      "cell_type": "code",
      "execution_count": null,
      "metadata": {
        "ExecuteTime": {
          "end_time": "2022-03-19T00:12:40.316513Z",
          "start_time": "2022-03-19T00:12:40.107632Z"
        },
        "id": "uxKjs3eblxmb"
      },
      "outputs": [],
      "source": [
        "from imblearn.over_sampling import SMOTE"
      ]
    },
    {
      "cell_type": "code",
      "execution_count": null,
      "metadata": {
        "ExecuteTime": {
          "end_time": "2022-03-19T00:13:55.276045Z",
          "start_time": "2022-03-19T00:13:49.804563Z"
        },
        "scrolled": true,
        "id": "JCPfsS1tlxmb",
        "outputId": "9838b6dd-f8a1-40b1-899f-7601dc58c4f4"
      },
      "outputs": [
        {
          "name": "stdout",
          "output_type": "stream",
          "text": [
            "\n",
            "\n",
            "\n",
            "==================================================\n",
            "                    Pipe: SVC                     \n",
            "==================================================\n",
            "\n",
            "\n",
            "\n",
            "\n",
            "Métricas de avaliação de treino:\n",
            "[[550  97]\n",
            " [ 94 306]]\n"
          ]
        },
        {
          "data": {
            "image/png": "[encoded data removed]",
            "text/plain": [
              "<Figure size 432x288 with 2 Axes>"
            ]
          },
          "metadata": {
            "needs_background": "light"
          },
          "output_type": "display_data"
        },
        {
          "name": "stdout",
          "output_type": "stream",
          "text": [
            "              precision    recall  f1-score   support\n",
            "\n",
            "           0       0.85      0.85      0.85       647\n",
            "           1       0.76      0.77      0.76       400\n",
            "\n",
            "    accuracy                           0.82      1047\n",
            "   macro avg       0.81      0.81      0.81      1047\n",
            "weighted avg       0.82      0.82      0.82      1047\n",
            "\n",
            "\n",
            "Métricas de avaliação de teste:\n",
            "[[140  22]\n",
            " [ 21  79]]\n"
          ]
        },
        {
          "data": {
            "image/png": "[encoded data removed]",
            "text/plain": [
              "<Figure size 432x288 with 2 Axes>"
            ]
          },
          "metadata": {
            "needs_background": "light"
          },
          "output_type": "display_data"
        },
        {
          "name": "stdout",
          "output_type": "stream",
          "text": [
            "              precision    recall  f1-score   support\n",
            "\n",
            "           0       0.87      0.86      0.87       162\n",
            "           1       0.78      0.79      0.79       100\n",
            "\n",
            "    accuracy                           0.84       262\n",
            "   macro avg       0.83      0.83      0.83       262\n",
            "weighted avg       0.84      0.84      0.84       262\n",
            "\n",
            "\n",
            "\n",
            "\n",
            "==================================================\n",
            "             Pipe: Gradient boosting              \n",
            "==================================================\n",
            "\n",
            "\n",
            "\n",
            "\n",
            "Métricas de avaliação de treino:\n",
            "[[574  73]\n",
            " [ 80 320]]\n"
          ]
        },
        {
          "data": {
            "image/png": "[encoded data removed]",
            "text/plain": [
              "<Figure size 432x288 with 2 Axes>"
            ]
          },
          "metadata": {
            "needs_background": "light"
          },
          "output_type": "display_data"
        },
        {
          "name": "stdout",
          "output_type": "stream",
          "text": [
            "              precision    recall  f1-score   support\n",
            "\n",
            "           0       0.88      0.89      0.88       647\n",
            "           1       0.81      0.80      0.81       400\n",
            "\n",
            "    accuracy                           0.85      1047\n",
            "   macro avg       0.85      0.84      0.84      1047\n",
            "weighted avg       0.85      0.85      0.85      1047\n",
            "\n",
            "\n",
            "Métricas de avaliação de teste:\n",
            "[[140  22]\n",
            " [ 23  77]]\n"
          ]
        },
        {
          "data": {
            "image/png": "[encoded data removed]",
            "text/plain": [
              "<Figure size 432x288 with 2 Axes>"
            ]
          },
          "metadata": {
            "needs_background": "light"
          },
          "output_type": "display_data"
        },
        {
          "name": "stdout",
          "output_type": "stream",
          "text": [
            "              precision    recall  f1-score   support\n",
            "\n",
            "           0       0.86      0.86      0.86       162\n",
            "           1       0.78      0.77      0.77       100\n",
            "\n",
            "    accuracy                           0.83       262\n",
            "   macro avg       0.82      0.82      0.82       262\n",
            "weighted avg       0.83      0.83      0.83       262\n",
            "\n",
            "\n",
            "\n",
            "\n",
            "==================================================\n",
            "               Pipe: Random forest                \n",
            "==================================================\n",
            "\n",
            "\n",
            "\n",
            "\n",
            "Métricas de avaliação de treino:\n",
            "[[633  14]\n",
            " [ 14 386]]\n"
          ]
        },
        {
          "data": {
            "image/png": "[encoded data removed]",
            "text/plain": [
              "<Figure size 432x288 with 2 Axes>"
            ]
          },
          "metadata": {
            "needs_background": "light"
          },
          "output_type": "display_data"
        },
        {
          "name": "stdout",
          "output_type": "stream",
          "text": [
            "              precision    recall  f1-score   support\n",
            "\n",
            "           0       0.98      0.98      0.98       647\n",
            "           1       0.96      0.96      0.96       400\n",
            "\n",
            "    accuracy                           0.97      1047\n",
            "   macro avg       0.97      0.97      0.97      1047\n",
            "weighted avg       0.97      0.97      0.97      1047\n",
            "\n",
            "\n",
            "Métricas de avaliação de teste:\n",
            "[[130  32]\n",
            " [ 26  74]]\n"
          ]
        },
        {
          "data": {
            "image/png": "[encoded data removed]",
            "text/plain": [
              "<Figure size 432x288 with 2 Axes>"
            ]
          },
          "metadata": {
            "needs_background": "light"
          },
          "output_type": "display_data"
        },
        {
          "name": "stdout",
          "output_type": "stream",
          "text": [
            "              precision    recall  f1-score   support\n",
            "\n",
            "           0       0.83      0.80      0.82       162\n",
            "           1       0.70      0.74      0.72       100\n",
            "\n",
            "    accuracy                           0.78       262\n",
            "   macro avg       0.77      0.77      0.77       262\n",
            "weighted avg       0.78      0.78      0.78       262\n",
            "\n"
          ]
        }
      ],
      "source": [
        "pipe_svc = Pipeline([(\"pre_processador\", pre_processador),\n",
        "                     (\"over_samp\", SMOTE(random_state=42)),\n",
        "                     (\"svc\", SVC(random_state=42))])\n",
        "\n",
        "pipe_gb = Pipeline([(\"pre_processador\", pre_processador),\n",
        "                    (\"over_samp\", SMOTE(random_state=42)),\n",
        "                    (\"gb\", GradientBoostingClassifier(random_state=42))])\n",
        "\n",
        "pipe_rf = Pipeline([(\"pre_processador\", pre_processador),\n",
        "                    (\"over_samp\", SMOTE(random_state=42)),\n",
        "                    (\"rf\", RandomForestClassifier(random_state=42))])\n",
        "\n",
        "# pipe_svc = Pipeline([(\"over_samp\", SMOTE(random_state=42)),\n",
        "#                      (\"pre_processador\", pre_processador),\n",
        "#                      (\"svc\", SVC(random_state=42))])\n",
        "\n",
        "# pipe_gb = Pipeline([(\"over_samp\", SMOTE(random_state=42)),\n",
        "#                     (\"pre_processador\", pre_processador),\n",
        "#                     (\"gb\", GradientBoostingClassifier(random_state=42))])\n",
        "\n",
        "# pipe_rf = Pipeline([(\"over_samp\", SMOTE(random_state=42)),\n",
        "#                     (\"pre_processador\", pre_processador),\n",
        "#                     (\"rf\", RandomForestClassifier(random_state=42))])\n",
        "\n",
        "# ==================\n",
        "\n",
        "pipes_dict = {\"SVC\": pipe_svc, \"Gradient boosting\": pipe_gb, \"Random forest\": pipe_rf}\n",
        "\n",
        "for label, pipe in pipes_dict.items():\n",
        "    \n",
        "    print(\"\\n\\n\")\n",
        "    print(\"=\"*50)\n",
        "    print(f\"Pipe: {label}\".center(50))\n",
        "    print(\"=\"*50)\n",
        "    print(\"\\n\\n\")\n",
        "    \n",
        "    pipe.fit(X_train, y_train)\n",
        "\n",
        "    ########################################\n",
        "\n",
        "    dados_split = (X_train, X_test, y_train, y_test)\n",
        "\n",
        "    metricas_classificacao(pipe, *dados_split)"
      ]
    }
  ],
  "metadata": {
    "kernelspec": {
      "display_name": "Python 3",
      "language": "python",
      "name": "python3"
    },
    "language_info": {
      "codemirror_mode": {
        "name": "ipython",
        "version": 3
      },
      "file_extension": ".py",
      "mimetype": "text/x-python",
      "name": "python",
      "nbconvert_exporter": "python",
      "pygments_lexer": "ipython3",
      "version": "3.8.3"
    },
    "colab": {
      "provenance": [],
      "include_colab_link": true
    }
  },
  "nbformat": 4,
  "nbformat_minor": 0
}